{
 "metadata": {
  "name": "",
  "signature": "sha256:61366b4b7adbc24ff3330d3710e62a4f26d5ddda7a653bd0f9cd148007d7d99c"
 },
 "nbformat": 3,
 "nbformat_minor": 0,
 "worksheets": [
  {
   "cells": [
    {
     "cell_type": "markdown",
     "metadata": {},
     "source": [
      "# Visualizing the Ushahidi Platform Universe"
     ]
    },
    {
     "cell_type": "markdown",
     "metadata": {},
     "source": [
      "### Preliminaries"
     ]
    },
    {
     "cell_type": "code",
     "collapsed": false,
     "input": [
      "# Import modules\n",
      "import requests\n",
      "import pandas as pd\n",
      "import matplotlib.pyplot as plt\n",
      "%matplotlib inline\n",
      "\n",
      "# Set iPython's max column display to 50\n",
      "pd.set_option('display.max_columns', 50)"
     ],
     "language": "python",
     "metadata": {},
     "outputs": [],
     "prompt_number": 44
    },
    {
     "cell_type": "markdown",
     "metadata": {},
     "source": [
      "### Setup the API key"
     ]
    },
    {
     "cell_type": "code",
     "collapsed": false,
     "input": [
      "api_key = '532d8dc4ed3329652f114b73'\n",
      "api_url = 'http://devapi.crisis.net/item/?sources=ushahidi&limit=500'\n",
      "headers = {'Authorization': 'Bearer ' + api_key}"
     ],
     "language": "python",
     "metadata": {},
     "outputs": [],
     "prompt_number": 45
    },
    {
     "cell_type": "markdown",
     "metadata": {},
     "source": [
      "### Make 9 API requests"
     ]
    },
    {
     "cell_type": "code",
     "collapsed": false,
     "input": [
      "# Request 1\n",
      "url = api_url + '&offset=1000'\n",
      "r = requests.get(url, headers=headers)\n",
      "df_1 = pd.DataFrame(r.json())\n",
      "df_1 = df_1['data'].apply(pd.Series)\n",
      "\n",
      "# Request 2\n",
      "url = api_url + '&offset=1500'\n",
      "r = requests.get(url, headers=headers)\n",
      "df_2 = pd.DataFrame(r.json())\n",
      "df_2 = df_2['data'].apply(pd.Series)\n",
      "\n",
      "# Request 3\n",
      "url = api_url + '&offset=2000'\n",
      "r = requests.get(url, headers=headers)\n",
      "df_3 = pd.DataFrame(r.json())\n",
      "df_3 = df_3['data'].apply(pd.Series)\n",
      "\n",
      "# Request 4\n",
      "url = api_url + '&offset=2500'\n",
      "r = requests.get(url, headers=headers)\n",
      "df_4 = pd.DataFrame(r.json())\n",
      "df_4 = df_4['data'].apply(pd.Series)\n",
      "\n",
      "# Request 5\n",
      "url = api_url + '&offset=3000'\n",
      "r = requests.get(url, headers=headers)\n",
      "df_5 = pd.DataFrame(r.json())\n",
      "df_5 = df_5['data'].apply(pd.Series)\n",
      "\n",
      "# Request 6\n",
      "url = api_url + '&offset=3500'\n",
      "r = requests.get(url, headers=headers)\n",
      "df_6 = pd.DataFrame(r.json())\n",
      "df_6 = df_6['data'].apply(pd.Series)\n",
      "\n",
      "# Request 7\n",
      "url = api_url + '&offset=4000'\n",
      "r = requests.get(url, headers=headers)\n",
      "df_7 = pd.DataFrame(r.json())\n",
      "df_7 = df_7['data'].apply(pd.Series)\n",
      "\n",
      "# Request 8\n",
      "url = api_url + '&offset=4500'\n",
      "r = requests.get(url, headers=headers)\n",
      "df_8 = pd.DataFrame(r.json())\n",
      "df_8 = df_8['data'].apply(pd.Series)\n",
      "\n",
      "# Request 9\n",
      "url = api_url + '&offset=5000'\n",
      "r = requests.get(url, headers=headers)\n",
      "df_9 = pd.DataFrame(r.json())\n",
      "df_9 = df_9['data'].apply(pd.Series)"
     ],
     "language": "python",
     "metadata": {},
     "outputs": [],
     "prompt_number": 46
    },
    {
     "cell_type": "markdown",
     "metadata": {},
     "source": [
      "### Join the dataframes"
     ]
    },
    {
     "cell_type": "code",
     "collapsed": false,
     "input": [
      "df = pd.concat([df_1, df_2, df_3, df_4, df_5, df_6, df_7, df_8, df_9])"
     ],
     "language": "python",
     "metadata": {},
     "outputs": [],
     "prompt_number": 47
    },
    {
     "cell_type": "code",
     "collapsed": false,
     "input": [
      "# df = df.drop('content', axis=1)"
     ],
     "language": "python",
     "metadata": {},
     "outputs": [],
     "prompt_number": 71
    },
    {
     "cell_type": "code",
     "collapsed": false,
     "input": [
      "len(df)"
     ],
     "language": "python",
     "metadata": {},
     "outputs": [
      {
       "metadata": {},
       "output_type": "pyout",
       "prompt_number": 72,
       "text": [
        "4040"
       ]
      }
     ],
     "prompt_number": 72
    },
    {
     "cell_type": "code",
     "collapsed": false,
     "input": [
      "# Set the row index of the dataframe to be the time the report was updated\n",
      "df[\"updatedAt\"] = pd.to_datetime(df[\"updatedAt\"])\n",
      "df.index = df['updatedAt']\n",
      "\n",
      "# Expand the geo column into a full dataframe\n",
      "geo_df = df['geo'].apply(pd.Series)\n",
      "\n",
      "# Expand the address components column into it's own dataframe\n",
      "geo_admin_df = geo_df['addressComponents'].apply(pd.Series)\n",
      "\n",
      "# Join the two geo dataframes to the primary dataframe\n",
      "df = pd.concat([df[:], geo_admin_df[:], geo_df[:]], axis=1)\n",
      "\n",
      "# Extract the latitute and longitude coordinates into their own columns\n",
      "df['latitude'] = df['coords'].str[1]\n",
      "df['longitude'] = df['coords'].str[0]\n",
      "\n",
      "# Expand the tags column into its own dataframe\n",
      "tags_df = df['tags'].apply(pd.Series)\n",
      "\n",
      "# Drop everything column after the third column\n",
      "tags_df = tags_df.ix[:, 0:2]\n",
      "tags_df.columns = ['tag1', 'tag2', 'tag3']\n",
      "\n",
      "# Extract the tags\n",
      "def tag_extractor(x):\n",
      "    # that, if x is a string,\n",
      "    if type(x) is float:\n",
      "        # just returns it untouched\n",
      "        return x\n",
      "    # but, if not, convert x to a dict() and return the value from the name key\n",
      "    elif x:\n",
      "        x = dict(x)\n",
      "        return x['name']\n",
      "    # and leave everything else\n",
      "    else:\n",
      "        return\n",
      "tags_df = tags_df.applymap(tag_extractor)\n",
      "\n",
      "# Attach the tags to the main dataframe\n",
      "df = pd.concat([df[:], tags_df[:]], axis=1)\n",
      "\n",
      "# Expand the language value:key pair\n",
      "lang_df = df['language'].apply(pd.Series)\n",
      "\n",
      "# Attach the language code as a column\n",
      "df['lang'] = lang_df['code']\n",
      "\n",
      "# print the length and view the first row\n",
      "print(len(df))"
     ],
     "language": "python",
     "metadata": {},
     "outputs": [
      {
       "ename": "AttributeError",
       "evalue": "'DataFrame' object has no attribute 'str'",
       "output_type": "pyerr",
       "traceback": [
        "\u001b[0;31m---------------------------------------------------------------------------\u001b[0m\n\u001b[0;31mAttributeError\u001b[0m                            Traceback (most recent call last)",
        "\u001b[0;32m<ipython-input-73-631c2904ee25>\u001b[0m in \u001b[0;36m<module>\u001b[0;34m()\u001b[0m\n\u001b[1;32m     13\u001b[0m \u001b[0;34m\u001b[0m\u001b[0m\n\u001b[1;32m     14\u001b[0m \u001b[0;31m# Extract the latitute and longitude coordinates into their own columns\u001b[0m\u001b[0;34m\u001b[0m\u001b[0;34m\u001b[0m\u001b[0m\n\u001b[0;32m---> 15\u001b[0;31m \u001b[0mdf\u001b[0m\u001b[0;34m[\u001b[0m\u001b[0;34m'latitude'\u001b[0m\u001b[0;34m]\u001b[0m \u001b[0;34m=\u001b[0m \u001b[0mdf\u001b[0m\u001b[0;34m[\u001b[0m\u001b[0;34m'coords'\u001b[0m\u001b[0;34m]\u001b[0m\u001b[0;34m.\u001b[0m\u001b[0mstr\u001b[0m\u001b[0;34m[\u001b[0m\u001b[0;36m1\u001b[0m\u001b[0;34m]\u001b[0m\u001b[0;34m\u001b[0m\u001b[0m\n\u001b[0m\u001b[1;32m     16\u001b[0m \u001b[0mdf\u001b[0m\u001b[0;34m[\u001b[0m\u001b[0;34m'longitude'\u001b[0m\u001b[0;34m]\u001b[0m \u001b[0;34m=\u001b[0m \u001b[0mdf\u001b[0m\u001b[0;34m[\u001b[0m\u001b[0;34m'coords'\u001b[0m\u001b[0;34m]\u001b[0m\u001b[0;34m.\u001b[0m\u001b[0mstr\u001b[0m\u001b[0;34m[\u001b[0m\u001b[0;36m0\u001b[0m\u001b[0;34m]\u001b[0m\u001b[0;34m\u001b[0m\u001b[0m\n\u001b[1;32m     17\u001b[0m \u001b[0;34m\u001b[0m\u001b[0m\n",
        "\u001b[0;32m/Users/chrisralbon/anaconda/envs/py3k/lib/python3.3/site-packages/pandas/core/generic.py\u001b[0m in \u001b[0;36m__getattr__\u001b[0;34m(self, name)\u001b[0m\n\u001b[1;32m   1806\u001b[0m         \"\"\"\n\u001b[1;32m   1807\u001b[0m         \u001b[0;32mif\u001b[0m \u001b[0mname\u001b[0m \u001b[0;32min\u001b[0m \u001b[0mself\u001b[0m\u001b[0;34m.\u001b[0m\u001b[0m_internal_names_set\u001b[0m\u001b[0;34m:\u001b[0m\u001b[0;34m\u001b[0m\u001b[0m\n\u001b[0;32m-> 1808\u001b[0;31m             \u001b[0;32mreturn\u001b[0m \u001b[0mobject\u001b[0m\u001b[0;34m.\u001b[0m\u001b[0m__getattribute__\u001b[0m\u001b[0;34m(\u001b[0m\u001b[0mself\u001b[0m\u001b[0;34m,\u001b[0m \u001b[0mname\u001b[0m\u001b[0;34m)\u001b[0m\u001b[0;34m\u001b[0m\u001b[0m\n\u001b[0m\u001b[1;32m   1809\u001b[0m         \u001b[0;32melif\u001b[0m \u001b[0mname\u001b[0m \u001b[0;32min\u001b[0m \u001b[0mself\u001b[0m\u001b[0;34m.\u001b[0m\u001b[0m_metadata\u001b[0m\u001b[0;34m:\u001b[0m\u001b[0;34m\u001b[0m\u001b[0m\n\u001b[1;32m   1810\u001b[0m             \u001b[0;32mreturn\u001b[0m \u001b[0mobject\u001b[0m\u001b[0;34m.\u001b[0m\u001b[0m__getattribute__\u001b[0m\u001b[0;34m(\u001b[0m\u001b[0mself\u001b[0m\u001b[0;34m,\u001b[0m \u001b[0mname\u001b[0m\u001b[0;34m)\u001b[0m\u001b[0;34m\u001b[0m\u001b[0m\n",
        "\u001b[0;31mAttributeError\u001b[0m: 'DataFrame' object has no attribute 'str'"
       ]
      }
     ],
     "prompt_number": 73
    },
    {
     "cell_type": "code",
     "collapsed": false,
     "input": [
      "df.head(2)"
     ],
     "language": "python",
     "metadata": {},
     "outputs": []
    },
    {
     "cell_type": "code",
     "collapsed": false,
     "input": [
      "df.apply(lambda x: x.isnull().value_counts()).T.plot(kind='bar', stacked=True)"
     ],
     "language": "python",
     "metadata": {},
     "outputs": []
    },
    {
     "cell_type": "code",
     "collapsed": false,
     "input": [
      "df_en = df[df.lang == 'en']"
     ],
     "language": "python",
     "metadata": {},
     "outputs": []
    },
    {
     "cell_type": "code",
     "collapsed": false,
     "input": [
      "df.head(10)"
     ],
     "language": "python",
     "metadata": {},
     "outputs": []
    },
    {
     "cell_type": "code",
     "collapsed": false,
     "input": [
      "tags = pd.DataFrame([df['tag1'], df['tag2'], df['tag3']])\n",
      "tag_counts = tags.stack().value_counts()\n",
      "tag_counts"
     ],
     "language": "python",
     "metadata": {},
     "outputs": []
    },
    {
     "cell_type": "code",
     "collapsed": false,
     "input": [
      "tag_counts.to_csv('ushahidi_world_tags.csv')"
     ],
     "language": "python",
     "metadata": {},
     "outputs": [],
     "prompt_number": 74
    },
    {
     "cell_type": "code",
     "collapsed": false,
     "input": [
      "df.to_csv('ushahidi_world.csv')"
     ],
     "language": "python",
     "metadata": {},
     "outputs": [],
     "prompt_number": 75
    },
    {
     "cell_type": "code",
     "collapsed": false,
     "input": [
      "df_en_tags = pd.concat([df_en['tag1'], df_en['tag2'], df_en['tag3']])"
     ],
     "language": "python",
     "metadata": {},
     "outputs": [],
     "prompt_number": 76
    },
    {
     "cell_type": "code",
     "collapsed": false,
     "input": [
      "df_en_tags"
     ],
     "language": "python",
     "metadata": {},
     "outputs": [
      {
       "metadata": {},
       "output_type": "pyout",
       "prompt_number": 77,
       "text": [
        "updatedAt\n",
        "2014-05-09 19:09:10.969132    Random Acts of Kindness\n",
        "2014-05-09 19:09:10.797991                    Twitter\n",
        "2014-05-09 19:09:11.381293            Trusted Reports\n",
        "2014-05-09 19:09:11.631432    Random Acts of Kindness\n",
        "2014-05-09 19:09:12.131296                    Twitter\n",
        "2014-05-09 19:09:12.214495                  Grateful!\n",
        "2014-05-09 19:09:11.048814                  Grateful!\n",
        "2014-05-09 19:09:12.048866                  Grateful!\n",
        "2014-05-09 19:09:12.297966                  Grateful!\n",
        "2014-05-09 19:09:12.964525                  Grateful!\n",
        "2014-05-09 19:32:50.540124                 Chemtrails\n",
        "2014-05-09 19:09:11.715448    Random Acts of Kindness\n",
        "2014-05-09 19:33:30.498682        DANGER CONSIDERABLE\n",
        "2014-05-09 19:32:50.038829             Climate Change\n",
        "2014-05-09 19:29:22.517101                    Healing\n",
        "...\n",
        "2014-05-09 19:07:40.378343                     NaN\n",
        "2014-05-09 19:07:41.663275                     NaN\n",
        "2014-05-09 19:07:40.461631                     NaN\n",
        "2014-05-09 19:07:40.294579                     NaN\n",
        "2014-05-09 19:07:41.328053                     NaN\n",
        "2014-05-09 19:07:41.578505    BBC London reporters\n",
        "2014-05-09 19:07:41.494933                     NaN\n",
        "2014-05-09 19:07:42.612292                     NaN\n",
        "2014-05-09 19:32:49.145894                     NaN\n",
        "2014-05-09 19:32:48.593570                     NaN\n",
        "2014-05-09 19:31:32.463514                     NaN\n",
        "2014-05-09 19:31:33.625923                     NaN\n",
        "2014-05-09 19:31:33.707332                     NaN\n",
        "2014-05-09 19:31:33.269718                     NaN\n",
        "2014-05-09 19:32:48.829206                     NaN\n",
        "Length: 6717"
       ]
      }
     ],
     "prompt_number": 77
    },
    {
     "cell_type": "code",
     "collapsed": false,
     "input": [
      "df_en_tags = df_en_tags.dropna()"
     ],
     "language": "python",
     "metadata": {},
     "outputs": [],
     "prompt_number": 78
    },
    {
     "cell_type": "code",
     "collapsed": false,
     "input": [
      "df_en_tags"
     ],
     "language": "python",
     "metadata": {},
     "outputs": [
      {
       "metadata": {},
       "output_type": "pyout",
       "prompt_number": 79,
       "text": [
        "updatedAt\n",
        "2014-05-09 19:09:10.969132    Random Acts of Kindness\n",
        "2014-05-09 19:09:10.797991                    Twitter\n",
        "2014-05-09 19:09:11.381293            Trusted Reports\n",
        "2014-05-09 19:09:11.631432    Random Acts of Kindness\n",
        "2014-05-09 19:09:12.131296                    Twitter\n",
        "2014-05-09 19:09:12.214495                  Grateful!\n",
        "2014-05-09 19:09:11.048814                  Grateful!\n",
        "2014-05-09 19:09:12.048866                  Grateful!\n",
        "2014-05-09 19:09:12.297966                  Grateful!\n",
        "2014-05-09 19:09:12.964525                  Grateful!\n",
        "2014-05-09 19:32:50.540124                 Chemtrails\n",
        "2014-05-09 19:09:11.715448    Random Acts of Kindness\n",
        "2014-05-09 19:33:30.498682        DANGER CONSIDERABLE\n",
        "2014-05-09 19:32:50.038829             Climate Change\n",
        "2014-05-09 19:29:22.517101                    Healing\n",
        "...\n",
        "2014-05-09 19:07:37.045077                  Trains\n",
        "2014-05-09 19:07:38.744448                    Tips\n",
        "2014-05-09 19:07:38.660757                    Tips\n",
        "2014-05-09 19:07:39.289645                    Tips\n",
        "2014-05-09 19:07:37.993725                    Tips\n",
        "2014-05-09 19:07:37.910567                   Buses\n",
        "2014-05-09 19:07:37.729861                    Tips\n",
        "2014-05-09 19:07:38.411026                   Buses\n",
        "2014-05-09 19:07:37.376691                    Tips\n",
        "2014-05-09 19:07:38.246111                  Trains\n",
        "2014-05-09 19:07:39.612925                   Buses\n",
        "2014-05-09 19:07:38.827666        Station closures\n",
        "2014-05-09 19:07:39.777938                    Tips\n",
        "2014-05-09 19:07:39.449875                    Tips\n",
        "2014-05-09 19:07:41.578505    BBC London reporters\n",
        "Length: 3858"
       ]
      }
     ],
     "prompt_number": 79
    },
    {
     "cell_type": "code",
     "collapsed": false,
     "input": [
      "df_en_tags.to_csv('ushahidi_world_en_tags.csv')"
     ],
     "language": "python",
     "metadata": {},
     "outputs": [],
     "prompt_number": 80
    },
    {
     "cell_type": "code",
     "collapsed": false,
     "input": [],
     "language": "python",
     "metadata": {},
     "outputs": [],
     "prompt_number": 80
    },
    {
     "cell_type": "code",
     "collapsed": false,
     "input": [],
     "language": "python",
     "metadata": {},
     "outputs": []
    }
   ],
   "metadata": {}
  }
 ]
}