{
 "metadata": {
  "name": "",
  "signature": "sha256:dc959fb5b477fa66d8fc53fbd8d3430289376d996f07e0f82683f9f33c3d551f"
 },
 "nbformat": 3,
 "nbformat_minor": 0,
 "worksheets": [
  {
   "cells": [
    {
     "cell_type": "markdown",
     "metadata": {},
     "source": [
      "# Exploring CrisisNET's Sources API"
     ]
    },
    {
     "cell_type": "markdown",
     "metadata": {},
     "source": [
      "### Import required modules"
     ]
    },
    {
     "cell_type": "code",
     "collapsed": false,
     "input": [
      "import requests\n",
      "import pandas as pd"
     ],
     "language": "python",
     "metadata": {},
     "outputs": [],
     "prompt_number": 11
    },
    {
     "cell_type": "markdown",
     "metadata": {},
     "source": [
      "### Make an API Request"
     ]
    },
    {
     "cell_type": "code",
     "collapsed": false,
     "input": [
      "url = 'http://devapi.crisis.net/source'\n",
      "headers = {'Authorization': 'Bearer ' + '532d8dc4ed3329652f114b73'}\n",
      "\n",
      "r = requests.get(url, headers=headers)"
     ],
     "language": "python",
     "metadata": {},
     "outputs": [],
     "prompt_number": 12
    },
    {
     "cell_type": "markdown",
     "metadata": {},
     "source": [
      "### Convert the request's JSON into a dataframe"
     ]
    },
    {
     "cell_type": "code",
     "collapsed": false,
     "input": [
      "df = pd.DataFrame(r.json())\n",
      "df = df['data'].apply(pd.Series)\n",
      "df_sources = pd.concat([df['sourceType'], df['description'], df['lastRun'], df['repeatsEvery'], df['status']], axis=1 )"
     ],
     "language": "python",
     "metadata": {},
     "outputs": [],
     "prompt_number": 13
    },
    {
     "cell_type": "markdown",
     "metadata": {},
     "source": [
      "### View the sources and relevent info"
     ]
    },
    {
     "cell_type": "code",
     "collapsed": false,
     "input": [
      "df_sources"
     ],
     "language": "python",
     "metadata": {},
     "outputs": [
      {
       "html": [
        "<div style=\"max-height:1000px;max-width:1500px;overflow:auto;\">\n",
        "<table border=\"1\" class=\"dataframe\">\n",
        "  <thead>\n",
        "    <tr style=\"text-align: right;\">\n",
        "      <th></th>\n",
        "      <th>sourceType</th>\n",
        "      <th>description</th>\n",
        "      <th>lastRun</th>\n",
        "      <th>repeatsEvery</th>\n",
        "      <th>status</th>\n",
        "    </tr>\n",
        "  </thead>\n",
        "  <tbody>\n",
        "    <tr>\n",
        "      <th>0 </th>\n",
        "      <td>       ushahidi</td>\n",
        "      <td> Aggregated incident reports from all publicly ...</td>\n",
        "      <td> 2014-05-04T04:41:28.375Z</td>\n",
        "      <td>   hour</td>\n",
        "      <td> active</td>\n",
        "    </tr>\n",
        "    <tr>\n",
        "      <th>1 </th>\n",
        "      <td>      reliefweb</td>\n",
        "      <td> Historical and recent natural disaster reports...</td>\n",
        "      <td> 2014-05-08T18:28:36.321Z</td>\n",
        "      <td>    day</td>\n",
        "      <td> active</td>\n",
        "    </tr>\n",
        "    <tr>\n",
        "      <th>2 </th>\n",
        "      <td>      reliefweb</td>\n",
        "      <td> Historical and recent natural disaster reports...</td>\n",
        "      <td> 2014-05-04T04:41:55.914Z</td>\n",
        "      <td>    day</td>\n",
        "      <td> active</td>\n",
        "    </tr>\n",
        "    <tr>\n",
        "      <th>3 </th>\n",
        "      <td>          gdelt</td>\n",
        "      <td>                                               NaN</td>\n",
        "      <td> 2014-04-25T20:00:49.344Z</td>\n",
        "      <td>    day</td>\n",
        "      <td> active</td>\n",
        "    </tr>\n",
        "    <tr>\n",
        "      <th>4 </th>\n",
        "      <td>        twitter</td>\n",
        "      <td>             Traffic incidents in or near Nairobi.</td>\n",
        "      <td>                      NaN</td>\n",
        "      <td> minute</td>\n",
        "      <td> active</td>\n",
        "    </tr>\n",
        "    <tr>\n",
        "      <th>5 </th>\n",
        "      <td>     test_sucka</td>\n",
        "      <td>                                               NaN</td>\n",
        "      <td>                      NaN</td>\n",
        "      <td>   hour</td>\n",
        "      <td> active</td>\n",
        "    </tr>\n",
        "    <tr>\n",
        "      <th>6 </th>\n",
        "      <td>          gdelt</td>\n",
        "      <td>  GDELT is an ambitious project that attempts t...</td>\n",
        "      <td> 2014-05-11T18:16:33.997Z</td>\n",
        "      <td>    day</td>\n",
        "      <td> active</td>\n",
        "    </tr>\n",
        "    <tr>\n",
        "      <th>7 </th>\n",
        "      <td>  youtube_syria</td>\n",
        "      <td>  About 1k YouTube channels relevant to ongoing...</td>\n",
        "      <td> 2014-05-12T01:23:28.888Z</td>\n",
        "      <td>   hour</td>\n",
        "      <td> active</td>\n",
        "    </tr>\n",
        "    <tr>\n",
        "      <th>8 </th>\n",
        "      <td>  syria_tracker</td>\n",
        "      <td>  SyriaTracker Ushahidi instance. syriatracker....</td>\n",
        "      <td> 2014-05-11T18:19:51.962Z</td>\n",
        "      <td>   hour</td>\n",
        "      <td> active</td>\n",
        "    </tr>\n",
        "    <tr>\n",
        "      <th>9 </th>\n",
        "      <td>      vdc_syria</td>\n",
        "      <td>  Violation Documentation Center in Syria is an...</td>\n",
        "      <td> 2014-05-12T01:46:26.875Z</td>\n",
        "      <td>    day</td>\n",
        "      <td> active</td>\n",
        "    </tr>\n",
        "    <tr>\n",
        "      <th>10</th>\n",
        "      <td> facebook_syria</td>\n",
        "      <td>  About 1k Facebook pages relevant to ongoing c...</td>\n",
        "      <td> 2014-05-12T03:21:14.198Z</td>\n",
        "      <td>   hour</td>\n",
        "      <td> active</td>\n",
        "    </tr>\n",
        "  </tbody>\n",
        "</table>\n",
        "<p>11 rows \u00d7 5 columns</p>\n",
        "</div>"
       ],
       "metadata": {},
       "output_type": "pyout",
       "prompt_number": 14,
       "text": [
        "        sourceType                                        description  \\\n",
        "0         ushahidi  Aggregated incident reports from all publicly ...   \n",
        "1        reliefweb  Historical and recent natural disaster reports...   \n",
        "2        reliefweb  Historical and recent natural disaster reports...   \n",
        "3            gdelt                                                NaN   \n",
        "4          twitter              Traffic incidents in or near Nairobi.   \n",
        "5       test_sucka                                                NaN   \n",
        "6            gdelt   GDELT is an ambitious project that attempts t...   \n",
        "7    youtube_syria   About 1k YouTube channels relevant to ongoing...   \n",
        "8    syria_tracker   SyriaTracker Ushahidi instance. syriatracker....   \n",
        "9        vdc_syria   Violation Documentation Center in Syria is an...   \n",
        "10  facebook_syria   About 1k Facebook pages relevant to ongoing c...   \n",
        "\n",
        "                     lastRun repeatsEvery  status  \n",
        "0   2014-05-04T04:41:28.375Z         hour  active  \n",
        "1   2014-05-08T18:28:36.321Z          day  active  \n",
        "2   2014-05-04T04:41:55.914Z          day  active  \n",
        "3   2014-04-25T20:00:49.344Z          day  active  \n",
        "4                        NaN       minute  active  \n",
        "5                        NaN         hour  active  \n",
        "6   2014-05-11T18:16:33.997Z          day  active  \n",
        "7   2014-05-12T01:23:28.888Z         hour  active  \n",
        "8   2014-05-11T18:19:51.962Z         hour  active  \n",
        "9   2014-05-12T01:46:26.875Z          day  active  \n",
        "10  2014-05-12T03:21:14.198Z         hour  active  \n",
        "\n",
        "[11 rows x 5 columns]"
       ]
      }
     ],
     "prompt_number": 14
    },
    {
     "cell_type": "code",
     "collapsed": false,
     "input": [],
     "language": "python",
     "metadata": {},
     "outputs": [],
     "prompt_number": 14
    }
   ],
   "metadata": {}
  }
 ]
}