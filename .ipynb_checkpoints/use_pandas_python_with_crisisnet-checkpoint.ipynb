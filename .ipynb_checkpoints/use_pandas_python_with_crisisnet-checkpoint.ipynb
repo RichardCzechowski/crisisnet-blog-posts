{
 "metadata": {
  "name": "",
  "signature": "sha256:6dbfe6a9b3b001dcd48a554be784678e16b165f25bb8cbbcfb000323ac5d73c3"
 },
 "nbformat": 3,
 "nbformat_minor": 0,
 "worksheets": [
  {
   "cells": [
    {
     "cell_type": "markdown",
     "metadata": {},
     "source": [
      "# Use Python and pandas with CrisisNET\n",
      "\n",
      "CrisisNET provides a simple, powerful resource for accessing crisis relevant data. Below is a short introduction to pulling down data from CrisisNET and completing some simple data wrangling tasks using Python's pandas module \u2014 setting you up to start pulling and using data on your own.\n",
      "\n",
      "The example below uses Python 3.3."
     ]
    },
    {
     "cell_type": "markdown",
     "metadata": {},
     "source": [
      "First, we load two modules, requests to make the api pull, and pandas to do the data wrangling."
     ]
    },
    {
     "cell_type": "code",
     "collapsed": false,
     "input": [
      "# import required modules\n",
      "import requests as re\n",
      "import pandas as pd"
     ],
     "language": "python",
     "metadata": {},
     "outputs": [],
     "prompt_number": 98
    },
    {
     "cell_type": "markdown",
     "metadata": {},
     "source": [
      "Second, if I am writing this in iPython Notebook, I'm going to set the maximum number of columns displayed to 30. If you are not using iPython, there is no need to run this."
     ]
    },
    {
     "cell_type": "code",
     "collapsed": false,
     "input": [
      "# Set pandas to display a maximum of 30 columns\n",
      "pd.set_option('display.max_columns', 30)"
     ],
     "language": "python",
     "metadata": {},
     "outputs": [],
     "prompt_number": 99
    },
    {
     "cell_type": "markdown",
     "metadata": {},
     "source": [
      "Next, create a variable with your CrisisNET API key and setup the information you'll need to make the API request. If you don't have one yet, you can get an API key here."
     ]
    },
    {
     "cell_type": "code",
     "collapsed": false,
     "input": [
      "# Create a variable with your CrisisNET API key\n",
      "api_key = '532d8dc4ed3329652f114b73'\n",
      "\n",
      "# Setup the request header\n",
      "headers = {'Authorization': 'Bearer ' + api_key}"
     ],
     "language": "python",
     "metadata": {},
     "outputs": [],
     "prompt_number": 100
    },
    {
     "cell_type": "markdown",
     "metadata": {},
     "source": [
      "We're almost ready to make our API request. The data requests from CrisisNET can be filtered in a wide range of ways, from location to date.\n",
      "\n",
      "In the code below, I've setup a quick and dirty method for setting up a few the the avaliable filters (there are more avaliable). Specifically, I use Python 3's string formatting methods to create the API request URL. As it appears, I am not filtering on anything, however if we wanted to filter to pull, we would only need to add values after the equals sign. For example, to filter by violence we could change 'tags=' to 'tags=violence'."
     ]
    },
    {
     "cell_type": "code",
     "collapsed": false,
     "input": [
      "# Setup the request's URL\n",
      "url = 'http://devapi.crisis.net/item?%(tags)s&%(before)s&%(after)s&%(text)s&%(location)s&%(radius)s&%(limit)s&%(sources)s&%(licenses)s&%(offset)s'\n",
      "\n",
      "# Create a list of filters\n",
      "filters =   {'tags' : 'tags=', # a list of keywords seperated by comma\n",
      "             'after' : 'after=', # a timestamp in ISO 8601 format\n",
      "             'before' : 'before=', # a timestamp in ISO 8601 format\n",
      "             'text' : 'text=', # words seperated by a '+'\n",
      "             'location' : 'location=', # latitude and longitude\n",
      "             'radius' : 'radius=', # a number in meters\n",
      "             'limit' : 'limit=', # the maximum number of records to return\n",
      "             'sources' : 'sources=', # a list of sources\n",
      "             'licenses' : 'licenses=', # the types of licenses\n",
      "             'offset' : 'offset=' # for multiple requests\n",
      "            }\n",
      "\n",
      "# Create the formatted request URL\n",
      "formattedURL = url % filters"
     ],
     "language": "python",
     "metadata": {},
     "outputs": [],
     "prompt_number": 101
    },
    {
     "cell_type": "markdown",
     "metadata": {},
     "source": [
      "With the URL ready, we are ready to pull data down from CrisisNET using the requests module."
     ]
    },
    {
     "cell_type": "code",
     "collapsed": false,
     "input": [
      "# Request data from CrisisNET\n",
      "r = re.get(formattedURL, headers=headers)\n",
      "\n",
      "# Check to make sure the pull was successful\n",
      "# If successful, we will see \"Response 200\"\n",
      "print(r)"
     ],
     "language": "python",
     "metadata": {},
     "outputs": [
      {
       "output_type": "stream",
       "stream": "stdout",
       "text": [
        "<Response [200]>\n"
       ]
      }
     ],
     "prompt_number": 102
    },
    {
     "cell_type": "markdown",
     "metadata": {},
     "source": [
      "Now that we have recieved "
     ]
    },
    {
     "cell_type": "code",
     "collapsed": false,
     "input": [
      "# Create a dataframe from the request's json format\n",
      "request_df = pd.DataFrame(r.json())"
     ],
     "language": "python",
     "metadata": {},
     "outputs": [],
     "prompt_number": 103
    },
    {
     "cell_type": "markdown",
     "metadata": {},
     "source": [
      "### View the first five rows of the request dataframe"
     ]
    },
    {
     "cell_type": "code",
     "collapsed": false,
     "input": [
      "request_df.head(1)"
     ],
     "language": "python",
     "metadata": {},
     "outputs": [
      {
       "html": [
        "<div style=\"max-height:1000px;max-width:1500px;overflow:auto;\">\n",
        "<table border=\"1\" class=\"dataframe\">\n",
        "  <thead>\n",
        "    <tr style=\"text-align: right;\">\n",
        "      <th></th>\n",
        "      <th>data</th>\n",
        "      <th>total</th>\n",
        "    </tr>\n",
        "  </thead>\n",
        "  <tbody>\n",
        "    <tr>\n",
        "      <th>0</th>\n",
        "      <td> {'publishedAt': '2014-09-16T00:00:00', 'tags':...</td>\n",
        "      <td> 690653</td>\n",
        "    </tr>\n",
        "  </tbody>\n",
        "</table>\n",
        "<p>1 rows \u00d7 2 columns</p>\n",
        "</div>"
       ],
       "metadata": {},
       "output_type": "pyout",
       "prompt_number": 104,
       "text": [
        "                                                data   total\n",
        "0  {'publishedAt': '2014-09-16T00:00:00', 'tags':...  690653\n",
        "\n",
        "[1 rows x 2 columns]"
       ]
      }
     ],
     "prompt_number": 104
    },
    {
     "cell_type": "markdown",
     "metadata": {},
     "source": [
      "### Create a dataframe from the request's data"
     ]
    },
    {
     "cell_type": "code",
     "collapsed": false,
     "input": [
      "df = request_df['data'].apply(pd.Series)"
     ],
     "language": "python",
     "metadata": {},
     "outputs": [],
     "prompt_number": 105
    },
    {
     "cell_type": "markdown",
     "metadata": {},
     "source": [
      "### View the first five rows of the dataframe"
     ]
    },
    {
     "cell_type": "code",
     "collapsed": false,
     "input": [
      "df.head(1)"
     ],
     "language": "python",
     "metadata": {},
     "outputs": [
      {
       "html": [
        "<div style=\"max-height:1000px;max-width:1500px;overflow:auto;\">\n",
        "<table border=\"1\" class=\"dataframe\">\n",
        "  <thead>\n",
        "    <tr style=\"text-align: right;\">\n",
        "      <th></th>\n",
        "      <th>author</th>\n",
        "      <th>content</th>\n",
        "      <th>contentEnglish</th>\n",
        "      <th>createdAt</th>\n",
        "      <th>entities</th>\n",
        "      <th>fromURL</th>\n",
        "      <th>geo</th>\n",
        "      <th>id</th>\n",
        "      <th>image</th>\n",
        "      <th>language</th>\n",
        "      <th>license</th>\n",
        "      <th>lifespan</th>\n",
        "      <th>publishedAt</th>\n",
        "      <th>remoteID</th>\n",
        "      <th>source</th>\n",
        "      <th>summary</th>\n",
        "      <th>tags</th>\n",
        "      <th>updatedAt</th>\n",
        "      <th>video</th>\n",
        "    </tr>\n",
        "  </thead>\n",
        "  <tbody>\n",
        "    <tr>\n",
        "      <th>0</th>\n",
        "      <td> NaN</td>\n",
        "      <td> Mohammed Yehya al-Houndi killed by Shooting. </td>\n",
        "      <td> NaN</td>\n",
        "      <td> 2014-05-29T04:20:17.984096</td>\n",
        "      <td> NaN</td>\n",
        "      <td> http://www.vdc-sy.info/index.php/en/details/ma...</td>\n",
        "      <td> {'addressComponents': {'neighborhood': 'Sanama...</td>\n",
        "      <td> JY3h2j-_RWaGSoBdD6Ey0w</td>\n",
        "      <td> NaN</td>\n",
        "      <td> NaN</td>\n",
        "      <td> unknown</td>\n",
        "      <td> temporary</td>\n",
        "      <td> 2014-09-16T00:00:00</td>\n",
        "      <td> 111181</td>\n",
        "      <td> vdc_syria</td>\n",
        "      <td> Adult - Male Civilian killed by Shooting</td>\n",
        "      <td> [{'name': 'conflict', 'confidence': 1}, {'name...</td>\n",
        "      <td> 2014-05-29T04:20:17.984107</td>\n",
        "      <td> NaN</td>\n",
        "    </tr>\n",
        "  </tbody>\n",
        "</table>\n",
        "<p>1 rows \u00d7 19 columns</p>\n",
        "</div>"
       ],
       "metadata": {},
       "output_type": "pyout",
       "prompt_number": 106,
       "text": [
        "  author                                        content contentEnglish  \\\n",
        "0    NaN  Mohammed Yehya al-Houndi killed by Shooting.             NaN   \n",
        "\n",
        "                    createdAt entities  \\\n",
        "0  2014-05-29T04:20:17.984096      NaN   \n",
        "\n",
        "                                             fromURL  \\\n",
        "0  http://www.vdc-sy.info/index.php/en/details/ma...   \n",
        "\n",
        "                                                 geo                      id  \\\n",
        "0  {'addressComponents': {'neighborhood': 'Sanama...  JY3h2j-_RWaGSoBdD6Ey0w   \n",
        "\n",
        "  image language  license   lifespan          publishedAt remoteID     source  \\\n",
        "0   NaN      NaN  unknown  temporary  2014-09-16T00:00:00   111181  vdc_syria   \n",
        "\n",
        "                                    summary  \\\n",
        "0  Adult - Male Civilian killed by Shooting   \n",
        "\n",
        "                                                tags  \\\n",
        "0  [{'name': 'conflict', 'confidence': 1}, {'name...   \n",
        "\n",
        "                    updatedAt video  \n",
        "0  2014-05-29T04:20:17.984107   NaN  \n",
        "\n",
        "[1 rows x 19 columns]"
       ]
      }
     ],
     "prompt_number": 106
    },
    {
     "cell_type": "markdown",
     "metadata": {},
     "source": [
      "### Check the length of the dataframe"
     ]
    },
    {
     "cell_type": "code",
     "collapsed": false,
     "input": [
      "len(df)"
     ],
     "language": "python",
     "metadata": {},
     "outputs": [
      {
       "metadata": {},
       "output_type": "pyout",
       "prompt_number": 107,
       "text": [
        "25"
       ]
      }
     ],
     "prompt_number": 107
    },
    {
     "cell_type": "markdown",
     "metadata": {},
     "source": [
      "### Set the row index of the dataframe to be the time the report was updated"
     ]
    },
    {
     "cell_type": "code",
     "collapsed": false,
     "input": [
      "df[\"updatedAt\"] = pd.to_datetime(df[\"updatedAt\"])\n",
      "df.index = df['updatedAt']"
     ],
     "language": "python",
     "metadata": {},
     "outputs": [],
     "prompt_number": 108
    },
    {
     "cell_type": "markdown",
     "metadata": {},
     "source": [
      "### Expand the geo column into a full dataframe"
     ]
    },
    {
     "cell_type": "code",
     "collapsed": false,
     "input": [
      "geo_df = df['geo'].apply(pd.Series)\n",
      "geo_df.head(1)"
     ],
     "language": "python",
     "metadata": {},
     "outputs": [
      {
       "html": [
        "<div style=\"max-height:1000px;max-width:1500px;overflow:auto;\">\n",
        "<table border=\"1\" class=\"dataframe\">\n",
        "  <thead>\n",
        "    <tr style=\"text-align: right;\">\n",
        "      <th></th>\n",
        "      <th>addressComponents</th>\n",
        "      <th>coords</th>\n",
        "      <th>locationIdentifiers</th>\n",
        "    </tr>\n",
        "    <tr>\n",
        "      <th>updatedAt</th>\n",
        "      <th></th>\n",
        "      <th></th>\n",
        "      <th></th>\n",
        "    </tr>\n",
        "  </thead>\n",
        "  <tbody>\n",
        "    <tr>\n",
        "      <th>2014-05-29 04:20:17.984107</th>\n",
        "      <td> {'neighborhood': 'Sanamain', 'adminArea3': 'Da...</td>\n",
        "      <td> NaN</td>\n",
        "      <td> NaN</td>\n",
        "    </tr>\n",
        "  </tbody>\n",
        "</table>\n",
        "<p>1 rows \u00d7 3 columns</p>\n",
        "</div>"
       ],
       "metadata": {},
       "output_type": "pyout",
       "prompt_number": 109,
       "text": [
        "                                                            addressComponents  \\\n",
        "updatedAt                                                                       \n",
        "2014-05-29 04:20:17.984107  {'neighborhood': 'Sanamain', 'adminArea3': 'Da...   \n",
        "\n",
        "                           coords locationIdentifiers  \n",
        "updatedAt                                              \n",
        "2014-05-29 04:20:17.984107    NaN                 NaN  \n",
        "\n",
        "[1 rows x 3 columns]"
       ]
      }
     ],
     "prompt_number": 109
    },
    {
     "cell_type": "markdown",
     "metadata": {},
     "source": [
      "### Expand the address components column into it's own dataframe"
     ]
    },
    {
     "cell_type": "code",
     "collapsed": false,
     "input": [
      "geo_admin_df = geo_df['addressComponents'].apply(pd.Series)\n",
      "geo_admin_df.head(1)"
     ],
     "language": "python",
     "metadata": {},
     "outputs": [
      {
       "html": [
        "<div style=\"max-height:1000px;max-width:1500px;overflow:auto;\">\n",
        "<table border=\"1\" class=\"dataframe\">\n",
        "  <thead>\n",
        "    <tr style=\"text-align: right;\">\n",
        "      <th></th>\n",
        "      <th>adminArea1</th>\n",
        "      <th>adminArea3</th>\n",
        "      <th>adminArea5</th>\n",
        "      <th>formattedAddress</th>\n",
        "      <th>neighborhood</th>\n",
        "      <th>streetAddress</th>\n",
        "    </tr>\n",
        "    <tr>\n",
        "      <th>updatedAt</th>\n",
        "      <th></th>\n",
        "      <th></th>\n",
        "      <th></th>\n",
        "      <th></th>\n",
        "      <th></th>\n",
        "      <th></th>\n",
        "    </tr>\n",
        "  </thead>\n",
        "  <tbody>\n",
        "    <tr>\n",
        "      <th>2014-05-29 04:20:17.984107</th>\n",
        "      <td> Syria</td>\n",
        "      <td> Daraa</td>\n",
        "      <td> NaN</td>\n",
        "      <td> NaN</td>\n",
        "      <td> Sanamain</td>\n",
        "      <td> NaN</td>\n",
        "    </tr>\n",
        "  </tbody>\n",
        "</table>\n",
        "<p>1 rows \u00d7 6 columns</p>\n",
        "</div>"
       ],
       "metadata": {},
       "output_type": "pyout",
       "prompt_number": 110,
       "text": [
        "                           adminArea1 adminArea3 adminArea5 formattedAddress  \\\n",
        "updatedAt                                                                      \n",
        "2014-05-29 04:20:17.984107      Syria      Daraa        NaN              NaN   \n",
        "\n",
        "                           neighborhood streetAddress  \n",
        "updatedAt                                              \n",
        "2014-05-29 04:20:17.984107     Sanamain           NaN  \n",
        "\n",
        "[1 rows x 6 columns]"
       ]
      }
     ],
     "prompt_number": 110
    },
    {
     "cell_type": "markdown",
     "metadata": {},
     "source": [
      "### Join the two geo dataframes to the primary dataframe"
     ]
    },
    {
     "cell_type": "code",
     "collapsed": false,
     "input": [
      "df = pd.concat([df[:], geo_admin_df[:], geo_df[:]], axis=1)"
     ],
     "language": "python",
     "metadata": {},
     "outputs": [],
     "prompt_number": 111
    },
    {
     "cell_type": "markdown",
     "metadata": {},
     "source": [
      "### Extract the latitute and longitude coordinates into their own columns"
     ]
    },
    {
     "cell_type": "code",
     "collapsed": false,
     "input": [
      "df['latitude'] = df['coords'].str[1]\n",
      "df['longitude'] = df['coords'].str[0]"
     ],
     "language": "python",
     "metadata": {},
     "outputs": [],
     "prompt_number": 112
    },
    {
     "cell_type": "markdown",
     "metadata": {},
     "source": [
      "### Expand the tags column into its own dataframe"
     ]
    },
    {
     "cell_type": "code",
     "collapsed": false,
     "input": [
      "tags_df = df['tags'].apply(pd.Series)"
     ],
     "language": "python",
     "metadata": {},
     "outputs": [],
     "prompt_number": 113
    },
    {
     "cell_type": "markdown",
     "metadata": {},
     "source": [
      "### Drop everything column after the fourth"
     ]
    },
    {
     "cell_type": "code",
     "collapsed": false,
     "input": [
      "tags_df = tags_df.ix[:, 0:1]"
     ],
     "language": "python",
     "metadata": {},
     "outputs": [],
     "prompt_number": 114
    },
    {
     "cell_type": "markdown",
     "metadata": {},
     "source": [
      "### Add titles to the columns"
     ]
    },
    {
     "cell_type": "code",
     "collapsed": false,
     "input": [
      "tags_df.columns = ['tag1', 'tag2']\n",
      "tags_df.columns"
     ],
     "language": "python",
     "metadata": {},
     "outputs": [
      {
       "metadata": {},
       "output_type": "pyout",
       "prompt_number": 115,
       "text": [
        "Index(['tag1', 'tag2'], dtype='object')"
       ]
      }
     ],
     "prompt_number": 115
    },
    {
     "cell_type": "markdown",
     "metadata": {},
     "source": [
      "### View the first few rows of the tags dataframe"
     ]
    },
    {
     "cell_type": "code",
     "collapsed": false,
     "input": [
      "tags_df.head(1)"
     ],
     "language": "python",
     "metadata": {},
     "outputs": [
      {
       "html": [
        "<div style=\"max-height:1000px;max-width:1500px;overflow:auto;\">\n",
        "<table border=\"1\" class=\"dataframe\">\n",
        "  <thead>\n",
        "    <tr style=\"text-align: right;\">\n",
        "      <th></th>\n",
        "      <th>tag1</th>\n",
        "      <th>tag2</th>\n",
        "    </tr>\n",
        "    <tr>\n",
        "      <th>updatedAt</th>\n",
        "      <th></th>\n",
        "      <th></th>\n",
        "    </tr>\n",
        "  </thead>\n",
        "  <tbody>\n",
        "    <tr>\n",
        "      <th>2014-05-29 04:20:17.984107</th>\n",
        "      <td> {'name': 'conflict', 'confidence': 1}</td>\n",
        "      <td> {'name': 'death', 'confidence': 1}</td>\n",
        "    </tr>\n",
        "  </tbody>\n",
        "</table>\n",
        "<p>1 rows \u00d7 2 columns</p>\n",
        "</div>"
       ],
       "metadata": {},
       "output_type": "pyout",
       "prompt_number": 116,
       "text": [
        "                                                             tag1  \\\n",
        "updatedAt                                                           \n",
        "2014-05-29 04:20:17.984107  {'name': 'conflict', 'confidence': 1}   \n",
        "\n",
        "                                                          tag2  \n",
        "updatedAt                                                       \n",
        "2014-05-29 04:20:17.984107  {'name': 'death', 'confidence': 1}  \n",
        "\n",
        "[1 rows x 2 columns]"
       ]
      }
     ],
     "prompt_number": 116
    },
    {
     "cell_type": "markdown",
     "metadata": {},
     "source": [
      "### Create a tag extractor function that leaves missing observations (which are floats) alone, but converts other values into dicts, then extracts the name value."
     ]
    },
    {
     "cell_type": "code",
     "collapsed": false,
     "input": [
      "# Create a function called tag_extractor,\n",
      "def tag_extractor(x):\n",
      "    # that, if x is a string,\n",
      "    if type(x) is float:\n",
      "        # just returns it untouched\n",
      "        return x\n",
      "    # but, if not,\n",
      "    elif x:\n",
      "        # converts x to a dict(),\n",
      "        x = dict(x)\n",
      "        # and returns the value from the name key\n",
      "        return x['name']\n",
      "    # and leaves everything else\n",
      "    else:\n",
      "        return"
     ],
     "language": "python",
     "metadata": {},
     "outputs": [],
     "prompt_number": 117
    },
    {
     "cell_type": "markdown",
     "metadata": {},
     "source": [
      "### Apply the function to every cell in the dataframe"
     ]
    },
    {
     "cell_type": "code",
     "collapsed": false,
     "input": [
      "tags_df = tags_df.applymap(tag_extractor)"
     ],
     "language": "python",
     "metadata": {},
     "outputs": [],
     "prompt_number": 118
    },
    {
     "cell_type": "markdown",
     "metadata": {},
     "source": [
      "### Join the tags dataframe with the primary dataframe"
     ]
    },
    {
     "cell_type": "code",
     "collapsed": false,
     "input": [
      "df = pd.concat([df[:], tags_df[:]], axis=1)"
     ],
     "language": "python",
     "metadata": {},
     "outputs": [],
     "prompt_number": 119
    },
    {
     "cell_type": "markdown",
     "metadata": {},
     "source": [
      "### Expand the language column into it's own dataframe and return the language code column to the original dataframe"
     ]
    },
    {
     "cell_type": "code",
     "collapsed": false,
     "input": [
      "lang_df = df['language'].apply(pd.Series)\n",
      "df['lang'] = lang_df['code']"
     ],
     "language": "python",
     "metadata": {},
     "outputs": [],
     "prompt_number": 120
    },
    {
     "cell_type": "markdown",
     "metadata": {},
     "source": [
      "### Drop some extra columns to clean up the dataframe"
     ]
    },
    {
     "cell_type": "code",
     "collapsed": false,
     "input": [
      "df = df.drop(['geo', 'updatedAt', 'addressComponents', 'language', 'tags', 'coords', 'id', 'remoteID', ], axis=1)"
     ],
     "language": "python",
     "metadata": {},
     "outputs": [],
     "prompt_number": 121
    },
    {
     "cell_type": "markdown",
     "metadata": {},
     "source": [
      "### View the final dataframe"
     ]
    },
    {
     "cell_type": "code",
     "collapsed": false,
     "input": [
      "df.head()"
     ],
     "language": "python",
     "metadata": {},
     "outputs": [
      {
       "html": [
        "<div style=\"max-height:1000px;max-width:1500px;overflow:auto;\">\n",
        "<table border=\"1\" class=\"dataframe\">\n",
        "  <thead>\n",
        "    <tr style=\"text-align: right;\">\n",
        "      <th></th>\n",
        "      <th>author</th>\n",
        "      <th>content</th>\n",
        "      <th>contentEnglish</th>\n",
        "      <th>createdAt</th>\n",
        "      <th>entities</th>\n",
        "      <th>fromURL</th>\n",
        "      <th>image</th>\n",
        "      <th>license</th>\n",
        "      <th>lifespan</th>\n",
        "      <th>publishedAt</th>\n",
        "      <th>source</th>\n",
        "      <th>summary</th>\n",
        "      <th>video</th>\n",
        "      <th>adminArea1</th>\n",
        "      <th>adminArea3</th>\n",
        "      <th>adminArea5</th>\n",
        "      <th>formattedAddress</th>\n",
        "      <th>neighborhood</th>\n",
        "      <th>streetAddress</th>\n",
        "      <th>locationIdentifiers</th>\n",
        "      <th>latitude</th>\n",
        "      <th>longitude</th>\n",
        "      <th>tag1</th>\n",
        "      <th>tag2</th>\n",
        "      <th>lang</th>\n",
        "    </tr>\n",
        "    <tr>\n",
        "      <th>updatedAt</th>\n",
        "      <th></th>\n",
        "      <th></th>\n",
        "      <th></th>\n",
        "      <th></th>\n",
        "      <th></th>\n",
        "      <th></th>\n",
        "      <th></th>\n",
        "      <th></th>\n",
        "      <th></th>\n",
        "      <th></th>\n",
        "      <th></th>\n",
        "      <th></th>\n",
        "      <th></th>\n",
        "      <th></th>\n",
        "      <th></th>\n",
        "      <th></th>\n",
        "      <th></th>\n",
        "      <th></th>\n",
        "      <th></th>\n",
        "      <th></th>\n",
        "      <th></th>\n",
        "      <th></th>\n",
        "      <th></th>\n",
        "      <th></th>\n",
        "      <th></th>\n",
        "    </tr>\n",
        "  </thead>\n",
        "  <tbody>\n",
        "    <tr>\n",
        "      <th>2014-05-29 04:20:17.984107</th>\n",
        "      <td>                                               NaN</td>\n",
        "      <td>     Mohammed Yehya al-Houndi killed by Shooting. </td>\n",
        "      <td>                                               NaN</td>\n",
        "      <td> 2014-05-29T04:20:17.984096</td>\n",
        "      <td>                             NaN</td>\n",
        "      <td> http://www.vdc-sy.info/index.php/en/details/ma...</td>\n",
        "      <td>                                               NaN</td>\n",
        "      <td> unknown</td>\n",
        "      <td> temporary</td>\n",
        "      <td>       2014-09-16T00:00:00</td>\n",
        "      <td> vdc_syria</td>\n",
        "      <td> Adult - Male Civilian killed by Shooting</td>\n",
        "      <td> NaN</td>\n",
        "      <td>    Syria</td>\n",
        "      <td>     Daraa</td>\n",
        "      <td>      NaN</td>\n",
        "      <td>                                  NaN</td>\n",
        "      <td> Sanamain</td>\n",
        "      <td>              NaN</td>\n",
        "      <td>                                               NaN</td>\n",
        "      <td>       NaN</td>\n",
        "      <td>        NaN</td>\n",
        "      <td> conflict</td>\n",
        "      <td> death</td>\n",
        "      <td> NaN</td>\n",
        "    </tr>\n",
        "    <tr>\n",
        "      <th>2014-05-30 02:56:02.892682</th>\n",
        "      <td> {'name': 'Deep Blue Sea', 'image': 'http://pbs...</td>\n",
        "      <td> \"\u0e2b\u0e19\u0e31\u0e01\u0e41\u0e1c\u0e48\u0e19\u0e14\u0e34\u0e19\" \u0e40\u0e27\u0e2d\u0e23\u0e4c\u0e0a\u0e31\u0e48\u0e19 soft soft 2014\u0e42\u0e14\u0e22\u0e17\u0e2b\u0e32\u0e23\u0e22...</td>\n",
        "      <td> \"Deadwood\" version, soft soft 2014 new age eas...</td>\n",
        "      <td> 2014-05-30T02:56:01.472586</td>\n",
        "      <td> [Thailand, Saraburi, Sara Buri]</td>\n",
        "      <td>                                               NaN</td>\n",
        "      <td>                                               NaN</td>\n",
        "      <td> unknown</td>\n",
        "      <td> temporary</td>\n",
        "      <td> 2014-05-30T02:52:42+00:00</td>\n",
        "      <td>   twitter</td>\n",
        "      <td>                                      NaN</td>\n",
        "      <td> NaN</td>\n",
        "      <td> Thailand</td>\n",
        "      <td> Sara Buri</td>\n",
        "      <td> Saraburi</td>\n",
        "      <td> Nong No Saraburi, Saraburi, Thailand</td>\n",
        "      <td>      NaN</td>\n",
        "      <td> Nong No Saraburi</td>\n",
        "      <td> {'authorLocationName': 'BKK,Thailand', 'author...</td>\n",
        "      <td> 14.484582</td>\n",
        "      <td> 100.851913</td>\n",
        "      <td> military</td>\n",
        "      <td>   NaN</td>\n",
        "      <td>  th</td>\n",
        "    </tr>\n",
        "    <tr>\n",
        "      <th>2014-05-30 03:28:30.288883</th>\n",
        "      <td> {'name': 'Exiled Asia', 'image': 'http://image...</td>\n",
        "      <td> @ExiledAsia: DJ Brad Sassman Mixes Here http:/...</td>\n",
        "      <td>                                               NaN</td>\n",
        "      <td> 2014-05-30T03:28:30.288856</td>\n",
        "      <td>                             NaN</td>\n",
        "      <td>                http://instagram.com/p/omtoElJ8m7/</td>\n",
        "      <td> http://scontent-a.cdninstagram.com/hphotos-frc...</td>\n",
        "      <td> unknown</td>\n",
        "      <td> temporary</td>\n",
        "      <td>       2014-05-30T02:52:37</td>\n",
        "      <td> instagram</td>\n",
        "      <td>                                      NaN</td>\n",
        "      <td> NaN</td>\n",
        "      <td> Thailand</td>\n",
        "      <td>       NaN</td>\n",
        "      <td>      NaN</td>\n",
        "      <td>                                  NaN</td>\n",
        "      <td>      NaN</td>\n",
        "      <td>              NaN</td>\n",
        "      <td>                                               NaN</td>\n",
        "      <td>       NaN</td>\n",
        "      <td>        NaN</td>\n",
        "      <td>      NaN</td>\n",
        "      <td>   NaN</td>\n",
        "      <td> NaN</td>\n",
        "    </tr>\n",
        "    <tr>\n",
        "      <th>2014-05-30 02:56:04.776827</th>\n",
        "      <td> {'name': 'Thai PBS News', 'image': 'http://pbs...</td>\n",
        "      <td> #ThaiPBS \u0e1e\u0e25.\u0e15.\u0e2d.\u0e27\u0e31\u0e0a\u0e23\u0e1e\u0e25 \u0e1b\u0e23\u0e30\u0e2a\u0e32\u0e23\u0e23\u0e32\u0e0a\u0e01\u0e34\u0e08 \u0e23\u0e31\u0e01\u0e29\u0e32\u0e23\u0e32\u0e0a\u0e01\u0e32...</td>\n",
        "      <td> # ThaiPBS Gen. Watcharaphon Prasarn works act....</td>\n",
        "      <td> 2014-05-30T02:56:01.522398</td>\n",
        "      <td> [Thailand, Saraburi, Sara Buri]</td>\n",
        "      <td>                                               NaN</td>\n",
        "      <td>                                               NaN</td>\n",
        "      <td> unknown</td>\n",
        "      <td> temporary</td>\n",
        "      <td> 2014-05-30T02:52:32+00:00</td>\n",
        "      <td>   twitter</td>\n",
        "      <td>                                      NaN</td>\n",
        "      <td> NaN</td>\n",
        "      <td> Thailand</td>\n",
        "      <td> Sara Buri</td>\n",
        "      <td> Saraburi</td>\n",
        "      <td> Nong No Saraburi, Saraburi, Thailand</td>\n",
        "      <td>      NaN</td>\n",
        "      <td> Nong No Saraburi</td>\n",
        "      <td> {'authorLocationName': 'Thailand', 'authorTime...</td>\n",
        "      <td> 14.484582</td>\n",
        "      <td> 100.851913</td>\n",
        "      <td>      NaN</td>\n",
        "      <td>   NaN</td>\n",
        "      <td>  th</td>\n",
        "    </tr>\n",
        "    <tr>\n",
        "      <th>2014-05-30 02:56:07.473442</th>\n",
        "      <td> {'name': 'Thai PBS News', 'image': 'http://pbs...</td>\n",
        "      <td> #ThaiPBS \u0e17\u0e32\u0e07\u0e23\u0e16\u0e44\u0e1f\u0e2a\u0e32\u0e22\u0e43\u0e15\u0e49\u0e40\u0e1b\u0e34\u0e14\u0e43\u0e2b\u0e49\u0e1a\u0e23\u0e34\u0e01\u0e32\u0e23\u0e27\u0e31\u0e19\u0e19\u0e35\u0e49 (30 ...</td>\n",
        "      <td> # ThaiPBS Southern Railway opens today (30 May...</td>\n",
        "      <td> 2014-05-30T02:56:01.568801</td>\n",
        "      <td> [Thailand, Saraburi, Sara Buri]</td>\n",
        "      <td>                                               NaN</td>\n",
        "      <td>                                               NaN</td>\n",
        "      <td> unknown</td>\n",
        "      <td> temporary</td>\n",
        "      <td> 2014-05-30T02:52:31+00:00</td>\n",
        "      <td>   twitter</td>\n",
        "      <td>                                      NaN</td>\n",
        "      <td> NaN</td>\n",
        "      <td> Thailand</td>\n",
        "      <td> Sara Buri</td>\n",
        "      <td> Saraburi</td>\n",
        "      <td> Nong No Saraburi, Saraburi, Thailand</td>\n",
        "      <td>      NaN</td>\n",
        "      <td> Nong No Saraburi</td>\n",
        "      <td> {'authorLocationName': 'Thailand', 'authorTime...</td>\n",
        "      <td> 14.484582</td>\n",
        "      <td> 100.851913</td>\n",
        "      <td>      NaN</td>\n",
        "      <td>   NaN</td>\n",
        "      <td>  th</td>\n",
        "    </tr>\n",
        "  </tbody>\n",
        "</table>\n",
        "<p>5 rows \u00d7 25 columns</p>\n",
        "</div>"
       ],
       "metadata": {},
       "output_type": "pyout",
       "prompt_number": 122,
       "text": [
        "                                                                       author  \\\n",
        "updatedAt                                                                       \n",
        "2014-05-29 04:20:17.984107                                                NaN   \n",
        "2014-05-30 02:56:02.892682  {'name': 'Deep Blue Sea', 'image': 'http://pbs...   \n",
        "2014-05-30 03:28:30.288883  {'name': 'Exiled Asia', 'image': 'http://image...   \n",
        "2014-05-30 02:56:04.776827  {'name': 'Thai PBS News', 'image': 'http://pbs...   \n",
        "2014-05-30 02:56:07.473442  {'name': 'Thai PBS News', 'image': 'http://pbs...   \n",
        "\n",
        "                                                                      content  \\\n",
        "updatedAt                                                                       \n",
        "2014-05-29 04:20:17.984107      Mohammed Yehya al-Houndi killed by Shooting.    \n",
        "2014-05-30 02:56:02.892682  \"\u0e2b\u0e19\u0e31\u0e01\u0e41\u0e1c\u0e48\u0e19\u0e14\u0e34\u0e19\" \u0e40\u0e27\u0e2d\u0e23\u0e4c\u0e0a\u0e31\u0e48\u0e19 soft soft 2014\u0e42\u0e14\u0e22\u0e17\u0e2b\u0e32\u0e23\u0e22...   \n",
        "2014-05-30 03:28:30.288883  @ExiledAsia: DJ Brad Sassman Mixes Here http:/...   \n",
        "2014-05-30 02:56:04.776827  #ThaiPBS \u0e1e\u0e25.\u0e15.\u0e2d.\u0e27\u0e31\u0e0a\u0e23\u0e1e\u0e25 \u0e1b\u0e23\u0e30\u0e2a\u0e32\u0e23\u0e23\u0e32\u0e0a\u0e01\u0e34\u0e08 \u0e23\u0e31\u0e01\u0e29\u0e32\u0e23\u0e32\u0e0a\u0e01\u0e32...   \n",
        "2014-05-30 02:56:07.473442  #ThaiPBS \u0e17\u0e32\u0e07\u0e23\u0e16\u0e44\u0e1f\u0e2a\u0e32\u0e22\u0e43\u0e15\u0e49\u0e40\u0e1b\u0e34\u0e14\u0e43\u0e2b\u0e49\u0e1a\u0e23\u0e34\u0e01\u0e32\u0e23\u0e27\u0e31\u0e19\u0e19\u0e35\u0e49 (30 ...   \n",
        "\n",
        "                                                               contentEnglish  \\\n",
        "updatedAt                                                                       \n",
        "2014-05-29 04:20:17.984107                                                NaN   \n",
        "2014-05-30 02:56:02.892682  \"Deadwood\" version, soft soft 2014 new age eas...   \n",
        "2014-05-30 03:28:30.288883                                                NaN   \n",
        "2014-05-30 02:56:04.776827  # ThaiPBS Gen. Watcharaphon Prasarn works act....   \n",
        "2014-05-30 02:56:07.473442  # ThaiPBS Southern Railway opens today (30 May...   \n",
        "\n",
        "                                             createdAt  \\\n",
        "updatedAt                                                \n",
        "2014-05-29 04:20:17.984107  2014-05-29T04:20:17.984096   \n",
        "2014-05-30 02:56:02.892682  2014-05-30T02:56:01.472586   \n",
        "2014-05-30 03:28:30.288883  2014-05-30T03:28:30.288856   \n",
        "2014-05-30 02:56:04.776827  2014-05-30T02:56:01.522398   \n",
        "2014-05-30 02:56:07.473442  2014-05-30T02:56:01.568801   \n",
        "\n",
        "                                                   entities  \\\n",
        "updatedAt                                                     \n",
        "2014-05-29 04:20:17.984107                              NaN   \n",
        "2014-05-30 02:56:02.892682  [Thailand, Saraburi, Sara Buri]   \n",
        "2014-05-30 03:28:30.288883                              NaN   \n",
        "2014-05-30 02:56:04.776827  [Thailand, Saraburi, Sara Buri]   \n",
        "2014-05-30 02:56:07.473442  [Thailand, Saraburi, Sara Buri]   \n",
        "\n",
        "                                                                      fromURL  \\\n",
        "updatedAt                                                                       \n",
        "2014-05-29 04:20:17.984107  http://www.vdc-sy.info/index.php/en/details/ma...   \n",
        "2014-05-30 02:56:02.892682                                                NaN   \n",
        "2014-05-30 03:28:30.288883                 http://instagram.com/p/omtoElJ8m7/   \n",
        "2014-05-30 02:56:04.776827                                                NaN   \n",
        "2014-05-30 02:56:07.473442                                                NaN   \n",
        "\n",
        "                                                                        image  \\\n",
        "updatedAt                                                                       \n",
        "2014-05-29 04:20:17.984107                                                NaN   \n",
        "2014-05-30 02:56:02.892682                                                NaN   \n",
        "2014-05-30 03:28:30.288883  http://scontent-a.cdninstagram.com/hphotos-frc...   \n",
        "2014-05-30 02:56:04.776827                                                NaN   \n",
        "2014-05-30 02:56:07.473442                                                NaN   \n",
        "\n",
        "                            license   lifespan                publishedAt  \\\n",
        "updatedAt                                                                   \n",
        "2014-05-29 04:20:17.984107  unknown  temporary        2014-09-16T00:00:00   \n",
        "2014-05-30 02:56:02.892682  unknown  temporary  2014-05-30T02:52:42+00:00   \n",
        "2014-05-30 03:28:30.288883  unknown  temporary        2014-05-30T02:52:37   \n",
        "2014-05-30 02:56:04.776827  unknown  temporary  2014-05-30T02:52:32+00:00   \n",
        "2014-05-30 02:56:07.473442  unknown  temporary  2014-05-30T02:52:31+00:00   \n",
        "\n",
        "                               source  \\\n",
        "updatedAt                               \n",
        "2014-05-29 04:20:17.984107  vdc_syria   \n",
        "2014-05-30 02:56:02.892682    twitter   \n",
        "2014-05-30 03:28:30.288883  instagram   \n",
        "2014-05-30 02:56:04.776827    twitter   \n",
        "2014-05-30 02:56:07.473442    twitter   \n",
        "\n",
        "                                                             summary video  \\\n",
        "updatedAt                                                                    \n",
        "2014-05-29 04:20:17.984107  Adult - Male Civilian killed by Shooting   NaN   \n",
        "2014-05-30 02:56:02.892682                                       NaN   NaN   \n",
        "2014-05-30 03:28:30.288883                                       NaN   NaN   \n",
        "2014-05-30 02:56:04.776827                                       NaN   NaN   \n",
        "2014-05-30 02:56:07.473442                                       NaN   NaN   \n",
        "\n",
        "                           adminArea1 adminArea3 adminArea5  \\\n",
        "updatedAt                                                     \n",
        "2014-05-29 04:20:17.984107      Syria      Daraa        NaN   \n",
        "2014-05-30 02:56:02.892682   Thailand  Sara Buri   Saraburi   \n",
        "2014-05-30 03:28:30.288883   Thailand        NaN        NaN   \n",
        "2014-05-30 02:56:04.776827   Thailand  Sara Buri   Saraburi   \n",
        "2014-05-30 02:56:07.473442   Thailand  Sara Buri   Saraburi   \n",
        "\n",
        "                                                formattedAddress neighborhood  \\\n",
        "updatedAt                                                                       \n",
        "2014-05-29 04:20:17.984107                                   NaN     Sanamain   \n",
        "2014-05-30 02:56:02.892682  Nong No Saraburi, Saraburi, Thailand          NaN   \n",
        "2014-05-30 03:28:30.288883                                   NaN          NaN   \n",
        "2014-05-30 02:56:04.776827  Nong No Saraburi, Saraburi, Thailand          NaN   \n",
        "2014-05-30 02:56:07.473442  Nong No Saraburi, Saraburi, Thailand          NaN   \n",
        "\n",
        "                               streetAddress  \\\n",
        "updatedAt                                      \n",
        "2014-05-29 04:20:17.984107               NaN   \n",
        "2014-05-30 02:56:02.892682  Nong No Saraburi   \n",
        "2014-05-30 03:28:30.288883               NaN   \n",
        "2014-05-30 02:56:04.776827  Nong No Saraburi   \n",
        "2014-05-30 02:56:07.473442  Nong No Saraburi   \n",
        "\n",
        "                                                          locationIdentifiers  \\\n",
        "updatedAt                                                                       \n",
        "2014-05-29 04:20:17.984107                                                NaN   \n",
        "2014-05-30 02:56:02.892682  {'authorLocationName': 'BKK,Thailand', 'author...   \n",
        "2014-05-30 03:28:30.288883                                                NaN   \n",
        "2014-05-30 02:56:04.776827  {'authorLocationName': 'Thailand', 'authorTime...   \n",
        "2014-05-30 02:56:07.473442  {'authorLocationName': 'Thailand', 'authorTime...   \n",
        "\n",
        "                             latitude   longitude      tag1   tag2 lang  \n",
        "updatedAt                                                                \n",
        "2014-05-29 04:20:17.984107        NaN         NaN  conflict  death  NaN  \n",
        "2014-05-30 02:56:02.892682  14.484582  100.851913  military    NaN   th  \n",
        "2014-05-30 03:28:30.288883        NaN         NaN       NaN    NaN  NaN  \n",
        "2014-05-30 02:56:04.776827  14.484582  100.851913       NaN    NaN   th  \n",
        "2014-05-30 02:56:07.473442  14.484582  100.851913       NaN    NaN   th  \n",
        "\n",
        "[5 rows x 25 columns]"
       ]
      }
     ],
     "prompt_number": 122
    },
    {
     "cell_type": "code",
     "collapsed": false,
     "input": [],
     "language": "python",
     "metadata": {},
     "outputs": [],
     "prompt_number": 122
    }
   ],
   "metadata": {}
  }
 ]
}