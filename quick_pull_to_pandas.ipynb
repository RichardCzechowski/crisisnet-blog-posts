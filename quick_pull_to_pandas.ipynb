{
 "metadata": {
  "name": "",
  "signature": "sha256:1170c2b1ac673492a6e555d6b0e0b010c382b6720ae019492af0fd61f641f24a"
 },
 "nbformat": 3,
 "nbformat_minor": 0,
 "worksheets": [
  {
   "cells": [
    {
     "cell_type": "markdown",
     "metadata": {},
     "source": []
    },
    {
     "cell_type": "code",
     "collapsed": false,
     "input": [
      "import requests\n",
      "import pandas as pd\n",
      "\n",
      "api_key = '532d8dc4ed3329652f114b73'\n",
      "api_url = 'http://api.crisis.net/item/?sources=twitter'\n",
      "headers = {'Authorization': 'Bearer ' + api_key}\n",
      "total = 10000\n",
      "df = pd.DataFrame()\n",
      "\n",
      "def get_data(offset=0, limit=100, df=None):\n",
      "  url = api_url + '&offset=' + str(offset) + '&limit=' + str(limit)\n",
      "  r = requests.get(url, headers=headers)\n",
      "  x = pd.DataFrame(r.json())\n",
      "  x = x['data'].apply(pd.Series)\n",
      "  df = df.append(x, ignore_index=True)\n",
      "\n",
      "  if total > offset + limit:\n",
      "    return get_data(offset + limit, limit, df)\n",
      "    \n",
      "  return df\n",
      "\n",
      "df = get_data(df=df)"
     ],
     "language": "python",
     "metadata": {},
     "outputs": [],
     "prompt_number": 4
    },
    {
     "cell_type": "code",
     "collapsed": false,
     "input": [
      "len(df)"
     ],
     "language": "python",
     "metadata": {},
     "outputs": [
      {
       "metadata": {},
       "output_type": "pyout",
       "prompt_number": 5,
       "text": [
        "100"
       ]
      }
     ],
     "prompt_number": 5
    },
    {
     "cell_type": "code",
     "collapsed": false,
     "input": [
      "df.head()"
     ],
     "language": "python",
     "metadata": {},
     "outputs": [
      {
       "html": [
        "<div style=\"max-height:1000px;max-width:1500px;overflow:auto;\">\n",
        "<table border=\"1\" class=\"dataframe\">\n",
        "  <thead>\n",
        "    <tr style=\"text-align: right;\">\n",
        "      <th></th>\n",
        "    </tr>\n",
        "  </thead>\n",
        "  <tbody>\n",
        "    <tr>\n",
        "      <th>0</th>\n",
        "    </tr>\n",
        "    <tr>\n",
        "      <th>1</th>\n",
        "    </tr>\n",
        "    <tr>\n",
        "      <th>2</th>\n",
        "    </tr>\n",
        "    <tr>\n",
        "      <th>3</th>\n",
        "    </tr>\n",
        "    <tr>\n",
        "      <th>4</th>\n",
        "    </tr>\n",
        "  </tbody>\n",
        "</table>\n",
        "</div>"
       ],
       "metadata": {},
       "output_type": "pyout",
       "prompt_number": 6,
       "text": [
        "Empty DataFrame\n",
        "Columns: []\n",
        "Index: [0, 1, 2, 3, 4]"
       ]
      }
     ],
     "prompt_number": 6
    },
    {
     "cell_type": "code",
     "collapsed": false,
     "input": [],
     "language": "python",
     "metadata": {},
     "outputs": [],
     "prompt_number": 6
    }
   ],
   "metadata": {}
  }
 ]
}