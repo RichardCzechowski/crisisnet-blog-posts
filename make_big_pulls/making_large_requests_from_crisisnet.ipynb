{
 "metadata": {
  "name": "",
  "signature": "sha256:d37f8f8bf6f95481f6a15c34828bcbc88fea7f07fdc8041eacbcf0b8c6124d81"
 },
 "nbformat": 3,
 "nbformat_minor": 0,
 "worksheets": [
  {
   "cells": [
    {
     "cell_type": "code",
     "collapsed": false,
     "input": [
      "# Import modules\n",
      "import pandas as pd\n",
      "import requests\n",
      "import numpy as np\n",
      "\n",
      "# Set ipython's max row display\n",
      "pd.set_option('display.max_row', 1000)"
     ],
     "language": "python",
     "metadata": {},
     "outputs": [],
     "prompt_number": 2
    },
    {
     "cell_type": "code",
     "collapsed": false,
     "input": [
      "# Insert your CrisisNET API key\n",
      "api_key = '532d8dc4ed3329652f114b73'\n",
      "\n",
      "# Insert your CrisisNET request API\n",
      "api_url = 'http://api.crisis.net/item/?sources=vdc_syria'\n",
      "\n",
      "# Create the request header\n",
      "headers = {'Authorization': 'Bearer ' + api_key}\n",
      "\n",
      "# Define how many data points you want\n",
      "total = 10000\n",
      "\n",
      "# Create a dataframe where the request data will go\n",
      "df = pd.DataFrame()"
     ],
     "language": "python",
     "metadata": {},
     "outputs": [],
     "prompt_number": 3
    },
    {
     "cell_type": "code",
     "collapsed": false,
     "input": [
      "# Define a function called get data,\n",
      "def get_data(offset=0, limit=100, df=None):\n",
      "    # create a variable called url, which has the request info,\n",
      "    url = api_url + '&offset=' + str(offset) + '&limit=' + str(limit)\n",
      "    # a variable called r, with the request data,\n",
      "    r = requests.get(url, headers=headers)\n",
      "    # convert the request data into a dataframe,\n",
      "    x = pd.DataFrame(r.json())\n",
      "    # expand the dataframe\n",
      "    x = x['data'].apply(pd.Series)\n",
      "    # add the dataframe's rows to the main dataframe, df, we defined outside the function\n",
      "    df = df.append(x, ignore_index=True)\n",
      "\n",
      "    # then, if the total is larger than the request limit plus offset,\n",
      "    if total > offset + limit:\n",
      "        # run the function another time\n",
      "        return get_data(offset + limit, limit, df)\n",
      "    # but if not, end the function\n",
      "    return df"
     ],
     "language": "python",
     "metadata": {},
     "outputs": []
    },
    {
     "cell_type": "code",
     "collapsed": false,
     "input": [
      "# Run the function\n",
      "df = get_data(df=df)"
     ],
     "language": "python",
     "metadata": {},
     "outputs": []
    },
    {
     "cell_type": "code",
     "collapsed": false,
     "input": [
      "# Check the number of data points retrieved\n",
      "len(df)"
     ],
     "language": "python",
     "metadata": {},
     "outputs": []
    },
    {
     "cell_type": "code",
     "collapsed": false,
     "input": [
      "# Check for duplicate data points\n",
      "df['id'].duplicated().value_counts()"
     ],
     "language": "python",
     "metadata": {},
     "outputs": []
    },
    {
     "cell_type": "code",
     "collapsed": false,
     "input": [
      "# Drop all duplicate data points\n",
      "df = df.dropna(how='all')"
     ],
     "language": "python",
     "metadata": {},
     "outputs": []
    },
    {
     "cell_type": "code",
     "collapsed": false,
     "input": [
      "# View the first 10 data points\n",
      "df.head()"
     ],
     "language": "python",
     "metadata": {},
     "outputs": []
    },
    {
     "cell_type": "code",
     "collapsed": false,
     "input": [
      "# View the first 10 data points\n",
      "df.tail()"
     ],
     "language": "python",
     "metadata": {},
     "outputs": []
    },
    {
     "cell_type": "code",
     "collapsed": false,
     "input": [
      "df.info()"
     ],
     "language": "python",
     "metadata": {},
     "outputs": []
    }
   ],
   "metadata": {}
  }
 ]
}