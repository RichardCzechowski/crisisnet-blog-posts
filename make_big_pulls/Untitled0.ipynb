{
 "metadata": {
  "name": "",
  "signature": "sha256:6e33249043a052fc7582b5154c30c64fc8385a847d9478d14a236820d146aaf4"
 },
 "nbformat": 3,
 "nbformat_minor": 0,
 "worksheets": [
  {
   "cells": [
    {
     "cell_type": "code",
     "collapsed": false,
     "input": [
      "# Request 1\n",
      "url = api_url + '&offset=1000'\n",
      "r = requests.get(url, headers=headers)\n",
      "df_1 = pd.DataFrame(r.json())\n",
      "df_1 = df_1['data'].apply(pd.Series)\n",
      "\n",
      "# Request 2\n",
      "url = api_url + '&offset=1500'\n",
      "r = requests.get(url, headers=headers)\n",
      "df_2 = pd.DataFrame(r.json())\n",
      "df_2 = df_2['data'].apply(pd.Series)\n",
      "\n",
      "# Request 3\n",
      "url = api_url + '&offset=2000'\n",
      "r = requests.get(url, headers=headers)\n",
      "df_3 = pd.DataFrame(r.json())\n",
      "df_3 = df_3['data'].apply(pd.Series)\n",
      "\n",
      "# Request 4\n",
      "url = api_url + '&offset=2500'\n",
      "r = requests.get(url, headers=headers)\n",
      "df_4 = pd.DataFrame(r.json())\n",
      "df_4 = df_4['data'].apply(pd.Series)\n",
      "\n",
      "# Request 5\n",
      "url = api_url + '&offset=3000'\n",
      "r = requests.get(url, headers=headers)\n",
      "df_5 = pd.DataFrame(r.json())\n",
      "df_5 = df_5['data'].apply(pd.Series)\n",
      "\n",
      "# Request 6\n",
      "url = api_url + '&offset=3500'\n",
      "r = requests.get(url, headers=headers)\n",
      "df_6 = pd.DataFrame(r.json())\n",
      "df_6 = df_6['data'].apply(pd.Series)\n",
      "\n",
      "# Request 7\n",
      "url = api_url + '&offset=4000'\n",
      "r = requests.get(url, headers=headers)\n",
      "df_7 = pd.DataFrame(r.json())\n",
      "df_7 = df_7['data'].apply(pd.Series)\n",
      "\n",
      "# Request 8\n",
      "url = api_url + '&offset=4500'\n",
      "r = requests.get(url, headers=headers)\n",
      "df_8 = pd.DataFrame(r.json())\n",
      "df_8 = df_8['data'].apply(pd.Series)\n",
      "\n",
      "# Request 9\n",
      "url = api_url + '&offset=5000'\n",
      "r = requests.get(url, headers=headers)\n",
      "df_9 = pd.DataFrame(r.json())\n",
      "df_9 = df_9['data'].apply(pd.Series)"
     ],
     "language": "python",
     "metadata": {},
     "outputs": []
    }
   ],
   "metadata": {}
  }
 ]
}