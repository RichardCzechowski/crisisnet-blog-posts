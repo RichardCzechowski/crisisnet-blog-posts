{
 "metadata": {
  "name": "",
  "signature": "sha256:d6d5b31bf46f75ad2eedb1b2d4e658131364c4d9275ae57d46b88d5e392c6758"
 },
 "nbformat": 3,
 "nbformat_minor": 0,
 "worksheets": [
  {
   "cells": [
    {
     "cell_type": "code",
     "collapsed": false,
     "input": [
      "# Import modules\n",
      "import pandas as pd\n",
      "import requests\n",
      "import numpy as np\n",
      "\n",
      "# Set ipython's max row display\n",
      "pd.set_option('display.max_row', 1000)\n",
      "\n",
      "# Set iPython's max column width to 50\n",
      "pd.set_option('display.max_columns', 50)"
     ],
     "language": "python",
     "metadata": {},
     "outputs": [],
     "prompt_number": 1
    },
    {
     "cell_type": "code",
     "collapsed": false,
     "input": [
      "# Insert your CrisisNET API key\n",
      "api_key = '532d8dc4ed3329652f114b73'\n",
      "\n",
      "# Insert your CrisisNET request API\n",
      "api_url = 'http://api.crisis.net/item/?placeName=syria&sources=facebook'\n",
      "\n",
      "# Create the request header\n",
      "headers = {'Authorization': 'Bearer ' + api_key}\n",
      "\n",
      "# Define how many data points you want\n",
      "total = 10000\n",
      "\n",
      "# Create a dataframe where the request data will go\n",
      "df = pd.DataFrame()"
     ],
     "language": "python",
     "metadata": {},
     "outputs": [],
     "prompt_number": 2
    },
    {
     "cell_type": "code",
     "collapsed": false,
     "input": [
      "# Define a function called get data,\n",
      "def get_data(offset=0, limit=100, df=None):\n",
      "    # create a variable called url, which has the request info,\n",
      "    url = api_url + '&offset=' + str(offset) + '&limit=' + str(limit)\n",
      "    # a variable called r, with the request data,\n",
      "    r = requests.get(url, headers=headers)\n",
      "    # convert the request data into a dataframe,\n",
      "    x = pd.DataFrame(r.json())\n",
      "    # expand the dataframe\n",
      "    x = x['data'].apply(pd.Series)\n",
      "    # add the dataframe's rows to the main dataframe, df, we defined outside the function\n",
      "    df = df.append(x, ignore_index=True)\n",
      "\n",
      "    # then, if the total is larger than the request limit plus offset,\n",
      "    if total > offset + limit:\n",
      "        # run the function another time\n",
      "        return get_data(offset + limit, limit, df)\n",
      "    # but if not, end the function\n",
      "    return df"
     ],
     "language": "python",
     "metadata": {},
     "outputs": [],
     "prompt_number": 3
    },
    {
     "cell_type": "code",
     "collapsed": false,
     "input": [
      "# Run the function\n",
      "df = get_data(df=df)"
     ],
     "language": "python",
     "metadata": {},
     "outputs": [],
     "prompt_number": 4
    },
    {
     "cell_type": "code",
     "collapsed": false,
     "input": [
      "# Check for duplicate data points\n",
      "df['id'].duplicated().value_counts()\n",
      "\n",
      "# Drop all duplicate data points\n",
      "df = df.dropna(how='all')\n",
      "\n",
      "# Check the number of data points retrieved\n",
      "len(df)"
     ],
     "language": "python",
     "metadata": {},
     "outputs": [
      {
       "metadata": {},
       "output_type": "pyout",
       "prompt_number": 5,
       "text": [
        "10000"
       ]
      }
     ],
     "prompt_number": 5
    },
    {
     "cell_type": "code",
     "collapsed": false,
     "input": [
      "# Define a function that,\n",
      "def flatten_df(df):\n",
      "    df[\"updatedAt\"] = pd.to_datetime(df[\"updatedAt\"])\n",
      "    # sets it as the dataframe's index,\n",
      "    df.index = df['updatedAt']\n",
      "    # expands the df.geo object,\n",
      "    geo_df = df['geo'].apply(pd.Series)\n",
      "    # expands the admin zones,\n",
      "    geo_admin_df = geo_df['addressComponents'].apply(pd.Series)\n",
      "    # merges the admin zones back into the dataframe,\n",
      "    df = pd.concat([df[:], geo_admin_df[:], geo_df[:]], axis=1)\n",
      "    # seperates the lat and long objects,\n",
      "    df['latitude'], df['longitude'] = df['coords'].str[1], df['coords'].str[0]\n",
      "    # expands df.tags,\n",
      "    tags_df = df['tags'].apply(pd.Series)\n",
      "    # defines a function called tag_extractor,\n",
      "    def tag_extractor(x):\n",
      "        # that, if x is a string,\n",
      "        if type(x) is float:\n",
      "            # just returns it untouched\n",
      "            return x\n",
      "        # but, if not, convert x to a dict() and return the value\n",
      "        elif x:\n",
      "            x = dict(x)\n",
      "            return x['name']\n",
      "        # and leave everything else\n",
      "        else:\n",
      "            return\n",
      "    # executes tag_extractor on the tags dataframe,\n",
      "    tags_df = tags_df.applymap(tag_extractor)\n",
      "    # renames all the tag columns,\n",
      "    tags_df = tags_df.rename(columns = lambda x : 'tag_' + str(x))\n",
      "    # merges everything back together,\n",
      "    df = pd.concat([df[:], tags_df[:]], axis=1)\n",
      "    # expands df.language,\n",
      "    lang_df = df['language'].apply(pd.Series)\n",
      "    # takes the language code,\n",
      "    df['lang'] = lang_df['code']\n",
      "    # and finally returns the primary dataframe\n",
      "    return df"
     ],
     "language": "python",
     "metadata": {},
     "outputs": [],
     "prompt_number": 6
    },
    {
     "cell_type": "code",
     "collapsed": false,
     "input": [
      "# Run the function to flatten to dataframe\n",
      "df = flatten_df(df)"
     ],
     "language": "python",
     "metadata": {},
     "outputs": [],
     "prompt_number": 7
    },
    {
     "cell_type": "code",
     "collapsed": false,
     "input": [
      "df_en = df[pd.notnull(df['contentEnglish'])][:]"
     ],
     "language": "python",
     "metadata": {},
     "outputs": [],
     "prompt_number": 8
    },
    {
     "cell_type": "code",
     "collapsed": false,
     "input": [
      "df_en['contentEnglish'] = df_en['contentEnglish'].str.lower()"
     ],
     "language": "python",
     "metadata": {},
     "outputs": [],
     "prompt_number": 9
    },
    {
     "cell_type": "code",
     "collapsed": false,
     "input": [
      "df_en['air_en'] = np.where(df_en['contentEnglish'].str.contains('warplane' or \n",
      "                                                                'warplanes' or \n",
      "                                                                'jet' or \n",
      "                                                                'aircraft' or \n",
      "                                                                'bombing' or \n",
      "                                                                'air raid' or \n",
      "                                                                'bombed' or \n",
      "                                                                'air force' or \n",
      "                                                                'air attack' or \n",
      "                                                                'air forces' or \n",
      "                                                                'aviation' or \n",
      "                                                                'helicopter' or \n",
      "                                                                'helicopters' or \n",
      "                                                                'airstrike' or \n",
      "                                                                'airstrikes' or \n",
      "                                                                'plane' or \n",
      "                                                                'turbofan' or \n",
      "                                                                'barrel' or \n",
      "                                                                'barrels'), '1', '0')\n",
      "df['air_en'].value_counts()"
     ],
     "language": "python",
     "metadata": {},
     "outputs": [
      {
       "ename": "KeyError",
       "evalue": "'no item named air_en'",
       "output_type": "pyerr",
       "traceback": [
        "\u001b[0;31m---------------------------------------------------------------------------\u001b[0m\n\u001b[0;31mKeyError\u001b[0m                                  Traceback (most recent call last)",
        "\u001b[0;32m<ipython-input-10-28cb96f33dd9>\u001b[0m in \u001b[0;36m<module>\u001b[0;34m()\u001b[0m\n\u001b[1;32m     18\u001b[0m                                                                 \u001b[0;34m'barrel'\u001b[0m \u001b[0;32mor\u001b[0m\u001b[0;34m\u001b[0m\u001b[0m\n\u001b[1;32m     19\u001b[0m                                                                 'barrels'), '1', '0')\n\u001b[0;32m---> 20\u001b[0;31m \u001b[0mdf\u001b[0m\u001b[0;34m[\u001b[0m\u001b[0;34m'air_en'\u001b[0m\u001b[0;34m]\u001b[0m\u001b[0;34m.\u001b[0m\u001b[0mvalue_counts\u001b[0m\u001b[0;34m(\u001b[0m\u001b[0;34m)\u001b[0m\u001b[0;34m\u001b[0m\u001b[0m\n\u001b[0m",
        "\u001b[0;32m/Users/chrisralbon/anaconda/envs/py3k/lib/python3.3/site-packages/pandas/core/frame.py\u001b[0m in \u001b[0;36m__getitem__\u001b[0;34m(self, key)\u001b[0m\n\u001b[1;32m   1656\u001b[0m             \u001b[0;32mreturn\u001b[0m \u001b[0mself\u001b[0m\u001b[0;34m.\u001b[0m\u001b[0m_getitem_multilevel\u001b[0m\u001b[0;34m(\u001b[0m\u001b[0mkey\u001b[0m\u001b[0;34m)\u001b[0m\u001b[0;34m\u001b[0m\u001b[0m\n\u001b[1;32m   1657\u001b[0m         \u001b[0;32melse\u001b[0m\u001b[0;34m:\u001b[0m\u001b[0;34m\u001b[0m\u001b[0m\n\u001b[0;32m-> 1658\u001b[0;31m             \u001b[0;32mreturn\u001b[0m \u001b[0mself\u001b[0m\u001b[0;34m.\u001b[0m\u001b[0m_getitem_column\u001b[0m\u001b[0;34m(\u001b[0m\u001b[0mkey\u001b[0m\u001b[0;34m)\u001b[0m\u001b[0;34m\u001b[0m\u001b[0m\n\u001b[0m\u001b[1;32m   1659\u001b[0m \u001b[0;34m\u001b[0m\u001b[0m\n\u001b[1;32m   1660\u001b[0m     \u001b[0;32mdef\u001b[0m \u001b[0m_getitem_column\u001b[0m\u001b[0;34m(\u001b[0m\u001b[0mself\u001b[0m\u001b[0;34m,\u001b[0m \u001b[0mkey\u001b[0m\u001b[0;34m)\u001b[0m\u001b[0;34m:\u001b[0m\u001b[0;34m\u001b[0m\u001b[0m\n",
        "\u001b[0;32m/Users/chrisralbon/anaconda/envs/py3k/lib/python3.3/site-packages/pandas/core/frame.py\u001b[0m in \u001b[0;36m_getitem_column\u001b[0;34m(self, key)\u001b[0m\n\u001b[1;32m   1663\u001b[0m         \u001b[0;31m# get column\u001b[0m\u001b[0;34m\u001b[0m\u001b[0;34m\u001b[0m\u001b[0m\n\u001b[1;32m   1664\u001b[0m         \u001b[0;32mif\u001b[0m \u001b[0mself\u001b[0m\u001b[0;34m.\u001b[0m\u001b[0mcolumns\u001b[0m\u001b[0;34m.\u001b[0m\u001b[0mis_unique\u001b[0m\u001b[0;34m:\u001b[0m\u001b[0;34m\u001b[0m\u001b[0m\n\u001b[0;32m-> 1665\u001b[0;31m             \u001b[0;32mreturn\u001b[0m \u001b[0mself\u001b[0m\u001b[0;34m.\u001b[0m\u001b[0m_get_item_cache\u001b[0m\u001b[0;34m(\u001b[0m\u001b[0mkey\u001b[0m\u001b[0;34m)\u001b[0m\u001b[0;34m\u001b[0m\u001b[0m\n\u001b[0m\u001b[1;32m   1666\u001b[0m \u001b[0;34m\u001b[0m\u001b[0m\n\u001b[1;32m   1667\u001b[0m         \u001b[0;31m# duplicate columns & possible reduce dimensionaility\u001b[0m\u001b[0;34m\u001b[0m\u001b[0;34m\u001b[0m\u001b[0m\n",
        "\u001b[0;32m/Users/chrisralbon/anaconda/envs/py3k/lib/python3.3/site-packages/pandas/core/generic.py\u001b[0m in \u001b[0;36m_get_item_cache\u001b[0;34m(self, item)\u001b[0m\n\u001b[1;32m   1003\u001b[0m         \u001b[0mres\u001b[0m \u001b[0;34m=\u001b[0m \u001b[0mcache\u001b[0m\u001b[0;34m.\u001b[0m\u001b[0mget\u001b[0m\u001b[0;34m(\u001b[0m\u001b[0mitem\u001b[0m\u001b[0;34m)\u001b[0m\u001b[0;34m\u001b[0m\u001b[0m\n\u001b[1;32m   1004\u001b[0m         \u001b[0;32mif\u001b[0m \u001b[0mres\u001b[0m \u001b[0;32mis\u001b[0m \u001b[0;32mNone\u001b[0m\u001b[0;34m:\u001b[0m\u001b[0;34m\u001b[0m\u001b[0m\n\u001b[0;32m-> 1005\u001b[0;31m             \u001b[0mvalues\u001b[0m \u001b[0;34m=\u001b[0m \u001b[0mself\u001b[0m\u001b[0;34m.\u001b[0m\u001b[0m_data\u001b[0m\u001b[0;34m.\u001b[0m\u001b[0mget\u001b[0m\u001b[0;34m(\u001b[0m\u001b[0mitem\u001b[0m\u001b[0;34m)\u001b[0m\u001b[0;34m\u001b[0m\u001b[0m\n\u001b[0m\u001b[1;32m   1006\u001b[0m             \u001b[0mres\u001b[0m \u001b[0;34m=\u001b[0m \u001b[0mself\u001b[0m\u001b[0;34m.\u001b[0m\u001b[0m_box_item_values\u001b[0m\u001b[0;34m(\u001b[0m\u001b[0mitem\u001b[0m\u001b[0;34m,\u001b[0m \u001b[0mvalues\u001b[0m\u001b[0;34m)\u001b[0m\u001b[0;34m\u001b[0m\u001b[0m\n\u001b[1;32m   1007\u001b[0m             \u001b[0mcache\u001b[0m\u001b[0;34m[\u001b[0m\u001b[0mitem\u001b[0m\u001b[0;34m]\u001b[0m \u001b[0;34m=\u001b[0m \u001b[0mres\u001b[0m\u001b[0;34m\u001b[0m\u001b[0m\n",
        "\u001b[0;32m/Users/chrisralbon/anaconda/envs/py3k/lib/python3.3/site-packages/pandas/core/internals.py\u001b[0m in \u001b[0;36mget\u001b[0;34m(self, item)\u001b[0m\n\u001b[1;32m   2871\u001b[0m                 \u001b[0;32mreturn\u001b[0m \u001b[0mself\u001b[0m\u001b[0;34m.\u001b[0m\u001b[0mget_for_nan_indexer\u001b[0m\u001b[0;34m(\u001b[0m\u001b[0mindexer\u001b[0m\u001b[0;34m)\u001b[0m\u001b[0;34m\u001b[0m\u001b[0m\n\u001b[1;32m   2872\u001b[0m \u001b[0;34m\u001b[0m\u001b[0m\n\u001b[0;32m-> 2873\u001b[0;31m             \u001b[0m_\u001b[0m\u001b[0;34m,\u001b[0m \u001b[0mblock\u001b[0m \u001b[0;34m=\u001b[0m \u001b[0mself\u001b[0m\u001b[0;34m.\u001b[0m\u001b[0m_find_block\u001b[0m\u001b[0;34m(\u001b[0m\u001b[0mitem\u001b[0m\u001b[0;34m)\u001b[0m\u001b[0;34m\u001b[0m\u001b[0m\n\u001b[0m\u001b[1;32m   2874\u001b[0m             \u001b[0;32mreturn\u001b[0m \u001b[0mblock\u001b[0m\u001b[0;34m.\u001b[0m\u001b[0mget\u001b[0m\u001b[0;34m(\u001b[0m\u001b[0mitem\u001b[0m\u001b[0;34m)\u001b[0m\u001b[0;34m\u001b[0m\u001b[0m\n\u001b[1;32m   2875\u001b[0m         \u001b[0;32melse\u001b[0m\u001b[0;34m:\u001b[0m\u001b[0;34m\u001b[0m\u001b[0m\n",
        "\u001b[0;32m/Users/chrisralbon/anaconda/envs/py3k/lib/python3.3/site-packages/pandas/core/internals.py\u001b[0m in \u001b[0;36m_find_block\u001b[0;34m(self, item)\u001b[0m\n\u001b[1;32m   3183\u001b[0m \u001b[0;34m\u001b[0m\u001b[0m\n\u001b[1;32m   3184\u001b[0m     \u001b[0;32mdef\u001b[0m \u001b[0m_find_block\u001b[0m\u001b[0;34m(\u001b[0m\u001b[0mself\u001b[0m\u001b[0;34m,\u001b[0m \u001b[0mitem\u001b[0m\u001b[0;34m)\u001b[0m\u001b[0;34m:\u001b[0m\u001b[0;34m\u001b[0m\u001b[0m\n\u001b[0;32m-> 3185\u001b[0;31m         \u001b[0mself\u001b[0m\u001b[0;34m.\u001b[0m\u001b[0m_check_have\u001b[0m\u001b[0;34m(\u001b[0m\u001b[0mitem\u001b[0m\u001b[0;34m)\u001b[0m\u001b[0;34m\u001b[0m\u001b[0m\n\u001b[0m\u001b[1;32m   3186\u001b[0m         \u001b[0;32mfor\u001b[0m \u001b[0mi\u001b[0m\u001b[0;34m,\u001b[0m \u001b[0mblock\u001b[0m \u001b[0;32min\u001b[0m \u001b[0menumerate\u001b[0m\u001b[0;34m(\u001b[0m\u001b[0mself\u001b[0m\u001b[0;34m.\u001b[0m\u001b[0mblocks\u001b[0m\u001b[0;34m)\u001b[0m\u001b[0;34m:\u001b[0m\u001b[0;34m\u001b[0m\u001b[0m\n\u001b[1;32m   3187\u001b[0m             \u001b[0;32mif\u001b[0m \u001b[0mitem\u001b[0m \u001b[0;32min\u001b[0m \u001b[0mblock\u001b[0m\u001b[0;34m:\u001b[0m\u001b[0;34m\u001b[0m\u001b[0m\n",
        "\u001b[0;32m/Users/chrisralbon/anaconda/envs/py3k/lib/python3.3/site-packages/pandas/core/internals.py\u001b[0m in \u001b[0;36m_check_have\u001b[0;34m(self, item)\u001b[0m\n\u001b[1;32m   3190\u001b[0m     \u001b[0;32mdef\u001b[0m \u001b[0m_check_have\u001b[0m\u001b[0;34m(\u001b[0m\u001b[0mself\u001b[0m\u001b[0;34m,\u001b[0m \u001b[0mitem\u001b[0m\u001b[0;34m)\u001b[0m\u001b[0;34m:\u001b[0m\u001b[0;34m\u001b[0m\u001b[0m\n\u001b[1;32m   3191\u001b[0m         \u001b[0;32mif\u001b[0m \u001b[0mitem\u001b[0m \u001b[0;32mnot\u001b[0m \u001b[0;32min\u001b[0m \u001b[0mself\u001b[0m\u001b[0;34m.\u001b[0m\u001b[0mitems\u001b[0m\u001b[0;34m:\u001b[0m\u001b[0;34m\u001b[0m\u001b[0m\n\u001b[0;32m-> 3192\u001b[0;31m             \u001b[0;32mraise\u001b[0m \u001b[0mKeyError\u001b[0m\u001b[0;34m(\u001b[0m\u001b[0;34m'no item named %s'\u001b[0m \u001b[0;34m%\u001b[0m \u001b[0mcom\u001b[0m\u001b[0;34m.\u001b[0m\u001b[0mpprint_thing\u001b[0m\u001b[0;34m(\u001b[0m\u001b[0mitem\u001b[0m\u001b[0;34m)\u001b[0m\u001b[0;34m)\u001b[0m\u001b[0;34m\u001b[0m\u001b[0m\n\u001b[0m\u001b[1;32m   3193\u001b[0m \u001b[0;34m\u001b[0m\u001b[0m\n\u001b[1;32m   3194\u001b[0m     def reindex_axis(self, new_axis, indexer=None, method=None, axis=0,\n",
        "\u001b[0;31mKeyError\u001b[0m: 'no item named air_en'"
       ]
      }
     ],
     "prompt_number": 10
    },
    {
     "cell_type": "code",
     "collapsed": false,
     "input": [
      "df_en['artillery_en'] = np.where(df_en['contentEnglish'].str.contains('artillery' or \n",
      "                                                                      'shells' or \n",
      "                                                                      'bombardment' or \n",
      "                                                                      'shelling' or \n",
      "                                                                      'mortar'), '1', '0')\n",
      "df_en['artillery_en'].value_counts()"
     ],
     "language": "python",
     "metadata": {},
     "outputs": []
    },
    {
     "cell_type": "code",
     "collapsed": false,
     "input": [
      "df_en['infantry_en'] = np.where(df_en['contentEnglish'].str.contains('gunmen' or \n",
      "                                                                     'miliant' or \n",
      "                                                                     'troops' or \n",
      "                                                                     'sniper' or \n",
      "                                                                     'patrol' or\n",
      "                                                                     'shot' or \n",
      "                                                                     'machine gun' or                                                               \n",
      "                                                                     'shooting'), '1', '0')\n",
      "df_en['infantry_en'].value_counts()"
     ],
     "language": "python",
     "metadata": {},
     "outputs": []
    },
    {
     "cell_type": "code",
     "collapsed": false,
     "input": [
      "df_en['armor_en'] = np.where(df_en['contentEnglish'].str.contains('tank' or \n",
      "                                                                 'apc' or \n",
      "                                                                 'armor'), '1', '0')\n",
      "df_en['armor_en'].value_counts()"
     ],
     "language": "python",
     "metadata": {},
     "outputs": []
    },
    {
     "cell_type": "code",
     "collapsed": false,
     "input": [
      "df_en['unconventional_en'] = np.where(df_en['contentEnglish'].str.contains('IED' or \n",
      "                                                                           'suicide' or\n",
      "                                                                           'trapped car' or\n",
      "                                                                           'car bomb'), '1', '0')\n",
      "df_en['unconventional_en'].value_counts()"
     ],
     "language": "python",
     "metadata": {},
     "outputs": []
    },
    {
     "cell_type": "code",
     "collapsed": false,
     "input": [],
     "language": "python",
     "metadata": {},
     "outputs": []
    },
    {
     "cell_type": "code",
     "collapsed": false,
     "input": [],
     "language": "python",
     "metadata": {},
     "outputs": []
    },
    {
     "cell_type": "code",
     "collapsed": false,
     "input": [],
     "language": "python",
     "metadata": {},
     "outputs": []
    }
   ],
   "metadata": {}
  }
 ]
}