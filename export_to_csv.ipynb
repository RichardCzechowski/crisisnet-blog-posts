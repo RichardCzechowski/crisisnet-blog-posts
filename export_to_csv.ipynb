{
 "metadata": {
  "name": "",
  "signature": "sha256:2995a01c280daee56a96df23c3270efc1babb2fc672e6101094cc15e06a2103b"
 },
 "nbformat": 3,
 "nbformat_minor": 0,
 "worksheets": [
  {
   "cells": [
    {
     "cell_type": "markdown",
     "metadata": {},
     "source": [
      "# Export a CrisisNET Request as CSV"
     ]
    },
    {
     "cell_type": "markdown",
     "metadata": {},
     "source": [
      "## Preliminaries"
     ]
    },
    {
     "cell_type": "code",
     "collapsed": false,
     "input": [
      "# Import the required modules\n",
      "import requests as re\n",
      "import pandas as pd"
     ],
     "language": "python",
     "metadata": {},
     "outputs": [],
     "prompt_number": 9
    },
    {
     "cell_type": "markdown",
     "metadata": {},
     "source": [
      "## Make the CrisisNET API request"
     ]
    },
    {
     "cell_type": "code",
     "collapsed": false,
     "input": [
      "# Create a variable with your CrisisNET API key\n",
      "api_key = '532d8dc4ed3329652f114b73'\n",
      "\n",
      "# Setup the request header\n",
      "headers = {'Authorization': 'Bearer ' + api_key}\n",
      "\n",
      "# Setup the request's URL\n",
      "url = 'http://api.crisis.net/item?limit=200&sources=facebook'\n",
      "\n",
      "# Make the API request\n",
      "request_data = re.get(url, headers=headers)"
     ],
     "language": "python",
     "metadata": {},
     "outputs": [],
     "prompt_number": 10
    },
    {
     "cell_type": "markdown",
     "metadata": {},
     "source": [
      "## Create the JSON to CSV function"
     ]
    },
    {
     "cell_type": "code",
     "collapsed": false,
     "input": [
      "# Define a function that,\n",
      "def export_to_csv(r, filename):\n",
      "    # converts the json into a dataframe,\n",
      "    request_df = pd.DataFrame(r.json())\n",
      "    # expands the df.data cell,\n",
      "    df = request_df['data'].apply(pd.Series)\n",
      "    # converts df.updatedAt to a datetime object,\n",
      "    df[\"updatedAt\"] = pd.to_datetime(df[\"updatedAt\"])\n",
      "    # sets it as the dataframe's index,\n",
      "    df.index = df['updatedAt']\n",
      "    # expands the df.geo object,\n",
      "    geo_df = df['geo'].apply(pd.Series)\n",
      "    # expands the admin zones,\n",
      "    geo_admin_df = geo_df['addressComponents'].apply(pd.Series)\n",
      "    # merges the admin zones back into the dataframe,\n",
      "    df = pd.concat([df[:], geo_admin_df[:], geo_df[:]], axis=1)\n",
      "    # seperates the lat and long objects,\n",
      "    df['latitude'], df['longitude'] = df['coords'].str[1], df['coords'].str[0]\n",
      "    # expands df.tags,\n",
      "    tags_df = df['tags'].apply(pd.Series)\n",
      "    # defines a function called tag_extractor,\n",
      "    def tag_extractor(x):\n",
      "        # that, if x is a string,\n",
      "        if type(x) is float:\n",
      "            # just returns it untouched\n",
      "            return x\n",
      "        # but, if not, convert x to a dict() and return the value\n",
      "        elif x:\n",
      "            x = dict(x)\n",
      "            return x['name']\n",
      "        # and leave everything else\n",
      "        else:\n",
      "            return\n",
      "    # executes tag_extractor on the tags dataframe,\n",
      "    tags_df = tags_df.applymap(tag_extractor)\n",
      "    # renames all the tag columns,\n",
      "    tags_df = tags_df.rename(columns = lambda x : 'tag_' + str(x))\n",
      "    # merges everything back together,\n",
      "    df = pd.concat([df[:], tags_df[:]], axis=1)\n",
      "    # expands df.language,\n",
      "    lang_df = df['language'].apply(pd.Series)\n",
      "    # takes the language code,\n",
      "    df['lang'] = lang_df['code']\n",
      "    # and finally returns a csv in unicode encoding (for non-english characters)\n",
      "    return df.to_csv(filename, encoding='utf-8')"
     ],
     "language": "python",
     "metadata": {},
     "outputs": [],
     "prompt_number": 11
    },
    {
     "cell_type": "markdown",
     "metadata": {},
     "source": [
      "## Execute the function on the API request"
     ]
    },
    {
     "cell_type": "code",
     "collapsed": false,
     "input": [
      "# Run the function with two attributes: the input variable and the output csv\n",
      "export_to_csv(request_data, '/Users/chrisralbon/desktop/crisisnet_export.csv')"
     ],
     "language": "python",
     "metadata": {},
     "outputs": [],
     "prompt_number": 12
    }
   ],
   "metadata": {}
  }
 ]
}