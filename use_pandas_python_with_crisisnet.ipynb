{
 "metadata": {
  "name": "",
  "signature": "sha256:900dc6f7f77e2ee0da066008a4a346247f57cc893aaffd62f49ee18ea866dc11"
 },
 "nbformat": 3,
 "nbformat_minor": 0,
 "worksheets": [
  {
   "cells": [
    {
     "cell_type": "markdown",
     "metadata": {},
     "source": [
      "# Use Python and pandas with CrisisNET\n",
      "\n",
      "CrisisNET provides a simple, powerful resource for accessing crisis relevant data. Below is a short introduction to pulling down data from CrisisNET and completing some simple data wrangling tasks using Python's pandas module \u2014 setting you up to start pulling and using data on your own.\n",
      "\n",
      "The example below uses Python 3.3."
     ]
    },
    {
     "cell_type": "markdown",
     "metadata": {},
     "source": [
      "First, we load two modules, requests to make the api pull, and pandas to do the data wrangling."
     ]
    },
    {
     "cell_type": "code",
     "collapsed": false,
     "input": [
      "# import required modules\n",
      "import requests as re\n",
      "import pandas as pd"
     ],
     "language": "python",
     "metadata": {},
     "outputs": [],
     "prompt_number": 1
    },
    {
     "cell_type": "markdown",
     "metadata": {},
     "source": [
      "Second, if I am writing this in iPython Notebook, I'm going to set the maximum number of columns displayed to 30. If you are not using iPython, there is no need to run this."
     ]
    },
    {
     "cell_type": "code",
     "collapsed": false,
     "input": [
      "# Set pandas to display a maximum of 30 columns\n",
      "pd.set_option('display.max_columns', 30)"
     ],
     "language": "python",
     "metadata": {},
     "outputs": [],
     "prompt_number": 2
    },
    {
     "cell_type": "markdown",
     "metadata": {},
     "source": [
      "Next, create a variable with your CrisisNET API key and setup the information you'll need to make the API request. If you don't have one yet, you can get an API key here."
     ]
    },
    {
     "cell_type": "code",
     "collapsed": false,
     "input": [
      "# Create a variable with your CrisisNET API key\n",
      "api_key = '532d8dc4ed3329652f114b73'\n",
      "\n",
      "# Setup the request header\n",
      "headers = {'Authorization': 'Bearer ' + api_key}"
     ],
     "language": "python",
     "metadata": {},
     "outputs": [],
     "prompt_number": 3
    },
    {
     "cell_type": "markdown",
     "metadata": {},
     "source": [
      "We're almost ready to make our API request. The data requests from CrisisNET can be filtered in a wide range of ways, from location to date.\n",
      "\n",
      "In the code below, I've setup a quick and dirty method for setting up a few the the avaliable filters (there are more avaliable). Specifically, I use Python 3's string formatting methods to create the API request URL. As it appears, I am not filtering on anything, however if we wanted to filter to pull, we would only need to add values after the equals sign. For example, to filter by violence we could change 'tags=' to 'tags=violence'."
     ]
    },
    {
     "cell_type": "code",
     "collapsed": false,
     "input": [
      "# Setup the request's URL\n",
      "url = 'http://devapi.crisis.net/item?%(tags)s&%(before)s&%(after)s&%(text)s&%(location)s&%(radius)s&%(limit)s&%(sources)s&%(licenses)s&%(offset)s'\n",
      "\n",
      "# Create a list of filters\n",
      "filters =   {'tags' : 'tags=', # a list of keywords seperated by comma\n",
      "             'after' : 'after=', # a timestamp in ISO 8601 format\n",
      "             'before' : 'before=', # a timestamp in ISO 8601 format\n",
      "             'text' : 'text=', # words seperated by a '+'\n",
      "             'location' : 'location=', # latitude and longitude\n",
      "             'radius' : 'radius=', # a number in meters\n",
      "             'limit' : 'limit=', # the maximum number of records to return\n",
      "             'sources' : 'sources=', # a list of sources\n",
      "             'licenses' : 'licenses=', # the types of licenses\n",
      "             'offset' : 'offset=' # for multiple requests\n",
      "            }\n",
      "\n",
      "# Create the formatted request URL\n",
      "formattedURL = url % filters"
     ],
     "language": "python",
     "metadata": {},
     "outputs": [],
     "prompt_number": 4
    },
    {
     "cell_type": "markdown",
     "metadata": {},
     "source": [
      "With the URL ready, we are ready to pull data down from CrisisNET using the requests module."
     ]
    },
    {
     "cell_type": "code",
     "collapsed": false,
     "input": [
      "# Request data from CrisisNET\n",
      "r = re.get(formattedURL, headers=headers)\n",
      "\n",
      "# Check to make sure the pull was successful\n",
      "# If successful, we will see \"Response 200\"\n",
      "print(r)"
     ],
     "language": "python",
     "metadata": {},
     "outputs": [
      {
       "output_type": "stream",
       "stream": "stdout",
       "text": [
        "<Response [200]>\n"
       ]
      }
     ],
     "prompt_number": 5
    },
    {
     "cell_type": "markdown",
     "metadata": {},
     "source": [
      "Now that we have recieved "
     ]
    },
    {
     "cell_type": "code",
     "collapsed": false,
     "input": [
      "# Create a dataframe from the request's json format\n",
      "request_df = pd.DataFrame(r.json())"
     ],
     "language": "python",
     "metadata": {},
     "outputs": [],
     "prompt_number": 6
    },
    {
     "cell_type": "markdown",
     "metadata": {},
     "source": [
      "### View the first five rows of the request dataframe"
     ]
    },
    {
     "cell_type": "code",
     "collapsed": false,
     "input": [
      "request_df.head(1)"
     ],
     "language": "python",
     "metadata": {},
     "outputs": [
      {
       "html": [
        "<div style=\"max-height:1000px;max-width:1500px;overflow:auto;\">\n",
        "<table border=\"1\" class=\"dataframe\">\n",
        "  <thead>\n",
        "    <tr style=\"text-align: right;\">\n",
        "      <th></th>\n",
        "      <th>data</th>\n",
        "      <th>total</th>\n",
        "    </tr>\n",
        "  </thead>\n",
        "  <tbody>\n",
        "    <tr>\n",
        "      <th>0</th>\n",
        "      <td> {'license': 'unknown', 'summary': 'Adult - Mal...</td>\n",
        "      <td> 699788</td>\n",
        "    </tr>\n",
        "  </tbody>\n",
        "</table>\n",
        "<p>1 rows \u00d7 2 columns</p>\n",
        "</div>"
       ],
       "metadata": {},
       "output_type": "pyout",
       "prompt_number": 7,
       "text": [
        "                                                data   total\n",
        "0  {'license': 'unknown', 'summary': 'Adult - Mal...  699788\n",
        "\n",
        "[1 rows x 2 columns]"
       ]
      }
     ],
     "prompt_number": 7
    },
    {
     "cell_type": "markdown",
     "metadata": {},
     "source": [
      "### Create a dataframe from the request's data"
     ]
    },
    {
     "cell_type": "code",
     "collapsed": false,
     "input": [
      "df = request_df['data'].apply(pd.Series)"
     ],
     "language": "python",
     "metadata": {},
     "outputs": [],
     "prompt_number": 8
    },
    {
     "cell_type": "markdown",
     "metadata": {},
     "source": [
      "### View the first five rows of the dataframe"
     ]
    },
    {
     "cell_type": "code",
     "collapsed": false,
     "input": [
      "df.head(1)"
     ],
     "language": "python",
     "metadata": {},
     "outputs": [
      {
       "html": [
        "<div style=\"max-height:1000px;max-width:1500px;overflow:auto;\">\n",
        "<table border=\"1\" class=\"dataframe\">\n",
        "  <thead>\n",
        "    <tr style=\"text-align: right;\">\n",
        "      <th></th>\n",
        "      <th>author</th>\n",
        "      <th>content</th>\n",
        "      <th>createdAt</th>\n",
        "      <th>fromURL</th>\n",
        "      <th>geo</th>\n",
        "      <th>id</th>\n",
        "      <th>image</th>\n",
        "      <th>license</th>\n",
        "      <th>lifespan</th>\n",
        "      <th>publishedAt</th>\n",
        "      <th>remoteID</th>\n",
        "      <th>source</th>\n",
        "      <th>summary</th>\n",
        "      <th>tags</th>\n",
        "      <th>updatedAt</th>\n",
        "      <th>video</th>\n",
        "    </tr>\n",
        "  </thead>\n",
        "  <tbody>\n",
        "    <tr>\n",
        "      <th>0</th>\n",
        "      <td> NaN</td>\n",
        "      <td> Mohammed Yehya al-Houndi killed by Shooting. </td>\n",
        "      <td> 2014-05-31T04:20:24.962459</td>\n",
        "      <td> http://www.vdc-sy.info/index.php/en/details/ma...</td>\n",
        "      <td> {'addressComponents': {'neighborhood': 'Sanama...</td>\n",
        "      <td> JY3h2j-_RWaGSoBdD6Ey0w</td>\n",
        "      <td> NaN</td>\n",
        "      <td> unknown</td>\n",
        "      <td> temporary</td>\n",
        "      <td> 2014-09-16T00:00:00</td>\n",
        "      <td> 111181</td>\n",
        "      <td> vdc_syria</td>\n",
        "      <td> Adult - Male Civilian killed by Shooting</td>\n",
        "      <td> [{'name': 'conflict', 'confidence': 1}, {'name...</td>\n",
        "      <td> 2014-05-31T04:20:24.962469</td>\n",
        "      <td> NaN</td>\n",
        "    </tr>\n",
        "  </tbody>\n",
        "</table>\n",
        "<p>1 rows \u00d7 16 columns</p>\n",
        "</div>"
       ],
       "metadata": {},
       "output_type": "pyout",
       "prompt_number": 9,
       "text": [
        "  author                                        content  \\\n",
        "0    NaN  Mohammed Yehya al-Houndi killed by Shooting.    \n",
        "\n",
        "                    createdAt  \\\n",
        "0  2014-05-31T04:20:24.962459   \n",
        "\n",
        "                                             fromURL  \\\n",
        "0  http://www.vdc-sy.info/index.php/en/details/ma...   \n",
        "\n",
        "                                                 geo                      id  \\\n",
        "0  {'addressComponents': {'neighborhood': 'Sanama...  JY3h2j-_RWaGSoBdD6Ey0w   \n",
        "\n",
        "  image  license   lifespan          publishedAt remoteID     source  \\\n",
        "0   NaN  unknown  temporary  2014-09-16T00:00:00   111181  vdc_syria   \n",
        "\n",
        "                                    summary  \\\n",
        "0  Adult - Male Civilian killed by Shooting   \n",
        "\n",
        "                                                tags  \\\n",
        "0  [{'name': 'conflict', 'confidence': 1}, {'name...   \n",
        "\n",
        "                    updatedAt video  \n",
        "0  2014-05-31T04:20:24.962469   NaN  \n",
        "\n",
        "[1 rows x 16 columns]"
       ]
      }
     ],
     "prompt_number": 9
    },
    {
     "cell_type": "markdown",
     "metadata": {},
     "source": [
      "### Check the length of the dataframe"
     ]
    },
    {
     "cell_type": "code",
     "collapsed": false,
     "input": [
      "len(df)"
     ],
     "language": "python",
     "metadata": {},
     "outputs": [
      {
       "metadata": {},
       "output_type": "pyout",
       "prompt_number": 10,
       "text": [
        "25"
       ]
      }
     ],
     "prompt_number": 10
    },
    {
     "cell_type": "markdown",
     "metadata": {},
     "source": [
      "### Set the row index of the dataframe to be the time the report was updated"
     ]
    },
    {
     "cell_type": "code",
     "collapsed": false,
     "input": [
      "df[\"updatedAt\"] = pd.to_datetime(df[\"updatedAt\"])\n",
      "df.index = df['updatedAt']"
     ],
     "language": "python",
     "metadata": {},
     "outputs": [],
     "prompt_number": 11
    },
    {
     "cell_type": "markdown",
     "metadata": {},
     "source": [
      "### Expand the geo column into a full dataframe"
     ]
    },
    {
     "cell_type": "code",
     "collapsed": false,
     "input": [
      "geo_df = df['geo'].apply(pd.Series)\n",
      "geo_df.head(1)"
     ],
     "language": "python",
     "metadata": {},
     "outputs": [
      {
       "html": [
        "<div style=\"max-height:1000px;max-width:1500px;overflow:auto;\">\n",
        "<table border=\"1\" class=\"dataframe\">\n",
        "  <thead>\n",
        "    <tr style=\"text-align: right;\">\n",
        "      <th></th>\n",
        "      <th>addressComponents</th>\n",
        "      <th>coords</th>\n",
        "      <th>locationIdentifiers</th>\n",
        "    </tr>\n",
        "    <tr>\n",
        "      <th>updatedAt</th>\n",
        "      <th></th>\n",
        "      <th></th>\n",
        "      <th></th>\n",
        "    </tr>\n",
        "  </thead>\n",
        "  <tbody>\n",
        "    <tr>\n",
        "      <th>2014-05-31 04:20:24.962469</th>\n",
        "      <td> {'neighborhood': 'Sanamain', 'adminArea3': 'Da...</td>\n",
        "      <td> NaN</td>\n",
        "      <td> NaN</td>\n",
        "    </tr>\n",
        "  </tbody>\n",
        "</table>\n",
        "<p>1 rows \u00d7 3 columns</p>\n",
        "</div>"
       ],
       "metadata": {},
       "output_type": "pyout",
       "prompt_number": 12,
       "text": [
        "                                                            addressComponents  \\\n",
        "updatedAt                                                                       \n",
        "2014-05-31 04:20:24.962469  {'neighborhood': 'Sanamain', 'adminArea3': 'Da...   \n",
        "\n",
        "                           coords locationIdentifiers  \n",
        "updatedAt                                              \n",
        "2014-05-31 04:20:24.962469    NaN                 NaN  \n",
        "\n",
        "[1 rows x 3 columns]"
       ]
      }
     ],
     "prompt_number": 12
    },
    {
     "cell_type": "markdown",
     "metadata": {},
     "source": [
      "### Expand the address components column into it's own dataframe"
     ]
    },
    {
     "cell_type": "code",
     "collapsed": false,
     "input": [
      "geo_admin_df = geo_df['addressComponents'].apply(pd.Series)\n",
      "geo_admin_df.head(1)"
     ],
     "language": "python",
     "metadata": {},
     "outputs": [
      {
       "html": [
        "<div style=\"max-height:1000px;max-width:1500px;overflow:auto;\">\n",
        "<table border=\"1\" class=\"dataframe\">\n",
        "  <thead>\n",
        "    <tr style=\"text-align: right;\">\n",
        "      <th></th>\n",
        "      <th>adminArea1</th>\n",
        "      <th>adminArea3</th>\n",
        "      <th>neighborhood</th>\n",
        "    </tr>\n",
        "    <tr>\n",
        "      <th>updatedAt</th>\n",
        "      <th></th>\n",
        "      <th></th>\n",
        "      <th></th>\n",
        "    </tr>\n",
        "  </thead>\n",
        "  <tbody>\n",
        "    <tr>\n",
        "      <th>2014-05-31 04:20:24.962469</th>\n",
        "      <td> Syria</td>\n",
        "      <td> Daraa</td>\n",
        "      <td> Sanamain</td>\n",
        "    </tr>\n",
        "  </tbody>\n",
        "</table>\n",
        "<p>1 rows \u00d7 3 columns</p>\n",
        "</div>"
       ],
       "metadata": {},
       "output_type": "pyout",
       "prompt_number": 13,
       "text": [
        "                           adminArea1 adminArea3 neighborhood\n",
        "updatedAt                                                    \n",
        "2014-05-31 04:20:24.962469      Syria      Daraa     Sanamain\n",
        "\n",
        "[1 rows x 3 columns]"
       ]
      }
     ],
     "prompt_number": 13
    },
    {
     "cell_type": "markdown",
     "metadata": {},
     "source": [
      "### Join the two geo dataframes to the primary dataframe"
     ]
    },
    {
     "cell_type": "code",
     "collapsed": false,
     "input": [
      "df = pd.concat([df[:], geo_admin_df[:], geo_df[:]], axis=1)"
     ],
     "language": "python",
     "metadata": {},
     "outputs": [],
     "prompt_number": 14
    },
    {
     "cell_type": "markdown",
     "metadata": {},
     "source": [
      "### Extract the latitute and longitude coordinates into their own columns"
     ]
    },
    {
     "cell_type": "code",
     "collapsed": false,
     "input": [
      "df['latitude'] = df['coords'].str[1]\n",
      "df['longitude'] = df['coords'].str[0]"
     ],
     "language": "python",
     "metadata": {},
     "outputs": [],
     "prompt_number": 15
    },
    {
     "cell_type": "markdown",
     "metadata": {},
     "source": [
      "### Expand the tags column into its own dataframe"
     ]
    },
    {
     "cell_type": "code",
     "collapsed": false,
     "input": [
      "tags_df = df['tags'].apply(pd.Series)"
     ],
     "language": "python",
     "metadata": {},
     "outputs": [],
     "prompt_number": 16
    },
    {
     "cell_type": "markdown",
     "metadata": {},
     "source": [
      "### Drop everything column after the fourth"
     ]
    },
    {
     "cell_type": "code",
     "collapsed": false,
     "input": [
      "tags_df = tags_df.ix[:, 0:1]"
     ],
     "language": "python",
     "metadata": {},
     "outputs": [],
     "prompt_number": 17
    },
    {
     "cell_type": "markdown",
     "metadata": {},
     "source": [
      "### Add titles to the columns"
     ]
    },
    {
     "cell_type": "code",
     "collapsed": false,
     "input": [
      "tags_df.columns = ['tag1', 'tag2']\n",
      "tags_df.columns"
     ],
     "language": "python",
     "metadata": {},
     "outputs": [
      {
       "metadata": {},
       "output_type": "pyout",
       "prompt_number": 18,
       "text": [
        "Index(['tag1', 'tag2'], dtype='object')"
       ]
      }
     ],
     "prompt_number": 18
    },
    {
     "cell_type": "markdown",
     "metadata": {},
     "source": [
      "### View the first few rows of the tags dataframe"
     ]
    },
    {
     "cell_type": "code",
     "collapsed": false,
     "input": [
      "tags_df.head(1)"
     ],
     "language": "python",
     "metadata": {},
     "outputs": [
      {
       "html": [
        "<div style=\"max-height:1000px;max-width:1500px;overflow:auto;\">\n",
        "<table border=\"1\" class=\"dataframe\">\n",
        "  <thead>\n",
        "    <tr style=\"text-align: right;\">\n",
        "      <th></th>\n",
        "      <th>tag1</th>\n",
        "      <th>tag2</th>\n",
        "    </tr>\n",
        "    <tr>\n",
        "      <th>updatedAt</th>\n",
        "      <th></th>\n",
        "      <th></th>\n",
        "    </tr>\n",
        "  </thead>\n",
        "  <tbody>\n",
        "    <tr>\n",
        "      <th>2014-05-31 04:20:24.962469</th>\n",
        "      <td> {'name': 'conflict', 'confidence': 1}</td>\n",
        "      <td> {'name': 'death', 'confidence': 1}</td>\n",
        "    </tr>\n",
        "  </tbody>\n",
        "</table>\n",
        "<p>1 rows \u00d7 2 columns</p>\n",
        "</div>"
       ],
       "metadata": {},
       "output_type": "pyout",
       "prompt_number": 19,
       "text": [
        "                                                             tag1  \\\n",
        "updatedAt                                                           \n",
        "2014-05-31 04:20:24.962469  {'name': 'conflict', 'confidence': 1}   \n",
        "\n",
        "                                                          tag2  \n",
        "updatedAt                                                       \n",
        "2014-05-31 04:20:24.962469  {'name': 'death', 'confidence': 1}  \n",
        "\n",
        "[1 rows x 2 columns]"
       ]
      }
     ],
     "prompt_number": 19
    },
    {
     "cell_type": "markdown",
     "metadata": {},
     "source": [
      "### Create a tag extractor function that leaves missing observations (which are floats) alone, but converts other values into dicts, then extracts the name value."
     ]
    },
    {
     "cell_type": "code",
     "collapsed": false,
     "input": [
      "# Create a function called tag_extractor,\n",
      "def tag_extractor(x):\n",
      "    # that, if x is a string,\n",
      "    if type(x) is float:\n",
      "        # just returns it untouched\n",
      "        return x\n",
      "    # but, if not,\n",
      "    elif x:\n",
      "        # converts x to a dict(),\n",
      "        x = dict(x)\n",
      "        # and returns the value from the name key\n",
      "        return x['name']\n",
      "    # and leaves everything else\n",
      "    else:\n",
      "        return"
     ],
     "language": "python",
     "metadata": {},
     "outputs": [],
     "prompt_number": 20
    },
    {
     "cell_type": "markdown",
     "metadata": {},
     "source": [
      "### Apply the function to every cell in the dataframe"
     ]
    },
    {
     "cell_type": "code",
     "collapsed": false,
     "input": [
      "tags_df = tags_df.applymap(tag_extractor)"
     ],
     "language": "python",
     "metadata": {},
     "outputs": [],
     "prompt_number": 21
    },
    {
     "cell_type": "markdown",
     "metadata": {},
     "source": [
      "### Join the tags dataframe with the primary dataframe"
     ]
    },
    {
     "cell_type": "code",
     "collapsed": false,
     "input": [
      "df = pd.concat([df[:], tags_df[:]], axis=1)"
     ],
     "language": "python",
     "metadata": {},
     "outputs": [],
     "prompt_number": 22
    },
    {
     "cell_type": "markdown",
     "metadata": {},
     "source": [
      "### Expand the language column into it's own dataframe and return the language code column to the original dataframe"
     ]
    },
    {
     "cell_type": "code",
     "collapsed": false,
     "input": [
      "lang_df = df['language'].apply(pd.Series)\n",
      "df['lang'] = lang_df['code']"
     ],
     "language": "python",
     "metadata": {},
     "outputs": [
      {
       "ename": "KeyError",
       "evalue": "'no item named language'",
       "output_type": "pyerr",
       "traceback": [
        "\u001b[0;31m---------------------------------------------------------------------------\u001b[0m\n\u001b[0;31mKeyError\u001b[0m                                  Traceback (most recent call last)",
        "\u001b[0;32m<ipython-input-23-ca0d62014ed0>\u001b[0m in \u001b[0;36m<module>\u001b[0;34m()\u001b[0m\n\u001b[0;32m----> 1\u001b[0;31m \u001b[0mlang_df\u001b[0m \u001b[0;34m=\u001b[0m \u001b[0mdf\u001b[0m\u001b[0;34m[\u001b[0m\u001b[0;34m'language'\u001b[0m\u001b[0;34m]\u001b[0m\u001b[0;34m.\u001b[0m\u001b[0mapply\u001b[0m\u001b[0;34m(\u001b[0m\u001b[0mpd\u001b[0m\u001b[0;34m.\u001b[0m\u001b[0mSeries\u001b[0m\u001b[0;34m)\u001b[0m\u001b[0;34m\u001b[0m\u001b[0m\n\u001b[0m\u001b[1;32m      2\u001b[0m \u001b[0mdf\u001b[0m\u001b[0;34m[\u001b[0m\u001b[0;34m'lang'\u001b[0m\u001b[0;34m]\u001b[0m \u001b[0;34m=\u001b[0m \u001b[0mlang_df\u001b[0m\u001b[0;34m[\u001b[0m\u001b[0;34m'code'\u001b[0m\u001b[0;34m]\u001b[0m\u001b[0;34m\u001b[0m\u001b[0m\n",
        "\u001b[0;32m/Users/chrisralbon/anaconda/envs/py3k/lib/python3.3/site-packages/pandas/core/frame.py\u001b[0m in \u001b[0;36m__getitem__\u001b[0;34m(self, key)\u001b[0m\n\u001b[1;32m   1656\u001b[0m             \u001b[0;32mreturn\u001b[0m \u001b[0mself\u001b[0m\u001b[0;34m.\u001b[0m\u001b[0m_getitem_multilevel\u001b[0m\u001b[0;34m(\u001b[0m\u001b[0mkey\u001b[0m\u001b[0;34m)\u001b[0m\u001b[0;34m\u001b[0m\u001b[0m\n\u001b[1;32m   1657\u001b[0m         \u001b[0;32melse\u001b[0m\u001b[0;34m:\u001b[0m\u001b[0;34m\u001b[0m\u001b[0m\n\u001b[0;32m-> 1658\u001b[0;31m             \u001b[0;32mreturn\u001b[0m \u001b[0mself\u001b[0m\u001b[0;34m.\u001b[0m\u001b[0m_getitem_column\u001b[0m\u001b[0;34m(\u001b[0m\u001b[0mkey\u001b[0m\u001b[0;34m)\u001b[0m\u001b[0;34m\u001b[0m\u001b[0m\n\u001b[0m\u001b[1;32m   1659\u001b[0m \u001b[0;34m\u001b[0m\u001b[0m\n\u001b[1;32m   1660\u001b[0m     \u001b[0;32mdef\u001b[0m \u001b[0m_getitem_column\u001b[0m\u001b[0;34m(\u001b[0m\u001b[0mself\u001b[0m\u001b[0;34m,\u001b[0m \u001b[0mkey\u001b[0m\u001b[0;34m)\u001b[0m\u001b[0;34m:\u001b[0m\u001b[0;34m\u001b[0m\u001b[0m\n",
        "\u001b[0;32m/Users/chrisralbon/anaconda/envs/py3k/lib/python3.3/site-packages/pandas/core/frame.py\u001b[0m in \u001b[0;36m_getitem_column\u001b[0;34m(self, key)\u001b[0m\n\u001b[1;32m   1663\u001b[0m         \u001b[0;31m# get column\u001b[0m\u001b[0;34m\u001b[0m\u001b[0;34m\u001b[0m\u001b[0m\n\u001b[1;32m   1664\u001b[0m         \u001b[0;32mif\u001b[0m \u001b[0mself\u001b[0m\u001b[0;34m.\u001b[0m\u001b[0mcolumns\u001b[0m\u001b[0;34m.\u001b[0m\u001b[0mis_unique\u001b[0m\u001b[0;34m:\u001b[0m\u001b[0;34m\u001b[0m\u001b[0m\n\u001b[0;32m-> 1665\u001b[0;31m             \u001b[0;32mreturn\u001b[0m \u001b[0mself\u001b[0m\u001b[0;34m.\u001b[0m\u001b[0m_get_item_cache\u001b[0m\u001b[0;34m(\u001b[0m\u001b[0mkey\u001b[0m\u001b[0;34m)\u001b[0m\u001b[0;34m\u001b[0m\u001b[0m\n\u001b[0m\u001b[1;32m   1666\u001b[0m \u001b[0;34m\u001b[0m\u001b[0m\n\u001b[1;32m   1667\u001b[0m         \u001b[0;31m# duplicate columns & possible reduce dimensionaility\u001b[0m\u001b[0;34m\u001b[0m\u001b[0;34m\u001b[0m\u001b[0m\n",
        "\u001b[0;32m/Users/chrisralbon/anaconda/envs/py3k/lib/python3.3/site-packages/pandas/core/generic.py\u001b[0m in \u001b[0;36m_get_item_cache\u001b[0;34m(self, item)\u001b[0m\n\u001b[1;32m   1003\u001b[0m         \u001b[0mres\u001b[0m \u001b[0;34m=\u001b[0m \u001b[0mcache\u001b[0m\u001b[0;34m.\u001b[0m\u001b[0mget\u001b[0m\u001b[0;34m(\u001b[0m\u001b[0mitem\u001b[0m\u001b[0;34m)\u001b[0m\u001b[0;34m\u001b[0m\u001b[0m\n\u001b[1;32m   1004\u001b[0m         \u001b[0;32mif\u001b[0m \u001b[0mres\u001b[0m \u001b[0;32mis\u001b[0m \u001b[0;32mNone\u001b[0m\u001b[0;34m:\u001b[0m\u001b[0;34m\u001b[0m\u001b[0m\n\u001b[0;32m-> 1005\u001b[0;31m             \u001b[0mvalues\u001b[0m \u001b[0;34m=\u001b[0m \u001b[0mself\u001b[0m\u001b[0;34m.\u001b[0m\u001b[0m_data\u001b[0m\u001b[0;34m.\u001b[0m\u001b[0mget\u001b[0m\u001b[0;34m(\u001b[0m\u001b[0mitem\u001b[0m\u001b[0;34m)\u001b[0m\u001b[0;34m\u001b[0m\u001b[0m\n\u001b[0m\u001b[1;32m   1006\u001b[0m             \u001b[0mres\u001b[0m \u001b[0;34m=\u001b[0m \u001b[0mself\u001b[0m\u001b[0;34m.\u001b[0m\u001b[0m_box_item_values\u001b[0m\u001b[0;34m(\u001b[0m\u001b[0mitem\u001b[0m\u001b[0;34m,\u001b[0m \u001b[0mvalues\u001b[0m\u001b[0;34m)\u001b[0m\u001b[0;34m\u001b[0m\u001b[0m\n\u001b[1;32m   1007\u001b[0m             \u001b[0mcache\u001b[0m\u001b[0;34m[\u001b[0m\u001b[0mitem\u001b[0m\u001b[0;34m]\u001b[0m \u001b[0;34m=\u001b[0m \u001b[0mres\u001b[0m\u001b[0;34m\u001b[0m\u001b[0m\n",
        "\u001b[0;32m/Users/chrisralbon/anaconda/envs/py3k/lib/python3.3/site-packages/pandas/core/internals.py\u001b[0m in \u001b[0;36mget\u001b[0;34m(self, item)\u001b[0m\n\u001b[1;32m   2871\u001b[0m                 \u001b[0;32mreturn\u001b[0m \u001b[0mself\u001b[0m\u001b[0;34m.\u001b[0m\u001b[0mget_for_nan_indexer\u001b[0m\u001b[0;34m(\u001b[0m\u001b[0mindexer\u001b[0m\u001b[0;34m)\u001b[0m\u001b[0;34m\u001b[0m\u001b[0m\n\u001b[1;32m   2872\u001b[0m \u001b[0;34m\u001b[0m\u001b[0m\n\u001b[0;32m-> 2873\u001b[0;31m             \u001b[0m_\u001b[0m\u001b[0;34m,\u001b[0m \u001b[0mblock\u001b[0m \u001b[0;34m=\u001b[0m \u001b[0mself\u001b[0m\u001b[0;34m.\u001b[0m\u001b[0m_find_block\u001b[0m\u001b[0;34m(\u001b[0m\u001b[0mitem\u001b[0m\u001b[0;34m)\u001b[0m\u001b[0;34m\u001b[0m\u001b[0m\n\u001b[0m\u001b[1;32m   2874\u001b[0m             \u001b[0;32mreturn\u001b[0m \u001b[0mblock\u001b[0m\u001b[0;34m.\u001b[0m\u001b[0mget\u001b[0m\u001b[0;34m(\u001b[0m\u001b[0mitem\u001b[0m\u001b[0;34m)\u001b[0m\u001b[0;34m\u001b[0m\u001b[0m\n\u001b[1;32m   2875\u001b[0m         \u001b[0;32melse\u001b[0m\u001b[0;34m:\u001b[0m\u001b[0;34m\u001b[0m\u001b[0m\n",
        "\u001b[0;32m/Users/chrisralbon/anaconda/envs/py3k/lib/python3.3/site-packages/pandas/core/internals.py\u001b[0m in \u001b[0;36m_find_block\u001b[0;34m(self, item)\u001b[0m\n\u001b[1;32m   3183\u001b[0m \u001b[0;34m\u001b[0m\u001b[0m\n\u001b[1;32m   3184\u001b[0m     \u001b[0;32mdef\u001b[0m \u001b[0m_find_block\u001b[0m\u001b[0;34m(\u001b[0m\u001b[0mself\u001b[0m\u001b[0;34m,\u001b[0m \u001b[0mitem\u001b[0m\u001b[0;34m)\u001b[0m\u001b[0;34m:\u001b[0m\u001b[0;34m\u001b[0m\u001b[0m\n\u001b[0;32m-> 3185\u001b[0;31m         \u001b[0mself\u001b[0m\u001b[0;34m.\u001b[0m\u001b[0m_check_have\u001b[0m\u001b[0;34m(\u001b[0m\u001b[0mitem\u001b[0m\u001b[0;34m)\u001b[0m\u001b[0;34m\u001b[0m\u001b[0m\n\u001b[0m\u001b[1;32m   3186\u001b[0m         \u001b[0;32mfor\u001b[0m \u001b[0mi\u001b[0m\u001b[0;34m,\u001b[0m \u001b[0mblock\u001b[0m \u001b[0;32min\u001b[0m \u001b[0menumerate\u001b[0m\u001b[0;34m(\u001b[0m\u001b[0mself\u001b[0m\u001b[0;34m.\u001b[0m\u001b[0mblocks\u001b[0m\u001b[0;34m)\u001b[0m\u001b[0;34m:\u001b[0m\u001b[0;34m\u001b[0m\u001b[0m\n\u001b[1;32m   3187\u001b[0m             \u001b[0;32mif\u001b[0m \u001b[0mitem\u001b[0m \u001b[0;32min\u001b[0m \u001b[0mblock\u001b[0m\u001b[0;34m:\u001b[0m\u001b[0;34m\u001b[0m\u001b[0m\n",
        "\u001b[0;32m/Users/chrisralbon/anaconda/envs/py3k/lib/python3.3/site-packages/pandas/core/internals.py\u001b[0m in \u001b[0;36m_check_have\u001b[0;34m(self, item)\u001b[0m\n\u001b[1;32m   3190\u001b[0m     \u001b[0;32mdef\u001b[0m \u001b[0m_check_have\u001b[0m\u001b[0;34m(\u001b[0m\u001b[0mself\u001b[0m\u001b[0;34m,\u001b[0m \u001b[0mitem\u001b[0m\u001b[0;34m)\u001b[0m\u001b[0;34m:\u001b[0m\u001b[0;34m\u001b[0m\u001b[0m\n\u001b[1;32m   3191\u001b[0m         \u001b[0;32mif\u001b[0m \u001b[0mitem\u001b[0m \u001b[0;32mnot\u001b[0m \u001b[0;32min\u001b[0m \u001b[0mself\u001b[0m\u001b[0;34m.\u001b[0m\u001b[0mitems\u001b[0m\u001b[0;34m:\u001b[0m\u001b[0;34m\u001b[0m\u001b[0m\n\u001b[0;32m-> 3192\u001b[0;31m             \u001b[0;32mraise\u001b[0m \u001b[0mKeyError\u001b[0m\u001b[0;34m(\u001b[0m\u001b[0;34m'no item named %s'\u001b[0m \u001b[0;34m%\u001b[0m \u001b[0mcom\u001b[0m\u001b[0;34m.\u001b[0m\u001b[0mpprint_thing\u001b[0m\u001b[0;34m(\u001b[0m\u001b[0mitem\u001b[0m\u001b[0;34m)\u001b[0m\u001b[0;34m)\u001b[0m\u001b[0;34m\u001b[0m\u001b[0m\n\u001b[0m\u001b[1;32m   3193\u001b[0m \u001b[0;34m\u001b[0m\u001b[0m\n\u001b[1;32m   3194\u001b[0m     def reindex_axis(self, new_axis, indexer=None, method=None, axis=0,\n",
        "\u001b[0;31mKeyError\u001b[0m: 'no item named language'"
       ]
      }
     ],
     "prompt_number": 23
    },
    {
     "cell_type": "markdown",
     "metadata": {},
     "source": [
      "### Drop some extra columns to clean up the dataframe"
     ]
    },
    {
     "cell_type": "code",
     "collapsed": false,
     "input": [
      "df = df.drop(['geo', 'updatedAt', 'addressComponents', 'language', 'tags', 'coords', 'id', 'remoteID', ], axis=1)"
     ],
     "language": "python",
     "metadata": {},
     "outputs": []
    },
    {
     "cell_type": "markdown",
     "metadata": {},
     "source": [
      "### View the final dataframe"
     ]
    },
    {
     "cell_type": "code",
     "collapsed": false,
     "input": [
      "df.head()"
     ],
     "language": "python",
     "metadata": {},
     "outputs": [
      {
       "html": [
        "<div style=\"max-height:1000px;max-width:1500px;overflow:auto;\">\n",
        "<table border=\"1\" class=\"dataframe\">\n",
        "  <thead>\n",
        "    <tr style=\"text-align: right;\">\n",
        "      <th></th>\n",
        "      <th>author</th>\n",
        "      <th>content</th>\n",
        "      <th>createdAt</th>\n",
        "      <th>fromURL</th>\n",
        "      <th>geo</th>\n",
        "      <th>id</th>\n",
        "      <th>image</th>\n",
        "      <th>license</th>\n",
        "      <th>lifespan</th>\n",
        "      <th>publishedAt</th>\n",
        "      <th>remoteID</th>\n",
        "      <th>source</th>\n",
        "      <th>summary</th>\n",
        "      <th>tags</th>\n",
        "      <th>updatedAt</th>\n",
        "      <th>video</th>\n",
        "      <th>adminArea1</th>\n",
        "      <th>adminArea3</th>\n",
        "      <th>neighborhood</th>\n",
        "      <th>addressComponents</th>\n",
        "      <th>coords</th>\n",
        "      <th>locationIdentifiers</th>\n",
        "      <th>latitude</th>\n",
        "      <th>longitude</th>\n",
        "      <th>tag1</th>\n",
        "      <th>tag2</th>\n",
        "    </tr>\n",
        "    <tr>\n",
        "      <th>updatedAt</th>\n",
        "      <th></th>\n",
        "      <th></th>\n",
        "      <th></th>\n",
        "      <th></th>\n",
        "      <th></th>\n",
        "      <th></th>\n",
        "      <th></th>\n",
        "      <th></th>\n",
        "      <th></th>\n",
        "      <th></th>\n",
        "      <th></th>\n",
        "      <th></th>\n",
        "      <th></th>\n",
        "      <th></th>\n",
        "      <th></th>\n",
        "      <th></th>\n",
        "      <th></th>\n",
        "      <th></th>\n",
        "      <th></th>\n",
        "      <th></th>\n",
        "      <th></th>\n",
        "      <th></th>\n",
        "      <th></th>\n",
        "      <th></th>\n",
        "      <th></th>\n",
        "      <th></th>\n",
        "    </tr>\n",
        "  </thead>\n",
        "  <tbody>\n",
        "    <tr>\n",
        "      <th>2014-05-31 04:20:24.962469</th>\n",
        "      <td>                                               NaN</td>\n",
        "      <td>     Mohammed Yehya al-Houndi killed by Shooting. </td>\n",
        "      <td> 2014-05-31T04:20:24.962459</td>\n",
        "      <td> http://www.vdc-sy.info/index.php/en/details/ma...</td>\n",
        "      <td> {'addressComponents': {'neighborhood': 'Sanama...</td>\n",
        "      <td> JY3h2j-_RWaGSoBdD6Ey0w</td>\n",
        "      <td>                                               NaN</td>\n",
        "      <td> unknown</td>\n",
        "      <td> temporary</td>\n",
        "      <td>       2014-09-16T00:00:00</td>\n",
        "      <td>                          111181</td>\n",
        "      <td>      vdc_syria</td>\n",
        "      <td> Adult - Male Civilian killed by Shooting</td>\n",
        "      <td> [{'name': 'conflict', 'confidence': 1}, {'name...</td>\n",
        "      <td>2014-05-31 04:20:24.962469</td>\n",
        "      <td> NaN</td>\n",
        "      <td>    Syria</td>\n",
        "      <td> Daraa</td>\n",
        "      <td> Sanamain</td>\n",
        "      <td> {'neighborhood': 'Sanamain', 'adminArea3': 'Da...</td>\n",
        "      <td>                       NaN</td>\n",
        "      <td> NaN</td>\n",
        "      <td>      NaN</td>\n",
        "      <td>        NaN</td>\n",
        "      <td> conflict</td>\n",
        "      <td> death</td>\n",
        "    </tr>\n",
        "    <tr>\n",
        "      <th>2014-05-31 16:09:29.356503</th>\n",
        "      <td> {'name': 'widwod', 'image': 'http://images.ak....</td>\n",
        "      <td> Hey..its quite calm here - at pier no 8, chao ...</td>\n",
        "      <td> 2014-05-31T16:09:29.356485</td>\n",
        "      <td>                http://instagram.com/p/oqsrczrFMP/</td>\n",
        "      <td> {'coords': [106.8871463, -6.1881758], 'address...</td>\n",
        "      <td> azC3oRjORnyofnP7CCQZYg</td>\n",
        "      <td> http://scontent-b.cdninstagram.com/hphotos-xfp...</td>\n",
        "      <td> unknown</td>\n",
        "      <td> temporary</td>\n",
        "      <td>       2014-05-31T16:01:18</td>\n",
        "      <td>    732594389316817679_182782835</td>\n",
        "      <td>      instagram</td>\n",
        "      <td>                                      NaN</td>\n",
        "      <td>                                               NaN</td>\n",
        "      <td>2014-05-31 16:09:29.356503</td>\n",
        "      <td> NaN</td>\n",
        "      <td> Thailand</td>\n",
        "      <td>   NaN</td>\n",
        "      <td>      NaN</td>\n",
        "      <td>                        {'adminArea1': 'Thailand'}</td>\n",
        "      <td> [106.8871463, -6.1881758]</td>\n",
        "      <td> NaN</td>\n",
        "      <td>-6.188176</td>\n",
        "      <td> 106.887146</td>\n",
        "      <td>      NaN</td>\n",
        "      <td>   NaN</td>\n",
        "    </tr>\n",
        "    <tr>\n",
        "      <th>2014-05-31 15:50:50.625893</th>\n",
        "      <td>                                               NaN</td>\n",
        "      <td> \u0627\u0644\u0644\u062c\u0646\u0629 \u0627\u0644\u0642\u0636\u0627\u0626\u064a\u0629 \u0627\u0644\u0639\u0644\u064a\u0627 \u0644\u0644\u0627\u0646\u062a\u062e\u0627\u0628\u0627\u062a \u062a\u062a\u0633\u0644\u0645 \u0645\u0646 \u0646\u0627\u0626...</td>\n",
        "      <td> 2014-05-31T15:50:50.625884</td>\n",
        "      <td> http://facebook.com/511969895510105_7623862371...</td>\n",
        "      <td>    {'addressComponents': {'adminArea1': 'Syria'}}</td>\n",
        "      <td> H1CKbIQIQ4mAv8GEddwocg</td>\n",
        "      <td>                                               NaN</td>\n",
        "      <td> unknown</td>\n",
        "      <td> temporary</td>\n",
        "      <td> 2014-05-31T15:49:29+00:00</td>\n",
        "      <td> 511969895510105_762386237135135</td>\n",
        "      <td> facebook_syria</td>\n",
        "      <td>                                      NaN</td>\n",
        "      <td>                                               NaN</td>\n",
        "      <td>2014-05-31 15:50:50.625893</td>\n",
        "      <td> NaN</td>\n",
        "      <td>    Syria</td>\n",
        "      <td>   NaN</td>\n",
        "      <td>      NaN</td>\n",
        "      <td>                           {'adminArea1': 'Syria'}</td>\n",
        "      <td>                       NaN</td>\n",
        "      <td> NaN</td>\n",
        "      <td>      NaN</td>\n",
        "      <td>        NaN</td>\n",
        "      <td>      NaN</td>\n",
        "      <td>   NaN</td>\n",
        "    </tr>\n",
        "    <tr>\n",
        "      <th>2014-05-31 15:50:50.958834</th>\n",
        "      <td>                                               NaN</td>\n",
        "      <td> \u0627\u0644\u0645\u0642\u062f\u0627\u062f : \u0627\u0644\u0627\u0646\u062a\u062e\u0627\u0628\u0627\u062a \u062a\u0645\u062a \u0641\u064a 43 \u0633\u0641\u0627\u0631\u0629 \u0648\u0646\u0633\u0628\u0629 \u0627\u0644\u0645...</td>\n",
        "      <td> 2014-05-31T15:50:50.958826</td>\n",
        "      <td> http://facebook.com/511969895510105_7623853938...</td>\n",
        "      <td>    {'addressComponents': {'adminArea1': 'Syria'}}</td>\n",
        "      <td> ljPW6p2cT5O4G5sv_B9p5A</td>\n",
        "      <td>                                               NaN</td>\n",
        "      <td> unknown</td>\n",
        "      <td> temporary</td>\n",
        "      <td> 2014-05-31T15:47:55+00:00</td>\n",
        "      <td> 511969895510105_762385393801886</td>\n",
        "      <td> facebook_syria</td>\n",
        "      <td>                                      NaN</td>\n",
        "      <td>                                               NaN</td>\n",
        "      <td>2014-05-31 15:50:50.958834</td>\n",
        "      <td> NaN</td>\n",
        "      <td>    Syria</td>\n",
        "      <td>   NaN</td>\n",
        "      <td>      NaN</td>\n",
        "      <td>                           {'adminArea1': 'Syria'}</td>\n",
        "      <td>                       NaN</td>\n",
        "      <td> NaN</td>\n",
        "      <td>      NaN</td>\n",
        "      <td>        NaN</td>\n",
        "      <td>      NaN</td>\n",
        "      <td>   NaN</td>\n",
        "    </tr>\n",
        "    <tr>\n",
        "      <th>2014-05-31 15:50:20.546435</th>\n",
        "      <td>                                               NaN</td>\n",
        "      <td> \u0646\u0627\u0634\u0637\u0648\u0646 #\u0627\u0644\u0631\u0642\u0629:\\n\\n\u0628\u0639\u062f \u0627\u0646\u0642\u0637\u0627\u0639 \u0644\u0641\u062a\u0631\u0629 \u0637\u0648\u064a\u0644\u0629 \u0648\u0635\u0648\u0644 ...</td>\n",
        "      <td> 2014-05-31T15:50:20.546426</td>\n",
        "      <td>              http://facebook.com/1456141074631917</td>\n",
        "      <td>    {'addressComponents': {'adminArea1': 'Syria'}}</td>\n",
        "      <td> d4KcPff3RnOfAvk16I7Pxg</td>\n",
        "      <td> https://fbcdn-photos-h-a.akamaihd.net/hphotos-...</td>\n",
        "      <td> unknown</td>\n",
        "      <td> temporary</td>\n",
        "      <td> 2014-05-31T15:47:27+00:00</td>\n",
        "      <td>                1456141074631917</td>\n",
        "      <td> facebook_syria</td>\n",
        "      <td>                                      NaN</td>\n",
        "      <td>                                               NaN</td>\n",
        "      <td>2014-05-31 15:50:20.546435</td>\n",
        "      <td> NaN</td>\n",
        "      <td>    Syria</td>\n",
        "      <td>   NaN</td>\n",
        "      <td>      NaN</td>\n",
        "      <td>                           {'adminArea1': 'Syria'}</td>\n",
        "      <td>                       NaN</td>\n",
        "      <td> NaN</td>\n",
        "      <td>      NaN</td>\n",
        "      <td>        NaN</td>\n",
        "      <td>      NaN</td>\n",
        "      <td>   NaN</td>\n",
        "    </tr>\n",
        "  </tbody>\n",
        "</table>\n",
        "<p>5 rows \u00d7 26 columns</p>\n",
        "</div>"
       ],
       "metadata": {},
       "output_type": "pyout",
       "prompt_number": 24,
       "text": [
        "                                                                       author  \\\n",
        "updatedAt                                                                       \n",
        "2014-05-31 04:20:24.962469                                                NaN   \n",
        "2014-05-31 16:09:29.356503  {'name': 'widwod', 'image': 'http://images.ak....   \n",
        "2014-05-31 15:50:50.625893                                                NaN   \n",
        "2014-05-31 15:50:50.958834                                                NaN   \n",
        "2014-05-31 15:50:20.546435                                                NaN   \n",
        "\n",
        "                                                                      content  \\\n",
        "updatedAt                                                                       \n",
        "2014-05-31 04:20:24.962469      Mohammed Yehya al-Houndi killed by Shooting.    \n",
        "2014-05-31 16:09:29.356503  Hey..its quite calm here - at pier no 8, chao ...   \n",
        "2014-05-31 15:50:50.625893  \u0627\u0644\u0644\u062c\u0646\u0629 \u0627\u0644\u0642\u0636\u0627\u0626\u064a\u0629 \u0627\u0644\u0639\u0644\u064a\u0627 \u0644\u0644\u0627\u0646\u062a\u062e\u0627\u0628\u0627\u062a \u062a\u062a\u0633\u0644\u0645 \u0645\u0646 \u0646\u0627\u0626...   \n",
        "2014-05-31 15:50:50.958834  \u0627\u0644\u0645\u0642\u062f\u0627\u062f : \u0627\u0644\u0627\u0646\u062a\u062e\u0627\u0628\u0627\u062a \u062a\u0645\u062a \u0641\u064a 43 \u0633\u0641\u0627\u0631\u0629 \u0648\u0646\u0633\u0628\u0629 \u0627\u0644\u0645...   \n",
        "2014-05-31 15:50:20.546435  \u0646\u0627\u0634\u0637\u0648\u0646 #\u0627\u0644\u0631\u0642\u0629:\\n\\n\u0628\u0639\u062f \u0627\u0646\u0642\u0637\u0627\u0639 \u0644\u0641\u062a\u0631\u0629 \u0637\u0648\u064a\u0644\u0629 \u0648\u0635\u0648\u0644 ...   \n",
        "\n",
        "                                             createdAt  \\\n",
        "updatedAt                                                \n",
        "2014-05-31 04:20:24.962469  2014-05-31T04:20:24.962459   \n",
        "2014-05-31 16:09:29.356503  2014-05-31T16:09:29.356485   \n",
        "2014-05-31 15:50:50.625893  2014-05-31T15:50:50.625884   \n",
        "2014-05-31 15:50:50.958834  2014-05-31T15:50:50.958826   \n",
        "2014-05-31 15:50:20.546435  2014-05-31T15:50:20.546426   \n",
        "\n",
        "                                                                      fromURL  \\\n",
        "updatedAt                                                                       \n",
        "2014-05-31 04:20:24.962469  http://www.vdc-sy.info/index.php/en/details/ma...   \n",
        "2014-05-31 16:09:29.356503                 http://instagram.com/p/oqsrczrFMP/   \n",
        "2014-05-31 15:50:50.625893  http://facebook.com/511969895510105_7623862371...   \n",
        "2014-05-31 15:50:50.958834  http://facebook.com/511969895510105_7623853938...   \n",
        "2014-05-31 15:50:20.546435               http://facebook.com/1456141074631917   \n",
        "\n",
        "                                                                          geo  \\\n",
        "updatedAt                                                                       \n",
        "2014-05-31 04:20:24.962469  {'addressComponents': {'neighborhood': 'Sanama...   \n",
        "2014-05-31 16:09:29.356503  {'coords': [106.8871463, -6.1881758], 'address...   \n",
        "2014-05-31 15:50:50.625893     {'addressComponents': {'adminArea1': 'Syria'}}   \n",
        "2014-05-31 15:50:50.958834     {'addressComponents': {'adminArea1': 'Syria'}}   \n",
        "2014-05-31 15:50:20.546435     {'addressComponents': {'adminArea1': 'Syria'}}   \n",
        "\n",
        "                                                id  \\\n",
        "updatedAt                                            \n",
        "2014-05-31 04:20:24.962469  JY3h2j-_RWaGSoBdD6Ey0w   \n",
        "2014-05-31 16:09:29.356503  azC3oRjORnyofnP7CCQZYg   \n",
        "2014-05-31 15:50:50.625893  H1CKbIQIQ4mAv8GEddwocg   \n",
        "2014-05-31 15:50:50.958834  ljPW6p2cT5O4G5sv_B9p5A   \n",
        "2014-05-31 15:50:20.546435  d4KcPff3RnOfAvk16I7Pxg   \n",
        "\n",
        "                                                                        image  \\\n",
        "updatedAt                                                                       \n",
        "2014-05-31 04:20:24.962469                                                NaN   \n",
        "2014-05-31 16:09:29.356503  http://scontent-b.cdninstagram.com/hphotos-xfp...   \n",
        "2014-05-31 15:50:50.625893                                                NaN   \n",
        "2014-05-31 15:50:50.958834                                                NaN   \n",
        "2014-05-31 15:50:20.546435  https://fbcdn-photos-h-a.akamaihd.net/hphotos-...   \n",
        "\n",
        "                            license   lifespan                publishedAt  \\\n",
        "updatedAt                                                                   \n",
        "2014-05-31 04:20:24.962469  unknown  temporary        2014-09-16T00:00:00   \n",
        "2014-05-31 16:09:29.356503  unknown  temporary        2014-05-31T16:01:18   \n",
        "2014-05-31 15:50:50.625893  unknown  temporary  2014-05-31T15:49:29+00:00   \n",
        "2014-05-31 15:50:50.958834  unknown  temporary  2014-05-31T15:47:55+00:00   \n",
        "2014-05-31 15:50:20.546435  unknown  temporary  2014-05-31T15:47:27+00:00   \n",
        "\n",
        "                                                   remoteID          source  \\\n",
        "updatedAt                                                                     \n",
        "2014-05-31 04:20:24.962469                           111181       vdc_syria   \n",
        "2014-05-31 16:09:29.356503     732594389316817679_182782835       instagram   \n",
        "2014-05-31 15:50:50.625893  511969895510105_762386237135135  facebook_syria   \n",
        "2014-05-31 15:50:50.958834  511969895510105_762385393801886  facebook_syria   \n",
        "2014-05-31 15:50:20.546435                 1456141074631917  facebook_syria   \n",
        "\n",
        "                                                             summary  \\\n",
        "updatedAt                                                              \n",
        "2014-05-31 04:20:24.962469  Adult - Male Civilian killed by Shooting   \n",
        "2014-05-31 16:09:29.356503                                       NaN   \n",
        "2014-05-31 15:50:50.625893                                       NaN   \n",
        "2014-05-31 15:50:50.958834                                       NaN   \n",
        "2014-05-31 15:50:20.546435                                       NaN   \n",
        "\n",
        "                                                                         tags  \\\n",
        "updatedAt                                                                       \n",
        "2014-05-31 04:20:24.962469  [{'name': 'conflict', 'confidence': 1}, {'name...   \n",
        "2014-05-31 16:09:29.356503                                                NaN   \n",
        "2014-05-31 15:50:50.625893                                                NaN   \n",
        "2014-05-31 15:50:50.958834                                                NaN   \n",
        "2014-05-31 15:50:20.546435                                                NaN   \n",
        "\n",
        "                                            updatedAt video adminArea1  \\\n",
        "updatedAt                                                                \n",
        "2014-05-31 04:20:24.962469 2014-05-31 04:20:24.962469   NaN      Syria   \n",
        "2014-05-31 16:09:29.356503 2014-05-31 16:09:29.356503   NaN   Thailand   \n",
        "2014-05-31 15:50:50.625893 2014-05-31 15:50:50.625893   NaN      Syria   \n",
        "2014-05-31 15:50:50.958834 2014-05-31 15:50:50.958834   NaN      Syria   \n",
        "2014-05-31 15:50:20.546435 2014-05-31 15:50:20.546435   NaN      Syria   \n",
        "\n",
        "                           adminArea3 neighborhood  \\\n",
        "updatedAt                                            \n",
        "2014-05-31 04:20:24.962469      Daraa     Sanamain   \n",
        "2014-05-31 16:09:29.356503        NaN          NaN   \n",
        "2014-05-31 15:50:50.625893        NaN          NaN   \n",
        "2014-05-31 15:50:50.958834        NaN          NaN   \n",
        "2014-05-31 15:50:20.546435        NaN          NaN   \n",
        "\n",
        "                                                            addressComponents  \\\n",
        "updatedAt                                                                       \n",
        "2014-05-31 04:20:24.962469  {'neighborhood': 'Sanamain', 'adminArea3': 'Da...   \n",
        "2014-05-31 16:09:29.356503                         {'adminArea1': 'Thailand'}   \n",
        "2014-05-31 15:50:50.625893                            {'adminArea1': 'Syria'}   \n",
        "2014-05-31 15:50:50.958834                            {'adminArea1': 'Syria'}   \n",
        "2014-05-31 15:50:20.546435                            {'adminArea1': 'Syria'}   \n",
        "\n",
        "                                               coords locationIdentifiers  \\\n",
        "updatedAt                                                                   \n",
        "2014-05-31 04:20:24.962469                        NaN                 NaN   \n",
        "2014-05-31 16:09:29.356503  [106.8871463, -6.1881758]                 NaN   \n",
        "2014-05-31 15:50:50.625893                        NaN                 NaN   \n",
        "2014-05-31 15:50:50.958834                        NaN                 NaN   \n",
        "2014-05-31 15:50:20.546435                        NaN                 NaN   \n",
        "\n",
        "                            latitude   longitude      tag1   tag2  \n",
        "updatedAt                                                          \n",
        "2014-05-31 04:20:24.962469       NaN         NaN  conflict  death  \n",
        "2014-05-31 16:09:29.356503 -6.188176  106.887146       NaN    NaN  \n",
        "2014-05-31 15:50:50.625893       NaN         NaN       NaN    NaN  \n",
        "2014-05-31 15:50:50.958834       NaN         NaN       NaN    NaN  \n",
        "2014-05-31 15:50:20.546435       NaN         NaN       NaN    NaN  \n",
        "\n",
        "[5 rows x 26 columns]"
       ]
      }
     ],
     "prompt_number": 24
    },
    {
     "cell_type": "code",
     "collapsed": false,
     "input": [],
     "language": "python",
     "metadata": {},
     "outputs": []
    }
   ],
   "metadata": {}
  }
 ]
}