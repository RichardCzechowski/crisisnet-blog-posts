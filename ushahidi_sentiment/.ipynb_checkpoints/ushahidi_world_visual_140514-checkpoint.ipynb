{
 "metadata": {
  "name": "",
  "signature": "sha256:4691595d7b7903a77629c1be817bc1a60497a00f918fc4089b6f08e9cbb5502c"
 },
 "nbformat": 3,
 "nbformat_minor": 0,
 "worksheets": [
  {
   "cells": [
    {
     "cell_type": "markdown",
     "metadata": {},
     "source": [
      "# Ushahidi Report Sentiment Analysis\n",
      "\n",
      "June 1st 2014\n",
      "\n",
      "This script pulls data from CrisisNET, munges the data, and splits out a csv ready to be used by the sentiment script (which is written in R)."
     ]
    },
    {
     "cell_type": "markdown",
     "metadata": {},
     "source": [
      "### Preliminaries"
     ]
    },
    {
     "cell_type": "code",
     "collapsed": false,
     "input": [
      "# Import required modules\n",
      "import requests\n",
      "import pandas as pd\n",
      "import matplotlib.pyplot as plt\n",
      "\n",
      "# Make iPython Notebook display graphics inside the page itself (as opposed to opening a new window)\n",
      "%matplotlib inline"
     ],
     "language": "python",
     "metadata": {},
     "outputs": [],
     "prompt_number": 1
    },
    {
     "cell_type": "markdown",
     "metadata": {},
     "source": [
      "### Setup the request"
     ]
    },
    {
     "cell_type": "code",
     "collapsed": false,
     "input": [
      "# Create a variable containing your CrisisNET API key\n",
      "api_key = '532d8dc4ed3329652f114b73'\n",
      "\n",
      "# Create a variable with your request filters (i.e. sources=ushahidi)\n",
      "api_url = 'http://api.crisis.net/item/?sources=ushahidi'\n",
      "\n",
      "# Create a variable with the request header\n",
      "headers = {'Authorization': 'Bearer ' + api_key}"
     ],
     "language": "python",
     "metadata": {},
     "outputs": [],
     "prompt_number": 2
    },
    {
     "cell_type": "markdown",
     "metadata": {},
     "source": [
      "### Create a function for pulling multiple API requests"
     ]
    },
    {
     "cell_type": "code",
     "collapsed": false,
     "input": [
      "# Create a function called get_data,\n",
      "def get_data(offset=0, limit=100, df=None):\n",
      "    # creates a request URL,\n",
      "    url = api_url + '&offset=' + str(offset) + '&limit=' + str(limit)\n",
      "    # makes an API request,\n",
      "    r = requests.get(url, headers=headers)\n",
      "    # converts the request's JSON into a pandas dataframe,\n",
      "    x = pd.DataFrame(r.json())\n",
      "    # expands the data field into a dataframe\n",
      "    x = x['data'].apply(pd.Series)\n",
      "    # adds it to the bottom of the dataframe called \"df\"\n",
      "    df = df.append(x, ignore_index=True)\n",
      "\n",
      "    # then, if the API request limit and offset is less than the total requested\n",
      "    if total > offset + limit:\n",
      "        # run the function again\n",
      "        return get_data(offset + limit, limit, df)\n",
      "    \n",
      "    # if not, spit out the dataframe\n",
      "    return df"
     ],
     "language": "python",
     "metadata": {},
     "outputs": [],
     "prompt_number": 8
    },
    {
     "cell_type": "markdown",
     "metadata": {},
     "source": [
      "### Make API requests totaling 5000 observations"
     ]
    },
    {
     "cell_type": "code",
     "collapsed": false,
     "input": [
      "# Set the total number of observations requested to 5000\n",
      "total=5000\n",
      "\n",
      "# Create the dataframe where all the observations\n",
      "df = pd.DataFrame()"
     ],
     "language": "python",
     "metadata": {},
     "outputs": [],
     "prompt_number": 9
    },
    {
     "cell_type": "code",
     "collapsed": false,
     "input": [
      "# Make the API request\n",
      "df = get_data(df=df)"
     ],
     "language": "python",
     "metadata": {},
     "outputs": [],
     "prompt_number": 10
    },
    {
     "cell_type": "markdown",
     "metadata": {},
     "source": [
      "### Check for any duplicates"
     ]
    },
    {
     "cell_type": "code",
     "collapsed": false,
     "input": [
      "# Count the number of duplicated observations\n",
      "df['id'].duplicated().value_counts()"
     ],
     "language": "python",
     "metadata": {},
     "outputs": [
      {
       "metadata": {},
       "output_type": "pyout",
       "prompt_number": 6,
       "text": [
        "False    5000\n",
        "dtype: int64"
       ]
      }
     ],
     "prompt_number": 6
    },
    {
     "cell_type": "markdown",
     "metadata": {},
     "source": [
      "### Drop any rows with no data"
     ]
    },
    {
     "cell_type": "code",
     "collapsed": false,
     "input": [
      "# Drop any rows in the dataframe with no data in them\n",
      "df = df.dropna(how='all')"
     ],
     "language": "python",
     "metadata": {},
     "outputs": [],
     "prompt_number": 20
    },
    {
     "cell_type": "markdown",
     "metadata": {},
     "source": [
      "### Convert the JSON into a flat dataframe"
     ]
    },
    {
     "cell_type": "code",
     "collapsed": false,
     "input": [
      "# Set the row index of the dataframe to be the time the report was updated\n",
      "df[\"updatedAt\"] = pd.to_datetime(df[\"updatedAt\"])\n",
      "df.index = df['updatedAt']\n",
      "\n",
      "# Expand the geo column into a full dataframe\n",
      "geo_df = df['geo'].apply(pd.Series)\n",
      "\n",
      "# Expand the address components column into it's own dataframe\n",
      "geo_admin_df = geo_df['addressComponents'].apply(pd.Series)\n",
      "\n",
      "# Join the two geo dataframes to the primary dataframe\n",
      "df = pd.concat([df[:], geo_admin_df[:], geo_df[:]], axis=1)\n",
      "\n",
      "# Extract the latitute and longitude coordinates into their own columns\n",
      "df['latitude'] = df['coords'].str[1]\n",
      "df['longitude'] = df['coords'].str[0]\n",
      "\n",
      "# Expand the tags column into its own dataframe\n",
      "tags_df = df['tags'].apply(pd.Series)\n",
      "\n",
      "# Drop everything column after the third column\n",
      "tags_df = tags_df.ix[:, 0:2]\n",
      "tags_df.columns = ['tag1', 'tag2', 'tag3']\n",
      "\n",
      "# Extract the tags\n",
      "def tag_extractor(x):\n",
      "    # that, if x is a string,\n",
      "    if type(x) is float:\n",
      "        # just returns it untouched\n",
      "        return x\n",
      "    # but, if not, convert x to a dict() and return the value from the name key\n",
      "    elif x:\n",
      "        x = dict(x)\n",
      "        return x['name']\n",
      "    # and leave everything else\n",
      "    else:\n",
      "        return\n",
      "tags_df = tags_df.applymap(tag_extractor)\n",
      "\n",
      "# Attach the tags to the main dataframe\n",
      "df = pd.concat([df[:], tags_df[:]], axis=1)\n",
      "\n",
      "# Expand the language value:key pair\n",
      "lang_df = df['language'].apply(pd.Series)\n",
      "\n",
      "# Attach the language code as a column\n",
      "df['lang'] = lang_df['code']\n",
      "\n",
      "# print the length and view the first row\n",
      "print(len(df))"
     ],
     "language": "python",
     "metadata": {},
     "outputs": [
      {
       "output_type": "stream",
       "stream": "stdout",
       "text": [
        "5000\n"
       ]
      }
     ],
     "prompt_number": 21
    },
    {
     "cell_type": "markdown",
     "metadata": {},
     "source": [
      "### View the number of missing values for each variable"
     ]
    },
    {
     "cell_type": "code",
     "collapsed": false,
     "input": [
      "# Vizualize missing observations in the dataframe\n",
      "df.apply(lambda x: x.isnull().value_counts()).T.plot(kind='bar', stacked=True)"
     ],
     "language": "python",
     "metadata": {},
     "outputs": [
      {
       "metadata": {},
       "output_type": "pyout",
       "prompt_number": 22,
       "text": [
        "<matplotlib.axes.AxesSubplot at 0x10ca96f10>"
       ]
      },
      {
       "metadata": {},
       "output_type": "display_data",
       "png": "[encoded data removed]",
       "text": [
        "<matplotlib.figure.Figure at 0x107facdd0>"
       ]
      }
     ],
     "prompt_number": 22
    },
    {
     "cell_type": "markdown",
     "metadata": {},
     "source": [
      "### Include only reports in English"
     ]
    },
    {
     "cell_type": "code",
     "collapsed": false,
     "input": [
      "# create df_en, which only includes observations tagged as in English\n",
      "df_en = df[df.lang == 'en']"
     ],
     "language": "python",
     "metadata": {},
     "outputs": [],
     "prompt_number": 23
    },
    {
     "cell_type": "markdown",
     "metadata": {},
     "source": [
      "### Save the results to csv"
     ]
    },
    {
     "cell_type": "code",
     "collapsed": false,
     "input": [
      "# Save all english language reports to a csv file\n",
      "df_en.to_csv('ushahidi_world_tutorial.csv')"
     ],
     "language": "python",
     "metadata": {},
     "outputs": [],
     "prompt_number": 20
    }
   ],
   "metadata": {}
  }
 ]
}