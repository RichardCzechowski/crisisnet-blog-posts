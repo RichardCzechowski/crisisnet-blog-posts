{
 "metadata": {
  "name": "",
  "signature": "sha256:f00cc05efd35da3aac15e6a5795813ab971d5dc1844af1740acc495862f8eab6"
 },
 "nbformat": 3,
 "nbformat_minor": 0,
 "worksheets": [
  {
   "cells": [
    {
     "cell_type": "markdown",
     "metadata": {},
     "source": [
      "# Scrape All Area Pages\n",
      "\n",
      "- By Chris Albon\n",
      "- September 9, 2014"
     ]
    },
    {
     "cell_type": "code",
     "collapsed": false,
     "input": [
      "import pandas as pd\n",
      "from bs4 import BeautifulSoup\n",
      "import requests\n",
      "import re\n",
      "import numpy as np\n",
      "import os\n",
      "\n",
      "cur_dir = os.path.dirname(os.path.realpath('__file__'))"
     ],
     "language": "python",
     "metadata": {},
     "outputs": [],
     "prompt_number": 10
    },
    {
     "cell_type": "code",
     "collapsed": false,
     "input": [
      "df_links = pd.read_csv(cur_dir + '/data/area_list.csv')"
     ],
     "language": "python",
     "metadata": {},
     "outputs": [],
     "prompt_number": 11
    },
    {
     "cell_type": "code",
     "collapsed": false,
     "input": [
      "title = []\n",
      "geo = []\n",
      "area = []\n",
      "crag = []\n",
      "wall = []\n",
      "comments_name = []\n",
      "comments_text = []\n",
      "comments_from = []\n",
      "comments_date = []"
     ],
     "language": "python",
     "metadata": {},
     "outputs": [],
     "prompt_number": 12
    },
    {
     "cell_type": "code",
     "collapsed": false,
     "input": [
      "for link in df_links['area_url']:\n",
      "    \n",
      "    r = requests.get(link)\n",
      "    soup = BeautifulSoup(r.content)\n",
      "        \n",
      "    try:\n",
      "        title.append(soup.find('h1').string)\n",
      "        \n",
      "        geo_cell = soup.find(text='View Map')\n",
      "        if geo_cell is not None:\n",
      "            geo.append(geo_cell.findParent().findParent().contents[0].string[:-1])\n",
      "        else:\n",
      "            geo.append(np.NaN)\n",
      "        \n",
      "        i = 0\n",
      "        if len(soup.findAll('table', id=re.compile('^cm_'))) > 0:\n",
      "            names = []\n",
      "            text = []\n",
      "            for comment in soup.findAll('table', id=re.compile('^cm_')):\n",
      "                columns = comment.find_all('td')\n",
      "                names.append(columns[0].find('a').text) \n",
      "                text.append(columns[1].text)\n",
      "                i=i+1\n",
      "                continue\n",
      "        else:\n",
      "            comments_name.append(np.NaN) \n",
      "            comments_text.append(np.NaN)\n",
      "            i=i+1\n",
      "            continue\n",
      "            \n",
      "        comments_name.append(str(names))\n",
      "        comments_text.append(str(text)) \n",
      "\n",
      "    except:\n",
      "        comments_name.append(str(names))\n",
      "        comments_text.append(str(text))\n",
      "        continue"
     ],
     "language": "python",
     "metadata": {},
     "outputs": [],
     "prompt_number": 13
    },
    {
     "cell_type": "code",
     "collapsed": false,
     "input": [
      "len(title)"
     ],
     "language": "python",
     "metadata": {},
     "outputs": [
      {
       "metadata": {},
       "output_type": "pyout",
       "prompt_number": 14,
       "text": [
        "566"
       ]
      }
     ],
     "prompt_number": 14
    },
    {
     "cell_type": "code",
     "collapsed": false,
     "input": [
      "df = pd.DataFrame()\n",
      "\n",
      "df['title'] = title\n",
      "df['url'] = df_links['area_url']\n",
      "df['geo'] = geo\n",
      "df['comments_name'] = comments_name\n",
      "df['comments_text'] = comments_text\n",
      "df['comments_date'] = comments_date\n",
      "df['comments_from'] = comments_from"
     ],
     "language": "python",
     "metadata": {},
     "outputs": [],
     "prompt_number": 18
    },
    {
     "cell_type": "code",
     "collapsed": false,
     "input": [
      "df.head()"
     ],
     "language": "python",
     "metadata": {},
     "outputs": [
      {
       "html": [
        "<div style=\"max-height:1000px;max-width:1500px;overflow:auto;\">\n",
        "<table border=\"1\" class=\"dataframe\">\n",
        "  <thead>\n",
        "    <tr style=\"text-align: right;\">\n",
        "      <th></th>\n",
        "      <th>title</th>\n",
        "      <th>url</th>\n",
        "      <th>geo</th>\n",
        "      <th>comments_name</th>\n",
        "      <th>comments_text</th>\n",
        "    </tr>\n",
        "  </thead>\n",
        "  <tbody>\n",
        "    <tr>\n",
        "      <th>0</th>\n",
        "      <td>     Boulder Canyon \u00a0</td>\n",
        "      <td> http://www.mountainproject.com/v/boulder-canyo...</td>\n",
        "      <td> 40.0024, -105.4102</td>\n",
        "      <td>                                               NaN</td>\n",
        "      <td>                                               NaN</td>\n",
        "    </tr>\n",
        "    <tr>\n",
        "      <th>1</th>\n",
        "      <td>          CU Campus \u00a0</td>\n",
        "      <td> http://www.mountainproject.com/v/cu-campus/105...</td>\n",
        "      <td>  40.0068, -105.266</td>\n",
        "      <td> ['Brian Sorden', 'Anonymous Coward', 'Anonymou...</td>\n",
        "      <td> [\"\\nEverybody knows about the slated builderin...</td>\n",
        "    </tr>\n",
        "    <tr>\n",
        "      <th>2</th>\n",
        "      <td> Eldorado Canyon SP \u00a0</td>\n",
        "      <td> http://www.mountainproject.com/v/eldorado-cany...</td>\n",
        "      <td> 39.9318, -105.2813</td>\n",
        "      <td>                                               NaN</td>\n",
        "      <td>                                               NaN</td>\n",
        "    </tr>\n",
        "    <tr>\n",
        "      <th>3</th>\n",
        "      <td>  Eldorado Mountain \u00a0</td>\n",
        "      <td> http://www.mountainproject.com/v/eldorado-moun...</td>\n",
        "      <td>  39.9204, -105.288</td>\n",
        "      <td> ['Dave Brower', 'Tod Anderson', 'Anonymous Cow...</td>\n",
        "      <td> ['\\nThe local wingnut with the gun (Bill Schul...</td>\n",
        "    </tr>\n",
        "    <tr>\n",
        "      <th>4</th>\n",
        "      <td>          Flagstaff \u00a0</td>\n",
        "      <td> http://www.mountainproject.com/v/flagstaff/105...</td>\n",
        "      <td>  40.0014, -105.296</td>\n",
        "      <td> ['JAKE HURST', 'Dave McAllister', 'JVonD', 'Ha...</td>\n",
        "      <td> ['\\nFlagstaff is an awesome place to take begi...</td>\n",
        "    </tr>\n",
        "  </tbody>\n",
        "</table>\n",
        "</div>"
       ],
       "metadata": {},
       "output_type": "pyout",
       "prompt_number": 19,
       "text": [
        "                  title                                                url  \\\n",
        "0      Boulder Canyon \u00a0  http://www.mountainproject.com/v/boulder-canyo...   \n",
        "1           CU Campus \u00a0  http://www.mountainproject.com/v/cu-campus/105...   \n",
        "2  Eldorado Canyon SP \u00a0  http://www.mountainproject.com/v/eldorado-cany...   \n",
        "3   Eldorado Mountain \u00a0  http://www.mountainproject.com/v/eldorado-moun...   \n",
        "4           Flagstaff \u00a0  http://www.mountainproject.com/v/flagstaff/105...   \n",
        "\n",
        "                  geo                                      comments_name  \\\n",
        "0  40.0024, -105.4102                                                NaN   \n",
        "1   40.0068, -105.266  ['Brian Sorden', 'Anonymous Coward', 'Anonymou...   \n",
        "2  39.9318, -105.2813                                                NaN   \n",
        "3   39.9204, -105.288  ['Dave Brower', 'Tod Anderson', 'Anonymous Cow...   \n",
        "4   40.0014, -105.296  ['JAKE HURST', 'Dave McAllister', 'JVonD', 'Ha...   \n",
        "\n",
        "                                       comments_text  \n",
        "0                                                NaN  \n",
        "1  [\"\\nEverybody knows about the slated builderin...  \n",
        "2                                                NaN  \n",
        "3  ['\\nThe local wingnut with the gun (Bill Schul...  \n",
        "4  ['\\nFlagstaff is an awesome place to take begi...  "
       ]
      }
     ],
     "prompt_number": 19
    },
    {
     "cell_type": "code",
     "collapsed": false,
     "input": [
      "#df.to_csv(cur_dir + '/data/area_data.csv')"
     ],
     "language": "python",
     "metadata": {},
     "outputs": [],
     "prompt_number": 20
    },
    {
     "cell_type": "code",
     "collapsed": false,
     "input": [
      "r = requests.get('http://www.mountainproject.com/v/blob-rock/105744617')\n",
      "soup = BeautifulSoup(r.content)"
     ],
     "language": "python",
     "metadata": {},
     "outputs": [],
     "prompt_number": 48
    },
    {
     "cell_type": "code",
     "collapsed": false,
     "input": [
      "comment = soup.findAll('table', id=re.compile('^cm_'))"
     ],
     "language": "python",
     "metadata": {},
     "outputs": [],
     "prompt_number": 72
    },
    {
     "cell_type": "code",
     "collapsed": false,
     "input": [
      "columns = comment[1].find_all('td')\n",
      "columns"
     ],
     "language": "python",
     "metadata": {},
     "outputs": [
      {
       "metadata": {},
       "output_type": "pyout",
       "prompt_number": 79,
       "text": [
        "[<td style=\"width:140px; padding:6px;\" valign=\"top\">\n",
        "         By <span class=\"bold\"> <a href=\"/u/stefan-griebel//11029\">Stefan Griebel</a></span><br/><small>Feb 4, 2003</small><br/>\n",
        " </td>, <td style=\"padding:6px;\" valign=\"top\">\n",
        " <!--MPTEXT-->What's the deal with all the raptor nesting closures?!  Seems like every year they close a new area, this year it's Blob Rock.  Pretty soon it will be all of Boulder Canyon, then all of Eldo, and so on until climbing is not allowed anywhere in Colorado between February 1st and August 1st!<!--MPTEXTEND-->\n",
        " <div></div>\n",
        " </td>]"
       ]
      }
     ],
     "prompt_number": 79
    },
    {
     "cell_type": "code",
     "collapsed": false,
     "input": [
      "columns[1].text"
     ],
     "language": "python",
     "metadata": {},
     "outputs": [
      {
       "metadata": {},
       "output_type": "pyout",
       "prompt_number": 80,
       "text": [
        "\"\\nWhat's the deal with all the raptor nesting closures?!  Seems like every year they close a new area, this year it's Blob Rock.  Pretty soon it will be all of Boulder Canyon, then all of Eldo, and so on until climbing is not allowed anywhere in Colorado between February 1st and August 1st!\\n\\n\""
       ]
      }
     ],
     "prompt_number": 80
    },
    {
     "cell_type": "code",
     "collapsed": false,
     "input": [
      "columns[0].find('br').nextSibling"
     ],
     "language": "python",
     "metadata": {},
     "outputs": [
      {
       "metadata": {},
       "output_type": "pyout",
       "prompt_number": 81,
       "text": [
        "<small>Feb 4, 2003</small>"
       ]
      }
     ],
     "prompt_number": 81
    },
    {
     "cell_type": "code",
     "collapsed": false,
     "input": [
      "columns[0].find('a').nextSibling"
     ],
     "language": "python",
     "metadata": {},
     "outputs": [],
     "prompt_number": 82
    },
    {
     "cell_type": "code",
     "collapsed": false,
     "input": [
      "len(columns[0].findAll('br'))"
     ],
     "language": "python",
     "metadata": {},
     "outputs": [
      {
       "metadata": {},
       "output_type": "pyout",
       "prompt_number": 83,
       "text": [
        "2"
       ]
      }
     ],
     "prompt_number": 83
    },
    {
     "cell_type": "code",
     "collapsed": false,
     "input": [],
     "language": "python",
     "metadata": {},
     "outputs": []
    }
   ],
   "metadata": {}
  }
 ]
}