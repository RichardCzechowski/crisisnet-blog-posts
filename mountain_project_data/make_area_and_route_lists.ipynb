{
 "metadata": {
  "name": "",
  "signature": "sha256:385941d1f3550b13905fb476a43ee9ac7164e8e204a8757ffdbc6d9e9ae78575"
 },
 "nbformat": 3,
 "nbformat_minor": 0,
 "worksheets": [
  {
   "cells": [
    {
     "cell_type": "markdown",
     "metadata": {},
     "source": [
      "# Make Lists Of Areas And Routes With URLS\n",
      "\n",
      "- By Chris Albon\n",
      "- August 9, 2014\n",
      "- Description: This is a script to create two CSVs, one with the urls for all area pages, and one with the URL of all route pages."
     ]
    },
    {
     "cell_type": "markdown",
     "metadata": {},
     "source": [
      "## Preliminaries"
     ]
    },
    {
     "cell_type": "code",
     "collapsed": false,
     "input": [
      "# Import required modules\n",
      "import requests\n",
      "from bs4 import BeautifulSoup\n",
      "import pandas as pd"
     ],
     "language": "python",
     "metadata": {},
     "outputs": [],
     "prompt_number": 1
    },
    {
     "cell_type": "markdown",
     "metadata": {},
     "source": [
      "## Get the basic soup"
     ]
    },
    {
     "cell_type": "code",
     "collapsed": false,
     "input": [
      "# Create a variable with the URL to this tutorial\n",
      "\n",
      "base_url = 'http://www.mountainproject.com'\n",
      "\n",
      "url = 'http://www.mountainproject.com/v/boulder/105801420'\n",
      "\n",
      "# Scrape the HTML at the url\n",
      "r = requests.get(url)\n",
      "\n",
      "# Turn the HTML into a Beautiful Soup object\n",
      "soup = BeautifulSoup(r.content)"
     ],
     "language": "python",
     "metadata": {},
     "outputs": [],
     "prompt_number": 2
    },
    {
     "cell_type": "markdown",
     "metadata": {},
     "source": [
      "## Scrape the menu for links"
     ]
    },
    {
     "cell_type": "code",
     "collapsed": false,
     "input": [
      "area_menu = soup.find(text='Select Area...')"
     ],
     "language": "python",
     "metadata": {},
     "outputs": [],
     "prompt_number": 3
    },
    {
     "cell_type": "code",
     "collapsed": false,
     "input": [
      "area_menu_items_links = []\n",
      "area_menu_items_text = []"
     ],
     "language": "python",
     "metadata": {},
     "outputs": [],
     "prompt_number": 4
    },
    {
     "cell_type": "code",
     "collapsed": false,
     "input": [
      "area_menu_links_all = area_menu.findAllNext('a')"
     ],
     "language": "python",
     "metadata": {},
     "outputs": [],
     "prompt_number": 5
    },
    {
     "cell_type": "code",
     "collapsed": false,
     "input": [
      "for links in area_menu_links_all:\n",
      "    if 'scripts' not in str(links):\n",
      "        area_menu_items_links.append(base_url + links.get('href'))\n",
      "        area_menu_items_text.append(links.string)\n",
      "    else:\n",
      "        break"
     ],
     "language": "python",
     "metadata": {},
     "outputs": [],
     "prompt_number": 6
    },
    {
     "cell_type": "code",
     "collapsed": false,
     "input": [
      "area_menu_items_links"
     ],
     "language": "python",
     "metadata": {},
     "outputs": [
      {
       "metadata": {},
       "output_type": "pyout",
       "prompt_number": 7,
       "text": [
        "['http://www.mountainproject.com/v/boulder-canyon/105744222',\n",
        " 'http://www.mountainproject.com/v/cu-campus/105744240',\n",
        " 'http://www.mountainproject.com/v/eldorado-canyon-sp/105744246',\n",
        " 'http://www.mountainproject.com/v/eldorado-mountain/105744255',\n",
        " 'http://www.mountainproject.com/v/flagstaff/105744225',\n",
        " 'http://www.mountainproject.com/v/flatirons/105797700',\n",
        " 'http://www.mountainproject.com/v/mount-sanitas/105744361',\n",
        " 'http://www.mountainproject.com/v/old-mapleton-elementary-school/107303973',\n",
        " 'http://www.mountainproject.com/v/upper-dream-canyon/105744234']"
       ]
      }
     ],
     "prompt_number": 7
    },
    {
     "cell_type": "code",
     "collapsed": false,
     "input": [
      "area_menu_items_text "
     ],
     "language": "python",
     "metadata": {},
     "outputs": [
      {
       "metadata": {},
       "output_type": "pyout",
       "prompt_number": 8,
       "text": [
        "['Boulder Canyon',\n",
        " 'CU Campus',\n",
        " 'Eldorado Canyon SP',\n",
        " 'Eldorado Mountain',\n",
        " 'Flagstaff',\n",
        " 'Flatirons',\n",
        " 'Mount Sanitas',\n",
        " 'Old Mapleton Elementary School',\n",
        " 'Upper Dream Canyon']"
       ]
      }
     ],
     "prompt_number": 8
    },
    {
     "cell_type": "code",
     "collapsed": false,
     "input": [
      "for link in area_menu_items_links:\n",
      "    \n",
      "    r_2 = requests.get(link)\n",
      "    soup_2 = BeautifulSoup(r_2.content)\n",
      "        \n",
      "    try:\n",
      "        area_menu_2 = soup_2.find(text='Select Area...')\n",
      "        area_menu_links_all_2 = area_menu_2.findAllNext('a')\n",
      "\n",
      "        for links in area_menu_links_all_2:\n",
      "            if 'scripts' not in str(links):\n",
      "                area_menu_items_links.append(base_url + links.get('href'))\n",
      "                area_menu_items_text.append(links.string)\n",
      "            else:\n",
      "                break\n",
      "    except:\n",
      "        continue"
     ],
     "language": "python",
     "metadata": {},
     "outputs": [
      {
       "output_type": "stream",
       "stream": "stdout",
       "text": [
        "http://www.mountainproject.com/v/boulder-canyon/105744222 /v/above-tower-of-babel/105861997\n",
        "http://www.mountainproject.com/v/boulder-canyon/105744222 /v/across-from-cenotaph/105862845\n",
        "http://www.mountainproject.com/v/boulder-canyon/105744222 /v/across-from-mind-shaft-cliff-crag/105861965\n",
        "http://www.mountainproject.com/v/boulder-canyon/105744222 /v/across-from-the-bihedral-aka-cascade-crag/105746307\n",
        "http://www.mountainproject.com/v/boulder-canyon/105744222 /v/aments-rock/105746686\n",
        "http://www.mountainproject.com/v/boulder-canyon/105744222 /v/the-angel-of-death-formerly-known-as-the-beer-can/105746077\n",
        "http://www.mountainproject.com/v/boulder-canyon/105744222 /v/animal-world/105744917\n",
        "http://www.mountainproject.com/v/boulder-canyon/105744222 /v/the-arena-aka-contender-wall/105745747\n",
        "http://www.mountainproject.com/v/boulder-canyon/105744222 /v/armins-crag/106056543\n",
        "http://www.mountainproject.com/v/boulder-canyon/105744222 /v/avalon/105745528\n",
        "http://www.mountainproject.com/v/boulder-canyon/105744222 /v/bell-buttress-massif/105864848\n",
        "http://www.mountainproject.com/v/boulder-canyon/105744222 /v/between-crackland-and-wizard-rock/106909001\n",
        "http://www.mountainproject.com/v/boulder-canyon/105744222 /v/bh-block/106597307\n",
        "http://www.mountainproject.com/v/boulder-canyon/105744222 /v/the-bihedral-area/105859534\n",
        "http://www.mountainproject.com/v/boulder-canyon/105744222 /v/bitty-buttress/105744605\n",
        "http://www.mountainproject.com/v/boulder-canyon/105744222 /v/black-widow-slab/105746409\n",
        "http://www.mountainproject.com/v/boulder-canyon/105744222 /v/blob-rock-area/105810491\n",
        "http://www.mountainproject.com/v/boulder-canyon/105744222 /v/boulder-canyon-boulder/105746474\n",
        "http://www.mountainproject.com/v/boulder-canyon/105744222 /v/boulder-falls-east/105959633\n",
        "http://www.mountainproject.com/v/boulder-canyon/105744222 /v/boulder-slips/105860783\n",
        "http://www.mountainproject.com/v/boulder-canyon/105744222 /v/the-boulderado/105744641\n",
        "http://www.mountainproject.com/v/boulder-canyon/105744222 /v/the-bowling-alley/105863546\n",
        "http://www.mountainproject.com/v/boulder-canyon/105744222 /v/the-brick-wall/105744587\n",
        "http://www.mountainproject.com/v/boulder-canyon/105744222 /v/broken-rock/105746331\n",
        "http://www.mountainproject.com/v/boulder-canyon/105744222 /v/bummers-rock/105744576\n",
        "http://www.mountainproject.com/v/boulder-canyon/105744222 /v/canyon-block/106014126\n",
        "http://www.mountainproject.com/v/boulder-canyon/105744222 /v/castle-rock/105744656\n",
        "http://www.mountainproject.com/v/boulder-canyon/105744222 /v/the-catacombs/109142199\n",
        "http://www.mountainproject.com/v/boulder-canyon/105744222 /v/cenotaph-crag/105745813\n",
        "http://www.mountainproject.com/v/boulder-canyon/105744222 /v/cenotaph-spire/106830585\n",
        "http://www.mountainproject.com/v/boulder-canyon/105744222 /v/cob-rock/105744567\n",
        "http://www.mountainproject.com/v/boulder-canyon/105744222 /v/coney-island/105744894\n",
        "http://www.mountainproject.com/v/boulder-canyon/105744222 /v/the-cornerstone/105744776\n",
        "http://www.mountainproject.com/v/boulder-canyon/105744222 /v/couch-fire-crag/105832576\n",
        "http://www.mountainproject.com/v/boulder-canyon/105744222 /v/the-dome/105744581\n",
        "http://www.mountainproject.com/v/boulder-canyon/105744222 /v/eagle-rock/105744900\n",
        "http://www.mountainproject.com/v/boulder-canyon/105744222 /v/east-of-eden/106189795\n",
        "http://www.mountainproject.com/v/boulder-canyon/105744222 /v/easter-rock/105745978\n",
        "http://www.mountainproject.com/v/boulder-canyon/105744222 /v/electra-glide/105744635\n",
        "http://www.mountainproject.com/v/boulder-canyon/105744222 /v/elephant-buttresses/105744584\n",
        "http://www.mountainproject.com/v/boulder-canyon/105744222 /v/fin-land/108416804\n",
        "http://www.mountainproject.com/v/boulder-canyon/105744222 /v/frisky-cliff/105746495\n",
        "http://www.mountainproject.com/v/boulder-canyon/105744222 /v/frogman-pinnacle/105809402\n",
        "http://www.mountainproject.com/v/boulder-canyon/105744222 /v/garden-party-wall/105746007\n",
        "http://www.mountainproject.com/v/boulder-canyon/105744222 /v/goofy-spire/108294091\n",
        "http://www.mountainproject.com/v/boulder-canyon/105744222 /v/happy-hour-crag/105744626\n",
        "http://www.mountainproject.com/v/boulder-canyon/105744222 /v/the-hideout/105863420\n",
        "http://www.mountainproject.com/v/boulder-canyon/105744222 /v/high-energy-crag/105746063\n",
        "http://www.mountainproject.com/v/boulder-canyon/105744222 /v/higher-energy-crag/105809835\n",
        "http://www.mountainproject.com/v/boulder-canyon/105744222 /v/hillbilly-rocks/105810536\n",
        "http://www.mountainproject.com/v/boulder-canyon/105744222 /v/interloper-wall/107143309\n",
        "http://www.mountainproject.com/v/boulder-canyon/105744222 /v/island-rock/105746859\n",
        "http://www.mountainproject.com/v/boulder-canyon/105744222 /v/law-of-physics-crag/106484844\n",
        "http://www.mountainproject.com/v/boulder-canyon/105744222 /v/lions-den/105746275\n",
        "http://www.mountainproject.com/v/boulder-canyon/105744222 /v/little-crag/105744773\n",
        "http://www.mountainproject.com/v/boulder-canyon/105744222 /v/the-loft/107593735\n",
        "http://www.mountainproject.com/v/boulder-canyon/105744222 /v/long-walk-rock/106281411\n",
        "http://www.mountainproject.com/v/boulder-canyon/105744222 /v/the-lookout/105863556\n",
        "http://www.mountainproject.com/v/boulder-canyon/105744222 /v/lost-flatiron/105744593\n",
        "http://www.mountainproject.com/v/boulder-canyon/105744222 /v/lost-rock/105832169\n",
        "http://www.mountainproject.com/v/boulder-canyon/105744222 /v/lower-boulder-falls/105810530\n",
        "http://www.mountainproject.com/v/boulder-canyon/105744222 /v/lower-dream-canyon/105810533\n",
        "http://www.mountainproject.com/v/boulder-canyon/105744222 /v/mental-rock/105746841\n",
        "http://www.mountainproject.com/v/boulder-canyon/105744222 /v/mind-shaft-cliff/107104128\n",
        "http://www.mountainproject.com/v/boulder-canyon/105744222 /v/mindless-cliff/105746328\n",
        "http://www.mountainproject.com/v/boulder-canyon/105744222 /v/mine-hole-crag/105745103\n",
        "http://www.mountainproject.com/v/boulder-canyon/105744222 /v/mountain-rose/105746325\n",
        "http://www.mountainproject.com/v/boulder-canyon/105744222 /v/myth-rock/105746862\n",
        "http://www.mountainproject.com/v/boulder-canyon/105744222 /v/nip-and-tuck/105744647\n",
        "http://www.mountainproject.com/v/boulder-canyon/105744222 /v/nursing-home/105792930\n",
        "http://www.mountainproject.com/v/boulder-canyon/105744222 /v/one-shoe-makes-it-murder/105746355\n",
        "http://www.mountainproject.com/v/boulder-canyon/105744222 /v/the-overlook/105746880\n",
        "http://www.mountainproject.com/v/boulder-canyon/105744222 /v/pop-rock/106479035\n",
        "http://www.mountainproject.com/v/boulder-canyon/105744222 /v/practice-rock/105744629\n",
        "http://www.mountainproject.com/v/boulder-canyon/105744222 /v/red-lyin-slab/106159474\n",
        "http://www.mountainproject.com/v/boulder-canyon/105744222 /v/retirement-rock/105790190\n",
        "http://www.mountainproject.com/v/boulder-canyon/105744222 /v/road-rock/105825337\n",
        "http://www.mountainproject.com/v/boulder-canyon/105744222 /v/rock-island-i/105862431\n",
        "http://www.mountainproject.com/v/boulder-canyon/105744222 /v/rock-island-ii/105744778\n",
        "http://www.mountainproject.com/v/boulder-canyon/105744222 /v/security-risk-massif/105810539\n",
        "http://www.mountainproject.com/v/boulder-canyon/105744222 /v/sherwood-forest/105744573\n",
        "http://www.mountainproject.com/v/boulder-canyon/105744222 /v/short-cliff-w-three-cracks/105744611\n",
        "http://www.mountainproject.com/v/boulder-canyon/105744222 /v/sleeping-beauty/105746415\n",
        "http://www.mountainproject.com/v/boulder-canyon/105744222 /v/the-solar-dome-aka-lighthouse/105744903\n",
        "http://www.mountainproject.com/v/boulder-canyon/105744222 /v/solaris/105746462\n",
        "http://www.mountainproject.com/v/boulder-canyon/105744222 /v/spasmodic-rock/105848070\n",
        "http://www.mountainproject.com/v/boulder-canyon/105744222 /v/the-sport-park/105744761\n",
        "http://www.mountainproject.com/v/boulder-canyon/105744222 /v/stepping-stones/105744650\n",
        "http://www.mountainproject.com/v/boulder-canyon/105744222 /v/sugar-crack-buttress/106159464\n",
        "http://www.mountainproject.com/v/boulder-canyon/105744222 /v/sugarloaf-block/106511755\n",
        "http://www.mountainproject.com/v/boulder-canyon/105744222 /v/the-teflon-wall/105746527\n",
        "http://www.mountainproject.com/v/boulder-canyon/105744222 /v/three-buffoons/105746823\n",
        "http://www.mountainproject.com/v/boulder-canyon/105744222 /v/tonnere-tower/105746916\n",
        "http://www.mountainproject.com/v/boulder-canyon/105744222 /v/tortoise-boulder/106610756\n",
        "http://www.mountainproject.com/v/boulder-canyon/105744222 /v/tower-of-babel/105746427\n",
        "http://www.mountainproject.com/v/boulder-canyon/105744222 /v/trespass-rock/106149810\n",
        "http://www.mountainproject.com/v/boulder-canyon/105744222 /v/trout-rock/105746850\n",
        "http://www.mountainproject.com/v/boulder-canyon/105744222 /v/truth-or-consequences-crag-aka-inca-stone/105745325\n",
        "http://www.mountainproject.com/v/boulder-canyon/105744222 /v/tungsten-mine-shaft/105863507\n",
        "http://www.mountainproject.com/v/boulder-canyon/105744222 /v/turtle-rock-a-crag-for-kids/108182017\n",
        "http://www.mountainproject.com/v/boulder-canyon/105744222 /v/unknown-crag-across-from-lost-rock/106085643\n",
        "http://www.mountainproject.com/v/boulder-canyon/105744222 /v/vampire-rock/105744644\n",
        "http://www.mountainproject.com/v/boulder-canyon/105744222 /v/the-wall-of-voodoo/105746019\n",
        "http://www.mountainproject.com/v/boulder-canyon/105744222 /v/the-watermark/105745109\n",
        "http://www.mountainproject.com/v/boulder-canyon/105744222 /v/witches-tower/105746650\n",
        "http://www.mountainproject.com/v/boulder-canyon/105744222 /v/wizard-rock/105746456\n",
        "http://www.mountainproject.com/v/boulder-canyon/105744222 /v/the-zoo/105744920\n",
        "http://www.mountainproject.com/v/cu-campus/105744240"
       ]
      },
      {
       "output_type": "stream",
       "stream": "stdout",
       "text": [
        " /v/cu-general-campus/106033318\n",
        "http://www.mountainproject.com/v/cu-campus/105744240 /v/engineering-center/105744729\n",
        "http://www.mountainproject.com/v/cu-campus/105744240 /v/music-building/107926614\n",
        "http://www.mountainproject.com/v/cu-campus/105744240 /v/old-main/108888593\n",
        "http://www.mountainproject.com/v/cu-campus/105744240 /v/united-methodist-church-of-boulder/105929338\n",
        "http://www.mountainproject.com/v/cu-campus/105744240 /v/wolf-law-building/107619558\n",
        "http://www.mountainproject.com/v/eldorado-canyon-sp/105744246"
       ]
      },
      {
       "output_type": "stream",
       "stream": "stdout",
       "text": [
        " /v/the-bastille/105807521\n",
        "http://www.mountainproject.com/v/eldorado-canyon-sp/105744246 /v/cadillac-crag/105744844\n",
        "http://www.mountainproject.com/v/eldorado-canyon-sp/105744246 /v/cartoon-crag/106635037\n",
        "http://www.mountainproject.com/v/eldorado-canyon-sp/105744246 /v/continental-crag/105745855\n",
        "http://www.mountainproject.com/v/eldorado-canyon-sp/105744246 /v/diamond-head/105745735\n",
        "http://www.mountainproject.com/v/eldorado-canyon-sp/105744246 /v/eldorado-canyon-bouldering/106731703\n",
        "http://www.mountainproject.com/v/eldorado-canyon-sp/105744246 /v/hawk-eagle-ridge/105745073\n",
        "http://www.mountainproject.com/v/eldorado-canyon-sp/105744246 /v/island-rock/106052432\n",
        "http://www.mountainproject.com/v/eldorado-canyon-sp/105744246 /v/kloof-alcove/105745367\n",
        "http://www.mountainproject.com/v/eldorado-canyon-sp/105744246 /v/millennium-crag/105746358\n",
        "http://www.mountainproject.com/v/eldorado-canyon-sp/105744246 /v/north-rock/105746656\n",
        "http://www.mountainproject.com/v/eldorado-canyon-sp/105744246 /v/peanuts-walls/105807515\n",
        "http://www.mountainproject.com/v/eldorado-canyon-sp/105744246 /v/petit-bastille/105746361\n",
        "http://www.mountainproject.com/v/eldorado-canyon-sp/105744246 /v/physical-crag/105746641\n",
        "http://www.mountainproject.com/v/eldorado-canyon-sp/105744246 /v/redgarden-wall/105807689\n",
        "http://www.mountainproject.com/v/eldorado-canyon-sp/105744246 /v/rincon/105807722\n",
        "http://www.mountainproject.com/v/eldorado-canyon-sp/105744246 /v/the-rotwand/105746322\n",
        "http://www.mountainproject.com/v/eldorado-canyon-sp/105744246 /v/secret-circle/106247956\n",
        "http://www.mountainproject.com/v/eldorado-canyon-sp/105744246 /v/shirt-tail-peak/105745304\n",
        "http://www.mountainproject.com/v/eldorado-canyon-sp/105744246 /v/sobo/105745723\n",
        "http://www.mountainproject.com/v/eldorado-canyon-sp/105744246 /v/split-block/105745238\n",
        "http://www.mountainproject.com/v/eldorado-canyon-sp/105744246 /v/supremacy-rock/105745220\n",
        "http://www.mountainproject.com/v/eldorado-canyon-sp/105744246 /v/the-veil/105745693\n",
        "http://www.mountainproject.com/v/eldorado-canyon-sp/105744246 /v/visitors-center/106862641\n",
        "http://www.mountainproject.com/v/eldorado-canyon-sp/105744246 /v/the-west-ridge/105807716\n",
        "http://www.mountainproject.com/v/eldorado-canyon-sp/105744246 /v/the-whales-tail/105744862\n",
        "http://www.mountainproject.com/v/eldorado-canyon-sp/105744246 /v/the-wind-tower/105807505\n",
        "http://www.mountainproject.com/v/eldorado-mountain/105744255"
       ]
      },
      {
       "output_type": "stream",
       "stream": "stdout",
       "text": [
        " /v/behemoth/105958806\n",
        "http://www.mountainproject.com/v/eldorado-mountain/105744255 /v/east-ridge/105746086\n",
        "http://www.mountainproject.com/v/eldorado-mountain/105744255 /v/the-industrial-wall/105745091\n",
        "http://www.mountainproject.com/v/eldorado-mountain/105744255 /v/mickey-mouse-wall/105744750\n",
        "http://www.mountainproject.com/v/eldorado-mountain/105744255 /v/ridge-1/105745849\n",
        "http://www.mountainproject.com/v/eldorado-mountain/105744255 /v/ridge-2/105745804\n",
        "http://www.mountainproject.com/v/eldorado-mountain/105744255 /v/ridge-4/105745094\n",
        "http://www.mountainproject.com/v/eldorado-mountain/105744255 /v/secret-crag-aka-ridge-6/105745106\n",
        "http://www.mountainproject.com/v/eldorado-mountain/105744255 /v/suburbia-boulder/105746433\n",
        "http://www.mountainproject.com/v/eldorado-mountain/105744255 /v/warm-up-rock/108599960\n",
        "http://www.mountainproject.com/v/flagstaff/105744225"
       ]
      },
      {
       "output_type": "stream",
       "stream": "stdout",
       "text": [
        " /v/alamo-rock/105746524\n",
        "http://www.mountainproject.com/v/flagstaff/105744225 /v/amphitheaters-backside/107300500\n",
        "http://www.mountainproject.com/v/flagstaff/105744225 /v/beer-barrel-boulder/105744868\n",
        "http://www.mountainproject.com/v/flagstaff/105744225 /v/brown-glass-wall/107180243\n",
        "http://www.mountainproject.com/v/flagstaff/105744225 /v/bulging-wall/107325039\n",
        "http://www.mountainproject.com/v/flagstaff/105744225 /v/candel-area-the/107326513\n",
        "http://www.mountainproject.com/v/flagstaff/105744225 /v/the-capstan/105744726\n",
        "http://www.mountainproject.com/v/flagstaff/105744225 /v/cloud-shadow/105744865\n",
        "http://www.mountainproject.com/v/flagstaff/105744225 /v/cookie-jar/105746483\n",
        "http://www.mountainproject.com/v/flagstaff/105744225 /v/crown-rock/105746516\n",
        "http://www.mountainproject.com/v/flagstaff/105744225 /v/cryptic-boulder/107507078\n",
        "http://www.mountainproject.com/v/flagstaff/105744225 /v/the-dark-side/107514858\n",
        "http://www.mountainproject.com/v/flagstaff/105744225 /v/distant-dancer-pinnacle/105746507\n",
        "http://www.mountainproject.com/v/flagstaff/105744225 /v/face-wall/109083646\n",
        "http://www.mountainproject.com/v/flagstaff/105744225 /v/first-overhang/105746310\n",
        "http://www.mountainproject.com/v/flagstaff/105744225 /v/the-flagstaff-amphitheatre/105746581\n",
        "http://www.mountainproject.com/v/flagstaff/105744225 /v/forgotten-ridge/108730112\n",
        "http://www.mountainproject.com/v/flagstaff/105744225 /v/fraggle-rocks/108270996\n",
        "http://www.mountainproject.com/v/flagstaff/105744225 /v/golf-club-boulder/105745121\n",
        "http://www.mountainproject.com/v/flagstaff/105744225 /v/the-great-escape-boulder/106945006\n",
        "http://www.mountainproject.com/v/flagstaff/105744225 /v/hobo-cave/106453163\n",
        "http://www.mountainproject.com/v/flagstaff/105744225 /v/hueco-overhang-ridge/108766944\n",
        "http://www.mountainproject.com/v/flagstaff/105744225 /v/king-conquerer/105746292\n",
        "http://www.mountainproject.com/v/flagstaff/105744225 /v/little-flatiron/105746746\n",
        "http://www.mountainproject.com/v/flagstaff/105744225 /v/loose-flake-spire/106909245\n",
        "http://www.mountainproject.com/v/flagstaff/105744225 /v/miscellaneous-valley/105746510\n",
        "http://www.mountainproject.com/v/flagstaff/105744225 /v/monkey-traverse/105746504\n",
        "http://www.mountainproject.com/v/flagstaff/105744225 /v/moon-rock/105746701\n",
        "http://www.mountainproject.com/v/flagstaff/105744225 /v/nooks-rock/105745409\n",
        "http://www.mountainproject.com/v/flagstaff/105744225 /v/north-rocks/106214956\n",
        "http://www.mountainproject.com/v/flagstaff/105744225 /v/notlim-boulder/105746602\n",
        "http://www.mountainproject.com/v/flagstaff/105744225 /v/one-arms-rocks/105746513\n",
        "http://www.mountainproject.com/v/flagstaff/105744225 /v/overhang-wall/106148249\n",
        "http://www.mountainproject.com/v/flagstaff/105744225 /v/panorama-rock/108078211\n",
        "http://www.mountainproject.com/v/flagstaff/105744225 /v/pebble-boulder/105746492\n",
        "http://www.mountainproject.com/v/flagstaff/105744225 /v/pinnacle-colada/105812046\n",
        "http://www.mountainproject.com/v/flagstaff/105744225 /v/pratts-rock-aka-pratts-overhang/105746289\n",
        "http://www.mountainproject.com/v/flagstaff/105744225 /v/pumpkin-rock/107145293\n",
        "http://www.mountainproject.com/v/flagstaff/105744225 /v/rear-end-rock/105746788\n",
        "http://www.mountainproject.com/v/flagstaff/105744225 /v/red-wall/105744871\n",
        "http://www.mountainproject.com/v/flagstaff/105744225 /v/rib-boulder/107100915\n",
        "http://www.mountainproject.com/v/flagstaff/105744225 /v/road-sign-rock/105746668\n",
        "http://www.mountainproject.com/v/flagstaff/105744225 /v/sharks-rock/105746749\n",
        "http://www.mountainproject.com/v/flagstaff/105744225 /v/three-of-a-kind-wall/105746578\n",
        "http://www.mountainproject.com/v/flagstaff/105744225 /v/tombstone-spire/106747274\n",
        "http://www.mountainproject.com/v/flagstaff/105744225 /v/trail-side-wall-aka-plain-view-ridge/105804730\n",
        "http://www.mountainproject.com/v/flagstaff/105744225 /v/tree-slab/105746170\n",
        "http://www.mountainproject.com/v/flagstaff/105744225 /v/umbrella-tree/105745403\n",
        "http://www.mountainproject.com/v/flagstaff/105744225 /v/upper-y-traverse/105746295\n",
        "http://www.mountainproject.com/v/flatirons/105797700"
       ]
      },
      {
       "output_type": "stream",
       "stream": "stdout",
       "text": [
        " /v/central/105744237\n",
        "http://www.mountainproject.com/v/flatirons/105797700 /v/north/105744231\n",
        "http://www.mountainproject.com/v/flatirons/105797700 /v/the-sacred-cliffs/105744298\n",
        "http://www.mountainproject.com/v/flatirons/105797700 /v/south/105744252\n",
        "http://www.mountainproject.com/v/mount-sanitas/105744361"
       ]
      },
      {
       "output_type": "stream",
       "stream": "stdout",
       "text": [
        " /v/classy-wall/105746530\n",
        "http://www.mountainproject.com/v/mount-sanitas/105744361 /v/corner-rock/105746536\n",
        "http://www.mountainproject.com/v/mount-sanitas/105744361 /v/hawthorn-block/106936305\n",
        "http://www.mountainproject.com/v/mount-sanitas/105744361 /v/kamakazi-boulder/105974519\n",
        "http://www.mountainproject.com/v/mount-sanitas/105744361 /v/lower-fin/105746137\n",
        "http://www.mountainproject.com/v/mount-sanitas/105744361 /v/north-shelf-block/105746134\n",
        "http://www.mountainproject.com/v/mount-sanitas/105744361 /v/red-rocks-boulder/105746418\n",
        "http://www.mountainproject.com/v/mount-sanitas/105744361 /v/ridge-gap-wall/105746533\n",
        "http://www.mountainproject.com/v/mount-sanitas/105744361 /v/sanitas-proper/106468098\n",
        "http://www.mountainproject.com/v/mount-sanitas/105744361 /v/south-shelf-block/105746659\n",
        "http://www.mountainproject.com/v/mount-sanitas/105744361 /v/turd-boulder-aka-leaning-boulder/105746767\n",
        "http://www.mountainproject.com/v/mount-sanitas/105744361 /v/upper-fin/106140395\n",
        "http://www.mountainproject.com/v/upper-dream-canyon/105744234"
       ]
      },
      {
       "output_type": "stream",
       "stream": "stdout",
       "text": [
        " /v/bat-cove/106348830\n",
        "http://www.mountainproject.com/v/upper-dream-canyon/105744234 /v/candle-stick-crag/106353784\n",
        "http://www.mountainproject.com/v/upper-dream-canyon/105744234 /v/the-chamber/106367962\n",
        "http://www.mountainproject.com/v/upper-dream-canyon/105744234 /v/classic-cliff/105831265\n",
        "http://www.mountainproject.com/v/upper-dream-canyon/105744234 /v/dream-dome/105744665\n",
        "http://www.mountainproject.com/v/upper-dream-canyon/105744234 /v/the-greenhouse/105831287\n",
        "http://www.mountainproject.com/v/upper-dream-canyon/105744234 /v/the-icon/105744873\n",
        "http://www.mountainproject.com/v/upper-dream-canyon/105744234 /v/jessicas-block/106347449\n",
        "http://www.mountainproject.com/v/upper-dream-canyon/105744234 /v/lost-angel/105744668\n",
        "http://www.mountainproject.com/v/upper-dream-canyon/105744234 /v/midnight-rock/105744674\n",
        "http://www.mountainproject.com/v/upper-dream-canyon/105744234 /v/oceanic-wall/105744662\n",
        "http://www.mountainproject.com/v/upper-dream-canyon/105744234 /v/the-spiders-den/105847114\n",
        "http://www.mountainproject.com/v/upper-dream-canyon/105744234 /v/the-steeple/106378811\n",
        "http://www.mountainproject.com/v/upper-dream-canyon/105744234 /v/the-terrace/105746197\n",
        "http://www.mountainproject.com/v/upper-dream-canyon/105744234 /v/thunder-point/105746066\n",
        "http://www.mountainproject.com/v/upper-dream-canyon/105744234 /v/touch-of-grey-slabs/106367993\n",
        "http://www.mountainproject.com/v/upper-dream-canyon/105744234 /v/turtle-dome/106367934\n",
        "http://www.mountainproject.com/v/upper-dream-canyon/105744234 /v/universal-crag/105746498\n",
        "http://www.mountainproject.com/v/upper-dream-canyon/105744234 /v/vanishing-point/105744677\n",
        "http://www.mountainproject.com/v/upper-dream-canyon/105744234 /v/water-slabs/105744671\n",
        "http://www.mountainproject.com/v/avalon/105745528"
       ]
      },
      {
       "output_type": "stream",
       "stream": "stdout",
       "text": [
        " /v/first-tier/105810437\n",
        "http://www.mountainproject.com/v/avalon/105745528 /v/second-tier/105810440\n",
        "http://www.mountainproject.com/v/avalon/105745528 /v/third-tier/105810461\n",
        "http://www.mountainproject.com/v/bell-buttress-massif/105864848"
       ]
      },
      {
       "output_type": "stream",
       "stream": "stdout",
       "text": [
        " /v/aquarium-wall/105864851\n",
        "http://www.mountainproject.com/v/bell-buttress-massif/105864848 /v/bean-liquor-wall/105864858\n",
        "http://www.mountainproject.com/v/bell-buttress-massif/105864848 /v/bell-buttress---main-crag/105745079\n",
        "http://www.mountainproject.com/v/bell-buttress-massif/105864848 /v/the-patio/105864854\n",
        "http://www.mountainproject.com/v/the-bihedral-area/105859534"
       ]
      },
      {
       "output_type": "stream",
       "stream": "stdout",
       "text": [
        " /v/the-bihedral-upper-tier/105745016\n",
        "http://www.mountainproject.com/v/the-bihedral-area/105859534 /v/castaway-block/106597338\n",
        "http://www.mountainproject.com/v/the-bihedral-area/105859534 /v/the-left-side/105859537\n",
        "http://www.mountainproject.com/v/the-bihedral-area/105859534 /v/the-lower-tier/105936825\n",
        "http://www.mountainproject.com/v/the-bihedral-area/105859534 /v/the-riviera/105744599\n",
        "http://www.mountainproject.com/v/blob-rock-area/105810491"
       ]
      },
      {
       "output_type": "stream",
       "stream": "stdout",
       "text": [
        " /v/blob-rock/105744617\n",
        "http://www.mountainproject.com/v/blob-rock-area/105810491 /v/east-blob/105810506\n",
        "http://www.mountainproject.com/v/blob-rock-area/105810491 /v/little-blob/105811313\n",
        "http://www.mountainproject.com/v/blob-rock-area/105810491 /v/small-package-block/105746883\n",
        "http://www.mountainproject.com/v/the-bowling-alley/105863546"
       ]
      },
      {
       "output_type": "stream",
       "stream": "stdout",
       "text": [
        " /v/lower-right-side/105863541\n",
        "http://www.mountainproject.com/v/the-bowling-alley/105863546 /v/main-crag/105744638\n",
        "http://www.mountainproject.com/v/elephant-buttresses/105744584"
       ]
      },
      {
       "output_type": "stream",
       "stream": "stdout",
       "text": [
        " /v/the-dome-boulder/107186734\n",
        "http://www.mountainproject.com/v/elephant-buttresses/105744584 /v/elephant-boulders/108020833\n",
        "http://www.mountainproject.com/v/elephant-buttresses/105744584 /v/first-buttress/105810509\n",
        "http://www.mountainproject.com/v/elephant-buttresses/105744584 /v/fourth-buttress/105810518\n",
        "http://www.mountainproject.com/v/elephant-buttresses/105744584 /v/second-buttress/105810512\n",
        "http://www.mountainproject.com/v/elephant-buttresses/105744584 /v/third-buttress/105810515\n",
        "http://www.mountainproject.com/v/elephant-buttresses/105744584 /v/topknot/106129843\n",
        "http://www.mountainproject.com/v/hillbilly-rocks/105810536"
       ]
      },
      {
       "output_type": "stream",
       "stream": "stdout",
       "text": [
        " /v/hillbilly-rock-1/105746191\n",
        "http://www.mountainproject.com/v/hillbilly-rocks/105810536 /v/hillbilly-rock-2/107978924\n",
        "http://www.mountainproject.com/v/hillbilly-rocks/105810536 /v/hillbilly-rock-3/107979136\n",
        "http://www.mountainproject.com/v/law-of-physics-crag/106484844"
       ]
      },
      {
       "output_type": "stream",
       "stream": "stdout",
       "text": [
        " /v/bachars-block/106484870\n",
        "http://www.mountainproject.com/v/lower-dream-canyon/105810533"
       ]
      },
      {
       "output_type": "stream",
       "stream": "stdout",
       "text": [
        " /v/berlin-wall/105746904\n",
        "http://www.mountainproject.com/v/lower-dream-canyon/105810533 /v/bhakti-point-summit-knob/105832559\n",
        "http://www.mountainproject.com/v/lower-dream-canyon/105810533 /v/chrome-dome/105746901\n",
        "http://www.mountainproject.com/v/lower-dream-canyon/105810533 /v/critics-block/106365508\n",
        "http://www.mountainproject.com/v/lower-dream-canyon/105810533 /v/freedom-boulder/105861955\n",
        "http://www.mountainproject.com/v/lower-dream-canyon/105810533 /v/krishna--serenity-spire/105746892\n",
        "http://www.mountainproject.com/v/lower-dream-canyon/105810533 /v/nickel-dome/105746895\n",
        "http://www.mountainproject.com/v/lower-dream-canyon/105810533 /v/pin-dome/105746898\n",
        "http://www.mountainproject.com/v/lower-dream-canyon/105810533 /v/plotinus-wall/105746889\n",
        "http://www.mountainproject.com/v/lower-dream-canyon/105810533 /v/universal-crusher-rock/105810821\n",
        "http://www.mountainproject.com/v/lower-dream-canyon/105810533 /v/wall-of-winter-warmth/105746907\n",
        "http://www.mountainproject.com/v/security-risk-massif/105810539"
       ]
      },
      {
       "output_type": "stream",
       "stream": "stdout",
       "text": [
        " /v/higher-security-risk/105746236\n",
        "http://www.mountainproject.com/v/security-risk-massif/105810539 /v/lower-security-risk/105745235\n",
        "http://www.mountainproject.com/v/security-risk-massif/105810539 /v/upper-security-risk/105744623\n",
        "http://www.mountainproject.com/v/sleeping-beauty/105746415"
       ]
      },
      {
       "output_type": "stream",
       "stream": "stdout",
       "text": [
        " /v/ledge-one/105810547\n",
        "http://www.mountainproject.com/v/sleeping-beauty/105746415 /v/lost-highway-area/105810556\n",
        "http://www.mountainproject.com/v/sleeping-beauty/105746415 /v/main-wall/105810553\n",
        "http://www.mountainproject.com/v/sleeping-beauty/105746415 /v/south-pillar/105810550\n",
        "http://www.mountainproject.com/v/the-sport-park/105744761"
       ]
      },
      {
       "output_type": "stream",
       "stream": "stdout",
       "text": [
        " /v/the-clock-tower/105811184\n",
        "http://www.mountainproject.com/v/the-sport-park/105744761 /v/forbidden-fruit-crag/105811178\n",
        "http://www.mountainproject.com/v/the-sport-park/105744761 /v/overhung-wall/105811191\n",
        "http://www.mountainproject.com/v/the-sport-park/105744761 /v/owl-prow/105811181\n",
        "http://www.mountainproject.com/v/the-sport-park/105744761 /v/recovery-room/105811204\n",
        "http://www.mountainproject.com/v/the-sport-park/105744761 /v/the-sky-cafe/105811194\n",
        "http://www.mountainproject.com/v/the-sport-park/105744761 /v/sport-park-slab/105811198\n",
        "http://www.mountainproject.com/v/the-sport-park/105744761 /v/the-stone-cafe/107951333\n",
        "http://www.mountainproject.com/v/the-sport-park/105744761 /v/surprising-crag/105811170\n",
        "http://www.mountainproject.com/v/the-sport-park/105744761 /v/the-visor/105811187\n",
        "http://www.mountainproject.com/v/tonnere-tower/105746916"
       ]
      },
      {
       "output_type": "stream",
       "stream": "stdout",
       "text": [
        " /v/creekside/106028722\n",
        "http://www.mountainproject.com/v/tonnere-tower/105746916 /v/the-garden/106028710\n",
        "http://www.mountainproject.com/v/tonnere-tower/105746916 /v/northwest-face/106028734\n",
        "http://www.mountainproject.com/v/tonnere-tower/105746916 /v/sport-land/106028695\n",
        "http://www.mountainproject.com/v/tonnere-tower/105746916 /v/treasure-wall/106028704\n",
        "http://www.mountainproject.com/v/the-bastille/105807521"
       ]
      },
      {
       "output_type": "stream",
       "stream": "stdout",
       "text": [
        " /v/the-bastille---n-face/105744723\n",
        "http://www.mountainproject.com/v/the-bastille/105807521 /v/the-bastille---w-face/105807524\n",
        "http://www.mountainproject.com/v/eldorado-canyon-bouldering/106731703"
       ]
      },
      {
       "output_type": "stream",
       "stream": "stdout",
       "text": [
        " /v/accordion-boulder/108540385\n",
        "http://www.mountainproject.com/v/eldorado-canyon-bouldering/106731703 /v/beach-boulders/108540478\n",
        "http://www.mountainproject.com/v/eldorado-canyon-bouldering/106731703 /v/blocks-rocks/108011945\n",
        "http://www.mountainproject.com/v/eldorado-canyon-bouldering/106731703 /v/crank-rock/108048640\n",
        "http://www.mountainproject.com/v/eldorado-canyon-bouldering/106731703 /v/creek-slab-/108845132\n",
        "http://www.mountainproject.com/v/eldorado-canyon-bouldering/106731703 /v/diamond-head-bouldering/106731862\n",
        "http://www.mountainproject.com/v/eldorado-canyon-bouldering/106731703 /v/east-draw/107882568\n",
        "http://www.mountainproject.com/v/eldorado-canyon-bouldering/106731703 /v/edge-blocks/108558834\n",
        "http://www.mountainproject.com/v/eldorado-canyon-bouldering/106731703 /v/the-freight-train-boulder/107112167\n",
        "http://www.mountainproject.com/v/eldorado-canyon-bouldering/106731703 /v/fringe-boulder/108050390\n",
        "http://www.mountainproject.com/v/eldorado-canyon-bouldering/106731703 /v/the-gill-boulder/105992456\n",
        "http://www.mountainproject.com/v/eldorado-canyon-bouldering/106731703 /v/hip-hop-boulder/108048695\n",
        "http://www.mountainproject.com/v/eldorado-canyon-bouldering/106731703 /v/horn-boulder/108540411\n",
        "http://www.mountainproject.com/v/eldorado-canyon-bouldering/106731703 /v/mile-stone/108048669\n",
        "http://www.mountainproject.com/v/eldorado-canyon-bouldering/106731703 /v/milton-boulder/105984750\n",
        "http://www.mountainproject.com/v/eldorado-canyon-bouldering/106731703 /v/mitten-boulder/108540466\n",
        "http://www.mountainproject.com/v/eldorado-canyon-bouldering/106731703 /v/the-musical-boulders-aka--eldorado-canyon-trail-boulders-/106096636\n",
        "http://www.mountainproject.com/v/eldorado-canyon-bouldering/106731703 /v/punk-rock-/108048615\n",
        "http://www.mountainproject.com/v/eldorado-canyon-bouldering/106731703 /v/pyramid-boulder/108050379\n",
        "http://www.mountainproject.com/v/eldorado-canyon-bouldering/106731703 /v/redgarden-boulders/106731896\n",
        "http://www.mountainproject.com/v/eldorado-canyon-bouldering/106731703 /v/river-block/108023360\n",
        "http://www.mountainproject.com/v/eldorado-canyon-bouldering/106731703 /v/riverside-boulder/106722492\n",
        "http://www.mountainproject.com/v/eldorado-canyon-bouldering/106731703 /v/splish-boulder/108540403\n",
        "http://www.mountainproject.com/v/eldorado-canyon-bouldering/106731703 /v/water-rock/106669314\n",
        "http://www.mountainproject.com/v/eldorado-canyon-bouldering/106731703 /v/wave-boulder/108558584\n",
        "http://www.mountainproject.com/v/eldorado-canyon-bouldering/106731703 /v/west-ridge-boulders/106731936\n",
        "http://www.mountainproject.com/v/eldorado-canyon-bouldering/106731703 /v/west-world/105993190\n",
        "http://www.mountainproject.com/v/peanuts-walls/105807515"
       ]
      },
      {
       "output_type": "stream",
       "stream": "stdout",
       "text": [
        " /v/lower-peanuts/105806998\n",
        "http://www.mountainproject.com/v/peanuts-walls/105807515 /v/upper-peanuts/105744790\n",
        "http://www.mountainproject.com/v/redgarden-wall/105807689"
       ]
      },
      {
       "output_type": "stream",
       "stream": "stdout",
       "text": [
        " /v/redgarden---below-lower-ramp/105807707\n",
        "http://www.mountainproject.com/v/redgarden-wall/105807689 /v/redgarden---lumpe-to-the-top/105807704\n",
        "http://www.mountainproject.com/v/redgarden-wall/105807689 /v/redgarden---roof-routes/105807701\n",
        "http://www.mountainproject.com/v/redgarden-wall/105807689 /v/redgarden---s-buttress/105807692\n",
        "http://www.mountainproject.com/v/redgarden-wall/105807689 /v/redgarden---tower-one/105807695\n",
        "http://www.mountainproject.com/v/redgarden-wall/105807689 /v/redgarden---tower-two/105807698\n",
        "http://www.mountainproject.com/v/rincon/105807722"
       ]
      },
      {
       "output_type": "stream",
       "stream": "stdout",
       "text": [
        " /v/rincon---center-route--r/105807728\n",
        "http://www.mountainproject.com/v/rincon/105807722 /v/rincon---l-of-center-route/105807725\n",
        "http://www.mountainproject.com/v/the-west-ridge/105807716"
       ]
      },
      {
       "output_type": "stream",
       "stream": "stdout",
       "text": [
        " /v/corner-stone/106957394\n",
        "http://www.mountainproject.com/v/the-west-ridge/105807716 /v/west-ridge---part-a---verschneidung-to-base/105807749\n",
        "http://www.mountainproject.com/v/the-west-ridge/105807716 /v/west-ridge---part-b---long-john-to-verschneidung/105807746\n",
        "http://www.mountainproject.com/v/the-west-ridge/105807716 /v/west-ridge---part-c---pony-express-to-long-john/105807742\n",
        "http://www.mountainproject.com/v/the-west-ridge/105807716 /v/west-ridge---part-d---xanadu-to-pony-express/105807736\n",
        "http://www.mountainproject.com/v/the-west-ridge/105807716 /v/west-ridge---part-e---top-to-xanadu/105807733\n",
        "http://www.mountainproject.com/v/the-west-ridge/105807716 /v/west-ridge---part-f---the-potato-chip/105745828\n",
        "http://www.mountainproject.com/v/the-wind-tower/105807505"
       ]
      },
      {
       "output_type": "stream",
       "stream": "stdout",
       "text": [
        " /v/wind-tower---s-face/105807427\n",
        "http://www.mountainproject.com/v/the-wind-tower/105807505 /v/wind-tower---sw-face/105744711\n",
        "http://www.mountainproject.com/v/candel-area-the/107326513"
       ]
      },
      {
       "output_type": "stream",
       "stream": "stdout",
       "text": [
        " /v/the-cave-hang/107326519\n",
        "http://www.mountainproject.com/v/candel-area-the/107326513 /v/fingers-boulder/108144364\n",
        "http://www.mountainproject.com/v/candel-area-the/107326513 /v/the-jug/107328902\n",
        "http://www.mountainproject.com/v/candel-area-the/107326513 /v/lions-den/107326550\n",
        "http://www.mountainproject.com/v/candel-area-the/107326513 /v/muffet-rock/107895714\n",
        "http://www.mountainproject.com/v/candel-area-the/107326513 /v/overhanging-prow/105746698\n",
        "http://www.mountainproject.com/v/candel-area-the/107326513 /v/sunshine-slab/107326583\n",
        "http://www.mountainproject.com/v/central/105744237"
       ]
      },
      {
       "output_type": "stream",
       "stream": "stdout",
       "text": [
        " /v/achean-pronouncement/105744805\n",
        "http://www.mountainproject.com/v/central/105744237 /v/amoeboid/105745558\n",
        "http://www.mountainproject.com/v/central/105744237 /v/anomaly/105745555\n",
        "http://www.mountainproject.com/v/central/105744237 /v/babyhorn/105745717\n",
        "http://www.mountainproject.com/v/central/105744237 /v/backporch/105746179\n",
        "http://www.mountainproject.com/v/central/105744237 /v/bear-canyon-bouldering/106937660\n",
        "http://www.mountainproject.com/v/central/105744237 /v/bear-creek-spire/105745861\n",
        "http://www.mountainproject.com/v/central/105744237 /v/the-box/105746048\n",
        "http://www.mountainproject.com/v/central/105744237 /v/the-bubble/105746551\n",
        "http://www.mountainproject.com/v/central/105744237 /v/bulge-boulder/105746761\n",
        "http://www.mountainproject.com/v/central/105744237 /v/der-freischutz/105745223\n",
        "http://www.mountainproject.com/v/central/105744237 /v/der-zerkle/105744684\n",
        "http://www.mountainproject.com/v/central/105744237 /v/dinosaur-rock/105745684\n",
        "http://www.mountainproject.com/v/central/105744237 /v/dobkin-rock/107103679\n",
        "http://www.mountainproject.com/v/central/105744237 /v/dreadnaught/105745522\n",
        "http://www.mountainproject.com/v/central/105744237 /v/dum/105745957\n",
        "http://www.mountainproject.com/v/central/105744237 /v/dwarf/105746069\n",
        "http://www.mountainproject.com/v/central/105744237 /v/east-sentinel/108031013\n",
        "http://www.mountainproject.com/v/central/105744237 /v/elevated-boulder/108289512\n",
        "http://www.mountainproject.com/v/central/105744237 /v/fee/105745759\n",
        "http://www.mountainproject.com/v/central/105744237 /v/fi/105745205\n",
        "http://www.mountainproject.com/v/central/105744237 /v/fifth-flatiron/105745301\n",
        "http://www.mountainproject.com/v/central/105744237 /v/finger-flatiron/105745424\n",
        "http://www.mountainproject.com/v/central/105744237 /v/the-fist-or-hippo-head/105745400\n",
        "http://www.mountainproject.com/v/central/105744237 /v/fo/105744962\n",
        "http://www.mountainproject.com/v/central/105744237 /v/fourth-flatiron/105745909\n",
        "http://www.mountainproject.com/v/central/105744237 /v/fourth-flatironette/105745900\n",
        "http://www.mountainproject.com/v/central/105744237 /v/front-porch/105745124\n",
        "http://www.mountainproject.com/v/central/105744237 /v/fum/105745519\n",
        "http://www.mountainproject.com/v/central/105744237 /v/gazebo/105745846\n",
        "http://www.mountainproject.com/v/central/105744237 /v/hammerhead/105745567\n",
        "http://www.mountainproject.com/v/central/105744237 /v/the-hand/105745241\n",
        "http://www.mountainproject.com/v/central/105744237 /v/hillbilly-rock/105744968\n",
        "http://www.mountainproject.com/v/central/105744237 /v/the-hobo/105746030\n",
        "http://www.mountainproject.com/v/central/105744237 /v/the-hourglass/105840780\n",
        "http://www.mountainproject.com/v/central/105744237 /v/last-flatironette/105838191\n",
        "http://www.mountainproject.com/v/central/105744237 /v/lost-porch/105745903\n",
        "http://www.mountainproject.com/v/central/105744237 /v/lost-sentinels/105746054\n",
        "http://www.mountainproject.com/v/central/105744237 /v/mallory-flatironette/105745825\n",
        "http://www.mountainproject.com/v/central/105744237 /v/medicine-man-boulder/107545646\n",
        "http://www.mountainproject.com/v/central/105744237 /v/the-north-ridge-of-dinosaur-mountain/107849873\n",
        "http://www.mountainproject.com/v/central/105744237 /v/northern-dinosaur-egg/105745756\n",
        "http://www.mountainproject.com/v/central/105744237 /v/overture/105745606\n",
        "http://www.mountainproject.com/v/central/105744237 /v/red-devil/105745432\n",
        "http://www.mountainproject.com/v/central/105744237 /v/the-regency/105745774\n",
        "http://www.mountainproject.com/v/central/105744237 /v/roof-rock/107208975\n",
        "http://www.mountainproject.com/v/central/105744237 /v/royal-arch/105745777\n",
        "http://www.mountainproject.com/v/central/105744237 /v/schmoes-nose/105745927\n",
        "http://www.mountainproject.com/v/central/105744237 /v/sharks-fin/105745447\n",
        "http://www.mountainproject.com/v/central/105744237 /v/skunk-canyon/105874599\n",
        "http://www.mountainproject.com/v/central/105744237 /v/south-ridge/108220137\n",
        "http://www.mountainproject.com/v/central/105744237 /v/southern-dinosaur-egg/105744693\n",
        "http://www.mountainproject.com/v/central/105744237 /v/square-rock/105744687\n",
        "http://www.mountainproject.com/v/central/105744237 /v/stonehenge/105744876\n",
        "http://www.mountainproject.com/v/central/105744237 /v/tangen-towers/105746239\n",
        "http://www.mountainproject.com/v/central/105744237 /v/two-move-rock/105745906\n",
        "http://www.mountainproject.com/v/central/105744237 /v/unicorn/105745912\n",
        "http://www.mountainproject.com/v/central/105744237 /v/west-sentinel/108030992\n",
        "http://www.mountainproject.com/v/central/105744237 /v/yahman-boulder/107184126\n",
        "http://www.mountainproject.com/v/north/105744231"
       ]
      },
      {
       "output_type": "stream",
       "stream": "stdout",
       "text": [
        " /v/the-annex-boulder/107212675\n",
        "http://www.mountainproject.com/v/north/105744231 /v/bella-boulder/105746683\n",
        "http://www.mountainproject.com/v/north/105744231 /v/challenger/105745397\n",
        "http://www.mountainproject.com/v/north/105744231 /v/deviation-lower/106267004\n",
        "http://www.mountainproject.com/v/north/105744231 /v/deviation-upper/106267020\n",
        "http://www.mountainproject.com/v/north/105744231 /v/downclimbsentinel-pass/105745948\n",
        "http://www.mountainproject.com/v/north/105744231 /v/east-ironing-board/105745250\n",
        "http://www.mountainproject.com/v/north/105744231 /v/easy-street/105745951\n",
        "http://www.mountainproject.com/v/north/105744231 /v/el-primero-boulder/107212590\n",
        "http://www.mountainproject.com/v/north/105744231 /v/eyes-of-the-canyon/105745543\n",
        "http://www.mountainproject.com/v/north/105744231 /v/the-fin/105746716\n",
        "http://www.mountainproject.com/v/north/105744231 /v/first-flatiron/105744678\n",
        "http://www.mountainproject.com/v/north/105744231 /v/first-flatironette/105746188\n",
        "http://www.mountainproject.com/v/north/105744231 /v/the-ghetto/105746158\n",
        "http://www.mountainproject.com/v/north/105744231 /v/green-mountain-pinnacle/105745070\n",
        "http://www.mountainproject.com/v/north/105744231 /v/green-thumb/105745678\n",
        "http://www.mountainproject.com/v/north/105744231 /v/gregory-canyon-including-the-amphitheatre/105829700\n",
        "http://www.mountainproject.com/v/north/105744231 /v/herbert-boulder/108462247\n",
        "http://www.mountainproject.com/v/north/105744231 /v/jaws/105745549\n",
        "http://www.mountainproject.com/v/north/105744231 /v/macbeth/105746367\n",
        "http://www.mountainproject.com/v/north/105744231 /v/queen-annes-head/105745328\n",
        "http://www.mountainproject.com/v/north/105744231 /v/saddle-rock/105746230\n",
        "http://www.mountainproject.com/v/north/105744231 /v/satellite-boulders/105745127\n",
        "http://www.mountainproject.com/v/north/105744231 /v/second-flatiron/105745298\n",
        "http://www.mountainproject.com/v/north/105744231 /v/sentinel-boulders/105745945\n",
        "http://www.mountainproject.com/v/north/105744231 /v/the-spy/105745394\n",
        "http://www.mountainproject.com/v/north/105744231 /v/sunset-flatironette/105745780\n",
        "http://www.mountainproject.com/v/north/105744231 /v/the-thing/105745765\n",
        "http://www.mountainproject.com/v/north/105744231 /v/third-flatiron/105744681\n",
        "http://www.mountainproject.com/v/north/105744231 /v/third-flatironette/106641191\n",
        "http://www.mountainproject.com/v/north/105744231 /v/tomato-rock/105745412\n",
        "http://www.mountainproject.com/v/north/105744231 /v/upper-satellite-boulders/106634380\n",
        "http://www.mountainproject.com/v/north/105744231 /v/wc-fields-pinnacle/105745343\n",
        "http://www.mountainproject.com/v/north/105744231 /v/west-ironing-board/105745262\n",
        "http://www.mountainproject.com/v/north/105744231 /v/willy-b/105745391\n",
        "http://www.mountainproject.com/v/north/105744231 /v/woods-quarry/105745783\n",
        "http://www.mountainproject.com/v/the-sacred-cliffs/105744298"
       ]
      },
      {
       "output_type": "stream",
       "stream": "stdout",
       "text": [
        " /v/cave-complex/106513724\n",
        "http://www.mountainproject.com/v/the-sacred-cliffs/105744298 /v/cuban-tower/105746569\n",
        "http://www.mountainproject.com/v/the-sacred-cliffs/105744298 /v/the-main-cliffs/105745184\n",
        "http://www.mountainproject.com/v/the-sacred-cliffs/105744298 /v/namegame-rock/105745178\n",
        "http://www.mountainproject.com/v/the-sacred-cliffs/105744298 /v/one-route-rock/106528773\n",
        "http://www.mountainproject.com/v/the-sacred-cliffs/105744298 /v/pebble-beach/105745181\n",
        "http://www.mountainproject.com/v/south/105744252"
       ]
      },
      {
       "output_type": "stream",
       "stream": "stdout",
       "text": [
        " /v/angels-wings-aka-devils-wings/105745768\n",
        "http://www.mountainproject.com/v/south/105744252 /v/angels-wings-aka-devils-wings-west-face/106038498\n",
        "http://www.mountainproject.com/v/south/105744252 /v/the-apostle/105837336\n",
        "http://www.mountainproject.com/v/south/105744252 /v/bongo-boulder/105744953\n",
        "http://www.mountainproject.com/v/south/105744252 /v/chimera/107990426\n",
        "http://www.mountainproject.com/v/south/105744252 /v/cubicle-crag/106034451\n",
        "http://www.mountainproject.com/v/south/105744252 /v/damascus/107989041\n",
        "http://www.mountainproject.com/v/south/105744252 /v/devils-advocate/105836705\n",
        "http://www.mountainproject.com/v/south/105744252 /v/devils-horns/106038473\n",
        "http://www.mountainproject.com/v/south/105744252 /v/devils-pinkie-aka-south-pinnacle/108998404\n",
        "http://www.mountainproject.com/v/south/105744252 /v/devils-thumb/105745247\n",
        "http://www.mountainproject.com/v/south/105744252 /v/fatiron/105745406\n",
        "http://www.mountainproject.com/v/south/105744252 /v/fern-canyon/105874737\n",
        "http://www.mountainproject.com/v/south/105744252 /v/first-advisor/107189632\n",
        "http://www.mountainproject.com/v/south/105744252 /v/flying-flatiron/105746027\n",
        "http://www.mountainproject.com/v/south/105744252 /v/the-goose/105744620\n",
        "http://www.mountainproject.com/v/south/105744252 /v/harmon-flatironette/107960540\n",
        "http://www.mountainproject.com/v/south/105744252 /v/harmons-east/107960552\n",
        "http://www.mountainproject.com/v/south/105744252 /v/isolation-rock/106034475\n",
        "http://www.mountainproject.com/v/south/105744252 /v/jamcrack-spire/105746707\n",
        "http://www.mountainproject.com/v/south/105744252 /v/the-keel/105839199\n",
        "http://www.mountainproject.com/v/south/105744252 /v/lost-and-found/105746719\n",
        "http://www.mountainproject.com/v/south/105744252 /v/the-maiden/105745076\n",
        "http://www.mountainproject.com/v/south/105744252 /v/major-maroon-boulder/105746200\n",
        "http://www.mountainproject.com/v/south/105744252 /v/mars-block/107156765\n",
        "http://www.mountainproject.com/v/south/105744252 /v/the-matron/105744859\n",
        "http://www.mountainproject.com/v/south/105744252 /v/medusa/107993423\n",
        "http://www.mountainproject.com/v/south/105744252 /v/overhang-rock/105745115\n",
        "http://www.mountainproject.com/v/south/105744252 /v/the-penguin/107626759\n",
        "http://www.mountainproject.com/v/south/105744252 /v/the-pup/106676588\n",
        "http://www.mountainproject.com/v/south/105744252 /v/pyramid/106038038\n",
        "http://www.mountainproject.com/v/south/105744252 /v/saqqara/106048972\n",
        "http://www.mountainproject.com/v/south/105744252 /v/seal-rock/105745265\n",
        "http://www.mountainproject.com/v/south/105744252 /v/second-advisor/107189934\n",
        "http://www.mountainproject.com/v/south/105744252 /v/shadowfax/106034447\n",
        "http://www.mountainproject.com/v/south/105744252 /v/shanahan-crag/105745370\n",
        "http://www.mountainproject.com/v/south/105744252 /v/the-sibling/105746725\n",
        "http://www.mountainproject.com/v/south/105744252 /v/the-slab/105745364\n",
        "http://www.mountainproject.com/v/south/105744252 /v/the-sphinx/105746590\n",
        "http://www.mountainproject.com/v/south/105744252 /v/sunset-wall/106034494\n",
        "http://www.mountainproject.com/v/south/105744252 /v/terrain-boulders/105745043\n",
        "http://www.mountainproject.com/v/south/105744252 /v/third-advisor/107189949\n",
        "http://www.mountainproject.com/v/south/105744252 /v/tiny-tower/105745819\n",
        "http://www.mountainproject.com/v/south/105744252 /v/toddler-rock/105746722\n",
        "http://www.mountainproject.com/v/south/105744252 /v/tower-of-the-moon/105746704\n",
        "http://www.mountainproject.com/v/south/105744252 /v/unknown-rock/107143690\n",
        "http://www.mountainproject.com/v/south/105744252 /v/upper-blues-boulders/105984830\n",
        "http://www.mountainproject.com/v/south/105744252 /v/x-crack-boulder/107730806\n",
        "http://www.mountainproject.com/v/second-tier/105810440"
       ]
      },
      {
       "output_type": "stream",
       "stream": "stdout",
       "text": [
        " /v/clipboard-area/105810455\n",
        "http://www.mountainproject.com/v/second-tier/105810440 /v/middle-wall/105810458\n",
        "http://www.mountainproject.com/v/second-tier/105810440 /v/tarot-wall/105810443\n",
        "http://www.mountainproject.com/v/second-tier/105810440 /v/three-dihedrals/105810446\n",
        "http://www.mountainproject.com/v/second-tier/105810440 /v/wall-of-the-dead/105810452\n",
        "http://www.mountainproject.com/v/third-tier/105810461"
       ]
      },
      {
       "output_type": "stream",
       "stream": "stdout",
       "text": [
        " /v/crack-land/105810466\n",
        "http://www.mountainproject.com/v/third-tier/105810461 /v/southwest-buttress/105810475\n",
        "http://www.mountainproject.com/v/third-tier/105810461 /v/wall-of-the-dragon/105810469\n",
        "http://www.mountainproject.com/v/third-tier/105810461 /v/wall-of-the-goddess/105810478\n",
        "http://www.mountainproject.com/v/third-tier/105810461 /v/west-gully/105810472\n",
        "http://www.mountainproject.com/v/blob-rock/105744617"
       ]
      },
      {
       "output_type": "stream",
       "stream": "stdout",
       "text": [
        " /v/central-chimney-area/105811157\n",
        "http://www.mountainproject.com/v/blob-rock/105744617 /v/dike-wall/105811154\n",
        "http://www.mountainproject.com/v/blob-rock/105744617 /v/main-wall/105811160\n",
        "http://www.mountainproject.com/v/blob-rock/105744617 /v/right-gully/105811163\n",
        "http://www.mountainproject.com/v/blob-rock/105744617 /v/upper-east-face/105811166\n",
        "http://www.mountainproject.com/v/blob-rock/105744617 /v/west-buttress-aka-comedy-wall/105810544\n",
        "http://www.mountainproject.com/v/east-blob/105810506"
       ]
      },
      {
       "output_type": "stream",
       "stream": "stdout",
       "text": [
        " /v/blob-slab/105810500\n",
        "http://www.mountainproject.com/v/east-blob/105810506 /v/upper-east-face/105810817\n",
        "http://www.mountainproject.com/v/plotinus-wall/105746889"
       ]
      },
      {
       "output_type": "stream",
       "stream": "stdout",
       "text": [
        " /v/left-side/105811510\n",
        "http://www.mountainproject.com/v/plotinus-wall/105746889 /v/middle/105811513\n",
        "http://www.mountainproject.com/v/plotinus-wall/105746889 /v/right-side/105811516\n",
        "http://www.mountainproject.com/v/the-clock-tower/105811184"
       ]
      },
      {
       "output_type": "stream",
       "stream": "stdout",
       "text": [
        " /v/chicken-wall/105811385\n",
        "http://www.mountainproject.com/v/the-clock-tower/105811184 /v/upper-wall/105811388\n",
        "http://www.mountainproject.com/v/surprising-crag/105811170"
       ]
      },
      {
       "output_type": "stream",
       "stream": "stdout",
       "text": [
        " /v/south-face/105811377\n",
        "http://www.mountainproject.com/v/surprising-crag/105811170 /v/west-face/105811380\n",
        "http://www.mountainproject.com/v/east-draw/107882568"
       ]
      },
      {
       "output_type": "stream",
       "stream": "stdout",
       "text": [
        " /v/center-ring-wall/107882600\n",
        "http://www.mountainproject.com/v/east-draw/107882568 /v/low-traverse-boulder/107882723\n",
        "http://www.mountainproject.com/v/east-draw/107882568 /v/sofa-patrol-wall/107882595\n",
        "http://www.mountainproject.com/v/east-draw/107882568 /v/the-warm-up-blocks/107906945\n",
        "http://www.mountainproject.com/v/the-musical-boulders-aka--eldorado-canyon-trail-boulders-/106096636"
       ]
      },
      {
       "output_type": "stream",
       "stream": "stdout",
       "text": [
        " /v/the-east-egg/106672651\n",
        "http://www.mountainproject.com/v/the-musical-boulders-aka--eldorado-canyon-trail-boulders-/106096636 /v/whale-boulder/106633005\n",
        "http://www.mountainproject.com/v/west-world/105993190"
       ]
      },
      {
       "output_type": "stream",
       "stream": "stdout",
       "text": [
        " /v/corridor-boulder/108006523\n",
        "http://www.mountainproject.com/v/west-world/105993190 /v/germ-free-boulder/105993197\n",
        "http://www.mountainproject.com/v/west-world/105993190 /v/the-tasty-slab/106626832\n",
        "http://www.mountainproject.com/v/skunk-canyon/105874599"
       ]
      },
      {
       "output_type": "stream",
       "stream": "stdout",
       "text": [
        " /v/ridge-1-aka-stairway-to-heaven/105745226\n",
        "http://www.mountainproject.com/v/skunk-canyon/105874599 /v/ridge-2-aka-satans-slab/105745229\n",
        "http://www.mountainproject.com/v/skunk-canyon/105874599 /v/ridge-3-aka-angels-way/105745232\n",
        "http://www.mountainproject.com/v/skunk-canyon/105874599 /v/ridge-4-aka-mohling-arete/105746203\n",
        "http://www.mountainproject.com/v/gregory-canyon-including-the-amphitheatre/105829700"
       ]
      },
      {
       "output_type": "stream",
       "stream": "stdout",
       "text": [
        " /v/the-amphitheater/105744659\n",
        "http://www.mountainproject.com/v/gregory-canyon-including-the-amphitheatre/105829700 /v/fourth-pinnacle/105745834\n",
        "http://www.mountainproject.com/v/gregory-canyon-including-the-amphitheatre/105829700 /v/gregory-flatironette-aka-fifth-pinnacle/105745843\n",
        "http://www.mountainproject.com/v/gregory-canyon-including-the-amphitheatre/105829700 /v/south-amphitheater-pinnacle/106638773\n",
        "http://www.mountainproject.com/v/gregory-canyon-including-the-amphitheatre/105829700 /v/third-pinnacle/105745546\n",
        "http://www.mountainproject.com/v/fern-canyon/105874737"
       ]
      },
      {
       "output_type": "stream",
       "stream": "stdout",
       "text": [
        " /v/east-ridge/105745429\n",
        "http://www.mountainproject.com/v/fern-canyon/105874737 /v/fern-canyon-bouldering/109121060\n",
        "http://www.mountainproject.com/v/fern-canyon/105874737 /v/fiddlehead/105745295\n",
        "http://www.mountainproject.com/v/fern-canyon/105874737 /v/nebel-horn-ridge/105745415\n",
        "http://www.mountainproject.com/v/fern-canyon/105874737 /v/onoclea/105745289\n",
        "http://www.mountainproject.com/v/fern-canyon/105874737 /v/pellea/105745139\n",
        "http://www.mountainproject.com/v/fern-canyon/105874737 /v/southern-goose-egg/105745421\n",
        "http://www.mountainproject.com/v/fern-canyon/105874737 /v/superfresh-boulder/107747923\n",
        "http://www.mountainproject.com/v/upper-blues-boulders/105984830"
       ]
      },
      {
       "output_type": "stream",
       "stream": "stdout",
       "text": [
        " /v/atom-boulder/105984874\n",
        "http://www.mountainproject.com/v/upper-blues-boulders/105984830 /v/mamoonious/105984840\n",
        "http://www.mountainproject.com/v/upper-blues-boulders/105984830 /v/zoofarsus/105984877\n",
        "http://www.mountainproject.com/v/the-warm-up-blocks/107906945"
       ]
      },
      {
       "output_type": "stream",
       "stream": "stdout",
       "text": [
        " /v/block-1/107906966\n",
        "http://www.mountainproject.com/v/the-warm-up-blocks/107906945 /v/block-2/107907455\n"
       ]
      }
     ],
     "prompt_number": 9
    },
    {
     "cell_type": "code",
     "collapsed": false,
     "input": [
      "len(area_menu_items_links)"
     ],
     "language": "python",
     "metadata": {},
     "outputs": [
      {
       "metadata": {},
       "output_type": "pyout",
       "prompt_number": 12,
       "text": [
        "566"
       ]
      }
     ],
     "prompt_number": 12
    },
    {
     "cell_type": "code",
     "collapsed": false,
     "input": [
      "df = pd.DataFrame()"
     ],
     "language": "python",
     "metadata": {},
     "outputs": [],
     "prompt_number": 14
    },
    {
     "cell_type": "code",
     "collapsed": false,
     "input": [
      "df['area_name'] = area_menu_items_text\n",
      "df['area_url'] = area_menu_items_links"
     ],
     "language": "python",
     "metadata": {},
     "outputs": [],
     "prompt_number": 15
    },
    {
     "cell_type": "code",
     "collapsed": false,
     "input": [
      "df.to_csv('/data/area_list.csv')"
     ],
     "language": "python",
     "metadata": {},
     "outputs": [],
     "prompt_number": 17
    },
    {
     "cell_type": "code",
     "collapsed": false,
     "input": [
      "route_menu_items_links = []\n",
      "route_menu_items_text = []"
     ],
     "language": "python",
     "metadata": {},
     "outputs": [],
     "prompt_number": 51
    },
    {
     "cell_type": "code",
     "collapsed": false,
     "input": [
      "for link in area_menu_items_links:\n",
      "    \n",
      "    r_2 = requests.get(link)\n",
      "    soup_2 = BeautifulSoup(r_2.content)\n",
      "        \n",
      "    try:\n",
      "        table = soup_2.find(id='leftNavRoutes')\n",
      "\n",
      "        for row in table.find_all('tr'):\n",
      "            col = row.find_all('td')\n",
      "            route_menu_items_links.append(base_url + col[2].a.get('href'))\n",
      "            route_menu_items_text.append(col[2].a.string)\n",
      "    except:\n",
      "        continue"
     ],
     "language": "python",
     "metadata": {},
     "outputs": [],
     "prompt_number": 52
    },
    {
     "cell_type": "code",
     "collapsed": false,
     "input": [
      "len(route_menu_items_text)"
     ],
     "language": "python",
     "metadata": {},
     "outputs": [
      {
       "metadata": {},
       "output_type": "pyout",
       "prompt_number": 54,
       "text": [
        "4183"
       ]
      }
     ],
     "prompt_number": 54
    },
    {
     "cell_type": "code",
     "collapsed": false,
     "input": [
      "df_route_list = pd.DataFrame()"
     ],
     "language": "python",
     "metadata": {},
     "outputs": [],
     "prompt_number": 55
    },
    {
     "cell_type": "code",
     "collapsed": false,
     "input": [
      "df_route_list['route_name'] = route_menu_items_text\n",
      "df_route_list['route_url'] = route_menu_items_links"
     ],
     "language": "python",
     "metadata": {},
     "outputs": [],
     "prompt_number": 57
    },
    {
     "cell_type": "code",
     "collapsed": false,
     "input": [
      "df_route_list.to_csv('/data/route_list.csv')"
     ],
     "language": "python",
     "metadata": {},
     "outputs": [],
     "prompt_number": 58
    }
   ],
   "metadata": {}
  }
 ]
}