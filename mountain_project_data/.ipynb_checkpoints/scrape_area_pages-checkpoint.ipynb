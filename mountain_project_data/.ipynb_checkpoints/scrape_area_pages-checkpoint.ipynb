{
 "metadata": {
  "name": "",
  "signature": "sha256:46a31739ed02f54194963b1cffaec7e4e934268675b729f7cebd08b42e7f5f1b"
 },
 "nbformat": 3,
 "nbformat_minor": 0,
 "worksheets": [
  {
   "cells": [
    {
     "cell_type": "markdown",
     "metadata": {},
     "source": [
      "# Scrape All Area Pages\n",
      "\n",
      "- By Chris Albon\n",
      "- September 9, 2014"
     ]
    },
    {
     "cell_type": "code",
     "collapsed": false,
     "input": [
      "import pandas as pd\n",
      "from bs4 import BeautifulSoup\n",
      "import requests\n",
      "import re\n",
      "import numpy as np"
     ],
     "language": "python",
     "metadata": {},
     "outputs": [],
     "prompt_number": 10
    },
    {
     "cell_type": "code",
     "collapsed": false,
     "input": [
      "df_links = pd.read_csv('/data/area_list.csv')"
     ],
     "language": "python",
     "metadata": {},
     "outputs": [],
     "prompt_number": 11
    },
    {
     "cell_type": "code",
     "collapsed": false,
     "input": [
      "title = []\n",
      "geo = []\n",
      "comments_name = []\n",
      "comments_text = []"
     ],
     "language": "python",
     "metadata": {},
     "outputs": [],
     "prompt_number": 12
    },
    {
     "cell_type": "code",
     "collapsed": false,
     "input": [
      "for link in df_links['area_url']:\n",
      "    \n",
      "    r = requests.get(link)\n",
      "    soup = BeautifulSoup(r.content)\n",
      "        \n",
      "    try:\n",
      "        title.append(soup.find('h1').string)\n",
      "        \n",
      "        geo_cell = soup.find(text='View Map')\n",
      "        if geo_cell is not None:\n",
      "            geo.append(geo_cell.findParent().findParent().contents[0].string[:-1])\n",
      "        else:\n",
      "            geo.append(np.NaN)\n",
      "        \n",
      "        i = 0\n",
      "        if len(soup.findAll('table', id=re.compile('^cm_'))) > 0:\n",
      "            names = []\n",
      "            text = []\n",
      "            for comment in soup.findAll('table', id=re.compile('^cm_')):\n",
      "                columns = comment.find_all('td')\n",
      "                names.append(columns[0].find('a').text) \n",
      "                text.append(columns[1].text)\n",
      "                i=i+1\n",
      "                continue\n",
      "        else:\n",
      "            comments_name.append(np.NaN) \n",
      "            comments_text.append(np.NaN)\n",
      "            i=i+1\n",
      "            continue\n",
      "            \n",
      "        comments_name.append(str(names))\n",
      "        comments_text.append(str(text)) \n",
      "\n",
      "    except:\n",
      "        comments_name.append(str(names))\n",
      "        comments_text.append(str(text))\n",
      "        continue"
     ],
     "language": "python",
     "metadata": {},
     "outputs": [],
     "prompt_number": 13
    },
    {
     "cell_type": "code",
     "collapsed": false,
     "input": [
      "len(title)"
     ],
     "language": "python",
     "metadata": {},
     "outputs": [
      {
       "metadata": {},
       "output_type": "pyout",
       "prompt_number": 14,
       "text": [
        "566"
       ]
      }
     ],
     "prompt_number": 14
    },
    {
     "cell_type": "code",
     "collapsed": false,
     "input": [
      "df = pd.DataFrame()\n",
      "\n",
      "df['title'] = title\n",
      "df['url'] = df_links['area_url']\n",
      "df['geo'] = geo\n",
      "df['comments_name'] = comments_name\n",
      "df['comments_text'] = comments_text"
     ],
     "language": "python",
     "metadata": {},
     "outputs": [],
     "prompt_number": 18
    },
    {
     "cell_type": "code",
     "collapsed": false,
     "input": [
      "df.head()"
     ],
     "language": "python",
     "metadata": {},
     "outputs": [
      {
       "html": [
        "<div style=\"max-height:1000px;max-width:1500px;overflow:auto;\">\n",
        "<table border=\"1\" class=\"dataframe\">\n",
        "  <thead>\n",
        "    <tr style=\"text-align: right;\">\n",
        "      <th></th>\n",
        "      <th>title</th>\n",
        "      <th>url</th>\n",
        "      <th>geo</th>\n",
        "      <th>comments_name</th>\n",
        "      <th>comments_text</th>\n",
        "    </tr>\n",
        "  </thead>\n",
        "  <tbody>\n",
        "    <tr>\n",
        "      <th>0</th>\n",
        "      <td>     Boulder Canyon \u00a0</td>\n",
        "      <td> http://www.mountainproject.com/v/boulder-canyo...</td>\n",
        "      <td> 40.0024, -105.4102</td>\n",
        "      <td>                                               NaN</td>\n",
        "      <td>                                               NaN</td>\n",
        "    </tr>\n",
        "    <tr>\n",
        "      <th>1</th>\n",
        "      <td>          CU Campus \u00a0</td>\n",
        "      <td> http://www.mountainproject.com/v/cu-campus/105...</td>\n",
        "      <td>  40.0068, -105.266</td>\n",
        "      <td> ['Brian Sorden', 'Anonymous Coward', 'Anonymou...</td>\n",
        "      <td> [\"\\nEverybody knows about the slated builderin...</td>\n",
        "    </tr>\n",
        "    <tr>\n",
        "      <th>2</th>\n",
        "      <td> Eldorado Canyon SP \u00a0</td>\n",
        "      <td> http://www.mountainproject.com/v/eldorado-cany...</td>\n",
        "      <td> 39.9318, -105.2813</td>\n",
        "      <td>                                               NaN</td>\n",
        "      <td>                                               NaN</td>\n",
        "    </tr>\n",
        "    <tr>\n",
        "      <th>3</th>\n",
        "      <td>  Eldorado Mountain \u00a0</td>\n",
        "      <td> http://www.mountainproject.com/v/eldorado-moun...</td>\n",
        "      <td>  39.9204, -105.288</td>\n",
        "      <td> ['Dave Brower', 'Tod Anderson', 'Anonymous Cow...</td>\n",
        "      <td> ['\\nThe local wingnut with the gun (Bill Schul...</td>\n",
        "    </tr>\n",
        "    <tr>\n",
        "      <th>4</th>\n",
        "      <td>          Flagstaff \u00a0</td>\n",
        "      <td> http://www.mountainproject.com/v/flagstaff/105...</td>\n",
        "      <td>  40.0014, -105.296</td>\n",
        "      <td> ['JAKE HURST', 'Dave McAllister', 'JVonD', 'Ha...</td>\n",
        "      <td> ['\\nFlagstaff is an awesome place to take begi...</td>\n",
        "    </tr>\n",
        "  </tbody>\n",
        "</table>\n",
        "</div>"
       ],
       "metadata": {},
       "output_type": "pyout",
       "prompt_number": 19,
       "text": [
        "                  title                                                url  \\\n",
        "0      Boulder Canyon \u00a0  http://www.mountainproject.com/v/boulder-canyo...   \n",
        "1           CU Campus \u00a0  http://www.mountainproject.com/v/cu-campus/105...   \n",
        "2  Eldorado Canyon SP \u00a0  http://www.mountainproject.com/v/eldorado-cany...   \n",
        "3   Eldorado Mountain \u00a0  http://www.mountainproject.com/v/eldorado-moun...   \n",
        "4           Flagstaff \u00a0  http://www.mountainproject.com/v/flagstaff/105...   \n",
        "\n",
        "                  geo                                      comments_name  \\\n",
        "0  40.0024, -105.4102                                                NaN   \n",
        "1   40.0068, -105.266  ['Brian Sorden', 'Anonymous Coward', 'Anonymou...   \n",
        "2  39.9318, -105.2813                                                NaN   \n",
        "3   39.9204, -105.288  ['Dave Brower', 'Tod Anderson', 'Anonymous Cow...   \n",
        "4   40.0014, -105.296  ['JAKE HURST', 'Dave McAllister', 'JVonD', 'Ha...   \n",
        "\n",
        "                                       comments_text  \n",
        "0                                                NaN  \n",
        "1  [\"\\nEverybody knows about the slated builderin...  \n",
        "2                                                NaN  \n",
        "3  ['\\nThe local wingnut with the gun (Bill Schul...  \n",
        "4  ['\\nFlagstaff is an awesome place to take begi...  "
       ]
      }
     ],
     "prompt_number": 19
    },
    {
     "cell_type": "code",
     "collapsed": false,
     "input": [
      "df.to_csv('/data/area_data.csv')"
     ],
     "language": "python",
     "metadata": {},
     "outputs": [],
     "prompt_number": 20
    }
   ],
   "metadata": {}
  }
 ]
}