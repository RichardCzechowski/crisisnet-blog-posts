{
 "metadata": {
  "name": "",
  "signature": "sha256:f678bba72bf5ed79c42d59a5b2de639b55b8773819a597f7cc4e295577ada362"
 },
 "nbformat": 3,
 "nbformat_minor": 0,
 "worksheets": [
  {
   "cells": [
    {
     "cell_type": "markdown",
     "metadata": {},
     "source": [
      "# Scrape All Route Pages\n",
      "\n",
      "- By Chris Albon\n",
      "- September 9, 2014"
     ]
    },
    {
     "cell_type": "code",
     "collapsed": false,
     "input": [
      "import pandas as pd\n",
      "from bs4 import BeautifulSoup\n",
      "import requests\n",
      "import re\n",
      "import numpy as np"
     ],
     "language": "python",
     "metadata": {},
     "outputs": [],
     "prompt_number": 1
    },
    {
     "cell_type": "code",
     "collapsed": false,
     "input": [
      "df_links = pd.read_csv('/data/route_list.csv')"
     ],
     "language": "python",
     "metadata": {},
     "outputs": [],
     "prompt_number": 2
    },
    {
     "cell_type": "code",
     "collapsed": false,
     "input": [
      "title = []\n",
      "comments_name = []\n",
      "comments_text = []"
     ],
     "language": "python",
     "metadata": {},
     "outputs": [],
     "prompt_number": 3
    },
    {
     "cell_type": "code",
     "collapsed": false,
     "input": [
      "for link in df_links['route_url']:\n",
      "    \n",
      "    r = requests.get(link)\n",
      "    soup = BeautifulSoup(r.content)\n",
      "        \n",
      "    try:\n",
      "        title.append(soup.find('h1').text)\n",
      "        \n",
      "        i = 0\n",
      "        if len(soup.findAll('table', id=re.compile('^cm_'))) > 0:\n",
      "            names = []\n",
      "            text = []\n",
      "            for comment in soup.findAll('table', id=re.compile('^cm_')):\n",
      "                columns = comment.find_all('td')\n",
      "                names.append(columns[0].find('a').text) \n",
      "                text.append(columns[1].text)\n",
      "                i=i+1\n",
      "                continue\n",
      "        else:\n",
      "            comments_name.append(np.NaN) \n",
      "            comments_text.append(np.NaN)\n",
      "            i=i+1\n",
      "            continue\n",
      "            \n",
      "        comments_name.append(str(names))\n",
      "        comments_text.append(str(text)) \n",
      "\n",
      "    except:\n",
      "        comments_name.append(str(names))\n",
      "        comments_text.append(str(text))\n",
      "        continue"
     ],
     "language": "python",
     "metadata": {},
     "outputs": [],
     "prompt_number": 4
    },
    {
     "cell_type": "code",
     "collapsed": false,
     "input": [
      "df = pd.DataFrame()\n",
      "\n",
      "df['title'] = title\n",
      "df['url'] = df_links['route_url']\n",
      "df['comments_name'] = comments_name\n",
      "df['comments_text'] = comments_text"
     ],
     "language": "python",
     "metadata": {},
     "outputs": [],
     "prompt_number": 5
    },
    {
     "cell_type": "code",
     "collapsed": false,
     "input": [
      "df.head()"
     ],
     "language": "python",
     "metadata": {},
     "outputs": [
      {
       "html": [
        "<div style=\"max-height:1000px;max-width:1500px;overflow:auto;\">\n",
        "<table border=\"1\" class=\"dataframe\">\n",
        "  <thead>\n",
        "    <tr style=\"text-align: right;\">\n",
        "      <th></th>\n",
        "      <th>title</th>\n",
        "      <th>url</th>\n",
        "      <th>comments_name</th>\n",
        "      <th>comments_text</th>\n",
        "    </tr>\n",
        "  </thead>\n",
        "  <tbody>\n",
        "    <tr>\n",
        "      <th>0</th>\n",
        "      <td>     Nobody's Fool\u00a0</td>\n",
        "      <td> http://www.mountainproject.com/v/nobodys-fool/...</td>\n",
        "      <td> NaN</td>\n",
        "      <td> NaN</td>\n",
        "    </tr>\n",
        "    <tr>\n",
        "      <th>1</th>\n",
        "      <td>      Black Groove\u00a0</td>\n",
        "      <td> http://www.mountainproject.com/v/black-groove/...</td>\n",
        "      <td> NaN</td>\n",
        "      <td> NaN</td>\n",
        "    </tr>\n",
        "    <tr>\n",
        "      <th>2</th>\n",
        "      <td>        Right Side\u00a0</td>\n",
        "      <td> http://www.mountainproject.com/v/right-side/10...</td>\n",
        "      <td> NaN</td>\n",
        "      <td> NaN</td>\n",
        "    </tr>\n",
        "    <tr>\n",
        "      <th>3</th>\n",
        "      <td>    Unknown Groove\u00a0</td>\n",
        "      <td> http://www.mountainproject.com/v/unknown-groov...</td>\n",
        "      <td> NaN</td>\n",
        "      <td> NaN</td>\n",
        "    </tr>\n",
        "    <tr>\n",
        "      <th>4</th>\n",
        "      <td> I Looked at That!\u00a0</td>\n",
        "      <td> http://www.mountainproject.com/v/i-looked-at-t...</td>\n",
        "      <td> NaN</td>\n",
        "      <td> NaN</td>\n",
        "    </tr>\n",
        "  </tbody>\n",
        "</table>\n",
        "</div>"
       ],
       "metadata": {},
       "output_type": "pyout",
       "prompt_number": 6,
       "text": [
        "                title                                                url  \\\n",
        "0      Nobody's Fool\u00a0  http://www.mountainproject.com/v/nobodys-fool/...   \n",
        "1       Black Groove\u00a0  http://www.mountainproject.com/v/black-groove/...   \n",
        "2         Right Side\u00a0  http://www.mountainproject.com/v/right-side/10...   \n",
        "3     Unknown Groove\u00a0  http://www.mountainproject.com/v/unknown-groov...   \n",
        "4  I Looked at That!\u00a0  http://www.mountainproject.com/v/i-looked-at-t...   \n",
        "\n",
        "  comments_name comments_text  \n",
        "0           NaN           NaN  \n",
        "1           NaN           NaN  \n",
        "2           NaN           NaN  \n",
        "3           NaN           NaN  \n",
        "4           NaN           NaN  "
       ]
      }
     ],
     "prompt_number": 6
    },
    {
     "cell_type": "code",
     "collapsed": false,
     "input": [
      "df.to_csv('/data/route_data.csv')"
     ],
     "language": "python",
     "metadata": {},
     "outputs": [],
     "prompt_number": 7
    }
   ],
   "metadata": {}
  }
 ]
}