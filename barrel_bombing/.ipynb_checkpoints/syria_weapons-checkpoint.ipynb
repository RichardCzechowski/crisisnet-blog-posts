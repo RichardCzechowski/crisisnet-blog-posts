{
 "metadata": {
  "name": "",
  "signature": "sha256:551bfe50c08a94dff37ae1278db1fa9f4fd908a8543293c962e54538e46174bd"
 },
 "nbformat": 3,
 "nbformat_minor": 0,
 "worksheets": [
  {
   "cells": [
    {
     "cell_type": "code",
     "collapsed": false,
     "input": [
      "# Import modules\n",
      "import pandas as pd\n",
      "import requests\n",
      "import numpy as np\n",
      "import matplotlib.pyplot as plt\n",
      "\n",
      "# Set plots to happen inline\n",
      "%matplotlib inline\n",
      "\n",
      "pd.set_option('display.max_row', 1000)\n",
      "pd.set_option('display.max_column', 50)"
     ],
     "language": "python",
     "metadata": {},
     "outputs": [],
     "prompt_number": 19
    },
    {
     "cell_type": "code",
     "collapsed": false,
     "input": [
      "api_key = '532d8dc4ed3329652f114b73'\n",
      "api_url = 'http://api.crisis.net/item/?text=\u0628\u0631\u0645\u064a\u0644 &sources=facebook'\n",
      "headers = {'Authorization': 'Bearer ' + api_key}\n",
      "total = 3000\n",
      "df = pd.DataFrame()"
     ],
     "language": "python",
     "metadata": {},
     "outputs": [],
     "prompt_number": 20
    },
    {
     "cell_type": "code",
     "collapsed": false,
     "input": [
      "def get_data(offset=0, limit=100, df=None):\n",
      "  url = api_url + '&offset=' + str(offset) + '&limit=' + str(limit)\n",
      "  r = requests.get(url, headers=headers)\n",
      "  x = pd.DataFrame(r.json())\n",
      "  x = x['data'].apply(pd.Series)\n",
      "  df = df.append(x, ignore_index=True)\n",
      "\n",
      "  if total > offset + limit:\n",
      "    return get_data(offset + limit, limit, df)\n",
      "    \n",
      "  return df\n",
      "\n",
      "df = get_data(df=df)"
     ],
     "language": "python",
     "metadata": {},
     "outputs": [],
     "prompt_number": 21
    },
    {
     "cell_type": "code",
     "collapsed": false,
     "input": [
      "len(df)"
     ],
     "language": "python",
     "metadata": {},
     "outputs": [
      {
       "metadata": {},
       "output_type": "pyout",
       "prompt_number": 22,
       "text": [
        "1963"
       ]
      }
     ],
     "prompt_number": 22
    },
    {
     "cell_type": "code",
     "collapsed": false,
     "input": [
      "df['id'].duplicated().value_counts()"
     ],
     "language": "python",
     "metadata": {},
     "outputs": [
      {
       "metadata": {},
       "output_type": "pyout",
       "prompt_number": 23,
       "text": [
        "False    1954\n",
        "True        9\n",
        "dtype: int64"
       ]
      }
     ],
     "prompt_number": 23
    },
    {
     "cell_type": "code",
     "collapsed": false,
     "input": [
      "df = df.dropna(how='all')"
     ],
     "language": "python",
     "metadata": {},
     "outputs": [],
     "prompt_number": 24
    },
    {
     "cell_type": "code",
     "collapsed": false,
     "input": [
      "len(df)"
     ],
     "language": "python",
     "metadata": {},
     "outputs": [
      {
       "metadata": {},
       "output_type": "pyout",
       "prompt_number": 25,
       "text": [
        "1953"
       ]
      }
     ],
     "prompt_number": 25
    },
    {
     "cell_type": "code",
     "collapsed": false,
     "input": [
      "df['id'].duplicated().value_counts()"
     ],
     "language": "python",
     "metadata": {},
     "outputs": [
      {
       "metadata": {},
       "output_type": "pyout",
       "prompt_number": 26,
       "text": [
        "False    1953\n",
        "dtype: int64"
       ]
      }
     ],
     "prompt_number": 26
    },
    {
     "cell_type": "code",
     "collapsed": false,
     "input": [
      "df.tail()"
     ],
     "language": "python",
     "metadata": {},
     "outputs": [
      {
       "html": [
        "<div style=\"max-height:1000px;max-width:1500px;overflow:auto;\">\n",
        "<table border=\"1\" class=\"dataframe\">\n",
        "  <thead>\n",
        "    <tr style=\"text-align: right;\">\n",
        "      <th></th>\n",
        "      <th>content</th>\n",
        "      <th>contentEnglish</th>\n",
        "      <th>createdAt</th>\n",
        "      <th>entities</th>\n",
        "      <th>fromURL</th>\n",
        "      <th>geo</th>\n",
        "      <th>id</th>\n",
        "      <th>image</th>\n",
        "      <th>language</th>\n",
        "      <th>license</th>\n",
        "      <th>lifespan</th>\n",
        "      <th>publishedAt</th>\n",
        "      <th>remoteID</th>\n",
        "      <th>source</th>\n",
        "      <th>summary</th>\n",
        "      <th>tags</th>\n",
        "      <th>updatedAt</th>\n",
        "      <th>video</th>\n",
        "    </tr>\n",
        "  </thead>\n",
        "  <tbody>\n",
        "    <tr>\n",
        "      <th>1948</th>\n",
        "      <td> \u0631\u064a\u0641 \u062f\u0645\u0634\u0642 | \u0642\u0635\u0641 \u0645\u062f\u0641\u0639\u064a \u0639\u0646\u064a\u0641 \u064a\u0633\u062a\u0647\u062f\u0641 \u0628\u0644\u062f\u0629 #\u0628\u064a\u062a_\u062c\u0646 ...</td>\n",
        "      <td>                                               NaN</td>\n",
        "      <td> 2014-05-09T23:26:27.216216</td>\n",
        "      <td>                                           [Syria]</td>\n",
        "      <td> http://facebook.com/586987611378832_6187204048...</td>\n",
        "      <td> {'coords': [38.473472595214844, 35.03312683105...</td>\n",
        "      <td> IQRRxNczQE2hvea6I60sNw</td>\n",
        "      <td>                                               NaN</td>\n",
        "      <td> {'nativeName': '\u0627\u0644\u0639\u0631\u0628\u064a\u0629', 'code': 'ar', 'name'...</td>\n",
        "      <td> facebook</td>\n",
        "      <td> temporary</td>\n",
        "      <td> 2014-04-04T13:13:12+00:00</td>\n",
        "      <td> 586987611378832_618720404872219</td>\n",
        "      <td> facebook</td>\n",
        "      <td> \u0631\u064a\u0641 \u062f\u0645\u0634\u0642 | \u0642\u0635\u0641 \u0645\u062f\u0641\u0639\u064a \u0639\u0646\u064a\u0641 \u064a\u0633\u062a\u0647\u062f\u0641 \u0628\u0644\u062f\u0629 #\u0628\u064a\u062a_\u062c\u0646 ...</td>\n",
        "      <td>                                               NaN</td>\n",
        "      <td> 2014-06-01T01:21:38.004053</td>\n",
        "      <td> NaN</td>\n",
        "    </tr>\n",
        "    <tr>\n",
        "      <th>1949</th>\n",
        "      <td> #\u062f\u0631\u0639\u0627 #\u0627\u0644\u0646\u0639\u064a\u0645\u0629 #\u0627\u0644\u0645\u0643\u062a\u0628 \u0627\u0644\u0625\u0639\u0644\u0627\u0645\u064a\\n \u0645\u0644\u062e\u0635 \u0627\u0644\u0623\u062d\u062f\u0627\u062b...</td>\n",
        "      <td> # Shield # Naima # media summary of events in ...</td>\n",
        "      <td> 2014-05-09T23:01:07.636680</td>\n",
        "      <td> [Shield, Horan, Al, Sharif, Damascus, Saida, N...</td>\n",
        "      <td> http://facebook.com/145605272242389_3755438792...</td>\n",
        "      <td> {'coords': [38.473472595214844, 35.03312683105...</td>\n",
        "      <td> WcE_Hv4AQIOprChDieI33g</td>\n",
        "      <td> https://fbexternal-a.akamaihd.net/safe_image.p...</td>\n",
        "      <td> {'nativeName': '\u0627\u0644\u0639\u0631\u0628\u064a\u0629', 'code': 'ar', 'name'...</td>\n",
        "      <td> facebook</td>\n",
        "      <td> temporary</td>\n",
        "      <td> 2014-03-11T17:56:27+00:00</td>\n",
        "      <td> 145605272242389_375543879254407</td>\n",
        "      <td> facebook</td>\n",
        "      <td> #\u062f\u0631\u0639\u0627 #\u0627\u0644\u0646\u0639\u064a\u0645\u0629 #\u0627\u0644\u0645\u0643\u062a\u0628 \u0627\u0644\u0625\u0639\u0644\u0627\u0645\u064a\\n \u0645\u0644\u062e\u0635 \u0627\u0644\u0623\u062d\u062f\u0627\u062b...</td>\n",
        "      <td> [{'confidence': 1, 'name': 'armed-conflict'}, ...</td>\n",
        "      <td> 2014-06-01T01:11:24.968054</td>\n",
        "      <td> NaN</td>\n",
        "    </tr>\n",
        "    <tr>\n",
        "      <th>1950</th>\n",
        "      <td> #\u0645\u0643\u062a\u0628_\u062f\u0645\u0634\u0642_\u0627\u0644\u0625\u0639\u0644\u0627\u0645\u064a | #\u0631\u064a\u0641_\u062f\u0645\u0634\u0642 #\u062e\u0627\u0646_\u0627\u0644\u0634\u064a\u062d | 1...</td>\n",
        "      <td>                                               NaN</td>\n",
        "      <td> 2014-05-29T07:25:33.910092</td>\n",
        "      <td>                                               NaN</td>\n",
        "      <td> http://facebook.com/404944432957125_5598555774...</td>\n",
        "      <td> {'locationIdentifiers': {'authorLocationName':...</td>\n",
        "      <td> HlcVs8Y1QQGR4Xy7QOZzdQ</td>\n",
        "      <td>                                               NaN</td>\n",
        "      <td>                                               NaN</td>\n",
        "      <td> facebook</td>\n",
        "      <td> temporary</td>\n",
        "      <td> 2014-02-19T15:26:40+00:00</td>\n",
        "      <td> 404944432957125_559855577466009</td>\n",
        "      <td> facebook</td>\n",
        "      <td> #\u0645\u0643\u062a\u0628_\u062f\u0645\u0634\u0642_\u0627\u0644\u0625\u0639\u0644\u0627\u0645\u064a | #\u0631\u064a\u0641_\u062f\u0645\u0634\u0642 #\u062e\u0627\u0646_\u0627\u0644\u0634\u064a\u062d | 1...</td>\n",
        "      <td>                                               NaN</td>\n",
        "      <td> 2014-06-01T03:58:14.667687</td>\n",
        "      <td> NaN</td>\n",
        "    </tr>\n",
        "    <tr>\n",
        "      <th>1951</th>\n",
        "      <td> #\u0645\u0643\u062a\u0628_\u062f\u0645\u0634\u0642_\u0627\u0644\u0625\u0639\u0644\u0627\u0645\u064a | #\u0631\u064a\u0641_\u062f\u0645\u0634\u0642 #\u062e\u0627\u0646_\u0627\u0644\u0634\u064a\u062d | 1...</td>\n",
        "      <td>                                               NaN</td>\n",
        "      <td> 2014-05-29T01:44:38.275367</td>\n",
        "      <td>                                               NaN</td>\n",
        "      <td> http://facebook.com/404944432957125_5598555774...</td>\n",
        "      <td> {'locationIdentifiers': {'authorLocationName':...</td>\n",
        "      <td> dYTu1npAS1C_SHiiwO3fpA</td>\n",
        "      <td>                                               NaN</td>\n",
        "      <td>                                               NaN</td>\n",
        "      <td> facebook</td>\n",
        "      <td> temporary</td>\n",
        "      <td> 2014-02-19T15:26:40+00:00</td>\n",
        "      <td> 404944432957125_559855577466009</td>\n",
        "      <td> facebook</td>\n",
        "      <td> #\u0645\u0643\u062a\u0628_\u062f\u0645\u0634\u0642_\u0627\u0644\u0625\u0639\u0644\u0627\u0645\u064a | #\u0631\u064a\u0641_\u062f\u0645\u0634\u0642 #\u062e\u0627\u0646_\u0627\u0644\u0634\u064a\u062d | 1...</td>\n",
        "      <td>                                               NaN</td>\n",
        "      <td> 2014-06-01T04:24:42.546169</td>\n",
        "      <td> NaN</td>\n",
        "    </tr>\n",
        "    <tr>\n",
        "      <th>1952</th>\n",
        "      <td> \u0643\u062a\u064a\u0628\u0629 \u0623\u0647\u0644 \u0627\u0644\u0634\u0627\u0645 \\n\u0641\u0631\u064a\u0642 \u0627\u0644\u0647\u0646\u062f\u0633\u0629 \u0641\u064a \u0643\u062a\u064a\u0628\u0629 \u0623\u0647\u0644 \u0627\u0644...</td>\n",
        "      <td>                                               NaN</td>\n",
        "      <td> 2014-05-09T23:24:20.012819</td>\n",
        "      <td>                                           [Syria]</td>\n",
        "      <td> http://facebook.com/160281484046749_4222660978...</td>\n",
        "      <td> {'coords': [38.473472595214844, 35.03312683105...</td>\n",
        "      <td> eQgxF4SXTxuOVNfNi0FyHw</td>\n",
        "      <td> https://fbexternal-a.akamaihd.net/safe_image.p...</td>\n",
        "      <td> {'nativeName': '\u0627\u0644\u0639\u0631\u0628\u064a\u0629', 'code': 'ar', 'name'...</td>\n",
        "      <td> facebook</td>\n",
        "      <td> temporary</td>\n",
        "      <td> 2014-02-11T21:13:47+00:00</td>\n",
        "      <td> 160281484046749_422266097877054</td>\n",
        "      <td> facebook</td>\n",
        "      <td> \u0643\u062a\u064a\u0628\u0629 \u0623\u0647\u0644 \u0627\u0644\u0634\u0627\u0645 \\n\u0641\u0631\u064a\u0642 \u0627\u0644\u0647\u0646\u062f\u0633\u0629 \u0641\u064a \u0643\u062a\u064a\u0628\u0629 \u0623\u0647\u0644 \u0627\u0644...</td>\n",
        "      <td>                                               NaN</td>\n",
        "      <td> 2014-06-01T01:22:46.595711</td>\n",
        "      <td> NaN</td>\n",
        "    </tr>\n",
        "  </tbody>\n",
        "</table>\n",
        "<p>5 rows \u00d7 18 columns</p>\n",
        "</div>"
       ],
       "metadata": {},
       "output_type": "pyout",
       "prompt_number": 27,
       "text": [
        "                                                content  \\\n",
        "1948  \u0631\u064a\u0641 \u062f\u0645\u0634\u0642 | \u0642\u0635\u0641 \u0645\u062f\u0641\u0639\u064a \u0639\u0646\u064a\u0641 \u064a\u0633\u062a\u0647\u062f\u0641 \u0628\u0644\u062f\u0629 #\u0628\u064a\u062a_\u062c\u0646 ...   \n",
        "1949  #\u062f\u0631\u0639\u0627 #\u0627\u0644\u0646\u0639\u064a\u0645\u0629 #\u0627\u0644\u0645\u0643\u062a\u0628 \u0627\u0644\u0625\u0639\u0644\u0627\u0645\u064a\\n \u0645\u0644\u062e\u0635 \u0627\u0644\u0623\u062d\u062f\u0627\u062b...   \n",
        "1950  #\u0645\u0643\u062a\u0628_\u062f\u0645\u0634\u0642_\u0627\u0644\u0625\u0639\u0644\u0627\u0645\u064a | #\u0631\u064a\u0641_\u062f\u0645\u0634\u0642 #\u062e\u0627\u0646_\u0627\u0644\u0634\u064a\u062d | 1...   \n",
        "1951  #\u0645\u0643\u062a\u0628_\u062f\u0645\u0634\u0642_\u0627\u0644\u0625\u0639\u0644\u0627\u0645\u064a | #\u0631\u064a\u0641_\u062f\u0645\u0634\u0642 #\u062e\u0627\u0646_\u0627\u0644\u0634\u064a\u062d | 1...   \n",
        "1952  \u0643\u062a\u064a\u0628\u0629 \u0623\u0647\u0644 \u0627\u0644\u0634\u0627\u0645 \\n\u0641\u0631\u064a\u0642 \u0627\u0644\u0647\u0646\u062f\u0633\u0629 \u0641\u064a \u0643\u062a\u064a\u0628\u0629 \u0623\u0647\u0644 \u0627\u0644...   \n",
        "\n",
        "                                         contentEnglish  \\\n",
        "1948                                                NaN   \n",
        "1949  # Shield # Naima # media summary of events in ...   \n",
        "1950                                                NaN   \n",
        "1951                                                NaN   \n",
        "1952                                                NaN   \n",
        "\n",
        "                       createdAt  \\\n",
        "1948  2014-05-09T23:26:27.216216   \n",
        "1949  2014-05-09T23:01:07.636680   \n",
        "1950  2014-05-29T07:25:33.910092   \n",
        "1951  2014-05-29T01:44:38.275367   \n",
        "1952  2014-05-09T23:24:20.012819   \n",
        "\n",
        "                                               entities  \\\n",
        "1948                                            [Syria]   \n",
        "1949  [Shield, Horan, Al, Sharif, Damascus, Saida, N...   \n",
        "1950                                                NaN   \n",
        "1951                                                NaN   \n",
        "1952                                            [Syria]   \n",
        "\n",
        "                                                fromURL  \\\n",
        "1948  http://facebook.com/586987611378832_6187204048...   \n",
        "1949  http://facebook.com/145605272242389_3755438792...   \n",
        "1950  http://facebook.com/404944432957125_5598555774...   \n",
        "1951  http://facebook.com/404944432957125_5598555774...   \n",
        "1952  http://facebook.com/160281484046749_4222660978...   \n",
        "\n",
        "                                                    geo  \\\n",
        "1948  {'coords': [38.473472595214844, 35.03312683105...   \n",
        "1949  {'coords': [38.473472595214844, 35.03312683105...   \n",
        "1950  {'locationIdentifiers': {'authorLocationName':...   \n",
        "1951  {'locationIdentifiers': {'authorLocationName':...   \n",
        "1952  {'coords': [38.473472595214844, 35.03312683105...   \n",
        "\n",
        "                          id  \\\n",
        "1948  IQRRxNczQE2hvea6I60sNw   \n",
        "1949  WcE_Hv4AQIOprChDieI33g   \n",
        "1950  HlcVs8Y1QQGR4Xy7QOZzdQ   \n",
        "1951  dYTu1npAS1C_SHiiwO3fpA   \n",
        "1952  eQgxF4SXTxuOVNfNi0FyHw   \n",
        "\n",
        "                                                  image  \\\n",
        "1948                                                NaN   \n",
        "1949  https://fbexternal-a.akamaihd.net/safe_image.p...   \n",
        "1950                                                NaN   \n",
        "1951                                                NaN   \n",
        "1952  https://fbexternal-a.akamaihd.net/safe_image.p...   \n",
        "\n",
        "                                               language   license   lifespan  \\\n",
        "1948  {'nativeName': '\u0627\u0644\u0639\u0631\u0628\u064a\u0629', 'code': 'ar', 'name'...  facebook  temporary   \n",
        "1949  {'nativeName': '\u0627\u0644\u0639\u0631\u0628\u064a\u0629', 'code': 'ar', 'name'...  facebook  temporary   \n",
        "1950                                                NaN  facebook  temporary   \n",
        "1951                                                NaN  facebook  temporary   \n",
        "1952  {'nativeName': '\u0627\u0644\u0639\u0631\u0628\u064a\u0629', 'code': 'ar', 'name'...  facebook  temporary   \n",
        "\n",
        "                    publishedAt                         remoteID    source  \\\n",
        "1948  2014-04-04T13:13:12+00:00  586987611378832_618720404872219  facebook   \n",
        "1949  2014-03-11T17:56:27+00:00  145605272242389_375543879254407  facebook   \n",
        "1950  2014-02-19T15:26:40+00:00  404944432957125_559855577466009  facebook   \n",
        "1951  2014-02-19T15:26:40+00:00  404944432957125_559855577466009  facebook   \n",
        "1952  2014-02-11T21:13:47+00:00  160281484046749_422266097877054  facebook   \n",
        "\n",
        "                                                summary  \\\n",
        "1948  \u0631\u064a\u0641 \u062f\u0645\u0634\u0642 | \u0642\u0635\u0641 \u0645\u062f\u0641\u0639\u064a \u0639\u0646\u064a\u0641 \u064a\u0633\u062a\u0647\u062f\u0641 \u0628\u0644\u062f\u0629 #\u0628\u064a\u062a_\u062c\u0646 ...   \n",
        "1949  #\u062f\u0631\u0639\u0627 #\u0627\u0644\u0646\u0639\u064a\u0645\u0629 #\u0627\u0644\u0645\u0643\u062a\u0628 \u0627\u0644\u0625\u0639\u0644\u0627\u0645\u064a\\n \u0645\u0644\u062e\u0635 \u0627\u0644\u0623\u062d\u062f\u0627\u062b...   \n",
        "1950  #\u0645\u0643\u062a\u0628_\u062f\u0645\u0634\u0642_\u0627\u0644\u0625\u0639\u0644\u0627\u0645\u064a | #\u0631\u064a\u0641_\u062f\u0645\u0634\u0642 #\u062e\u0627\u0646_\u0627\u0644\u0634\u064a\u062d | 1...   \n",
        "1951  #\u0645\u0643\u062a\u0628_\u062f\u0645\u0634\u0642_\u0627\u0644\u0625\u0639\u0644\u0627\u0645\u064a | #\u0631\u064a\u0641_\u062f\u0645\u0634\u0642 #\u062e\u0627\u0646_\u0627\u0644\u0634\u064a\u062d | 1...   \n",
        "1952  \u0643\u062a\u064a\u0628\u0629 \u0623\u0647\u0644 \u0627\u0644\u0634\u0627\u0645 \\n\u0641\u0631\u064a\u0642 \u0627\u0644\u0647\u0646\u062f\u0633\u0629 \u0641\u064a \u0643\u062a\u064a\u0628\u0629 \u0623\u0647\u0644 \u0627\u0644...   \n",
        "\n",
        "                                                   tags  \\\n",
        "1948                                                NaN   \n",
        "1949  [{'confidence': 1, 'name': 'armed-conflict'}, ...   \n",
        "1950                                                NaN   \n",
        "1951                                                NaN   \n",
        "1952                                                NaN   \n",
        "\n",
        "                       updatedAt video  \n",
        "1948  2014-06-01T01:21:38.004053   NaN  \n",
        "1949  2014-06-01T01:11:24.968054   NaN  \n",
        "1950  2014-06-01T03:58:14.667687   NaN  \n",
        "1951  2014-06-01T04:24:42.546169   NaN  \n",
        "1952  2014-06-01T01:22:46.595711   NaN  \n",
        "\n",
        "[5 rows x 18 columns]"
       ]
      }
     ],
     "prompt_number": 27
    },
    {
     "cell_type": "code",
     "collapsed": false,
     "input": [
      "# Define a function that,\n",
      "def expand_df(df):\n",
      "    df[\"publishedAt\"] = pd.to_datetime(df[\"publishedAt\"])\n",
      "    # sets it as the dataframe's index,\n",
      "    df.index = df['publishedAt']\n",
      "    # expands the df.geo object,\n",
      "    geo_df = df['geo'].apply(pd.Series)\n",
      "    # expands the admin zones,\n",
      "    geo_admin_df = geo_df['addressComponents'].apply(pd.Series)\n",
      "    # merges the admin zones back into the dataframe,\n",
      "    df = pd.concat([df[:], geo_admin_df[:], geo_df[:]], axis=1)\n",
      "    # seperates the lat and long objects,\n",
      "    df['latitude'], df['longitude'] = df['coords'].str[1], df['coords'].str[0]\n",
      "    # expands df.tags,\n",
      "    tags_df = df['tags'].apply(pd.Series)\n",
      "    # defines a function called tag_extractor,\n",
      "    def tag_extractor(x):\n",
      "        # that, if x is a string,\n",
      "        if type(x) is float:\n",
      "            # just returns it untouched\n",
      "            return x\n",
      "        # but, if not, convert x to a dict() and return the value\n",
      "        elif x:\n",
      "            x = dict(x)\n",
      "            return x['name']\n",
      "        # and leave everything else\n",
      "        else:\n",
      "            return\n",
      "    # executes tag_extractor on the tags dataframe,\n",
      "    tags_df = tags_df.applymap(tag_extractor)\n",
      "    # renames all the tag columns,\n",
      "    tags_df = tags_df.rename(columns = lambda x : 'tag_' + str(x))\n",
      "    # merges everything back together,\n",
      "    df = pd.concat([df[:], tags_df[:]], axis=1)\n",
      "    # expands df.language,\n",
      "    lang_df = df['language'].apply(pd.Series)\n",
      "    # takes the language code,\n",
      "    df['lang'] = lang_df['code']\n",
      "    # and finally returns the primary dataframe\n",
      "    return df"
     ],
     "language": "python",
     "metadata": {},
     "outputs": [],
     "prompt_number": 28
    },
    {
     "cell_type": "code",
     "collapsed": false,
     "input": [
      "df = expand_df(df)"
     ],
     "language": "python",
     "metadata": {},
     "outputs": [],
     "prompt_number": 29
    },
    {
     "cell_type": "code",
     "collapsed": false,
     "input": [
      "len(df)"
     ],
     "language": "python",
     "metadata": {},
     "outputs": [
      {
       "metadata": {},
       "output_type": "pyout",
       "prompt_number": 30,
       "text": [
        "1953"
       ]
      }
     ],
     "prompt_number": 30
    },
    {
     "cell_type": "code",
     "collapsed": false,
     "input": [
      "df_barrel = df[df.contentEnglish.str.contains('barrel') == True]\n",
      "df_barrel.to_csv('barrel_en.csv', encoding='utf-8')"
     ],
     "language": "python",
     "metadata": {},
     "outputs": [],
     "prompt_number": 31
    },
    {
     "cell_type": "code",
     "collapsed": false,
     "input": [
      "df_count = df[:]"
     ],
     "language": "python",
     "metadata": {},
     "outputs": [],
     "prompt_number": 32
    },
    {
     "cell_type": "code",
     "collapsed": false,
     "input": [
      "df_count = df_count.resample('D', 'count')"
     ],
     "language": "python",
     "metadata": {},
     "outputs": [],
     "prompt_number": 33
    },
    {
     "cell_type": "code",
     "collapsed": false,
     "input": [
      "df_count = df_count.unstack()"
     ],
     "language": "python",
     "metadata": {},
     "outputs": [],
     "prompt_number": 34
    },
    {
     "cell_type": "code",
     "collapsed": false,
     "input": [
      "df_count = df_count.truncate(before='2014-05-07')"
     ],
     "language": "python",
     "metadata": {},
     "outputs": [],
     "prompt_number": 35
    },
    {
     "cell_type": "code",
     "collapsed": false,
     "input": [
      "df['barrel_reports'] = df_count['contentEnglish']"
     ],
     "language": "python",
     "metadata": {},
     "outputs": [],
     "prompt_number": 36
    },
    {
     "cell_type": "code",
     "collapsed": false,
     "input": [
      "df_count_plot = df_count.content.plot(kind='line')"
     ],
     "language": "python",
     "metadata": {},
     "outputs": [
      {
       "metadata": {},
       "output_type": "display_data",
       "png": "[encoded data removed]",
       "text": [
        "<matplotlib.figure.Figure at 0x10a8b1110>"
       ]
      }
     ],
     "prompt_number": 37
    },
    {
     "cell_type": "code",
     "collapsed": false,
     "input": [
      "fig_count = df_count_plot.get_figure()\n",
      "fig_count.savefig('df_count_plot.svg')"
     ],
     "language": "python",
     "metadata": {},
     "outputs": [],
     "prompt_number": 38
    },
    {
     "cell_type": "code",
     "collapsed": false,
     "input": [
      "df.to_csv('barrel_reports.csv', encoding='utf-8')"
     ],
     "language": "python",
     "metadata": {},
     "outputs": [],
     "prompt_number": 39
    },
    {
     "cell_type": "code",
     "collapsed": false,
     "input": [
      "attacks = pd.DataFrame(df_count['content'])"
     ],
     "language": "python",
     "metadata": {},
     "outputs": [],
     "prompt_number": 40
    },
    {
     "cell_type": "code",
     "collapsed": false,
     "input": [
      "daraa = df.content.str.contains('\u062f\u0631\u0639\u0627')\n",
      "daraa = daraa.resample('D', 'sum')\n",
      "daraa = daraa.truncate(before='2014-05-07')\n",
      "daraa = pd.Series(daraa)"
     ],
     "language": "python",
     "metadata": {},
     "outputs": [],
     "prompt_number": 41
    },
    {
     "cell_type": "code",
     "collapsed": false,
     "input": [
      "aleppo = df.content.str.contains('\u062d\u0644\u0628')\n",
      "aleppo = aleppo.resample('D', 'sum')\n",
      "aleppo = aleppo.truncate(before='2014-05-07')\n",
      "aleppo = pd.Series(aleppo)"
     ],
     "language": "python",
     "metadata": {},
     "outputs": [],
     "prompt_number": 42
    },
    {
     "cell_type": "code",
     "collapsed": false,
     "input": [
      "damascus = df.content.str.contains('\u062f\u0645\u0634\u0642')\n",
      "damascus = damascus.resample('D', 'sum')\n",
      "damascus = damascus.truncate(before='2014-05-07')\n",
      "damascus = pd.Series(damascus)"
     ],
     "language": "python",
     "metadata": {},
     "outputs": [],
     "prompt_number": 43
    },
    {
     "cell_type": "code",
     "collapsed": false,
     "input": [
      "homs = df.content.str.contains('\u062d\u0645\u0635')\n",
      "homs = homs.resample('D', 'sum')\n",
      "homs = homs.truncate(before='2014-05-07')\n",
      "homs = pd.Series(homs)"
     ],
     "language": "python",
     "metadata": {},
     "outputs": [],
     "prompt_number": 44
    },
    {
     "cell_type": "code",
     "collapsed": false,
     "input": [
      "hama = df.content.str.contains('\u062d\u0645\u0627\u0629')\n",
      "hama = hama.resample('D', 'sum')\n",
      "hama = hama.truncate(before='2014-05-07')\n",
      "hama = pd.Series(hama)"
     ],
     "language": "python",
     "metadata": {},
     "outputs": [],
     "prompt_number": 45
    },
    {
     "cell_type": "code",
     "collapsed": false,
     "input": [
      "latakia = df.content.str.contains('\u0627\u0644\u0644\u0627\u0630\u0642\u064a\u0629')\n",
      "latakia = latakia.resample('D', 'sum')\n",
      "latakia = latakia.truncate(before='2014-05-07')\n",
      "latakia = pd.Series(latakia)"
     ],
     "language": "python",
     "metadata": {},
     "outputs": [],
     "prompt_number": 46
    },
    {
     "cell_type": "code",
     "collapsed": false,
     "input": [
      "ar_raqqah = df.content.str.contains('\u0627\u0644\u0631\u0642\u0629')\n",
      "ar_raqqah = ar_raqqah.resample('D', 'sum')\n",
      "ar_raqqah = ar_raqqah.truncate(before='2014-05-07')\n",
      "ar_raqqah = pd.Series(ar_raqqah)"
     ],
     "language": "python",
     "metadata": {},
     "outputs": [],
     "prompt_number": 47
    },
    {
     "cell_type": "code",
     "collapsed": false,
     "input": [
      "deir_ez_zor = df.content.str.contains('\u062f\u064a\u0631 \u0627\u0644\u0632\u0648\u0631')\n",
      "deir_ez_zor = deir_ez_zor.resample('D', 'sum')\n",
      "deir_ez_zor = deir_ez_zor.truncate(before='2014-05-07')\n",
      "deir_ez_zor = pd.Series(deir_ez_zor)"
     ],
     "language": "python",
     "metadata": {},
     "outputs": [],
     "prompt_number": 48
    },
    {
     "cell_type": "code",
     "collapsed": false,
     "input": [
      "al_hasakah = df.content.str.contains('\u0627\u0644\u062d\u0633\u0643\u0629')\n",
      "al_hasakah = al_hasakah.resample('D', 'sum')\n",
      "al_hasakah = al_hasakah.truncate(before='2014-05-07')\n",
      "al_hasakah = pd.Series(al_hasakah)"
     ],
     "language": "python",
     "metadata": {},
     "outputs": [],
     "prompt_number": 49
    },
    {
     "cell_type": "code",
     "collapsed": false,
     "input": [
      "qamishli = df.content.str.contains('\u0627\u0644\u0642\u0627\u0645\u0634\u0644\u064a')\n",
      "qamishli = qamishli.resample('D', 'sum')\n",
      "qamishli = qamishli.truncate(before='2014-05-07')\n",
      "qamishli = pd.Series(qamishli)"
     ],
     "language": "python",
     "metadata": {},
     "outputs": [],
     "prompt_number": 50
    },
    {
     "cell_type": "code",
     "collapsed": false,
     "input": [
      "tartus = df.content.str.contains('\u0637\u0631\u0637\u0648\u0633')\n",
      "tartus = tartus.resample('D', 'sum')\n",
      "tartus = tartus.truncate(before='2014-05-07')\n",
      "tartus = pd.Series(tartus)"
     ],
     "language": "python",
     "metadata": {},
     "outputs": [],
     "prompt_number": 51
    },
    {
     "cell_type": "code",
     "collapsed": false,
     "input": [
      "douma = df.content.str.contains('\u062f\u0648\u0645\u0627')\n",
      "douma = douma.resample('D', 'sum')\n",
      "douma = douma.truncate(before='2014-05-07')\n",
      "douma = pd.Series(douma)"
     ],
     "language": "python",
     "metadata": {},
     "outputs": [],
     "prompt_number": 52
    },
    {
     "cell_type": "code",
     "collapsed": false,
     "input": [
      "manbij = df.content.str.contains('\u0645\u0646\u0628\u062c')\n",
      "manbij = manbij.resample('D', 'sum')\n",
      "manbij = manbij.truncate(before='2014-05-07')\n",
      "manbij = pd.Series(manbij)"
     ],
     "language": "python",
     "metadata": {},
     "outputs": [],
     "prompt_number": 53
    },
    {
     "cell_type": "code",
     "collapsed": false,
     "input": [
      "idlib = df.content.str.contains('\u0627\u062f\u0644\u0628')\n",
      "idlib = idlib.resample('D', 'sum')\n",
      "idlib = idlib.truncate(before='2014-05-07')\n",
      "idlib = pd.Series(idlib)"
     ],
     "language": "python",
     "metadata": {},
     "outputs": [],
     "prompt_number": 54
    },
    {
     "cell_type": "code",
     "collapsed": false,
     "input": [
      "darayya = df.content.str.contains('\u062f\u0627\u0631\u064a\u0627')\n",
      "darayya = darayya.resample('D', 'sum')\n",
      "darayya = darayya.truncate(before='2014-05-07')\n",
      "darayya = pd.Series(darayya)"
     ],
     "language": "python",
     "metadata": {},
     "outputs": [],
     "prompt_number": 55
    },
    {
     "cell_type": "code",
     "collapsed": false,
     "input": [],
     "language": "python",
     "metadata": {},
     "outputs": [],
     "prompt_number": 55
    },
    {
     "cell_type": "code",
     "collapsed": false,
     "input": [
      "attacks = pd.concat([daraa, aleppo , damascus, homs, \n",
      "          hama, latakia, ar_raqqah, deir_ez_zor, \n",
      "          al_hasakah, qamishli, tartus, douma, \n",
      "          manbij, idlib, darayya], axis=1)"
     ],
     "language": "python",
     "metadata": {},
     "outputs": [],
     "prompt_number": 56
    },
    {
     "cell_type": "code",
     "collapsed": false,
     "input": [
      "attacks.columns = ['daraa', 'aleppo' , 'damascus', 'homs', \n",
      "          'hama', 'latakia', 'ar_raqqah', 'deir_ez_zor', \n",
      "          'al_hasakah', 'qamishli', 'tartus', 'douma', \n",
      "          'manbij', 'idlib', 'darayya']"
     ],
     "language": "python",
     "metadata": {},
     "outputs": [],
     "prompt_number": 57
    },
    {
     "cell_type": "code",
     "collapsed": false,
     "input": [
      "attacks_major = attacks.apply(lambda x: x if x.sum() >= 50 else np.NaN)\n",
      "attacks_major = attacks_major.dropna(axis=1, how='all')\n",
      "attacks_major"
     ],
     "language": "python",
     "metadata": {},
     "outputs": [
      {
       "html": [
        "<div style=\"max-height:1000px;max-width:1500px;overflow:auto;\">\n",
        "<table border=\"1\" class=\"dataframe\">\n",
        "  <thead>\n",
        "    <tr style=\"text-align: right;\">\n",
        "      <th></th>\n",
        "      <th>daraa</th>\n",
        "      <th>aleppo</th>\n",
        "      <th>damascus</th>\n",
        "      <th>hama</th>\n",
        "      <th>darayya</th>\n",
        "    </tr>\n",
        "    <tr>\n",
        "      <th>publishedAt</th>\n",
        "      <th></th>\n",
        "      <th></th>\n",
        "      <th></th>\n",
        "      <th></th>\n",
        "      <th></th>\n",
        "    </tr>\n",
        "  </thead>\n",
        "  <tbody>\n",
        "    <tr>\n",
        "      <th>2014-05-07</th>\n",
        "      <td>  1</td>\n",
        "      <td>  0</td>\n",
        "      <td>  0</td>\n",
        "      <td>  0</td>\n",
        "      <td>  0</td>\n",
        "    </tr>\n",
        "    <tr>\n",
        "      <th>2014-05-08</th>\n",
        "      <td>  1</td>\n",
        "      <td>  0</td>\n",
        "      <td>  0</td>\n",
        "      <td>  0</td>\n",
        "      <td>  0</td>\n",
        "    </tr>\n",
        "    <tr>\n",
        "      <th>2014-05-09</th>\n",
        "      <td>  8</td>\n",
        "      <td>  5</td>\n",
        "      <td>  4</td>\n",
        "      <td>  0</td>\n",
        "      <td>  2</td>\n",
        "    </tr>\n",
        "    <tr>\n",
        "      <th>2014-05-10</th>\n",
        "      <td>  4</td>\n",
        "      <td>  2</td>\n",
        "      <td>  2</td>\n",
        "      <td>  0</td>\n",
        "      <td>  1</td>\n",
        "    </tr>\n",
        "    <tr>\n",
        "      <th>2014-05-11</th>\n",
        "      <td> 15</td>\n",
        "      <td>  5</td>\n",
        "      <td>  3</td>\n",
        "      <td>  4</td>\n",
        "      <td>  0</td>\n",
        "    </tr>\n",
        "    <tr>\n",
        "      <th>2014-05-12</th>\n",
        "      <td>  2</td>\n",
        "      <td>  1</td>\n",
        "      <td>  9</td>\n",
        "      <td>  0</td>\n",
        "      <td> 10</td>\n",
        "    </tr>\n",
        "    <tr>\n",
        "      <th>2014-05-13</th>\n",
        "      <td> 20</td>\n",
        "      <td> 16</td>\n",
        "      <td> 14</td>\n",
        "      <td>  1</td>\n",
        "      <td> 17</td>\n",
        "    </tr>\n",
        "    <tr>\n",
        "      <th>2014-05-14</th>\n",
        "      <td> 17</td>\n",
        "      <td> 14</td>\n",
        "      <td> 10</td>\n",
        "      <td>  1</td>\n",
        "      <td>  8</td>\n",
        "    </tr>\n",
        "    <tr>\n",
        "      <th>2014-05-15</th>\n",
        "      <td> 25</td>\n",
        "      <td> 11</td>\n",
        "      <td>  7</td>\n",
        "      <td>  2</td>\n",
        "      <td>  7</td>\n",
        "    </tr>\n",
        "    <tr>\n",
        "      <th>2014-05-16</th>\n",
        "      <td>  3</td>\n",
        "      <td> 13</td>\n",
        "      <td> 25</td>\n",
        "      <td>  3</td>\n",
        "      <td> 24</td>\n",
        "    </tr>\n",
        "    <tr>\n",
        "      <th>2014-05-17</th>\n",
        "      <td> 11</td>\n",
        "      <td>  2</td>\n",
        "      <td> 10</td>\n",
        "      <td>  0</td>\n",
        "      <td> 20</td>\n",
        "    </tr>\n",
        "    <tr>\n",
        "      <th>2014-05-18</th>\n",
        "      <td>  2</td>\n",
        "      <td> 11</td>\n",
        "      <td>  5</td>\n",
        "      <td> 11</td>\n",
        "      <td>  0</td>\n",
        "    </tr>\n",
        "    <tr>\n",
        "      <th>2014-05-19</th>\n",
        "      <td> 15</td>\n",
        "      <td>  4</td>\n",
        "      <td>  9</td>\n",
        "      <td>  6</td>\n",
        "      <td> 12</td>\n",
        "    </tr>\n",
        "    <tr>\n",
        "      <th>2014-05-20</th>\n",
        "      <td> 20</td>\n",
        "      <td> 13</td>\n",
        "      <td>  7</td>\n",
        "      <td>  0</td>\n",
        "      <td>  9</td>\n",
        "    </tr>\n",
        "    <tr>\n",
        "      <th>2014-05-21</th>\n",
        "      <td>  7</td>\n",
        "      <td>  9</td>\n",
        "      <td>  5</td>\n",
        "      <td>  0</td>\n",
        "      <td>  3</td>\n",
        "    </tr>\n",
        "    <tr>\n",
        "      <th>2014-05-22</th>\n",
        "      <td> 12</td>\n",
        "      <td> 14</td>\n",
        "      <td>  2</td>\n",
        "      <td>  5</td>\n",
        "      <td>  0</td>\n",
        "    </tr>\n",
        "    <tr>\n",
        "      <th>2014-05-23</th>\n",
        "      <td> 20</td>\n",
        "      <td> 21</td>\n",
        "      <td>  7</td>\n",
        "      <td>  4</td>\n",
        "      <td>  3</td>\n",
        "    </tr>\n",
        "    <tr>\n",
        "      <th>2014-05-24</th>\n",
        "      <td> 14</td>\n",
        "      <td>  7</td>\n",
        "      <td>  1</td>\n",
        "      <td>  0</td>\n",
        "      <td>  1</td>\n",
        "    </tr>\n",
        "    <tr>\n",
        "      <th>2014-05-25</th>\n",
        "      <td> 41</td>\n",
        "      <td> 19</td>\n",
        "      <td>  3</td>\n",
        "      <td>  1</td>\n",
        "      <td>  0</td>\n",
        "    </tr>\n",
        "    <tr>\n",
        "      <th>2014-05-26</th>\n",
        "      <td> 33</td>\n",
        "      <td> 25</td>\n",
        "      <td>  1</td>\n",
        "      <td>  1</td>\n",
        "      <td>  1</td>\n",
        "    </tr>\n",
        "    <tr>\n",
        "      <th>2014-05-27</th>\n",
        "      <td> 19</td>\n",
        "      <td> 37</td>\n",
        "      <td>  4</td>\n",
        "      <td>  4</td>\n",
        "      <td>  0</td>\n",
        "    </tr>\n",
        "    <tr>\n",
        "      <th>2014-05-28</th>\n",
        "      <td> 25</td>\n",
        "      <td> 38</td>\n",
        "      <td> 10</td>\n",
        "      <td>  2</td>\n",
        "      <td>  0</td>\n",
        "    </tr>\n",
        "    <tr>\n",
        "      <th>2014-05-29</th>\n",
        "      <td> 21</td>\n",
        "      <td> 29</td>\n",
        "      <td> 17</td>\n",
        "      <td>  2</td>\n",
        "      <td>  8</td>\n",
        "    </tr>\n",
        "    <tr>\n",
        "      <th>2014-05-30</th>\n",
        "      <td> 32</td>\n",
        "      <td> 14</td>\n",
        "      <td> 10</td>\n",
        "      <td>  1</td>\n",
        "      <td> 13</td>\n",
        "    </tr>\n",
        "    <tr>\n",
        "      <th>2014-05-31</th>\n",
        "      <td> 12</td>\n",
        "      <td> 43</td>\n",
        "      <td>  3</td>\n",
        "      <td>  0</td>\n",
        "      <td>  3</td>\n",
        "    </tr>\n",
        "    <tr>\n",
        "      <th>2014-06-01</th>\n",
        "      <td> 17</td>\n",
        "      <td> 37</td>\n",
        "      <td>  5</td>\n",
        "      <td>  3</td>\n",
        "      <td>  3</td>\n",
        "    </tr>\n",
        "    <tr>\n",
        "      <th>2014-06-02</th>\n",
        "      <td> 22</td>\n",
        "      <td> 35</td>\n",
        "      <td>  3</td>\n",
        "      <td>  3</td>\n",
        "      <td>  0</td>\n",
        "    </tr>\n",
        "    <tr>\n",
        "      <th>2014-06-03</th>\n",
        "      <td> 16</td>\n",
        "      <td> 50</td>\n",
        "      <td> 13</td>\n",
        "      <td>  6</td>\n",
        "      <td> 27</td>\n",
        "    </tr>\n",
        "    <tr>\n",
        "      <th>2014-06-04</th>\n",
        "      <td> 18</td>\n",
        "      <td> 23</td>\n",
        "      <td> 11</td>\n",
        "      <td>  0</td>\n",
        "      <td> 15</td>\n",
        "    </tr>\n",
        "    <tr>\n",
        "      <th>2014-06-05</th>\n",
        "      <td>  3</td>\n",
        "      <td> 15</td>\n",
        "      <td>  3</td>\n",
        "      <td>  3</td>\n",
        "      <td>  2</td>\n",
        "    </tr>\n",
        "    <tr>\n",
        "      <th>2014-06-06</th>\n",
        "      <td> 12</td>\n",
        "      <td> 13</td>\n",
        "      <td>  1</td>\n",
        "      <td>  0</td>\n",
        "      <td>  0</td>\n",
        "    </tr>\n",
        "    <tr>\n",
        "      <th>2014-06-07</th>\n",
        "      <td>  5</td>\n",
        "      <td> 16</td>\n",
        "      <td>  4</td>\n",
        "      <td>  1</td>\n",
        "      <td>  2</td>\n",
        "    </tr>\n",
        "    <tr>\n",
        "      <th>2014-06-08</th>\n",
        "      <td> 10</td>\n",
        "      <td> 30</td>\n",
        "      <td>  0</td>\n",
        "      <td>  0</td>\n",
        "      <td>  0</td>\n",
        "    </tr>\n",
        "    <tr>\n",
        "      <th>2014-06-09</th>\n",
        "      <td>  7</td>\n",
        "      <td> 19</td>\n",
        "      <td>  0</td>\n",
        "      <td>  0</td>\n",
        "      <td>  0</td>\n",
        "    </tr>\n",
        "    <tr>\n",
        "      <th>2014-06-10</th>\n",
        "      <td> 10</td>\n",
        "      <td> 34</td>\n",
        "      <td>  7</td>\n",
        "      <td>  0</td>\n",
        "      <td>  2</td>\n",
        "    </tr>\n",
        "    <tr>\n",
        "      <th>2014-06-11</th>\n",
        "      <td>  6</td>\n",
        "      <td> 15</td>\n",
        "      <td>  1</td>\n",
        "      <td>  0</td>\n",
        "      <td>  0</td>\n",
        "    </tr>\n",
        "    <tr>\n",
        "      <th>2014-06-12</th>\n",
        "      <td>  5</td>\n",
        "      <td>  9</td>\n",
        "      <td>  2</td>\n",
        "      <td>  1</td>\n",
        "      <td>  0</td>\n",
        "    </tr>\n",
        "    <tr>\n",
        "      <th>2014-06-13</th>\n",
        "      <td>  5</td>\n",
        "      <td> 12</td>\n",
        "      <td>  2</td>\n",
        "      <td>  0</td>\n",
        "      <td>  0</td>\n",
        "    </tr>\n",
        "    <tr>\n",
        "      <th>2014-06-14</th>\n",
        "      <td>  3</td>\n",
        "      <td>  6</td>\n",
        "      <td>  2</td>\n",
        "      <td>  0</td>\n",
        "      <td>  1</td>\n",
        "    </tr>\n",
        "    <tr>\n",
        "      <th>2014-06-15</th>\n",
        "      <td>  1</td>\n",
        "      <td>  9</td>\n",
        "      <td>  1</td>\n",
        "      <td>  0</td>\n",
        "      <td>  1</td>\n",
        "    </tr>\n",
        "    <tr>\n",
        "      <th>2014-06-16</th>\n",
        "      <td> 12</td>\n",
        "      <td>  5</td>\n",
        "      <td>  0</td>\n",
        "      <td>  0</td>\n",
        "      <td>  0</td>\n",
        "    </tr>\n",
        "    <tr>\n",
        "      <th>2014-06-17</th>\n",
        "      <td>  4</td>\n",
        "      <td>  3</td>\n",
        "      <td>  0</td>\n",
        "      <td>  0</td>\n",
        "      <td>  0</td>\n",
        "    </tr>\n",
        "  </tbody>\n",
        "</table>\n",
        "<p>42 rows \u00d7 5 columns</p>\n",
        "</div>"
       ],
       "metadata": {},
       "output_type": "pyout",
       "prompt_number": 58,
       "text": [
        "             daraa  aleppo  damascus  hama  darayya\n",
        "publishedAt                                        \n",
        "2014-05-07       1       0         0     0        0\n",
        "2014-05-08       1       0         0     0        0\n",
        "2014-05-09       8       5         4     0        2\n",
        "2014-05-10       4       2         2     0        1\n",
        "2014-05-11      15       5         3     4        0\n",
        "2014-05-12       2       1         9     0       10\n",
        "2014-05-13      20      16        14     1       17\n",
        "2014-05-14      17      14        10     1        8\n",
        "2014-05-15      25      11         7     2        7\n",
        "2014-05-16       3      13        25     3       24\n",
        "2014-05-17      11       2        10     0       20\n",
        "2014-05-18       2      11         5    11        0\n",
        "2014-05-19      15       4         9     6       12\n",
        "2014-05-20      20      13         7     0        9\n",
        "2014-05-21       7       9         5     0        3\n",
        "2014-05-22      12      14         2     5        0\n",
        "2014-05-23      20      21         7     4        3\n",
        "2014-05-24      14       7         1     0        1\n",
        "2014-05-25      41      19         3     1        0\n",
        "2014-05-26      33      25         1     1        1\n",
        "2014-05-27      19      37         4     4        0\n",
        "2014-05-28      25      38        10     2        0\n",
        "2014-05-29      21      29        17     2        8\n",
        "2014-05-30      32      14        10     1       13\n",
        "2014-05-31      12      43         3     0        3\n",
        "2014-06-01      17      37         5     3        3\n",
        "2014-06-02      22      35         3     3        0\n",
        "2014-06-03      16      50        13     6       27\n",
        "2014-06-04      18      23        11     0       15\n",
        "2014-06-05       3      15         3     3        2\n",
        "2014-06-06      12      13         1     0        0\n",
        "2014-06-07       5      16         4     1        2\n",
        "2014-06-08      10      30         0     0        0\n",
        "2014-06-09       7      19         0     0        0\n",
        "2014-06-10      10      34         7     0        2\n",
        "2014-06-11       6      15         1     0        0\n",
        "2014-06-12       5       9         2     1        0\n",
        "2014-06-13       5      12         2     0        0\n",
        "2014-06-14       3       6         2     0        1\n",
        "2014-06-15       1       9         1     0        1\n",
        "2014-06-16      12       5         0     0        0\n",
        "2014-06-17       4       3         0     0        0\n",
        "\n",
        "[42 rows x 5 columns]"
       ]
      }
     ],
     "prompt_number": 58
    },
    {
     "cell_type": "code",
     "collapsed": false,
     "input": [
      "daraa_plot = attacks['daraa'].plot(ylim=[0,50], kind='line')\n",
      "plt.fill_between(attacks.index, attacks['daraa'])\n",
      "plt.savefig('daraa_plot.svg')"
     ],
     "language": "python",
     "metadata": {},
     "outputs": [
      {
       "metadata": {},
       "output_type": "display_data",
       "png": "[encoded data removed]",
       "text": [
        "<matplotlib.figure.Figure at 0x10939ef10>"
       ]
      }
     ],
     "prompt_number": 59
    },
    {
     "cell_type": "code",
     "collapsed": false,
     "input": [
      "aleppo_plot = attacks['aleppo'].plot(ylim=[0,50], kind='line')\n",
      "plt.fill_between(attacks.index, attacks['aleppo'])\n",
      "plt.savefig('aleppo_plot.svg')"
     ],
     "language": "python",
     "metadata": {},
     "outputs": [
      {
       "metadata": {},
       "output_type": "display_data",
       "png": "[encoded data removed]",
       "text": [
        "<matplotlib.figure.Figure at 0x10939e790>"
       ]
      }
     ],
     "prompt_number": 60
    },
    {
     "cell_type": "code",
     "collapsed": false,
     "input": [
      "damascus_plot = attacks['damascus'].plot(ylim=[0,50], kind='line')\n",
      "plt.fill_between(attacks.index, attacks['damascus'])\n",
      "plt.savefig('damascus_plot.svg')"
     ],
     "language": "python",
     "metadata": {},
     "outputs": [
      {
       "metadata": {},
       "output_type": "display_data",
       "png": "[encoded data removed]",
       "text": [
        "<matplotlib.figure.Figure at 0x10a8cb390>"
       ]
      }
     ],
     "prompt_number": 61
    },
    {
     "cell_type": "code",
     "collapsed": false,
     "input": [
      "homs_plot = attacks['homs'].plot(ylim=[0,50], kind='line')\n",
      "plt.fill_between(attacks.index, attacks['homs'])\n",
      "plt.savefig('homs_plot.svg')"
     ],
     "language": "python",
     "metadata": {},
     "outputs": [
      {
       "metadata": {},
       "output_type": "display_data",
       "png": "[encoded data removed]",
       "text": [
        "<matplotlib.figure.Figure at 0x1094ac5d0>"
       ]
      }
     ],
     "prompt_number": 62
    },
    {
     "cell_type": "code",
     "collapsed": false,
     "input": [
      "hama_plot = attacks['hama'].plot(ylim=[0,50], kind='line')\n",
      "plt.fill_between(attacks.index, attacks['hama'])\n",
      "plt.savefig('hama_plot.svg')"
     ],
     "language": "python",
     "metadata": {},
     "outputs": [
      {
       "metadata": {},
       "output_type": "display_data",
       "png": "[encoded data removed]",
       "text": [
        "<matplotlib.figure.Figure at 0x10a8a2ed0>"
       ]
      }
     ],
     "prompt_number": 63
    },
    {
     "cell_type": "code",
     "collapsed": false,
     "input": [
      "latakia_plot = attacks['latakia'].plot(ylim=[0,50], kind='line')\n",
      "plt.fill_between(attacks.index, attacks['latakia'])\n",
      "plt.savefig('latakia_plot.eps')"
     ],
     "language": "python",
     "metadata": {},
     "outputs": [
      {
       "metadata": {},
       "output_type": "display_data",
       "png": "[encoded data removed]",
       "text": [
        "<matplotlib.figure.Figure at 0x10a72c690>"
       ]
      }
     ],
     "prompt_number": 64
    },
    {
     "cell_type": "code",
     "collapsed": false,
     "input": [
      "ar_raqqah_plot = attacks['ar_raqqah'].plot(ylim=[0,50], kind='line')\n",
      "plt.fill_between(attacks.index, attacks['ar_raqqah'])\n",
      "plt.savefig('ar_raqqah_plot.svg')"
     ],
     "language": "python",
     "metadata": {},
     "outputs": [
      {
       "metadata": {},
       "output_type": "display_data",
       "png": "[encoded data removed]",
       "text": [
        "<matplotlib.figure.Figure at 0x109173a90>"
       ]
      }
     ],
     "prompt_number": 65
    },
    {
     "cell_type": "code",
     "collapsed": false,
     "input": [
      "deir_ez_zor_plot = attacks['deir_ez_zor'].plot(ylim=[0,50], kind='line')\n",
      "plt.fill_between(attacks.index, attacks['deir_ez_zor'])\n",
      "plt.savefig('deir_ez_zor_plot.svg')"
     ],
     "language": "python",
     "metadata": {},
     "outputs": [
      {
       "metadata": {},
       "output_type": "display_data",
       "png": "[encoded data removed]",
       "text": [
        "<matplotlib.figure.Figure at 0x108e2b050>"
       ]
      }
     ],
     "prompt_number": 66
    },
    {
     "cell_type": "code",
     "collapsed": false,
     "input": [
      "al_hasakah_plot = attacks['al_hasakah'].plot(ylim=[0,50], kind='line')\n",
      "plt.fill_between(attacks.index, attacks['al_hasakah'])\n",
      "plt.savefig('al_hasakah_plot.svg')"
     ],
     "language": "python",
     "metadata": {},
     "outputs": [
      {
       "metadata": {},
       "output_type": "display_data",
       "png": "[encoded data removed]",
       "text": [
        "<matplotlib.figure.Figure at 0x10aa72790>"
       ]
      }
     ],
     "prompt_number": 67
    },
    {
     "cell_type": "code",
     "collapsed": false,
     "input": [
      "qamishli_plot = attacks['qamishli'].plot(ylim=[0,50], kind='line')\n",
      "plt.fill_between(attacks.index, attacks['qamishli'])\n",
      "plt.savefig('qamishli_plot.svg')"
     ],
     "language": "python",
     "metadata": {},
     "outputs": [
      {
       "metadata": {},
       "output_type": "display_data",
       "png": "[encoded data removed]",
       "text": [
        "<matplotlib.figure.Figure at 0x108e194d0>"
       ]
      }
     ],
     "prompt_number": 68
    },
    {
     "cell_type": "code",
     "collapsed": false,
     "input": [
      "tartus_plot = attacks['tartus'].plot(ylim=[0,50], kind='line')\n",
      "plt.fill_between(attacks.index, attacks['tartus'])\n",
      "plt.savefig('tartus_plot.eps')"
     ],
     "language": "python",
     "metadata": {},
     "outputs": [
      {
       "metadata": {},
       "output_type": "display_data",
       "png": "[encoded data removed]",
       "text": [
        "<matplotlib.figure.Figure at 0x108e33290>"
       ]
      }
     ],
     "prompt_number": 69
    },
    {
     "cell_type": "code",
     "collapsed": false,
     "input": [
      "douma_plot = attacks['douma'].plot(ylim=[0,50], kind='line')\n",
      "plt.fill_between(attacks.index, attacks['douma'])\n",
      "plt.savefig('douma_plot.eps')"
     ],
     "language": "python",
     "metadata": {},
     "outputs": [
      {
       "metadata": {},
       "output_type": "display_data",
       "png": "[encoded data removed]",
       "text": [
        "<matplotlib.figure.Figure at 0x10b7213d0>"
       ]
      }
     ],
     "prompt_number": 70
    },
    {
     "cell_type": "code",
     "collapsed": false,
     "input": [
      "manbij_plot = attacks['manbij'].plot(ylim=[0,50], kind='line')\n",
      "plt.fill_between(attacks.index, attacks['manbij'])\n",
      "plt.savefig('manbij_plot.svg')"
     ],
     "language": "python",
     "metadata": {},
     "outputs": [
      {
       "metadata": {},
       "output_type": "display_data",
       "png": "[encoded data removed]",
       "text": [
        "<matplotlib.figure.Figure at 0x10b5b1b50>"
       ]
      }
     ],
     "prompt_number": 71
    },
    {
     "cell_type": "code",
     "collapsed": false,
     "input": [
      "idlib_plot = attacks['idlib'].plot(ylim=[0,50], kind='line')\n",
      "plt.fill_between(attacks.index, attacks['idlib'])\n",
      "plt.savefig('idlib_plot.svg')"
     ],
     "language": "python",
     "metadata": {},
     "outputs": [
      {
       "metadata": {},
       "output_type": "display_data",
       "png": "[encoded data removed]",
       "text": [
        "<matplotlib.figure.Figure at 0x10c53b2d0>"
       ]
      }
     ],
     "prompt_number": 72
    },
    {
     "cell_type": "code",
     "collapsed": false,
     "input": [
      "darayya_plot = attacks['darayya'].plot(ylim=[0,50], kind='line')\n",
      "plt.fill_between(attacks.index, attacks['darayya'])\n",
      "plt.savefig('darayya_plot.svg')"
     ],
     "language": "python",
     "metadata": {},
     "outputs": [
      {
       "metadata": {},
       "output_type": "display_data",
       "png": "[encoded data removed]",
       "text": [
        "<matplotlib.figure.Figure at 0x10c562bd0>"
       ]
      }
     ],
     "prompt_number": 73
    },
    {
     "cell_type": "code",
     "collapsed": false,
     "input": [],
     "language": "python",
     "metadata": {},
     "outputs": [],
     "prompt_number": 73
    }
   ],
   "metadata": {}
  }
 ]
}