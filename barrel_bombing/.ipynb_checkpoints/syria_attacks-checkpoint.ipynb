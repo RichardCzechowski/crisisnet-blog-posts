{
 "metadata": {
  "name": "",
  "signature": "sha256:6247f6175a1f7d59b4244a9cea153ec1563c109272689912484e4b59e7e768f4"
 },
 "nbformat": 3,
 "nbformat_minor": 0,
 "worksheets": [
  {
   "cells": [
    {
     "cell_type": "code",
     "collapsed": false,
     "input": [
      "# Import modules\n",
      "import pandas as pd\n",
      "import requests\n",
      "import numpy as np\n",
      "import matplotlib.pyplot as plt\n",
      "\n",
      "# Set plots to happen inline\n",
      "%matplotlib inline\n",
      "\n",
      "pd.set_option('display.max_row', 1000)\n",
      "pd.set_option('display.max_column', 50)"
     ],
     "language": "python",
     "metadata": {},
     "outputs": [],
     "prompt_number": 1
    },
    {
     "cell_type": "code",
     "collapsed": false,
     "input": [
      "api_key = '532d8dc4ed3329652f114b73'\n",
      "api_url = 'http://api.crisis.net/item/?sources=facebook&text=israel,gaza,\u063a\u0632\u0629,\u0625\u0633\u0631\u0627\u0626\u064a\u0644'\n",
      "headers = {'Authorization': 'Bearer ' + api_key}\n",
      "total = 15000\n",
      "df = pd.DataFrame()"
     ],
     "language": "python",
     "metadata": {},
     "outputs": [],
     "prompt_number": 2
    },
    {
     "cell_type": "code",
     "collapsed": false,
     "input": [
      "def get_data(offset=0, limit=500, df=None):\n",
      "  url = api_url + '&offset=' + str(offset) + '&limit=' + str(limit)\n",
      "  r = requests.get(url, headers=headers)\n",
      "  x = pd.DataFrame(r.json())\n",
      "  x = x['data'].apply(pd.Series)\n",
      "  df = df.append(x, ignore_index=True)\n",
      "\n",
      "  if total > offset + limit:\n",
      "    return get_data(offset + limit, limit, df)\n",
      "    \n",
      "  return df\n",
      "\n",
      "df = get_data(df=df)"
     ],
     "language": "python",
     "metadata": {},
     "outputs": [],
     "prompt_number": 3
    },
    {
     "cell_type": "code",
     "collapsed": false,
     "input": [
      "len(df)"
     ],
     "language": "python",
     "metadata": {},
     "outputs": [
      {
       "metadata": {},
       "output_type": "pyout",
       "prompt_number": 4,
       "text": [
        "12876"
       ]
      }
     ],
     "prompt_number": 4
    },
    {
     "cell_type": "code",
     "collapsed": false,
     "input": [
      "df['id'].duplicated().value_counts()"
     ],
     "language": "python",
     "metadata": {},
     "outputs": [
      {
       "metadata": {},
       "output_type": "pyout",
       "prompt_number": 5,
       "text": [
        "False    12873\n",
        "True         3\n",
        "dtype: int64"
       ]
      }
     ],
     "prompt_number": 5
    },
    {
     "cell_type": "code",
     "collapsed": false,
     "input": [
      "df = df.dropna(how='all')"
     ],
     "language": "python",
     "metadata": {},
     "outputs": [],
     "prompt_number": 6
    },
    {
     "cell_type": "code",
     "collapsed": false,
     "input": [
      "len(df)"
     ],
     "language": "python",
     "metadata": {},
     "outputs": [
      {
       "metadata": {},
       "output_type": "pyout",
       "prompt_number": 7,
       "text": [
        "12872"
       ]
      }
     ],
     "prompt_number": 7
    },
    {
     "cell_type": "code",
     "collapsed": false,
     "input": [
      "df['id'].duplicated().value_counts()"
     ],
     "language": "python",
     "metadata": {},
     "outputs": [
      {
       "metadata": {},
       "output_type": "pyout",
       "prompt_number": 8,
       "text": [
        "False    12872\n",
        "dtype: int64"
       ]
      }
     ],
     "prompt_number": 8
    },
    {
     "cell_type": "code",
     "collapsed": false,
     "input": [
      "df[\"publishedAt\"] = pd.to_datetime(df[\"publishedAt\"])\n",
      "df.index = df['publishedAt']"
     ],
     "language": "python",
     "metadata": {},
     "outputs": [],
     "prompt_number": 9
    },
    {
     "cell_type": "code",
     "collapsed": false,
     "input": [
      "df = df[pd.notnull(df['contentEnglish'])][:]"
     ],
     "language": "python",
     "metadata": {},
     "outputs": [],
     "prompt_number": 10
    },
    {
     "cell_type": "code",
     "collapsed": false,
     "input": [
      "df['contentEnglish'] = df['contentEnglish'].str.lower()"
     ],
     "language": "python",
     "metadata": {},
     "outputs": [],
     "prompt_number": 11
    },
    {
     "cell_type": "code",
     "collapsed": false,
     "input": [
      "air = df.contentEnglish.str.contains('warplane' or \n",
      "                                     'warplanes' or \n",
      "                                     'jet' or \n",
      "                                     'aircraft' or \n",
      "                                     'bombing' or \n",
      "                                     'air raid' or \n",
      "                                     'bombed' or \n",
      "                                     'air force' or \n",
      "                                     'air attack' or \n",
      "                                     'air forces' or \n",
      "                                     'aviation' or \n",
      "                                     'helicopter' or \n",
      "                                     'helicopters' or \n",
      "                                     'airstrike' or \n",
      "                                     'airstrikes' or \n",
      "                                     'plane' or \n",
      "                                     'turbofan' or \n",
      "                                     'barrel' or \n",
      "                                     'unmanned' or\n",
      "                                     'uav' or\n",
      "                                     'drone' or\n",
      "                                     'barrels')\n",
      "air = air.resample('D', 'sum')\n",
      "air = air.truncate(before='2014-06-21', after='2014-07-21')\n",
      "air = pd.Series(air)"
     ],
     "language": "python",
     "metadata": {},
     "outputs": [],
     "prompt_number": 12
    },
    {
     "cell_type": "code",
     "collapsed": false,
     "input": [
      "artillery = df.contentEnglish.str.contains('artillery' or \n",
      "                                           'shells' or \n",
      "                                           'bombardment' or \n",
      "                                           'shelling' or \n",
      "                                           'mortar')\n",
      "artillery = artillery.resample('D', 'sum')\n",
      "artillery = artillery.truncate(before='2014-06-21', after='2014-07-21')\n",
      "artillery = pd.Series(artillery)"
     ],
     "language": "python",
     "metadata": {},
     "outputs": [],
     "prompt_number": 13
    },
    {
     "cell_type": "code",
     "collapsed": false,
     "input": [
      "infantry = df.contentEnglish.str.contains('gunmen' or \n",
      "                                          'miliant' or \n",
      "                                          'soldiers' or\n",
      "                                          'troops' or \n",
      "                                          'infantry' or\n",
      "                                          'sniper' or \n",
      "                                          'patrol' or\n",
      "                                          'shot' or \n",
      "                                          'machine gun' or                                                               \n",
      "                                          'shooting')\n",
      "infantry = infantry.resample('D', 'sum')\n",
      "infantry = infantry.truncate(before='2014-06-21', after='2014-07-21')\n",
      "infantry = pd.Series(infantry)"
     ],
     "language": "python",
     "metadata": {},
     "outputs": [],
     "prompt_number": 14
    },
    {
     "cell_type": "code",
     "collapsed": false,
     "input": [
      "armor = df.contentEnglish.str.contains('tank' or \n",
      "                                       'apc' or \n",
      "                                       'armor')\n",
      "armor = armor.resample('D', 'sum')\n",
      "armor = armor.truncate(before='2014-06-21', after='2014-07-21')\n",
      "armor = pd.Series(armor)"
     ],
     "language": "python",
     "metadata": {},
     "outputs": [],
     "prompt_number": 15
    },
    {
     "cell_type": "code",
     "collapsed": false,
     "input": [
      "naval = df.contentEnglish.str.contains('navy' or \n",
      "                                       'marine' or\n",
      "                                       'marines' or\n",
      "                                       'naval' or\n",
      "                                       'boat' or\n",
      "                                       'boats' or\n",
      "                                       'ship' or\n",
      "                                       'ships' or\n",
      "                                       'gunship' or\n",
      "                                       'gunships' or\n",
      "                                       'corvette' or\n",
      "                                       'corvettes' or\n",
      "                                       'warship' or\n",
      "                                       'warships')\n",
      "naval = naval.resample('D', 'sum')\n",
      "naval = naval.truncate(before='2014-06-21', after='2014-07-21')\n",
      "naval = pd.Series(naval)"
     ],
     "language": "python",
     "metadata": {},
     "outputs": [],
     "prompt_number": 16
    },
    {
     "cell_type": "code",
     "collapsed": false,
     "input": [
      "attacks = pd.concat([air, artillery, infantry, armor, \n",
      "          naval], axis=1)"
     ],
     "language": "python",
     "metadata": {},
     "outputs": [],
     "prompt_number": 17
    },
    {
     "cell_type": "code",
     "collapsed": false,
     "input": [
      "attacks.columns = ['air', 'artillery' , 'infantry', 'armor', 'naval']"
     ],
     "language": "python",
     "metadata": {},
     "outputs": [],
     "prompt_number": 18
    },
    {
     "cell_type": "code",
     "collapsed": false,
     "input": [
      "air_plot = attacks['air'].plot(ylim=[0,25], kind='line')\n",
      "plt.fill_between(attacks.index, attacks['air'])\n",
      "plt.savefig('air_plot.svg')"
     ],
     "language": "python",
     "metadata": {},
     "outputs": [
      {
       "metadata": {},
       "output_type": "display_data",
       "png": "[encoded data removed]",
       "text": [
        "<matplotlib.figure.Figure at 0x10da0b4d0>"
       ]
      }
     ],
     "prompt_number": 25
    },
    {
     "cell_type": "code",
     "collapsed": false,
     "input": [
      "infantry_plot = attacks['infantry'].plot(ylim=[0,25], kind='line')\n",
      "plt.fill_between(attacks.index, attacks['infantry'])\n",
      "plt.savefig('infantry_plot.svg')"
     ],
     "language": "python",
     "metadata": {},
     "outputs": [
      {
       "metadata": {},
       "output_type": "display_data",
       "png": "[encoded data removed]",
       "text": [
        "<matplotlib.figure.Figure at 0x10bea1550>"
       ]
      }
     ],
     "prompt_number": 26
    },
    {
     "cell_type": "code",
     "collapsed": false,
     "input": [
      "artillery_plot = attacks['artillery'].plot(ylim=[0,25], kind='line')\n",
      "plt.fill_between(attacks.index, attacks['artillery'])\n",
      "plt.savefig('artillery_plot.svg')"
     ],
     "language": "python",
     "metadata": {},
     "outputs": [
      {
       "metadata": {},
       "output_type": "display_data",
       "png": "[encoded data removed]",
       "text": [
        "<matplotlib.figure.Figure at 0x10ed53fd0>"
       ]
      }
     ],
     "prompt_number": 27
    },
    {
     "cell_type": "code",
     "collapsed": false,
     "input": [
      "armor_plot = attacks['armor'].plot(ylim=[0,25], kind='line')\n",
      "plt.fill_between(attacks.index, attacks['armor'])\n",
      "plt.savefig('armor_plot.svg')"
     ],
     "language": "python",
     "metadata": {},
     "outputs": [
      {
       "metadata": {},
       "output_type": "display_data",
       "png": "[encoded data removed]",
       "text": [
        "<matplotlib.figure.Figure at 0x10dcc4b90>"
       ]
      }
     ],
     "prompt_number": 28
    },
    {
     "cell_type": "code",
     "collapsed": false,
     "input": [
      "naval_plot = attacks['naval'].plot(ylim=[0,25], kind='line')\n",
      "plt.fill_between(attacks.index, attacks['naval'])\n",
      "plt.savefig('naval_plot.svg')"
     ],
     "language": "python",
     "metadata": {},
     "outputs": [
      {
       "metadata": {},
       "output_type": "display_data",
       "png": "[encoded data removed]",
       "text": [
        "<matplotlib.figure.Figure at 0x10e9499d0>"
       ]
      }
     ],
     "prompt_number": 29
    },
    {
     "cell_type": "code",
     "collapsed": false,
     "input": [
      "df.to_csv('df.csv', encoding='utf-8')"
     ],
     "language": "python",
     "metadata": {},
     "outputs": [],
     "prompt_number": 30
    },
    {
     "cell_type": "code",
     "collapsed": false,
     "input": [],
     "language": "python",
     "metadata": {},
     "outputs": [],
     "prompt_number": 24
    }
   ],
   "metadata": {}
  }
 ]
}