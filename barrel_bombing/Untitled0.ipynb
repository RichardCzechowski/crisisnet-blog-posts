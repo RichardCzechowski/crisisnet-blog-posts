{
 "metadata": {
  "name": "",
  "signature": "sha256:1404e2fbe7f783a38917442d820140d1b73bb91da3167e9b16bce40e1e86357b"
 },
 "nbformat": 3,
 "nbformat_minor": 0,
 "worksheets": [
  {
   "cells": [
    {
     "cell_type": "code",
     "collapsed": false,
     "input": [
      "failing = {\n",
      "\"lewa2|dr3|alakhlas\": \"Failing\",\n",
      "\"SyriaUpdater\": \"Failing\",\n",
      "\"tawasol|free2\": \"1412374834\",\n",
      "\"damassweets\": \"Failing\",\n",
      "\"Yabroud|Revolution5\": \"Failing\",\n",
      "\"azez|sarakp220\": \"Failing\",\n",
      "\"HrktNwrSwrya\": \"Failing\",\n",
      "\"nokhbaderezzor\": \"Failing\",\n",
      "\"aljedor\": \"Failing\",\n",
      "\"h|r|o|east|ghouta2011\": \"1412374879\",\n",
      "\"ALQadisiyahArmy\": \"Failing\",\n",
      "\"alzuberabnalawam\": \"Failing\",\n",
      "\"Medical|Commission|in|Irsal\": \"1412374819\",\n",
      "\"c|m|o|alghota\": \"1412374548\",\n",
      "\"on|our|dead|bodies\": \"1412374692\",\n",
      "\"msciq\": \"Failing\",\n",
      "\"syriahamaa\": \"Failing\",\n",
      "\"ksston\": \"Failing\",\n",
      "\"facebook\": \"Failing\",\n",
      "\"synsor\": \"Failing\",\n",
      "\"Observatory|unified\": \"1412374849\",\n",
      "\"515077118588511\": \"Failing\",\n",
      "\"rankous|coordination6\": \"Failing\",\n",
      "\"Syrian|SANA|Banias\": \"Failing\",\n",
      "\"jsr|sniper\": \"1412374707\",\n",
      "\"abu|asaad|tiger\": \"Failing\",\n",
      "\"303241746403870\": \"Failing\",\n",
      "\"SyrianMartyrsStories2\": \"Failing\",\n",
      "\"LensYoungdimashqi\": \"Failing\",\n",
      "\"hackepfl\": \"Failing\",\n",
      "\"Damascus|media|office\": \"1412374553\",\n",
      "\"491311300959981\": \"Failing\",\n",
      "\"free|tv|army1\": \"Failing\",\n",
      "\"jsr|news1\": \"1412374370\",\n",
      "\"seewaymore\": \"Failing\",\n",
      "\"Missingandmartyrs111\": \"Failing\",\n",
      "\"N|D|F|Swaida\": \"1412374343\",\n",
      "\"Alminbaar\": \"Failing\",\n",
      "\"254749327977523\": \"Failing\",\n",
      "\"LensYoungPalestinian\": \"Failing\",\n",
      "\"maher|hajjar|official\": \"1412374890\",\n",
      "\"electronicresistanceteam\": \"Failing\",\n",
      "\"Raq|Net|news1\": \"1412374489\",\n",
      "\"souriabaladi\": \"Failing\",\n",
      "\"La|Revolution|Syrienne|en|Francais\": \"1412374390\",\n",
      "\"214243722110549\": \"Failing\",\n",
      "\"377118532417380\": \"Failing\",\n",
      "\"like4syria\": \"Failing\",\n",
      "\"Themujahdenarmy1\": \"Failing\",\n",
      "\"shahed|3ayan\": \"1412374830\",\n",
      "\"ousama|bakir\": \"1412374456\",\n",
      "\"icrc\": \"Failing\",\n",
      "\"alWYAt|alfurqaan\": \"Failing\",\n",
      "\"Houla|Media|Office\": \"1412374369\",\n",
      "\"1421387071411760\": \"Failing\",\n",
      "\"Horan|sons\": \"1412374763\",\n",
      "\"qusaihungerstrike\": \"Failing\",\n",
      "\"GhabaghibMedia\": \"Failing\",\n",
      "\"jasemalhamwe\": \"Failing\",\n",
      "\"Bashar|Al|Assad|page\": \"1412374615\",\n",
      "\"Lens|Horany\": \"1412374771\",\n",
      "\"alfurat2freedom\": \"Failing\",\n",
      "\"antti|intifada\": \"1412374562\",\n",
      "\"ahraralgablalwstany\": \"Failing\",\n",
      "\"SyrianRevolution2\": \"Failing\",\n",
      "\"mas166\": \"Failing\",\n",
      "\"tsmanagement\": \"Failing\",\n",
      "\"th3technews1\": \"Failing\",\n",
      "\"hanen1|2013\": \"1412374870\",\n",
      "\"517981588280105\": \"Failing\",\n",
      "\"DeirEzzor|SYR\": \"1412374634\",\n",
      "\"Shabakt|Akhbar|Shabab|Tafas\": \"Failing\",\n",
      "\"Maktab|Daraa\": \"Failing\",\n",
      "\"morek|revolution|2011\": \"1412374512\",\n",
      "\"durga|m|sengupta\": \"1412374738\",\n",
      "\"762514660443131\": \"Failing\",\n",
      "\"wadehtohmeh\": \"Failing\",\n",
      "\"mouazalkhatib|alhasani\": \"1412374527\",\n",
      "\"Ktybt|MjahdyHwran\": \"Failing\",\n",
      "\"Lens|Poor|Young\": \"Failing\",\n",
      "\"irbid1\": \"Failing\",\n",
      "\"Eliminate|obesity\": \"1412374697\",\n",
      "\"UgaritNews|English\": \"1412374613\",\n",
      "\"Battalion|Alwaled\": \"1412374501\",\n",
      "\"national|defense|homs\": \"1412374350\",\n",
      "\"helpharan\": \"Failing\",\n",
      "\"Baba|Amro|News\": \"1412374803\",\n",
      "\"DaraaCity3\": \"Failing\",\n",
      "\"HadathMediaCenter\": \"Failing\",\n",
      "\"comedy|and|comedy2\": \"1412374421\",\n",
      "\"sweida|llc\": \"Failing\",\n",
      "\"islamic|network|manbij\": \"Failing\",\n",
      "\"Martyr|Hossam|Ayash|Documentation|Center\": \"Failing\",\n",
      "\"R|Zaitouneh\": \"1412374812\",\n",
      "\"abuadhdhahuuk|alqattalassuissery|7\": \"Failing\",\n",
      "\"wlakuseit\": \"Failing\",\n",
      "\"ROSC|office\": \"1412374544\",\n",
      "\"shishakly\": \"Failing\",\n",
      "\"elhilo|rojo|1\": \"1412374799\",\n",
      "\"frederic|jacobs\": \"1412374465\",\n",
      "\"shamJournal|net\": \"1412374712\",\n",
      "\"ajnad|sham\": \"Failing\",\n",
      "\"7al|me\": \"1412374437\",\n",
      "\"almayadeen|tv\": \"1412374595\",\n",
      "\"entesar|alassad\": \"1412374399\",\n",
      "\"Mokhayam|Elramel|News\": \"Failing\",\n",
      "\"Sarmeen|Revolution|Coordinator\": \"Failing\",\n",
      "\"abdalhakeem|taleb\": \"1412374786\",\n",
      "\"nour|lazzorii\": \"1412374883\",\n",
      "\"624025651000463\": \"Failing\",\n",
      "\"Omari|free|Army\": \"Failing\",\n",
      "\"miroslaw|paciorek\": \"1412374846\",\n",
      "\"manbijalhadath\": \"Failing\",\n",
      "\"284218051696504\": \"Failing\",\n",
      "\"Aleppo|Media|Center\": \"Failing\",\n",
      "\"304283503007505\": \"Failing\",\n",
      "\"raqqawe2\": \"Failing\",\n",
      "\"addor2\": \"Failing\",\n",
      "\"maryams92\": \"Failing\",\n",
      "\"PuKmediaArabic\": \"Failing\",\n",
      "\"alayham\": \"Failing\",\n",
      "\"cpc|syr\": \"1412374670\"}"
     ],
     "language": "python",
     "metadata": {},
     "outputs": [],
     "prompt_number": 27
    },
    {
     "cell_type": "code",
     "collapsed": false,
     "input": [
      "len(failing)"
     ],
     "language": "python",
     "metadata": {},
     "outputs": [
      {
       "metadata": {},
       "output_type": "pyout",
       "prompt_number": 28,
       "text": [
        "122"
       ]
      }
     ],
     "prompt_number": 28
    },
    {
     "cell_type": "code",
     "collapsed": false,
     "input": [
      "sum( x == \"Failing\" for x in failing.values() )"
     ],
     "language": "python",
     "metadata": {},
     "outputs": [
      {
       "metadata": {},
       "output_type": "pyout",
       "prompt_number": 29,
       "text": [
        "79"
       ]
      }
     ],
     "prompt_number": 29
    },
    {
     "cell_type": "code",
     "collapsed": false,
     "input": [],
     "language": "python",
     "metadata": {},
     "outputs": [
      {
       "metadata": {},
       "output_type": "pyout",
       "prompt_number": 33,
       "text": [
        "0.6475409836065574"
       ]
      }
     ],
     "prompt_number": 33
    },
    {
     "cell_type": "code",
     "collapsed": false,
     "input": [],
     "language": "python",
     "metadata": {},
     "outputs": []
    }
   ],
   "metadata": {}
  }
 ]
}