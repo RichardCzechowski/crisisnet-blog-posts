{
 "metadata": {
  "name": "",
  "signature": "sha256:c38f4c8e8134089e4b4fd77f387d05142abb1dda749ec0b966ab8f3499d4c998"
 },
 "nbformat": 3,
 "nbformat_minor": 0,
 "worksheets": [
  {
   "cells": [
    {
     "cell_type": "code",
     "collapsed": false,
     "input": [
      "import requests\n",
      "import pandas as pd\n",
      "import re\n",
      "\n",
      "url1 = 'http://devapi.crisis.net/item?after=&tags= '\n",
      "url3 = 'http://devapi.crisis.net/item?after=&limit=500'\n",
      "url2 = 'http://devapi.crisis.net/item?tags=armed-conflict&before=&after=&text=&location=&radius=&limit=100&sources=&licenses='\n",
      "token = '532d8dc4ed3329652f114b73'\n",
      "headers = {'Authorization': 'Bearer ' + token}\n",
      "r = requests.get(url2, headers=headers)\n",
      "\n",
      "df = pd.DataFrame(r.json())\n",
      "df = df['data'].apply(pd.Series)\n",
      "df"
     ],
     "language": "python",
     "metadata": {},
     "outputs": [
      {
       "metadata": {},
       "output_type": "pyout",
       "prompt_number": 58,
       "text": [
        "Series([], dtype: float64)"
       ]
      }
     ],
     "prompt_number": 58
    },
    {
     "cell_type": "code",
     "collapsed": false,
     "input": [],
     "language": "python",
     "metadata": {},
     "outputs": [
      {
       "metadata": {},
       "output_type": "pyout",
       "prompt_number": 8,
       "text": [
        "Series([], dtype: float64)"
       ]
      }
     ],
     "prompt_number": 8
    },
    {
     "cell_type": "code",
     "collapsed": false,
     "input": [],
     "language": "python",
     "metadata": {},
     "outputs": []
    }
   ],
   "metadata": {}
  }
 ]
}