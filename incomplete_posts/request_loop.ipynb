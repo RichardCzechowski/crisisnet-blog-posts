{
 "metadata": {
  "name": "",
  "signature": "sha256:5e32c23cebfe14191785005178370128f124cf296223b16bdfde53d154107566"
 },
 "nbformat": 3,
 "nbformat_minor": 0,
 "worksheets": [
  {
   "cells": [
    {
     "cell_type": "code",
     "collapsed": false,
     "input": [],
     "language": "python",
     "metadata": {},
     "outputs": [],
     "prompt_number": 2
    },
    {
     "cell_type": "code",
     "collapsed": false,
     "input": [
      "# for x in range(0, 4):\n",
      "#   url = api_url + '&offset=' + str(offset)\n",
      "#   r = requests.get(url, headers=headers)\n",
      "#   x = pd.DataFrame(r.json())\n",
      "#   x = x['data'].apply(pd.Series)\n",
      "#   df = df.append(x)\n",
      "#   offset = offset + 100"
     ],
     "language": "python",
     "metadata": {},
     "outputs": [
      {
       "metadata": {},
       "output_type": "pyout",
       "prompt_number": 6,
       "text": [
        "False    219\n",
        "True      81\n",
        "dtype: int64"
       ]
      }
     ],
     "prompt_number": 6
    },
    {
     "cell_type": "code",
     "collapsed": false,
     "input": [],
     "language": "python",
     "metadata": {},
     "outputs": []
    }
   ],
   "metadata": {}
  }
 ]
}