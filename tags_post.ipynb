{
 "metadata": {
  "name": "",
  "signature": "sha256:cfca319964471a5b912547e1d9af49d8918c4a3c2eba94b8d889d96dc90c50b5"
 },
 "nbformat": 3,
 "nbformat_minor": 0,
 "worksheets": [
  {
   "cells": [
    {
     "cell_type": "code",
     "collapsed": false,
     "input": [
      "import requests\n",
      "import pandas as pd\n",
      "\n",
      "url = 'http://devapi.crisis.net/system-tag'\n",
      "headers = {'Authorization': 'Bearer ' + '532d8dc4ed3329652f114b73'}\n",
      "\n",
      "r = requests.get(url, headers=headers)\n",
      "df = pd.DataFrame(r.json())"
     ],
     "language": "python",
     "metadata": {},
     "outputs": [],
     "prompt_number": 17
    },
    {
     "cell_type": "code",
     "collapsed": false,
     "input": [
      "df = df['data'].apply(pd.Series)\n",
      "df['name']"
     ],
     "language": "python",
     "metadata": {},
     "outputs": [
      {
       "metadata": {},
       "output_type": "pyout",
       "prompt_number": 18,
       "text": [
        "0                                                Abkhaz\n",
        "1                                Aboriginal-Australians\n",
        "2                                Abu Nidal Organization\n",
        "3                                              Acehnese\n",
        "4                                                Achang\n",
        "5                                                Acholi\n",
        "6                                               Adivasi\n",
        "7                                             Adjarians\n",
        "8                                                Adyghe\n",
        "9                                                Adyghe\n",
        "10                                                 Afar\n",
        "11                             African Development Bank\n",
        "12                           African Diasporic Religion\n",
        "13                                           Afrikaners\n",
        "14                                             Agnostic\n",
        "15                                     Agnostic/Athiest\n",
        "16                                              Ahmadis\n",
        "17                                                 Ainu\n",
        "18                                                  Aja\n",
        "19                                                 Akan\n",
        "20                                                  Aku\n",
        "21                              Al Aqsa Martyrs Brigade\n",
        "22                                             Al Qaeda\n",
        "23                                                Alawi\n",
        "24                                             Albanian\n",
        "25                                                Aleut\n",
        "26                                                Alewi\n",
        "27                                           Algonquian\n",
        "28                                                Altay\n",
        "29                                                 Alur\n",
        "30                                         Amal Militia\n",
        "31                                             Ambonese\n",
        "32                                    Americo-Liberians\n",
        "33                                               Amhara\n",
        "34                                Amnesty International\n",
        "35                                      Angika speakers\n",
        "36                                        Animist/Pagan\n",
        "37                                               Ankole\n",
        "38                                               Apache\n",
        "39                                                 Arab\n",
        "40                                                 Arab\n",
        "41         Arab Bank for Economic Development in Africa\n",
        "42                             Arab Cooperation Council\n",
        "43                          Arab Economic Unity Council\n",
        "44                                          Arab League\n",
        "45                                   Arab Maghreb Union\n",
        "46    Arab Monetary Fund for Economic and Social Dev...\n",
        "47                                            Aragonese\n",
        "48                                              Arapaho\n",
        "49                                               Arawak\n",
        "Name: name, dtype: object"
       ]
      }
     ],
     "prompt_number": 18
    },
    {
     "cell_type": "code",
     "collapsed": false,
     "input": [],
     "language": "python",
     "metadata": {},
     "outputs": []
    }
   ],
   "metadata": {}
  }
 ]
}