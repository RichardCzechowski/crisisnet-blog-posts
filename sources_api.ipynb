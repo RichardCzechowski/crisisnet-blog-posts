{
 "metadata": {
  "name": "",
  "signature": "sha256:d9c5f1b1896e8dd880d83fa38dec78d66c1a4f8becb8a0f6ff2f2057065d3c2c"
 },
 "nbformat": 3,
 "nbformat_minor": 0,
 "worksheets": [
  {
   "cells": [
    {
     "cell_type": "markdown",
     "metadata": {},
     "source": [
      "# Exploring CrisisNET's Sources API"
     ]
    },
    {
     "cell_type": "markdown",
     "metadata": {},
     "source": [
      "### Import required modules"
     ]
    },
    {
     "cell_type": "code",
     "collapsed": false,
     "input": [
      "import requests\n",
      "import pandas as pd"
     ],
     "language": "python",
     "metadata": {},
     "outputs": [],
     "prompt_number": 1
    },
    {
     "cell_type": "markdown",
     "metadata": {},
     "source": [
      "### Make an API Request"
     ]
    },
    {
     "cell_type": "code",
     "collapsed": false,
     "input": [
      "url = 'http://devapi.crisis.net/source'\n",
      "headers = {'Authorization': 'Bearer ' + '532d8dc4ed3329652f114b73'}\n",
      "\n",
      "r = requests.get(url, headers=headers)"
     ],
     "language": "python",
     "metadata": {},
     "outputs": [],
     "prompt_number": 2
    },
    {
     "cell_type": "markdown",
     "metadata": {},
     "source": [
      "### Convert the request's JSON into a dataframe"
     ]
    },
    {
     "cell_type": "code",
     "collapsed": false,
     "input": [
      "df = pd.DataFrame(r.json())\n",
      "df = df['data'].apply(pd.Series)\n",
      "df_sources = pd.concat([df['sourceType'], df['description'], df['lastRun'], df['repeatsEvery'], df['status']], axis=1 )"
     ],
     "language": "python",
     "metadata": {},
     "outputs": [],
     "prompt_number": 3
    },
    {
     "cell_type": "markdown",
     "metadata": {},
     "source": [
      "### View the sources and relevent info"
     ]
    },
    {
     "cell_type": "code",
     "collapsed": false,
     "input": [
      "df_sources"
     ],
     "language": "python",
     "metadata": {},
     "outputs": [
      {
       "html": [
        "<div style=\"max-height:1000px;max-width:1500px;overflow:auto;\">\n",
        "<table border=\"1\" class=\"dataframe\">\n",
        "  <thead>\n",
        "    <tr style=\"text-align: right;\">\n",
        "      <th></th>\n",
        "      <th>sourceType</th>\n",
        "      <th>description</th>\n",
        "      <th>lastRun</th>\n",
        "      <th>repeatsEvery</th>\n",
        "      <th>status</th>\n",
        "    </tr>\n",
        "  </thead>\n",
        "  <tbody>\n",
        "    <tr>\n",
        "      <th>0 </th>\n",
        "      <td>          ushahidi</td>\n",
        "      <td> Aggregated incident reports from all publicly ...</td>\n",
        "      <td> 2014-05-04T04:41:28.375Z</td>\n",
        "      <td>   hour</td>\n",
        "      <td>   active</td>\n",
        "    </tr>\n",
        "    <tr>\n",
        "      <th>1 </th>\n",
        "      <td>         reliefweb</td>\n",
        "      <td> Historical and recent natural disaster reports...</td>\n",
        "      <td> 2014-05-12T22:56:51.993Z</td>\n",
        "      <td>    day</td>\n",
        "      <td>   active</td>\n",
        "    </tr>\n",
        "    <tr>\n",
        "      <th>2 </th>\n",
        "      <td>             gdelt</td>\n",
        "      <td>                                               NaN</td>\n",
        "      <td> 2014-05-26T16:12:26.111Z</td>\n",
        "      <td>    day</td>\n",
        "      <td> inactive</td>\n",
        "    </tr>\n",
        "    <tr>\n",
        "      <th>3 </th>\n",
        "      <td>           twitter</td>\n",
        "      <td>             Traffic incidents in or near Nairobi.</td>\n",
        "      <td>                      NaN</td>\n",
        "      <td> minute</td>\n",
        "      <td>   active</td>\n",
        "    </tr>\n",
        "    <tr>\n",
        "      <th>4 </th>\n",
        "      <td>        test_sucka</td>\n",
        "      <td>                                               NaN</td>\n",
        "      <td>                      NaN</td>\n",
        "      <td>   hour</td>\n",
        "      <td>   active</td>\n",
        "    </tr>\n",
        "    <tr>\n",
        "      <th>5 </th>\n",
        "      <td>             gdelt</td>\n",
        "      <td>  GDELT is an ambitious project that attempts t...</td>\n",
        "      <td> 2014-05-18T02:03:57.546Z</td>\n",
        "      <td>    day</td>\n",
        "      <td> inactive</td>\n",
        "    </tr>\n",
        "    <tr>\n",
        "      <th>6 </th>\n",
        "      <td>     syria_tracker</td>\n",
        "      <td>  SyriaTracker Ushahidi instance. syriatracker....</td>\n",
        "      <td> 2014-05-11T18:19:51.962Z</td>\n",
        "      <td>   hour</td>\n",
        "      <td>   active</td>\n",
        "    </tr>\n",
        "    <tr>\n",
        "      <th>7 </th>\n",
        "      <td>         vdc_syria</td>\n",
        "      <td>  Violation Documentation Center in Syria is an...</td>\n",
        "      <td> 2014-05-28T04:20:51.225Z</td>\n",
        "      <td>    day</td>\n",
        "      <td>   active</td>\n",
        "    </tr>\n",
        "    <tr>\n",
        "      <th>8 </th>\n",
        "      <td>      instagrammer</td>\n",
        "      <td>  Requests to photos tagged to places in Instag...</td>\n",
        "      <td> 2014-05-28T14:36:06.102Z</td>\n",
        "      <td> minute</td>\n",
        "      <td>   active</td>\n",
        "    </tr>\n",
        "    <tr>\n",
        "      <th>9 </th>\n",
        "      <td>    facebook_syria</td>\n",
        "      <td>  About 1k Facebook pages relevant to ongoing c...</td>\n",
        "      <td> 2014-05-28T13:55:52.410Z</td>\n",
        "      <td>   hour</td>\n",
        "      <td>   active</td>\n",
        "    </tr>\n",
        "    <tr>\n",
        "      <th>10</th>\n",
        "      <td>           twitter</td>\n",
        "      <td>  First-person accounts from regions affected b...</td>\n",
        "      <td> 2014-05-28T14:36:02.885Z</td>\n",
        "      <td>   hour</td>\n",
        "      <td>   active</td>\n",
        "    </tr>\n",
        "    <tr>\n",
        "      <th>11</th>\n",
        "      <td> facebook_thailand</td>\n",
        "      <td>  About 1k Facebook pages relevant to ongoing c...</td>\n",
        "      <td> 2014-05-28T13:57:49.039Z</td>\n",
        "      <td>   hour</td>\n",
        "      <td>   active</td>\n",
        "    </tr>\n",
        "    <tr>\n",
        "      <th>12</th>\n",
        "      <td>     youtube_syria</td>\n",
        "      <td>  About 1k YouTube channels relevant to ongoing...</td>\n",
        "      <td> 2014-05-28T13:56:58.395Z</td>\n",
        "      <td>   hour</td>\n",
        "      <td>   active</td>\n",
        "    </tr>\n",
        "  </tbody>\n",
        "</table>\n",
        "<p>13 rows \u00d7 5 columns</p>\n",
        "</div>"
       ],
       "metadata": {},
       "output_type": "pyout",
       "prompt_number": 4,
       "text": [
        "           sourceType                                        description  \\\n",
        "0            ushahidi  Aggregated incident reports from all publicly ...   \n",
        "1           reliefweb  Historical and recent natural disaster reports...   \n",
        "2               gdelt                                                NaN   \n",
        "3             twitter              Traffic incidents in or near Nairobi.   \n",
        "4          test_sucka                                                NaN   \n",
        "5               gdelt   GDELT is an ambitious project that attempts t...   \n",
        "6       syria_tracker   SyriaTracker Ushahidi instance. syriatracker....   \n",
        "7           vdc_syria   Violation Documentation Center in Syria is an...   \n",
        "8        instagrammer   Requests to photos tagged to places in Instag...   \n",
        "9      facebook_syria   About 1k Facebook pages relevant to ongoing c...   \n",
        "10            twitter   First-person accounts from regions affected b...   \n",
        "11  facebook_thailand   About 1k Facebook pages relevant to ongoing c...   \n",
        "12      youtube_syria   About 1k YouTube channels relevant to ongoing...   \n",
        "\n",
        "                     lastRun repeatsEvery    status  \n",
        "0   2014-05-04T04:41:28.375Z         hour    active  \n",
        "1   2014-05-12T22:56:51.993Z          day    active  \n",
        "2   2014-05-26T16:12:26.111Z          day  inactive  \n",
        "3                        NaN       minute    active  \n",
        "4                        NaN         hour    active  \n",
        "5   2014-05-18T02:03:57.546Z          day  inactive  \n",
        "6   2014-05-11T18:19:51.962Z         hour    active  \n",
        "7   2014-05-28T04:20:51.225Z          day    active  \n",
        "8   2014-05-28T14:36:06.102Z       minute    active  \n",
        "9   2014-05-28T13:55:52.410Z         hour    active  \n",
        "10  2014-05-28T14:36:02.885Z         hour    active  \n",
        "11  2014-05-28T13:57:49.039Z         hour    active  \n",
        "12  2014-05-28T13:56:58.395Z         hour    active  \n",
        "\n",
        "[13 rows x 5 columns]"
       ]
      }
     ],
     "prompt_number": 4
    },
    {
     "cell_type": "code",
     "collapsed": false,
     "input": [],
     "language": "python",
     "metadata": {},
     "outputs": [],
     "prompt_number": 4
    }
   ],
   "metadata": {}
  }
 ]
}