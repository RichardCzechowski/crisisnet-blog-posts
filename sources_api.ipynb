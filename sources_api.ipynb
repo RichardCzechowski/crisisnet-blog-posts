{
 "metadata": {
  "name": "",
  "signature": "sha256:488e7ff4deafa9e2ae95b11299c6389066f8673968fe1f0e6d2fdf99ea4a86bc"
 },
 "nbformat": 3,
 "nbformat_minor": 0,
 "worksheets": [
  {
   "cells": [
    {
     "cell_type": "markdown",
     "metadata": {},
     "source": [
      "# Exploring CrisisNET's Sources API"
     ]
    },
    {
     "cell_type": "markdown",
     "metadata": {},
     "source": [
      "### Import required modules"
     ]
    },
    {
     "cell_type": "code",
     "collapsed": false,
     "input": [
      "import requests\n",
      "import pandas as pd"
     ],
     "language": "python",
     "metadata": {},
     "outputs": [],
     "prompt_number": 1
    },
    {
     "cell_type": "markdown",
     "metadata": {},
     "source": [
      "### Make an API Request"
     ]
    },
    {
     "cell_type": "code",
     "collapsed": false,
     "input": [
      "url = 'http://api.crisis.net/source'\n",
      "headers = {'Authorization': 'Bearer ' + '532d8dc4ed3329652f114b73'}\n",
      "\n",
      "r = requests.get(url, headers=headers)"
     ],
     "language": "python",
     "metadata": {},
     "outputs": [],
     "prompt_number": 2
    },
    {
     "cell_type": "markdown",
     "metadata": {},
     "source": [
      "### Convert the request's JSON into a dataframe"
     ]
    },
    {
     "cell_type": "code",
     "collapsed": false,
     "input": [
      "df = pd.DataFrame(r.json())\n",
      "df = df['data'].apply(pd.Series)\n",
      "df_sources = pd.concat([df['sourceType'], df['description'], df['lastRun'], df['startDate'], df['repeatsEvery'], df['status']], axis=1 )"
     ],
     "language": "python",
     "metadata": {},
     "outputs": [],
     "prompt_number": 3
    },
    {
     "cell_type": "markdown",
     "metadata": {},
     "source": [
      "### View active sources and relevent info"
     ]
    },
    {
     "cell_type": "code",
     "collapsed": false,
     "input": [
      "df_sources[df_sources['status'] == 'active']"
     ],
     "language": "python",
     "metadata": {},
     "outputs": [
      {
       "html": [
        "<div style=\"max-height:1000px;max-width:1500px;overflow:auto;\">\n",
        "<table border=\"1\" class=\"dataframe\">\n",
        "  <thead>\n",
        "    <tr style=\"text-align: right;\">\n",
        "      <th></th>\n",
        "      <th>sourceType</th>\n",
        "      <th>description</th>\n",
        "      <th>lastRun</th>\n",
        "      <th>startDate</th>\n",
        "      <th>repeatsEvery</th>\n",
        "      <th>status</th>\n",
        "    </tr>\n",
        "  </thead>\n",
        "  <tbody>\n",
        "    <tr>\n",
        "      <th>0 </th>\n",
        "      <td>   ushahidi</td>\n",
        "      <td> Aggregated incident reports from all publicly ...</td>\n",
        "      <td> 2014-05-04T04:41:28.375Z</td>\n",
        "      <td> 2014-03-30T00:00:00.000Z</td>\n",
        "      <td>   hour</td>\n",
        "      <td> active</td>\n",
        "    </tr>\n",
        "    <tr>\n",
        "      <th>1 </th>\n",
        "      <td>  reliefweb</td>\n",
        "      <td> Historical and recent natural disaster reports...</td>\n",
        "      <td> 2014-05-12T22:56:51.993Z</td>\n",
        "      <td> 2014-03-30T00:00:00.000Z</td>\n",
        "      <td>    day</td>\n",
        "      <td> active</td>\n",
        "    </tr>\n",
        "    <tr>\n",
        "      <th>3 </th>\n",
        "      <td>    twitter</td>\n",
        "      <td>             Traffic incidents in or near Nairobi.</td>\n",
        "      <td>                      NaN</td>\n",
        "      <td> 2014-03-19T00:00:00.000Z</td>\n",
        "      <td> minute</td>\n",
        "      <td> active</td>\n",
        "    </tr>\n",
        "    <tr>\n",
        "      <th>5 </th>\n",
        "      <td>  vdc_syria</td>\n",
        "      <td>  Violation Documentation Center in Syria is an...</td>\n",
        "      <td> 2014-06-28T20:40:14.534Z</td>\n",
        "      <td> 2014-05-07T00:00:00.000Z</td>\n",
        "      <td>    day</td>\n",
        "      <td> active</td>\n",
        "    </tr>\n",
        "    <tr>\n",
        "      <th>6 </th>\n",
        "      <td>   ushahidi</td>\n",
        "      <td>  SyriaTracker Ushahidi instance. syriatracker....</td>\n",
        "      <td> 2014-05-11T18:19:51.962Z</td>\n",
        "      <td> 2014-05-07T00:00:00.000Z</td>\n",
        "      <td>   hour</td>\n",
        "      <td> active</td>\n",
        "    </tr>\n",
        "    <tr>\n",
        "      <th>7 </th>\n",
        "      <td> test_sucka</td>\n",
        "      <td>                                               NaN</td>\n",
        "      <td>                      NaN</td>\n",
        "      <td> 2014-06-30T03:48:23.399Z</td>\n",
        "      <td>   hour</td>\n",
        "      <td> active</td>\n",
        "    </tr>\n",
        "    <tr>\n",
        "      <th>8 </th>\n",
        "      <td>   facebook</td>\n",
        "      <td>  About 1k Facebook pages relevant to ongoing c...</td>\n",
        "      <td> 2014-07-07T16:25:31.271Z</td>\n",
        "      <td> 2014-05-07T00:00:00.000Z</td>\n",
        "      <td>   hour</td>\n",
        "      <td> active</td>\n",
        "    </tr>\n",
        "    <tr>\n",
        "      <th>9 </th>\n",
        "      <td>    youtube</td>\n",
        "      <td>  About 1k YouTube channels relevant to ongoing...</td>\n",
        "      <td> 2014-07-07T16:28:15.250Z</td>\n",
        "      <td> 2014-05-07T00:00:00.000Z</td>\n",
        "      <td>   hour</td>\n",
        "      <td> active</td>\n",
        "    </tr>\n",
        "    <tr>\n",
        "      <th>11</th>\n",
        "      <td>  instagram</td>\n",
        "      <td>  Requests to photos tagged to places in Instag...</td>\n",
        "      <td> 2014-05-29T02:44:19.969Z</td>\n",
        "      <td> 2014-05-07T00:00:00.000Z</td>\n",
        "      <td> minute</td>\n",
        "      <td> active</td>\n",
        "    </tr>\n",
        "    <tr>\n",
        "      <th>12</th>\n",
        "      <td>      unhcr</td>\n",
        "      <td>  The Office of the United Nations High Commiss...</td>\n",
        "      <td> 2014-07-07T01:59:54.869Z</td>\n",
        "      <td> 2014-05-07T00:00:00.000Z</td>\n",
        "      <td>    day</td>\n",
        "      <td> active</td>\n",
        "    </tr>\n",
        "    <tr>\n",
        "      <th>13</th>\n",
        "      <td>    twitter</td>\n",
        "      <td>  First-person accounts from regions affected b...</td>\n",
        "      <td> 2014-07-07T17:11:59.924Z</td>\n",
        "      <td> 2014-05-07T00:00:00.000Z</td>\n",
        "      <td>   hour</td>\n",
        "      <td> active</td>\n",
        "    </tr>\n",
        "    <tr>\n",
        "      <th>14</th>\n",
        "      <td>   facebook</td>\n",
        "      <td>  Facebook pages of terrorist organizations or ...</td>\n",
        "      <td> 2014-07-07T16:58:57.920Z</td>\n",
        "      <td> 2014-05-07T00:00:00.000Z</td>\n",
        "      <td>   hour</td>\n",
        "      <td> active</td>\n",
        "    </tr>\n",
        "    <tr>\n",
        "      <th>15</th>\n",
        "      <td>     unocha</td>\n",
        "      <td>    Iraq New IDPs summary by Province from UNOCHA </td>\n",
        "      <td> 2014-07-07T03:52:25.703Z</td>\n",
        "      <td> 2014-05-07T00:00:00.000Z</td>\n",
        "      <td>    day</td>\n",
        "      <td> active</td>\n",
        "    </tr>\n",
        "  </tbody>\n",
        "</table>\n",
        "<p>13 rows \u00d7 6 columns</p>\n",
        "</div>"
       ],
       "metadata": {},
       "output_type": "pyout",
       "prompt_number": 4,
       "text": [
        "    sourceType                                        description  \\\n",
        "0     ushahidi  Aggregated incident reports from all publicly ...   \n",
        "1    reliefweb  Historical and recent natural disaster reports...   \n",
        "3      twitter              Traffic incidents in or near Nairobi.   \n",
        "5    vdc_syria   Violation Documentation Center in Syria is an...   \n",
        "6     ushahidi   SyriaTracker Ushahidi instance. syriatracker....   \n",
        "7   test_sucka                                                NaN   \n",
        "8     facebook   About 1k Facebook pages relevant to ongoing c...   \n",
        "9      youtube   About 1k YouTube channels relevant to ongoing...   \n",
        "11   instagram   Requests to photos tagged to places in Instag...   \n",
        "12       unhcr   The Office of the United Nations High Commiss...   \n",
        "13     twitter   First-person accounts from regions affected b...   \n",
        "14    facebook   Facebook pages of terrorist organizations or ...   \n",
        "15      unocha     Iraq New IDPs summary by Province from UNOCHA    \n",
        "\n",
        "                     lastRun                 startDate repeatsEvery  status  \n",
        "0   2014-05-04T04:41:28.375Z  2014-03-30T00:00:00.000Z         hour  active  \n",
        "1   2014-05-12T22:56:51.993Z  2014-03-30T00:00:00.000Z          day  active  \n",
        "3                        NaN  2014-03-19T00:00:00.000Z       minute  active  \n",
        "5   2014-06-28T20:40:14.534Z  2014-05-07T00:00:00.000Z          day  active  \n",
        "6   2014-05-11T18:19:51.962Z  2014-05-07T00:00:00.000Z         hour  active  \n",
        "7                        NaN  2014-06-30T03:48:23.399Z         hour  active  \n",
        "8   2014-07-07T16:25:31.271Z  2014-05-07T00:00:00.000Z         hour  active  \n",
        "9   2014-07-07T16:28:15.250Z  2014-05-07T00:00:00.000Z         hour  active  \n",
        "11  2014-05-29T02:44:19.969Z  2014-05-07T00:00:00.000Z       minute  active  \n",
        "12  2014-07-07T01:59:54.869Z  2014-05-07T00:00:00.000Z          day  active  \n",
        "13  2014-07-07T17:11:59.924Z  2014-05-07T00:00:00.000Z         hour  active  \n",
        "14  2014-07-07T16:58:57.920Z  2014-05-07T00:00:00.000Z         hour  active  \n",
        "15  2014-07-07T03:52:25.703Z  2014-05-07T00:00:00.000Z          day  active  \n",
        "\n",
        "[13 rows x 6 columns]"
       ]
      }
     ],
     "prompt_number": 4
    },
    {
     "cell_type": "code",
     "collapsed": false,
     "input": [],
     "language": "python",
     "metadata": {},
     "outputs": [],
     "prompt_number": 4
    }
   ],
   "metadata": {}
  }
 ]
}