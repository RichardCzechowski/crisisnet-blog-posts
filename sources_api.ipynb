{
 "metadata": {
  "name": "",
  "signature": "sha256:a781de60a5abb2d7987347ccfddb96b5cf3324bab9aae6457337561ebaa62917"
 },
 "nbformat": 3,
 "nbformat_minor": 0,
 "worksheets": [
  {
   "cells": [
    {
     "cell_type": "markdown",
     "metadata": {},
     "source": [
      "# Exploring CrisisNET's Sources API"
     ]
    },
    {
     "cell_type": "markdown",
     "metadata": {},
     "source": [
      "### Import required modules"
     ]
    },
    {
     "cell_type": "code",
     "collapsed": false,
     "input": [
      "import requests\n",
      "import pandas as pd"
     ],
     "language": "python",
     "metadata": {},
     "outputs": [],
     "prompt_number": 20
    },
    {
     "cell_type": "markdown",
     "metadata": {},
     "source": [
      "### Make an API Request"
     ]
    },
    {
     "cell_type": "code",
     "collapsed": false,
     "input": [
      "url = 'http://devapi.crisis.net/source'\n",
      "headers = {'Authorization': 'Bearer ' + '532d8dc4ed3329652f114b73'}\n",
      "\n",
      "r = requests.get(url, headers=headers)"
     ],
     "language": "python",
     "metadata": {},
     "outputs": [],
     "prompt_number": 21
    },
    {
     "cell_type": "markdown",
     "metadata": {},
     "source": [
      "### Convert the request's JSON into a dataframe"
     ]
    },
    {
     "cell_type": "code",
     "collapsed": false,
     "input": [
      "df = pd.DataFrame(r.json())\n",
      "df = df['data'].apply(pd.Series)\n",
      "df_sources = pd.concat([df['sourceType'], df['description'], df['lastRun'], df['repeatsEvery'], df['status']], axis=1 )"
     ],
     "language": "python",
     "metadata": {},
     "outputs": [],
     "prompt_number": 22
    },
    {
     "cell_type": "markdown",
     "metadata": {},
     "source": [
      "### View the sources and relevent info"
     ]
    },
    {
     "cell_type": "code",
     "collapsed": false,
     "input": [
      "df_sources"
     ],
     "language": "python",
     "metadata": {},
     "outputs": [
      {
       "html": [
        "<div style=\"max-height:1000px;max-width:1500px;overflow:auto;\">\n",
        "<table border=\"1\" class=\"dataframe\">\n",
        "  <thead>\n",
        "    <tr style=\"text-align: right;\">\n",
        "      <th></th>\n",
        "      <th>sourceType</th>\n",
        "      <th>description</th>\n",
        "      <th>lastRun</th>\n",
        "      <th>repeatsEvery</th>\n",
        "      <th>status</th>\n",
        "    </tr>\n",
        "  </thead>\n",
        "  <tbody>\n",
        "    <tr>\n",
        "      <th>0</th>\n",
        "      <td>   ushahidi</td>\n",
        "      <td> Aggregated incident reports from all publicly ...</td>\n",
        "      <td> 2014-05-04T04:41:28.375Z</td>\n",
        "      <td>   hour</td>\n",
        "      <td> active</td>\n",
        "    </tr>\n",
        "    <tr>\n",
        "      <th>1</th>\n",
        "      <td>  reliefweb</td>\n",
        "      <td> Historical and recent natural disaster reports...</td>\n",
        "      <td> 2014-05-08T18:28:36.321Z</td>\n",
        "      <td>    day</td>\n",
        "      <td> active</td>\n",
        "    </tr>\n",
        "    <tr>\n",
        "      <th>2</th>\n",
        "      <td>  reliefweb</td>\n",
        "      <td> Historical and recent natural disaster reports...</td>\n",
        "      <td> 2014-05-04T04:41:55.914Z</td>\n",
        "      <td>    day</td>\n",
        "      <td> active</td>\n",
        "    </tr>\n",
        "    <tr>\n",
        "      <th>3</th>\n",
        "      <td>      gdelt</td>\n",
        "      <td>                                               NaN</td>\n",
        "      <td> 2014-04-25T20:00:49.344Z</td>\n",
        "      <td>    day</td>\n",
        "      <td> active</td>\n",
        "    </tr>\n",
        "    <tr>\n",
        "      <th>4</th>\n",
        "      <td>    twitter</td>\n",
        "      <td>             Traffic incidents in or near Nairobi.</td>\n",
        "      <td>                      NaN</td>\n",
        "      <td> minute</td>\n",
        "      <td> active</td>\n",
        "    </tr>\n",
        "    <tr>\n",
        "      <th>5</th>\n",
        "      <td> test_sucka</td>\n",
        "      <td>                                               NaN</td>\n",
        "      <td>                      NaN</td>\n",
        "      <td>   hour</td>\n",
        "      <td> active</td>\n",
        "    </tr>\n",
        "    <tr>\n",
        "      <th>6</th>\n",
        "      <td>      gdelt</td>\n",
        "      <td>  GDELT is an ambitious project that attempts t...</td>\n",
        "      <td> 2014-05-08T18:48:07.690Z</td>\n",
        "      <td>    day</td>\n",
        "      <td> active</td>\n",
        "    </tr>\n",
        "  </tbody>\n",
        "</table>\n",
        "<p>7 rows \u00d7 5 columns</p>\n",
        "</div>"
       ],
       "metadata": {},
       "output_type": "pyout",
       "prompt_number": 23,
       "text": [
        "   sourceType                                        description  \\\n",
        "0    ushahidi  Aggregated incident reports from all publicly ...   \n",
        "1   reliefweb  Historical and recent natural disaster reports...   \n",
        "2   reliefweb  Historical and recent natural disaster reports...   \n",
        "3       gdelt                                                NaN   \n",
        "4     twitter              Traffic incidents in or near Nairobi.   \n",
        "5  test_sucka                                                NaN   \n",
        "6       gdelt   GDELT is an ambitious project that attempts t...   \n",
        "\n",
        "                    lastRun repeatsEvery  status  \n",
        "0  2014-05-04T04:41:28.375Z         hour  active  \n",
        "1  2014-05-08T18:28:36.321Z          day  active  \n",
        "2  2014-05-04T04:41:55.914Z          day  active  \n",
        "3  2014-04-25T20:00:49.344Z          day  active  \n",
        "4                       NaN       minute  active  \n",
        "5                       NaN         hour  active  \n",
        "6  2014-05-08T18:48:07.690Z          day  active  \n",
        "\n",
        "[7 rows x 5 columns]"
       ]
      }
     ],
     "prompt_number": 23
    }
   ],
   "metadata": {}
  }
 ]
}