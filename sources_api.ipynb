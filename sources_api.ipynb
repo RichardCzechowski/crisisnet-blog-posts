{
 "metadata": {
  "name": "",
  "signature": "sha256:ae117c84831d50884ad34bd8082387a98ca9002d002ac8ff463044cbc6a93245"
 },
 "nbformat": 3,
 "nbformat_minor": 0,
 "worksheets": [
  {
   "cells": [
    {
     "cell_type": "markdown",
     "metadata": {},
     "source": [
      "# Exploring CrisisNET's Sources API"
     ]
    },
    {
     "cell_type": "markdown",
     "metadata": {},
     "source": [
      "### Import required modules"
     ]
    },
    {
     "cell_type": "code",
     "collapsed": false,
     "input": [
      "import requests\n",
      "import pandas as pd"
     ],
     "language": "python",
     "metadata": {},
     "outputs": [],
     "prompt_number": 1
    },
    {
     "cell_type": "markdown",
     "metadata": {},
     "source": [
      "### Make an API Request"
     ]
    },
    {
     "cell_type": "code",
     "collapsed": false,
     "input": [
      "url = 'http://api.crisis.net/source'\n",
      "headers = {'Authorization': 'Bearer ' + '532d8dc4ed3329652f114b73'}\n",
      "\n",
      "r = requests.get(url, headers=headers)"
     ],
     "language": "python",
     "metadata": {},
     "outputs": [],
     "prompt_number": 2
    },
    {
     "cell_type": "markdown",
     "metadata": {},
     "source": [
      "### Convert the request's JSON into a dataframe"
     ]
    },
    {
     "cell_type": "code",
     "collapsed": false,
     "input": [
      "df = pd.DataFrame(r.json())\n",
      "df = df['data'].apply(pd.Series)\n",
      "df_sources = pd.concat([df['sourceType'], df['description'], df['lastRun'], df['repeatsEvery'], df['status']], axis=1 )"
     ],
     "language": "python",
     "metadata": {},
     "outputs": [],
     "prompt_number": 3
    },
    {
     "cell_type": "markdown",
     "metadata": {},
     "source": [
      "### View active sources and relevent info"
     ]
    },
    {
     "cell_type": "code",
     "collapsed": false,
     "input": [
      "df_sources[df_sources['status'] == 'active']"
     ],
     "language": "python",
     "metadata": {},
     "outputs": [
      {
       "html": [
        "<div style=\"max-height:1000px;max-width:1500px;overflow:auto;\">\n",
        "<table border=\"1\" class=\"dataframe\">\n",
        "  <thead>\n",
        "    <tr style=\"text-align: right;\">\n",
        "      <th></th>\n",
        "      <th>sourceType</th>\n",
        "      <th>description</th>\n",
        "      <th>lastRun</th>\n",
        "      <th>repeatsEvery</th>\n",
        "      <th>status</th>\n",
        "    </tr>\n",
        "  </thead>\n",
        "  <tbody>\n",
        "    <tr>\n",
        "      <th>0 </th>\n",
        "      <td>   ushahidi</td>\n",
        "      <td> Aggregated incident reports from all publicly ...</td>\n",
        "      <td> 2014-05-04T04:41:28.375Z</td>\n",
        "      <td>   hour</td>\n",
        "      <td> active</td>\n",
        "    </tr>\n",
        "    <tr>\n",
        "      <th>1 </th>\n",
        "      <td>  reliefweb</td>\n",
        "      <td> Historical and recent natural disaster reports...</td>\n",
        "      <td> 2014-05-12T22:56:51.993Z</td>\n",
        "      <td>    day</td>\n",
        "      <td> active</td>\n",
        "    </tr>\n",
        "    <tr>\n",
        "      <th>3 </th>\n",
        "      <td>    twitter</td>\n",
        "      <td>             Traffic incidents in or near Nairobi.</td>\n",
        "      <td>                      NaN</td>\n",
        "      <td> minute</td>\n",
        "      <td> active</td>\n",
        "    </tr>\n",
        "    <tr>\n",
        "      <th>5 </th>\n",
        "      <td>  vdc_syria</td>\n",
        "      <td>  Violation Documentation Center in Syria is an...</td>\n",
        "      <td> 2014-06-04T20:20:57.633Z</td>\n",
        "      <td>    day</td>\n",
        "      <td> active</td>\n",
        "    </tr>\n",
        "    <tr>\n",
        "      <th>6 </th>\n",
        "      <td>    twitter</td>\n",
        "      <td>  First-person accounts from regions affected b...</td>\n",
        "      <td> 2014-06-04T21:28:46.447Z</td>\n",
        "      <td>   hour</td>\n",
        "      <td> active</td>\n",
        "    </tr>\n",
        "    <tr>\n",
        "      <th>7 </th>\n",
        "      <td>   ushahidi</td>\n",
        "      <td>  SyriaTracker Ushahidi instance. syriatracker....</td>\n",
        "      <td> 2014-05-11T18:19:51.962Z</td>\n",
        "      <td>   hour</td>\n",
        "      <td> active</td>\n",
        "    </tr>\n",
        "    <tr>\n",
        "      <th>8 </th>\n",
        "      <td> test_sucka</td>\n",
        "      <td>                                               NaN</td>\n",
        "      <td>                      NaN</td>\n",
        "      <td>   hour</td>\n",
        "      <td> active</td>\n",
        "    </tr>\n",
        "    <tr>\n",
        "      <th>9 </th>\n",
        "      <td>   facebook</td>\n",
        "      <td>  About 1k Facebook pages relevant to ongoing c...</td>\n",
        "      <td> 2014-06-04T21:41:39.904Z</td>\n",
        "      <td>   hour</td>\n",
        "      <td> active</td>\n",
        "    </tr>\n",
        "    <tr>\n",
        "      <th>10</th>\n",
        "      <td>    youtube</td>\n",
        "      <td>  About 1k YouTube channels relevant to ongoing...</td>\n",
        "      <td> 2014-06-04T21:44:03.474Z</td>\n",
        "      <td>   hour</td>\n",
        "      <td> active</td>\n",
        "    </tr>\n",
        "    <tr>\n",
        "      <th>11</th>\n",
        "      <td>   facebook</td>\n",
        "      <td>  About 1k Facebook pages relevant to ongoing c...</td>\n",
        "      <td> 2014-06-04T21:44:07.902Z</td>\n",
        "      <td>   hour</td>\n",
        "      <td> active</td>\n",
        "    </tr>\n",
        "    <tr>\n",
        "      <th>12</th>\n",
        "      <td>  instagram</td>\n",
        "      <td>  Requests to photos tagged to places in Instag...</td>\n",
        "      <td> 2014-05-29T02:44:19.969Z</td>\n",
        "      <td> minute</td>\n",
        "      <td> active</td>\n",
        "    </tr>\n",
        "    <tr>\n",
        "      <th>13</th>\n",
        "      <td>      unhcr</td>\n",
        "      <td>  The Office of the United Nations High Commiss...</td>\n",
        "      <td> 2014-06-04T01:57:46.371Z</td>\n",
        "      <td>    day</td>\n",
        "      <td> active</td>\n",
        "    </tr>\n",
        "  </tbody>\n",
        "</table>\n",
        "<p>12 rows \u00d7 5 columns</p>\n",
        "</div>"
       ],
       "metadata": {},
       "output_type": "pyout",
       "prompt_number": 6,
       "text": [
        "    sourceType                                        description  \\\n",
        "0     ushahidi  Aggregated incident reports from all publicly ...   \n",
        "1    reliefweb  Historical and recent natural disaster reports...   \n",
        "3      twitter              Traffic incidents in or near Nairobi.   \n",
        "5    vdc_syria   Violation Documentation Center in Syria is an...   \n",
        "6      twitter   First-person accounts from regions affected b...   \n",
        "7     ushahidi   SyriaTracker Ushahidi instance. syriatracker....   \n",
        "8   test_sucka                                                NaN   \n",
        "9     facebook   About 1k Facebook pages relevant to ongoing c...   \n",
        "10     youtube   About 1k YouTube channels relevant to ongoing...   \n",
        "11    facebook   About 1k Facebook pages relevant to ongoing c...   \n",
        "12   instagram   Requests to photos tagged to places in Instag...   \n",
        "13       unhcr   The Office of the United Nations High Commiss...   \n",
        "\n",
        "                     lastRun repeatsEvery  status  \n",
        "0   2014-05-04T04:41:28.375Z         hour  active  \n",
        "1   2014-05-12T22:56:51.993Z          day  active  \n",
        "3                        NaN       minute  active  \n",
        "5   2014-06-04T20:20:57.633Z          day  active  \n",
        "6   2014-06-04T21:28:46.447Z         hour  active  \n",
        "7   2014-05-11T18:19:51.962Z         hour  active  \n",
        "8                        NaN         hour  active  \n",
        "9   2014-06-04T21:41:39.904Z         hour  active  \n",
        "10  2014-06-04T21:44:03.474Z         hour  active  \n",
        "11  2014-06-04T21:44:07.902Z         hour  active  \n",
        "12  2014-05-29T02:44:19.969Z       minute  active  \n",
        "13  2014-06-04T01:57:46.371Z          day  active  \n",
        "\n",
        "[12 rows x 5 columns]"
       ]
      }
     ],
     "prompt_number": 6
    },
    {
     "cell_type": "code",
     "collapsed": false,
     "input": [],
     "language": "python",
     "metadata": {},
     "outputs": [],
     "prompt_number": 4
    }
   ],
   "metadata": {}
  }
 ]
}