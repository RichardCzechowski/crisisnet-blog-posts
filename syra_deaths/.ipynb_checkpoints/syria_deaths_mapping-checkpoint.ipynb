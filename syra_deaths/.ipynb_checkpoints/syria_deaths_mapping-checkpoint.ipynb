{
 "metadata": {
  "name": "",
  "signature": "sha256:da787a5104dc2dd9aa012cd683dd3383bddc1abf6b7929f0e5f1304ddc1d6d7f"
 },
 "nbformat": 3,
 "nbformat_minor": 0,
 "worksheets": [
  {
   "cells": [
    {
     "cell_type": "markdown",
     "metadata": {},
     "source": []
    },
    {
     "cell_type": "code",
     "collapsed": false,
     "input": [
      "import numpy as np\n",
      "import matplotlib.pyplot as plt\n",
      "from ggplot import *\n",
      "import pandas as pd\n",
      "from mpl_toolkits.basemap import Basemap\n",
      "import requests\n",
      "\n",
      "%matplotlib inline\n",
      "\n",
      "pd.set_option('display.max_row', 1000)\n",
      "pd.set_option('display.max_column', 50)\n",
      "pd.set_option('max_colwidth', 500)"
     ],
     "language": "python",
     "metadata": {},
     "outputs": [],
     "prompt_number": 1
    },
    {
     "cell_type": "code",
     "collapsed": false,
     "input": [
      "api_key = '532d8dc4ed3329652f114b73'\n",
      "api_url = 'http://api.crisis.net/item/?sources=vdc_syria'\n",
      "headers = {'Authorization': 'Bearer ' + api_key}\n",
      "total = 10000\n",
      "df = pd.DataFrame()\n",
      "\n",
      "def get_data(offset=0, limit=100, df=None):\n",
      "  url = api_url + '&offset=' + str(offset) + '&limit=' + str(limit)\n",
      "  r = requests.get(url, headers=headers)\n",
      "  x = pd.DataFrame(r.json())\n",
      "  x = x['data'].apply(pd.Series)\n",
      "  df = df.append(x, ignore_index=True)\n",
      "\n",
      "  if total > offset + limit:\n",
      "    return get_data(offset + limit, limit, df)\n",
      "    \n",
      "  return df\n",
      "\n",
      "df = get_data(df=df)"
     ],
     "language": "python",
     "metadata": {},
     "outputs": [],
     "prompt_number": 2
    },
    {
     "cell_type": "code",
     "collapsed": false,
     "input": [
      "len(df)"
     ],
     "language": "python",
     "metadata": {},
     "outputs": [
      {
       "metadata": {},
       "output_type": "pyout",
       "prompt_number": 3,
       "text": [
        "3268"
       ]
      }
     ],
     "prompt_number": 3
    },
    {
     "cell_type": "code",
     "collapsed": false,
     "input": [
      "df = df.dropna(how='all')\n",
      "df = df.reset_index()"
     ],
     "language": "python",
     "metadata": {},
     "outputs": [],
     "prompt_number": 4
    },
    {
     "cell_type": "code",
     "collapsed": false,
     "input": [
      "len(df)"
     ],
     "language": "python",
     "metadata": {},
     "outputs": [
      {
       "metadata": {},
       "output_type": "pyout",
       "prompt_number": 5,
       "text": [
        "3200"
       ]
      }
     ],
     "prompt_number": 5
    },
    {
     "cell_type": "code",
     "collapsed": false,
     "input": [
      "geo_df = df['geo'].apply(pd.Series)\n",
      "geo_admin_df = geo_df['addressComponents'].apply(pd.Series)\n",
      "df = pd.concat([df[:], geo_admin_df[:], geo_df[:]], axis=1)\n",
      "df['latitude'], df['longitude'] = df['coords'].str[1], df['coords'].str[0]"
     ],
     "language": "python",
     "metadata": {},
     "outputs": [],
     "prompt_number": 6
    },
    {
     "cell_type": "code",
     "collapsed": false,
     "input": [
      "df[\"publishedAt\"] = pd.to_datetime(df[\"publishedAt\"])\n",
      "df.index = df['publishedAt']"
     ],
     "language": "python",
     "metadata": {},
     "outputs": [],
     "prompt_number": 7
    },
    {
     "cell_type": "code",
     "collapsed": false,
     "input": [
      "df_deaths = df[df['latitude'].notnull()]"
     ],
     "language": "python",
     "metadata": {},
     "outputs": [],
     "prompt_number": 8
    },
    {
     "cell_type": "code",
     "collapsed": false,
     "input": [
      "killed_by = []\n",
      "\n",
      "for row in df_deaths['content']:\n",
      "    if 'killed by Explosion' in row:\n",
      "        killed_by.append('Explosion')\n",
      "        \n",
      "    elif 'killed by Shooting' in row:\n",
      "        killed_by.append('Shooting')\n",
      "        \n",
      "    elif 'killed by Detention - Torture' in row:\n",
      "        killed_by.append('Detention - Torture')\n",
      "        \n",
      "    elif 'killed by Shelling' in row:\n",
      "        killed_by.append('Shelling')\n",
      "        \n",
      "    elif 'killed by Warplane shelling' in row:\n",
      "        killed_by.append('Warplane shelling')\n",
      "        \n",
      "    elif 'killed by Other' in row:\n",
      "        killed_by.append('Other')\n",
      "        \n",
      "    elif 'killed by Un-allowed to seek Medical help' in row:\n",
      "        killed_by.append('Un-allowed to seek Medical help')\n",
      "        \n",
      "    elif 'killed by Field Execution' in row:\n",
      "        killed_by.append('Field Execution')\n",
      "        \n",
      "    else:\n",
      "        killed_by.append(np.NaN)\n",
      "        \n",
      "df_deaths['killed_by'] = killed_by"
     ],
     "language": "python",
     "metadata": {},
     "outputs": [],
     "prompt_number": 9
    },
    {
     "cell_type": "code",
     "collapsed": false,
     "input": [
      "death_totals = list(df_deaths['killed_by'].value_counts(sort=True))\n",
      "death_totals"
     ],
     "language": "python",
     "metadata": {},
     "outputs": [
      {
       "metadata": {},
       "output_type": "pyout",
       "prompt_number": 10,
       "text": [
        "[356, 203, 162, 138, 42, 16, 4, 2]"
       ]
      }
     ],
     "prompt_number": 10
    },
    {
     "cell_type": "code",
     "collapsed": false,
     "input": [
      "death_types = list(df_deaths['killed_by'].value_counts().index)\n",
      "death_types"
     ],
     "language": "python",
     "metadata": {},
     "outputs": [
      {
       "metadata": {},
       "output_type": "pyout",
       "prompt_number": 11,
       "text": [
        "['Shooting',\n",
        " 'Shelling',\n",
        " 'Warplane shelling',\n",
        " 'Detention - Torture',\n",
        " 'Explosion',\n",
        " 'Other',\n",
        " 'Field Execution',\n",
        " 'Un-allowed to seek Medical help']"
       ]
      }
     ],
     "prompt_number": 11
    },
    {
     "cell_type": "code",
     "collapsed": false,
     "input": [
      "df_totals = pd.DataFrame()"
     ],
     "language": "python",
     "metadata": {},
     "outputs": [],
     "prompt_number": 12
    },
    {
     "cell_type": "code",
     "collapsed": false,
     "input": [
      "df_totals['death_types'] = death_types\n",
      "df_totals['death_totals'] = death_totals\n",
      "df_totals"
     ],
     "language": "python",
     "metadata": {},
     "outputs": [
      {
       "html": [
        "<div style=\"max-height:1000px;max-width:1500px;overflow:auto;\">\n",
        "<table border=\"1\" class=\"dataframe\">\n",
        "  <thead>\n",
        "    <tr style=\"text-align: right;\">\n",
        "      <th></th>\n",
        "      <th>death_types</th>\n",
        "      <th>death_totals</th>\n",
        "    </tr>\n",
        "  </thead>\n",
        "  <tbody>\n",
        "    <tr>\n",
        "      <th>0</th>\n",
        "      <td>                        Shooting</td>\n",
        "      <td> 356</td>\n",
        "    </tr>\n",
        "    <tr>\n",
        "      <th>1</th>\n",
        "      <td>                        Shelling</td>\n",
        "      <td> 203</td>\n",
        "    </tr>\n",
        "    <tr>\n",
        "      <th>2</th>\n",
        "      <td>               Warplane shelling</td>\n",
        "      <td> 162</td>\n",
        "    </tr>\n",
        "    <tr>\n",
        "      <th>3</th>\n",
        "      <td>             Detention - Torture</td>\n",
        "      <td> 138</td>\n",
        "    </tr>\n",
        "    <tr>\n",
        "      <th>4</th>\n",
        "      <td>                       Explosion</td>\n",
        "      <td>  42</td>\n",
        "    </tr>\n",
        "    <tr>\n",
        "      <th>5</th>\n",
        "      <td>                           Other</td>\n",
        "      <td>  16</td>\n",
        "    </tr>\n",
        "    <tr>\n",
        "      <th>6</th>\n",
        "      <td>                 Field Execution</td>\n",
        "      <td>   4</td>\n",
        "    </tr>\n",
        "    <tr>\n",
        "      <th>7</th>\n",
        "      <td> Un-allowed to seek Medical help</td>\n",
        "      <td>   2</td>\n",
        "    </tr>\n",
        "  </tbody>\n",
        "</table>\n",
        "</div>"
       ],
       "metadata": {},
       "output_type": "pyout",
       "prompt_number": 13,
       "text": [
        "                       death_types  death_totals\n",
        "0                         Shooting           356\n",
        "1                         Shelling           203\n",
        "2                Warplane shelling           162\n",
        "3              Detention - Torture           138\n",
        "4                        Explosion            42\n",
        "5                            Other            16\n",
        "6                  Field Execution             4\n",
        "7  Un-allowed to seek Medical help             2"
       ]
      }
     ],
     "prompt_number": 13
    },
    {
     "cell_type": "code",
     "collapsed": false,
     "input": [
      "type(df_totals['death_totals'][0])"
     ],
     "language": "python",
     "metadata": {},
     "outputs": [
      {
       "metadata": {},
       "output_type": "pyout",
       "prompt_number": 14,
       "text": [
        "numpy.int64"
       ]
      }
     ],
     "prompt_number": 14
    },
    {
     "cell_type": "code",
     "collapsed": false,
     "input": [
      "# Create a list of colors (from iWantHue)\n",
      "colors = [\"#E13F29\", \"#D69A80\", \"#D63B59\", \"#AE5552\", \"#CB5C3B\", \"#EB8076\", \"#96624E\"]\n",
      "\n",
      "# Create a pie chart\n",
      "plt.pie(\n",
      "    # using data total)arrests\n",
      "    df_totals['death_totals'],\n",
      "    # with the labels being officer names\n",
      "    labels=df_totals['death_types'],\n",
      "    # with no shadows\n",
      "    shadow=False,\n",
      "    # with colors\n",
      "    colors=colors,\n",
      "    # with the start angle at 90%\n",
      "    startangle=90,\n",
      "    autopct='%.0f%%'\n",
      "    )\n",
      "\n",
      "# View the plot drop above\n",
      "plt.axis('equal'), plt.savefig(\"syria_deaths_pie.eps\", format=\"eps\")\n",
      "\n",
      "# View the plot\n",
      "# plt.tight_layout()\n",
      "# plt.show()"
     ],
     "language": "python",
     "metadata": {},
     "outputs": [
      {
       "metadata": {},
       "output_type": "pyout",
       "prompt_number": 15,
       "text": [
        "((-1.0194120128551876, 1.0168766705393402, -1.0059615677843685, 1.0), None)"
       ]
      },
      {
       "metadata": {},
       "output_type": "display_data",
       "png": "[encoded data removed]",
       "text": [
        "<matplotlib.figure.Figure at 0x10ac8bb50>"
       ]
      }
     ],
     "prompt_number": 15
    },
    {
     "cell_type": "code",
     "collapsed": false,
     "input": [
      "# plt.savefig(\"syria_deaths_pie.eps\", format=\"eps\")"
     ],
     "language": "python",
     "metadata": {},
     "outputs": [],
     "prompt_number": 16
    },
    {
     "cell_type": "code",
     "collapsed": false,
     "input": [
      "df_deaths_nonull=df_deaths[df_deaths['killed_by'].notnull()]"
     ],
     "language": "python",
     "metadata": {},
     "outputs": []
    },
    {
     "cell_type": "code",
     "collapsed": false,
     "input": [
      "# Create a figure of size (i.e. pretty big)\n",
      "fig = plt.figure()\n",
      "\n",
      "def get_marker_color(row):\n",
      "    # Returns green for small earthquakes, yellow for moderate\n",
      "    #  earthquakes, and red for significant earthquakes.\n",
      "    if row is 'Shooting':\n",
      "        return ('ro')\n",
      "    elif row is 'Shelling':\n",
      "        return ('yo')\n",
      "    elif row is 'Warplane shelling':\n",
      "        return ('mo')\n",
      "    elif row is 'Detention - Torture':\n",
      "        return ('bo')\n",
      "    elif row is 'Explosion':\n",
      "        return ('go')\n",
      "    elif row is 'Other':\n",
      "        return ('wo')\n",
      "    elif row is 'Field Execution':\n",
      "        return ('co')\n",
      "    elif row is 'Un-allowed to seek Medical help':\n",
      "        return ('co')\n",
      "    else:\n",
      "        return ('co')\n",
      "\n",
      "death_type_color = []\n",
      "for row in df_deaths_nonull['killed_by']:\n",
      "    death_type_color.append(get_marker_color(row))\n",
      "    \n",
      "df_deaths_nonull['death_type_color'] = death_type_color\n",
      "\n",
      "# Create a map, using the Gall\u2013Peters projection, \n",
      "map = Basemap(projection='gall', \n",
      "              # with low resolution,\n",
      "              resolution = 'f', \n",
      "              # And threshold 100000\n",
      "              area_thresh = 100000.0,\n",
      "              # Lower left long\n",
      "              llcrnrlon=35.332031,\n",
      "              # Lower left lat\n",
      "              llcrnrlat=32.389239,\n",
      "              urcrnrlon=42.583008, \n",
      "              urcrnrlat=37.570705)\n",
      "\n",
      "# Draw the coastlines on the map\n",
      "map.drawcoastlines()\n",
      "\n",
      "# Draw country borders on the map\n",
      "map.drawcountries()\n",
      "\n",
      "# Fill the land with grey\n",
      "map.fillcontinents(color = '#888888')\n",
      "\n",
      "# Draw the map boundaries\n",
      "map.drawmapboundary(fill_color='#f4f4f4')\n",
      "\n",
      "\n",
      "# Define our longitude and latitude points\n",
      "# We have to use .values because of a wierd bug when passing pandas data\n",
      "# to basemap.\n",
      "#x,y = map(df_deaths['longitude'].values, df_deaths['latitude'].values)\n",
      "\n",
      "# # Plot them using round markers of size 6\n",
      "#map.plot(x, y, 'ro', markersize=6)\n",
      "\n",
      "for lon, lat, color in zip(df_deaths_nonull['longitude'].values, df_deaths_nonull['latitude'].values, df_deaths_nonull['death_type_color']):\n",
      "    x,y = map(lon, lat)\n",
      "    map.plot(x, y, color, markersize=6), plt.savefig(\"syria_deaths_map_v2.eps\", format=\"eps\")\n",
      " \n",
      "# Show the map\n",
      "# plt.show()\n",
      "\n",
      "# plt.savefig(\"syria_deaths_map.eps\", format=\"eps\")"
     ],
     "language": "python",
     "metadata": {},
     "outputs": []
    },
    {
     "cell_type": "code",
     "collapsed": false,
     "input": [
      "color"
     ],
     "language": "python",
     "metadata": {},
     "outputs": []
    },
    {
     "cell_type": "code",
     "collapsed": false,
     "input": [],
     "language": "python",
     "metadata": {},
     "outputs": []
    }
   ],
   "metadata": {}
  }
 ]
}